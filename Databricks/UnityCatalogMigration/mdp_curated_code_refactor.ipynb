{
 "cells": [
  {
   "cell_type": "markdown",
   "metadata": {
    "application/vnd.databricks.v1+cell": {
     "cellMetadata": {},
     "inputWidgets": {},
     "nuid": "0457b813-1163-4426-a948-d334c345e76d",
     "showTitle": false,
     "title": ""
    }
   },
   "source": [
    "Implementation Plan:"
   ]
  },
  {
   "cell_type": "markdown",
   "metadata": {
    "application/vnd.databricks.v1+cell": {
     "cellMetadata": {},
     "inputWidgets": {},
     "nuid": "eac04179-ba30-466d-b3e5-537c20a1d0e9",
     "showTitle": false,
     "title": ""
    }
   },
   "source": [
    "You can run git commands like this to get the latest version of code to work with:\n",
    "\n",
    "git checkout preprod && git pull && git checkout -B uc-code-refactor-20230225 && git checkout uc-code-refactor-20230224 ./uc1Codefix.ipynb"
   ]
  },
  {
   "cell_type": "code",
   "execution_count": 0,
   "metadata": {
    "application/vnd.databricks.v1+cell": {
     "cellMetadata": {},
     "inputWidgets": {},
     "nuid": "81a2325f-4db1-4b35-92a1-0c7cbcc01039",
     "showTitle": false,
     "title": ""
    }
   },
   "outputs": [],
   "source": [
    "import os, re, fnmatch"
   ]
  },
  {
   "cell_type": "markdown",
   "metadata": {
    "application/vnd.databricks.v1+cell": {
     "cellMetadata": {},
     "inputWidgets": {},
     "nuid": "760db515-d52b-4eb8-95f0-d5f6b579ed53",
     "showTitle": false,
     "title": ""
    }
   },
   "source": [
    "Function to find a given string and replace all occurances in all the notebooks (.py) in the current direcotry and its sub directories"
   ]
  },
  {
   "cell_type": "code",
   "execution_count": 0,
   "metadata": {
    "application/vnd.databricks.v1+cell": {
     "cellMetadata": {},
     "inputWidgets": {},
     "nuid": "48ae3529-97ca-413b-bdfb-f01ca4e8cff4",
     "showTitle": false,
     "title": ""
    }
   },
   "outputs": [],
   "source": [
    "def find_replace(directory, filename_filter, find, replace, filePattern=\"*.py\") -> None:\n",
    "    \"\"\"traverses through the given directory and using given conditions and pattern, does a find + replace\"\"\"\n",
    "    for path, dirs, files in os.walk(os.path.abspath(directory)):\n",
    "        print(path)\n",
    "        for filename in fnmatch.filter(files, filePattern):\n",
    "            if filename_filter.lower() in filename.lower():\n",
    "                filepath = os.path.join(path, filename)\n",
    "                with open(filepath) as f:\n",
    "                    s = f.read()\n",
    "                if find.lower() in s.lower():\n",
    "                    s = s.replace(find, replace)\n",
    "                    print (f\"{filename} updated - [{find}] --> [{replace}]\")\n",
    "                with open(filepath, \"w\") as f:\n",
    "                    f.write(s)\n"
   ]
  },
  {
   "cell_type": "markdown",
   "metadata": {
    "application/vnd.databricks.v1+cell": {
     "cellMetadata": {},
     "inputWidgets": {},
     "nuid": "72c773f2-33be-46dc-85da-43945ad6743d",
     "showTitle": false,
     "title": ""
    }
   },
   "source": [
    "**MDP Dimension & Facts Notebooks Refactoring**"
   ]
  },
  {
   "cell_type": "markdown",
   "metadata": {
    "application/vnd.databricks.v1+cell": {
     "cellMetadata": {},
     "inputWidgets": {},
     "nuid": "c4dfd50e-9fb6-46f9-bc8b-2bee4b55388a",
     "showTitle": false,
     "title": ""
    }
   },
   "source": [
    "Some view notebooks have references that deviate from the standard naming convention, hence handling manually in the following command"
   ]
  },
  {
   "cell_type": "code",
   "execution_count": 0,
   "metadata": {
    "application/vnd.databricks.v1+cell": {
     "cellMetadata": {},
     "inputWidgets": {},
     "nuid": "c295d188-6d44-4145-a5c8-3d621349df4b",
     "showTitle": false,
     "title": ""
    }
   },
   "outputs": [],
   "source": [
    "directory   = \"../Transform/Dimension/\""
   ]
  },
  {
   "cell_type": "code",
   "execution_count": 0,
   "metadata": {
    "application/vnd.databricks.v1+cell": {
     "cellMetadata": {},
     "inputWidgets": {},
     "nuid": "fb208650-f071-4555-8a5e-52055985f876",
     "showTitle": false,
     "title": ""
    }
   },
   "outputs": [],
   "source": [
    "find_replace(directory, '', '# MAGIC %run ../../Common/common-transform', \"# MAGIC %run ../../Common/common-transform \\n\\n# COMMAND ---------- \\n\\n# MAGIC %run ../../Common/common-helpers \\n# COMMAND ---------- \\n\")"
   ]
  },
  {
   "cell_type": "markdown",
   "metadata": {
    "application/vnd.databricks.v1+cell": {
     "cellMetadata": {},
     "inputWidgets": {},
     "nuid": "40b90ae3-fa1b-488b-bc23-97ba1c1d5796",
     "showTitle": false,
     "title": ""
    }
   },
   "source": [
    "adding f string where get_table_name function was called in place of hardcoded table names"
   ]
  },
  {
   "cell_type": "code",
   "execution_count": 0,
   "metadata": {
    "application/vnd.databricks.v1+cell": {
     "cellMetadata": {},
     "inputWidgets": {},
     "nuid": "3e2b7cfb-7555-420b-9de1-2de09ffad6e3",
     "showTitle": false,
     "title": ""
    }
   },
   "outputs": [],
   "source": [
    "find_replace(directory, '', 'spark.sql(\"\"\"', 'spark.sql(f\"\"\"')"
   ]
  },
  {
   "cell_type": "code",
   "execution_count": 0,
   "metadata": {
    "application/vnd.databricks.v1+cell": {
     "cellMetadata": {},
     "inputWidgets": {},
     "nuid": "2b558736-12c5-45b0-8b47-53ca02c41c1a",
     "showTitle": false,
     "title": ""
    }
   },
   "outputs": [],
   "source": [
    "findstr     = '{SOURCE}.crm_0crm_sales_act_1'\n",
    "replacestr  = '{get_table_namespace(f\\'{SOURCE}\\', \\'crm_0crm_sales_act_1\\')}'\n",
    "find_replace(directory, '', findstr, replacestr)"
   ]
  },
  {
   "cell_type": "code",
   "execution_count": 0,
   "metadata": {
    "application/vnd.databricks.v1+cell": {
     "cellMetadata": {},
     "inputWidgets": {},
     "nuid": "eade9d03-946b-4655-a7c2-71a0164005e1",
     "showTitle": false,
     "title": ""
    }
   },
   "outputs": [],
   "source": [
    "findstr     = '{SOURCE}.vw_aurion_employee_details'\n",
    "replacestr  = '{get_table_namespace(f\\'{SOURCE}\\', \\'vw_aurion_employee_details\\')}'\n",
    "find_replace(directory, '', findstr, replacestr)"
   ]
  },
  {
   "cell_type": "code",
   "execution_count": 0,
   "metadata": {
    "application/vnd.databricks.v1+cell": {
     "cellMetadata": {},
     "inputWidgets": {},
     "nuid": "220ee234-dd20-427b-955f-e2bda7aca222",
     "showTitle": false,
     "title": ""
    }
   },
   "outputs": [],
   "source": [
    "findstr     = '{SOURCE}.crm_0crm_srv_req_inci_h'\n",
    "replacestr  = '{get_table_namespace(f\\'{SOURCE}\\', \\'crm_0crm_srv_req_inci_h\\')}'\n",
    "find_replace(directory, '', findstr, replacestr)"
   ]
  },
  {
   "cell_type": "code",
   "execution_count": 0,
   "metadata": {
    "application/vnd.databricks.v1+cell": {
     "cellMetadata": {},
     "inputWidgets": {},
     "nuid": "ef617efb-8845-4fce-8bd1-98404c37e363",
     "showTitle": false,
     "title": ""
    }
   },
   "outputs": [],
   "source": [
    "findstr     = 'GetTable(f\"{SOURCE}.crm_scapttxt\")'\n",
    "replacestr  = 'GetTable(f\"{get_table_namespace(f\\'{SOURCE}\\', \\'crm_scapttxt\\')}\")'\n",
    "find_replace(directory, '', findstr, replacestr)"
   ]
  },
  {
   "cell_type": "code",
   "execution_count": 0,
   "metadata": {
    "application/vnd.databricks.v1+cell": {
     "cellMetadata": {},
     "inputWidgets": {},
     "nuid": "072de396-dd69-4f59-85da-1c7945a9c303",
     "showTitle": false,
     "title": ""
    }
   },
   "outputs": [],
   "source": [
    "findstr     = 'GetTable(f\"{SOURCE}.qualtrics_developerapplicationreceivedquestions\")'\n",
    "replacestr  = 'GetTable(f\"{get_table_namespace(f\\'{SOURCE}\\', \\'qualtrics_developerapplicationreceivedquestions\\')}\")'\n",
    "find_replace(directory, '', findstr, replacestr)"
   ]
  },
  {
   "cell_type": "code",
   "execution_count": 0,
   "metadata": {
    "application/vnd.databricks.v1+cell": {
     "cellMetadata": {},
     "inputWidgets": {},
     "nuid": "7b46eeec-56c2-4a28-9e66-6c09fef15dfd",
     "showTitle": false,
     "title": ""
    }
   },
   "outputs": [],
   "source": [
    "findstr     = 'GetTable(f\"{SOURCE}.{table}\")'\n",
    "replacestr  = 'GetTable(f\"{get_table_namespace(f\\'{SOURCE}\\', f\\'{table}\\')}\")'\n",
    "find_replace(directory, '', findstr, replacestr)"
   ]
  },
  {
   "cell_type": "code",
   "execution_count": 0,
   "metadata": {
    "application/vnd.databricks.v1+cell": {
     "cellMetadata": {},
     "inputWidgets": {},
     "nuid": "8b5ef3d2-bd2e-4716-9799-b3b69e93f20b",
     "showTitle": false,
     "title": ""
    }
   },
   "outputs": [],
   "source": [
    "findstr     = 'GetTable(f\"{SOURCE}.dbo_extractloadmanifest\")'\n",
    "replacestr  = 'GetTable(f\"{get_table_namespace(f\\'{SOURCE}\\', \\'dbo_extractloadmanifest\\')}\")'\n",
    "find_replace(directory, '', findstr, replacestr)"
   ]
  },
  {
   "cell_type": "code",
   "execution_count": 0,
   "metadata": {
    "application/vnd.databricks.v1+cell": {
     "cellMetadata": {},
     "inputWidgets": {},
     "nuid": "2d02f91c-3854-4a1c-81b2-03968a246fc7",
     "showTitle": false,
     "title": ""
    }
   },
   "outputs": [],
   "source": [
    "findstr     = 'GetTable(f\"{SOURCE}.crm_crmc_proc_type\")'\n",
    "replacestr  = 'GetTable(f\"{get_table_namespace(f\\'{SOURCE}\\', \\'crm_crmc_proc_type\\')}\")'\n",
    "find_replace(directory, '', findstr, replacestr)"
   ]
  },
  {
   "cell_type": "code",
   "execution_count": 0,
   "metadata": {
    "application/vnd.databricks.v1+cell": {
     "cellMetadata": {},
     "inputWidgets": {},
     "nuid": "4f50dce4-74eb-456a-9f41-a299d563f1c8",
     "showTitle": false,
     "title": ""
    }
   },
   "outputs": [],
   "source": [
    "findstr     = 'GetTable(f\"{SOURCE}.crm_crmd_erms_contnt\")'\n",
    "replacestr  = 'GetTable(f\"{get_table_namespace(f\\'{SOURCE}\\', \\'crm_crmd_erms_contnt\\')}\")'\n",
    "find_replace(directory, '', findstr, replacestr)"
   ]
  },
  {
   "cell_type": "code",
   "execution_count": 0,
   "metadata": {
    "application/vnd.databricks.v1+cell": {
     "cellMetadata": {},
     "inputWidgets": {},
     "nuid": "fc7ca833-3ba4-42d5-baf9-40bbc45032a2",
     "showTitle": false,
     "title": ""
    }
   },
   "outputs": [],
   "source": [
    "findstr     = 'GetTable(f\"{SOURCE}.crm_crmc_erms_cat_ct\")'\n",
    "replacestr  = 'GetTable(f\"{get_table_namespace(f\\'{SOURCE}\\', \\'crm_crmc_erms_cat_ct\\')}\")'\n",
    "find_replace(directory, '', findstr, replacestr)"
   ]
  },
  {
   "cell_type": "code",
   "execution_count": 0,
   "metadata": {
    "application/vnd.databricks.v1+cell": {
     "cellMetadata": {},
     "inputWidgets": {},
     "nuid": "30adb265-e3b3-4e16-9b49-a9e59301ae10",
     "showTitle": false,
     "title": ""
    }
   },
   "outputs": [],
   "source": [
    "findstr     = 'GetTable(f\"{SOURCE}.crm_crmc_erms_cat_ca\")'\n",
    "replacestr  = 'GetTable(f\"{get_table_namespace(f\\'{SOURCE}\\', \\'crm_crmc_erms_cat_ca\\')}\")'\n",
    "find_replace(directory, '', findstr, replacestr)"
   ]
  },
  {
   "cell_type": "code",
   "execution_count": 0,
   "metadata": {
    "application/vnd.databricks.v1+cell": {
     "cellMetadata": {},
     "inputWidgets": {},
     "nuid": "9e4a862b-b38d-4453-83ae-061ce2d93417",
     "showTitle": false,
     "title": ""
    }
   },
   "outputs": [],
   "source": [
    "findstr     = 'GetTable(f\"{SOURCE}.crm_crmc_erms_cat_hi\")'\n",
    "replacestr  = 'GetTable(f\"{get_table_namespace(f\\'{SOURCE}\\', \\'crm_crmc_erms_cat_hi\\')}\")'\n",
    "find_replace(directory, '', findstr, replacestr)"
   ]
  },
  {
   "cell_type": "code",
   "execution_count": 0,
   "metadata": {
    "application/vnd.databricks.v1+cell": {
     "cellMetadata": {},
     "inputWidgets": {},
     "nuid": "bd249293-eb32-4bc6-a07c-617d3201ce8e",
     "showTitle": false,
     "title": ""
    }
   },
   "outputs": [],
   "source": [
    "findstr     = 'GetTable(f\"{SOURCE}.crm_crmc_erms_cat_as\")'\n",
    "replacestr  = 'GetTable(f\"{get_table_namespace(f\\'{SOURCE}\\', \\'crm_crmc_erms_cat_as\\')}\")'\n",
    "find_replace(directory, '', findstr, replacestr)"
   ]
  },
  {
   "cell_type": "code",
   "execution_count": 0,
   "metadata": {
    "application/vnd.databricks.v1+cell": {
     "cellMetadata": {},
     "inputWidgets": {},
     "nuid": "a03affff-d10e-4916-b4e1-8fadabae1b4b",
     "showTitle": false,
     "title": ""
    }
   },
   "outputs": [],
   "source": [
    "findstr     = 'GetTable(f\"{SOURCE}.crm_crmd_srv_subject\")'\n",
    "replacestr  = 'GetTable(f\"{get_table_namespace(f\\'{SOURCE}\\', \\'crm_crmd_srv_subject\\')}\")'\n",
    "find_replace(directory, '', findstr, replacestr)"
   ]
  },
  {
   "cell_type": "code",
   "execution_count": 0,
   "metadata": {
    "application/vnd.databricks.v1+cell": {
     "cellMetadata": {},
     "inputWidgets": {},
     "nuid": "8e6cbdb2-1e81-4d22-87be-1a9d9716db92",
     "showTitle": false,
     "title": ""
    }
   },
   "outputs": [],
   "source": [
    "findstr     = 'GetTable(f\"{SOURCE}.crm_crmv_erms_cat_ca\")'\n",
    "replacestr  = 'GetTable(f\"{get_table_namespace(f\\'{SOURCE}\\', \\'crm_crmv_erms_cat_ca\\')}\")'\n",
    "find_replace(directory, '', findstr, replacestr)"
   ]
  },
  {
   "cell_type": "code",
   "execution_count": 0,
   "metadata": {
    "application/vnd.databricks.v1+cell": {
     "cellMetadata": {},
     "inputWidgets": {},
     "nuid": "c7f16969-1aef-4c2f-b79e-251755aa65d5",
     "showTitle": false,
     "title": ""
    }
   },
   "outputs": [],
   "source": [
    "findstr     = 'GetTable(f\"{SOURCE}.crm_crmorderphf\")'\n",
    "replacestr  = 'GetTable(f\"{get_table_namespace(f\\'{SOURCE}\\', \\'crm_crmorderphf\\')}\")'\n",
    "find_replace(directory, '', findstr, replacestr)"
   ]
  },
  {
   "cell_type": "code",
   "execution_count": 0,
   "metadata": {
    "application/vnd.databricks.v1+cell": {
     "cellMetadata": {},
     "inputWidgets": {},
     "nuid": "40ba6cf5-b9d2-4084-9769-0cee5ee0d5ff",
     "showTitle": false,
     "title": ""
    }
   },
   "outputs": [],
   "source": [
    "findstr     = 'GetTable(f\"{SOURCE}.crm_crmorderphio\")'\n",
    "replacestr  = 'GetTable(f\"{get_table_namespace(f\\'{SOURCE}\\', \\'crm_crmorderphio\\')}\")'\n",
    "find_replace(directory, '', findstr, replacestr)"
   ]
  },
  {
   "cell_type": "code",
   "execution_count": 0,
   "metadata": {
    "application/vnd.databricks.v1+cell": {
     "cellMetadata": {},
     "inputWidgets": {},
     "nuid": "c6230bcb-6444-4f9b-a6d8-9d7a9f12259e",
     "showTitle": false,
     "title": ""
    }
   },
   "outputs": [],
   "source": [
    "findstr     = 'GetTable(f\"{SOURCE}.crm_0crm_sales_act_1\")'\n",
    "replacestr  = 'GetTable(f\"{get_table_namespace(f\\'{SOURCE}\\', \\'crm_0crm_sales_act_1\\')}\")'\n",
    "find_replace(directory, '', findstr, replacestr)"
   ]
  },
  {
   "cell_type": "code",
   "execution_count": 0,
   "metadata": {
    "application/vnd.databricks.v1+cell": {
     "cellMetadata": {},
     "inputWidgets": {},
     "nuid": "c5013b32-1b1e-498d-ac5c-9b351901f17f",
     "showTitle": false,
     "title": ""
    }
   },
   "outputs": [],
   "source": [
    "findstr     = 'GetTable(f\"{SOURCE}.vw_aurion_employee_details\")'\n",
    "replacestr  = 'GetTable(f\"{get_table_namespace(f\\'{SOURCE}\\', \\'vw_aurion_employee_details\\')}\")'\n",
    "find_replace(directory, '', findstr, replacestr)"
   ]
  },
  {
   "cell_type": "code",
   "execution_count": 0,
   "metadata": {
    "application/vnd.databricks.v1+cell": {
     "cellMetadata": {},
     "inputWidgets": {},
     "nuid": "37e164b9-9870-42ed-a152-260911f96f4b",
     "showTitle": false,
     "title": ""
    }
   },
   "outputs": [],
   "source": [
    "findstr     = 'GetTable(f\"{SOURCE}.isu_0bpartner_attr\")'\n",
    "replacestr  = 'GetTable(f\"{get_table_namespace(f\\'{SOURCE}\\', \\'isu_0bpartner_attr\\')}\")'\n",
    "find_replace(directory, '', findstr, replacestr)"
   ]
  },
  {
   "cell_type": "code",
   "execution_count": 0,
   "metadata": {
    "application/vnd.databricks.v1+cell": {
     "cellMetadata": {},
     "inputWidgets": {},
     "nuid": "e45040d1-bd3b-4db5-b2bb-a700b9b432e5",
     "showTitle": false,
     "title": ""
    }
   },
   "outputs": [],
   "source": [
    "\n",
    "findstr     = 'GetTable(f\"{TARGET}.dimAsset\")'\n",
    "replacestr  = 'GetTable(f\"{get_table_namespace(f\\'{TARGET}\\', \\'dimAsset\\')}\")'\n",
    "find_replace(directory, '', findstr, replacestr)"
   ]
  },
  {
   "cell_type": "code",
   "execution_count": 0,
   "metadata": {
    "application/vnd.databricks.v1+cell": {
     "cellMetadata": {},
     "inputWidgets": {},
     "nuid": "9d242cf4-6a03-4137-bfa8-1177cff0b6e7",
     "showTitle": false,
     "title": ""
    }
   },
   "outputs": [],
   "source": [
    "\n",
    "findstr     = 'GetTable(f\"{DEFAULT_TARGET}.factworkorder\")'\n",
    "replacestr  = 'GetTable(f\"{get_table_namespace(f\\'{DEFAULT_TARGET}\\', \\'factworkorder\\')}\")'\n",
    "find_replace(directory, '', findstr, replacestr)"
   ]
  },
  {
   "cell_type": "code",
   "execution_count": 0,
   "metadata": {
    "application/vnd.databricks.v1+cell": {
     "cellMetadata": {},
     "inputWidgets": {},
     "nuid": "8258d025-5fa8-4bfc-a3f1-a5597d72c5cc",
     "showTitle": false,
     "title": ""
    }
   },
   "outputs": [],
   "source": [
    "\n",
    "findstr     = 'GetTable(f\"{SOURCE}.crm_0bpartner_attr\")'\n",
    "replacestr  = 'GetTable(f\"{get_table_namespace(f\\'{SOURCE}\\', \\'crm_0bpartner_attr\\')}\")'\n",
    "find_replace(directory, '', findstr, replacestr)"
   ]
  },
  {
   "cell_type": "code",
   "execution_count": 0,
   "metadata": {
    "application/vnd.databricks.v1+cell": {
     "cellMetadata": {},
     "inputWidgets": {},
     "nuid": "a2f594de-9b5d-4f8c-85b9-63c7a5eb884a",
     "showTitle": false,
     "title": ""
    }
   },
   "outputs": [],
   "source": [
    "findstr     = 'GetTable(f\"{SOURCE}.crm_0crm_category_text\")'\n",
    "replacestr  = 'GetTable(f\"{get_table_namespace(f\\'{SOURCE}\\', \\'crm_0crm_category_text\\')}\")'\n",
    "find_replace(directory, '', findstr, replacestr)"
   ]
  },
  {
   "cell_type": "code",
   "execution_count": 0,
   "metadata": {
    "application/vnd.databricks.v1+cell": {
     "cellMetadata": {},
     "inputWidgets": {},
     "nuid": "875efcd9-45db-4180-bae0-4c6c0d2f596d",
     "showTitle": false,
     "title": ""
    }
   },
   "outputs": [],
   "source": [
    "findstr     = 'GetTable(f\"{SOURCE}.crm_0crm_sales_act_1\")'\n",
    "replacestr  = 'GetTable(f\"{get_table_namespace(f\\'{SOURCE}\\', \\'crm_0crm_sales_act_1\\')}\")'\n",
    "find_replace(directory, '', findstr, replacestr)"
   ]
  },
  {
   "cell_type": "code",
   "execution_count": 0,
   "metadata": {
    "application/vnd.databricks.v1+cell": {
     "cellMetadata": {},
     "inputWidgets": {},
     "nuid": "10ed61e1-8bf1-4f0a-8a3e-ad7a9de8b886",
     "showTitle": false,
     "title": ""
    }
   },
   "outputs": [],
   "source": [
    "findstr     = 'GetTable(f\"{SOURCE}.crm_tj30t\")'\n",
    "replacestr  = 'GetTable(f\"{get_table_namespace(f\\'{SOURCE}\\', \\'crm_tj30t\\')}\")'\n",
    "find_replace(directory, '', findstr, replacestr)"
   ]
  },
  {
   "cell_type": "code",
   "execution_count": 0,
   "metadata": {
    "application/vnd.databricks.v1+cell": {
     "cellMetadata": {},
     "inputWidgets": {},
     "nuid": "8e2d5678-0abc-462e-83d2-c837548439f8",
     "showTitle": false,
     "title": ""
    }
   },
   "outputs": [],
   "source": [
    "findstr     = 'GetTable(f\"{SOURCE}.crm_crmd_erms_header\")'\n",
    "replacestr  = 'GetTable(f\"{get_table_namespace(f\\'{SOURCE}\\', \\'crm_crmd_erms_header\\')}\")'\n",
    "find_replace(directory, '', findstr, replacestr)"
   ]
  },
  {
   "cell_type": "code",
   "execution_count": 0,
   "metadata": {
    "application/vnd.databricks.v1+cell": {
     "cellMetadata": {},
     "inputWidgets": {},
     "nuid": "571e10ee-b0df-4ee5-a4e7-fb0510f06ef9",
     "showTitle": false,
     "title": ""
    }
   },
   "outputs": [],
   "source": [
    "\n",
    "findstr     = 'GetTable(f\"{SOURCE}.crm_0crm_proc_type_text\")'\n",
    "replacestr  = 'GetTable(f\"{get_table_namespace(f\\'{SOURCE}\\', \\'crm_0crm_proc_type_text\\')}\")'\n",
    "find_replace(directory, '', findstr, replacestr)"
   ]
  },
  {
   "cell_type": "code",
   "execution_count": 0,
   "metadata": {
    "application/vnd.databricks.v1+cell": {
     "cellMetadata": {},
     "inputWidgets": {},
     "nuid": "fa5c92e7-02dd-4307-85c7-cb659e1fdab1",
     "showTitle": false,
     "title": ""
    }
   },
   "outputs": [],
   "source": [
    "\n",
    "findstr     = 'GetTable(f\"{TARGET}.dimAssetLocation\")'\n",
    "replacestr  = 'GetTable(f\"{get_table_namespace(f\\'{TARGET}\\', \\'dimAssetLocation\\')}\")'\n",
    "find_replace(directory, '', findstr, replacestr)"
   ]
  },
  {
   "cell_type": "code",
   "execution_count": 0,
   "metadata": {
    "application/vnd.databricks.v1+cell": {
     "cellMetadata": {},
     "inputWidgets": {},
     "nuid": "1d8c9a27-2163-4368-a486-5f663f892f88",
     "showTitle": false,
     "title": ""
    }
   },
   "outputs": [],
   "source": [
    "\n",
    "findstr     = 'GetTable(f\"{SOURCE}.crm_0crm_srv_req_inci_h\")'\n",
    "replacestr  = 'GetTable(f\"{get_table_namespace(f\\'{SOURCE}\\', \\'crm_0crm_srv_req_inci_h\\')}\")'\n",
    "find_replace(directory, '', findstr, replacestr)"
   ]
  },
  {
   "cell_type": "code",
   "execution_count": 0,
   "metadata": {
    "application/vnd.databricks.v1+cell": {
     "cellMetadata": {},
     "inputWidgets": {},
     "nuid": "202bae3d-8faf-4ec3-a058-07e5be325c48",
     "showTitle": false,
     "title": ""
    }
   },
   "outputs": [],
   "source": [
    "findstr     = '{SOURCE}.crm_crm_svy_re_quest'\n",
    "replacestr  = '{get_table_namespace(f\\'{SOURCE}\\', \\'crm_crm_svy_re_quest\\')}'\n",
    "find_replace(directory, '', findstr, replacestr)"
   ]
  },
  {
   "cell_type": "code",
   "execution_count": 0,
   "metadata": {
    "application/vnd.databricks.v1+cell": {
     "cellMetadata": {},
     "inputWidgets": {},
     "nuid": "fa9c0661-786d-4a48-bcac-932000c868b7",
     "showTitle": false,
     "title": ""
    }
   },
   "outputs": [],
   "source": [
    "findstr     = '{SOURCE}.aurion_active_employees'\n",
    "replacestr  = '{get_table_namespace(f\\'{SOURCE}\\', \\'aurion_active_employees\\')}'\n",
    "find_replace(directory, '', findstr, replacestr)"
   ]
  },
  {
   "cell_type": "code",
   "execution_count": 0,
   "metadata": {
    "application/vnd.databricks.v1+cell": {
     "cellMetadata": {},
     "inputWidgets": {},
     "nuid": "f9957b94-87be-47e9-9dca-7c8b9690e1dd",
     "showTitle": false,
     "title": ""
    }
   },
   "outputs": [],
   "source": [
    "findstr     = '{SOURCE}.aurion_terminated_employees'\n",
    "replacestr  = '{get_table_namespace(f\\'{SOURCE}\\', \\'aurion_terminated_employees\\')}'\n",
    "find_replace(directory, '', findstr, replacestr)"
   ]
  },
  {
   "cell_type": "code",
   "execution_count": 0,
   "metadata": {
    "application/vnd.databricks.v1+cell": {
     "cellMetadata": {},
     "inputWidgets": {},
     "nuid": "3ca0b212-4e75-477a-88c2-76d9759a2c8c",
     "showTitle": false,
     "title": ""
    }
   },
   "outputs": [],
   "source": [
    "findstr     = '{SOURCE}.crm_crm_svy_db_s'\n",
    "replacestr  = '{get_table_namespace(f\\'{SOURCE}\\', \\'crm_crm_svy_db_s\\')}'\n",
    "find_replace(directory, '', findstr, replacestr)"
   ]
  },
  {
   "cell_type": "code",
   "execution_count": 0,
   "metadata": {
    "application/vnd.databricks.v1+cell": {
     "cellMetadata": {},
     "inputWidgets": {},
     "nuid": "43f54c90-bc47-432a-a23b-545f1ab1c569",
     "showTitle": false,
     "title": ""
    }
   },
   "outputs": [],
   "source": [
    "findstr     = '{SOURCE}.crm_0svy_qstnnr_text'\n",
    "replacestr  = '{get_table_namespace(f\\'{SOURCE}\\', \\'crm_0svy_qstnnr_text\\')}'\n",
    "find_replace(directory, '', findstr, replacestr)"
   ]
  },
  {
   "cell_type": "code",
   "execution_count": 0,
   "metadata": {
    "application/vnd.databricks.v1+cell": {
     "cellMetadata": {},
     "inputWidgets": {},
     "nuid": "8a8b7527-0307-413a-9a84-7ff910762221",
     "showTitle": false,
     "title": ""
    }
   },
   "outputs": [],
   "source": [
    "findstr     = '{SOURCE}.crm_crmc_prt_otype'\n",
    "replacestr  = '{get_table_namespace(f\\'{SOURCE}\\', \\'crm_crmc_prt_otype\\')}'\n",
    "find_replace(directory, '', findstr, replacestr)"
   ]
  },
  {
   "cell_type": "code",
   "execution_count": 0,
   "metadata": {
    "application/vnd.databricks.v1+cell": {
     "cellMetadata": {},
     "inputWidgets": {},
     "nuid": "c132c929-3b4c-4803-8a70-873093db368a",
     "showTitle": false,
     "title": ""
    }
   },
   "outputs": [],
   "source": [
    "findstr     = '{SOURCE}.qualtrics_billpaidsuccessfullyquestions'\n",
    "replacestr  = '{get_table_namespace(f\\'{SOURCE}\\', \\'qualtrics_billpaidsuccessfullyquestions\\')}'\n",
    "find_replace(directory, '', findstr, replacestr)"
   ]
  },
  {
   "cell_type": "code",
   "execution_count": 0,
   "metadata": {
    "application/vnd.databricks.v1+cell": {
     "cellMetadata": {},
     "inputWidgets": {},
     "nuid": "5ea3e066-e638-44ae-81bb-d917e9dea54d",
     "showTitle": false,
     "title": ""
    }
   },
   "outputs": [],
   "source": [
    "findstr     = '{SOURCE}.qualtrics_businessConnectServiceRequestCloseQuestions'\n",
    "replacestr  = '{get_table_namespace(f\\'{SOURCE}\\', \\'qualtrics_businessConnectServiceRequestCloseQuestions\\')}'\n",
    "find_replace(directory, '', findstr, replacestr)"
   ]
  },
  {
   "cell_type": "code",
   "execution_count": 0,
   "metadata": {
    "application/vnd.databricks.v1+cell": {
     "cellMetadata": {},
     "inputWidgets": {},
     "nuid": "1371c4a6-6315-4191-8ed2-d88b7dbbfdf0",
     "showTitle": false,
     "title": ""
    }
   },
   "outputs": [],
   "source": [
    "findstr     = '{SOURCE}.qualtrics_complaintsComplaintClosedQuestions'\n",
    "replacestr  = '{get_table_namespace(f\\'{SOURCE}\\', \\'qualtrics_complaintsComplaintClosedQuestions\\')}'\n",
    "find_replace(directory, '', findstr, replacestr)"
   ]
  },
  {
   "cell_type": "code",
   "execution_count": 0,
   "metadata": {
    "application/vnd.databricks.v1+cell": {
     "cellMetadata": {},
     "inputWidgets": {},
     "nuid": "9d2e16a2-f97c-4d46-8368-084a393d05f4",
     "showTitle": false,
     "title": ""
    }
   },
   "outputs": [],
   "source": [
    "findstr     = '{SOURCE}.qualtrics_contactcentreinteractionmeasurementsurveyquestions'\n",
    "replacestr  = '{get_table_namespace(f\\'{SOURCE}\\', \\'qualtrics_contactcentreinteractionmeasurementsurveyquestions\\')}'\n",
    "find_replace(directory, '', findstr, replacestr)"
   ]
  },
  {
   "cell_type": "code",
   "execution_count": 0,
   "metadata": {
    "application/vnd.databricks.v1+cell": {
     "cellMetadata": {},
     "inputWidgets": {},
     "nuid": "6e58d66c-3e91-45da-a236-f76cfb38ed5b",
     "showTitle": false,
     "title": ""
    }
   },
   "outputs": [],
   "source": [
    "findstr     = '{SOURCE}.qualtrics_customercarequestions'\n",
    "replacestr  = '{get_table_namespace(f\\'{SOURCE}\\', \\'qualtrics_customercarequestions\\')}'\n",
    "find_replace(directory, '', findstr, replacestr)"
   ]
  },
  {
   "cell_type": "code",
   "execution_count": 0,
   "metadata": {
    "application/vnd.databricks.v1+cell": {
     "cellMetadata": {},
     "inputWidgets": {},
     "nuid": "e0a90d73-b86c-4fcb-8cbb-17d958c02813",
     "showTitle": false,
     "title": ""
    }
   },
   "outputs": [],
   "source": [
    "findstr     = '{SOURCE}.qualtrics_p4sonlinefeedbackquestions'\n",
    "replacestr  = '{get_table_namespace(f\\'{SOURCE}\\', \\'qualtrics_p4sonlinefeedbackquestions\\')}'\n",
    "find_replace(directory, '', findstr, replacestr)"
   ]
  },
  {
   "cell_type": "code",
   "execution_count": 0,
   "metadata": {
    "application/vnd.databricks.v1+cell": {
     "cellMetadata": {},
     "inputWidgets": {},
     "nuid": "3b5db714-d585-4717-b9ca-c200f5abd210",
     "showTitle": false,
     "title": ""
    }
   },
   "outputs": [],
   "source": [
    "findstr     = '{SOURCE}.qualtrics_s73surveyquestions'\n",
    "replacestr  = '{get_table_namespace(f\\'{SOURCE}\\', \\'qualtrics_s73surveyquestions\\')}'\n",
    "find_replace(directory, '', findstr, replacestr)"
   ]
  },
  {
   "cell_type": "code",
   "execution_count": 0,
   "metadata": {
    "application/vnd.databricks.v1+cell": {
     "cellMetadata": {},
     "inputWidgets": {},
     "nuid": "3f4411b0-551e-4d3c-a5a5-5059eb0c9987",
     "showTitle": false,
     "title": ""
    }
   },
   "outputs": [],
   "source": [
    "findstr     = '{SOURCE}.qualtrics_s73surveyquestions'\n",
    "replacestr  = '{get_table_namespace(f\\'{SOURCE}\\', \\'qualtrics_s73surveyquestions\\')}'\n",
    "find_replace(directory, '', findstr, replacestr)"
   ]
  },
  {
   "cell_type": "code",
   "execution_count": 0,
   "metadata": {
    "application/vnd.databricks.v1+cell": {
     "cellMetadata": {},
     "inputWidgets": {},
     "nuid": "45fe9c99-4d45-472e-92ff-b7b5c25687a5",
     "showTitle": false,
     "title": ""
    }
   },
   "outputs": [],
   "source": [
    "findstr     = '{SOURCE}.qualtrics_waterfixpostinteractionfeedbackquestions'\n",
    "replacestr  = '{get_table_namespace(f\\'{SOURCE}\\', \\'qualtrics_waterfixpostinteractionfeedbackquestions\\')}'\n",
    "find_replace(directory, '', findstr, replacestr)"
   ]
  },
  {
   "cell_type": "code",
   "execution_count": 0,
   "metadata": {
    "application/vnd.databricks.v1+cell": {
     "cellMetadata": {},
     "inputWidgets": {},
     "nuid": "ee05d3eb-fae9-468f-a6bb-0403dde416fa",
     "showTitle": false,
     "title": ""
    }
   },
   "outputs": [],
   "source": [
    "findstr     = '{SOURCE}.qualtrics_websitegolivequestions'\n",
    "replacestr  = '{get_table_namespace(f\\'{SOURCE}\\', \\'qualtrics_websitegolivequestions\\')}'\n",
    "find_replace(directory, '', findstr, replacestr)"
   ]
  },
  {
   "cell_type": "code",
   "execution_count": 0,
   "metadata": {
    "application/vnd.databricks.v1+cell": {
     "cellMetadata": {},
     "inputWidgets": {},
     "nuid": "f5b5524b-920c-4086-8fb8-1c443009717b",
     "showTitle": false,
     "title": ""
    }
   },
   "outputs": [],
   "source": [
    "findstr     = '{SOURCE}.qualtrics_wscs73experiencesurveyquestions'\n",
    "replacestr  = '{get_table_namespace(f\\'{SOURCE}\\', \\'qualtrics_wscs73experiencesurveyquestions\\')}'\n",
    "find_replace(directory, '', findstr, replacestr)"
   ]
  },
  {
   "cell_type": "code",
   "execution_count": 0,
   "metadata": {
    "application/vnd.databricks.v1+cell": {
     "cellMetadata": {},
     "inputWidgets": {},
     "nuid": "8271012b-a801-4358-9a02-a5fcc8e71a1a",
     "showTitle": false,
     "title": ""
    }
   },
   "outputs": [],
   "source": [
    "findstr     = '{SOURCE}.qualtrics_feedbacktabgolivequestions'\n",
    "replacestr  = '{get_table_namespace(f\\'{SOURCE}\\', \\'qualtrics_feedbacktabgolivequestions\\')}'\n",
    "find_replace(directory, '', findstr, replacestr)"
   ]
  },
  {
   "cell_type": "code",
   "execution_count": 0,
   "metadata": {
    "application/vnd.databricks.v1+cell": {
     "cellMetadata": {},
     "inputWidgets": {},
     "nuid": "d4e1d247-08a9-4823-a48a-06234bb50979",
     "showTitle": false,
     "title": ""
    }
   },
   "outputs": [],
   "source": [
    "findstr     = '{SOURCE}.crm_scapptseg'\n",
    "replacestr  = '{get_table_namespace(f\\'{SOURCE}\\', \\'crm_scapptseg\\')}'\n",
    "find_replace(directory, '', findstr, replacestr)"
   ]
  },
  {
   "cell_type": "code",
   "execution_count": 0,
   "metadata": {
    "application/vnd.databricks.v1+cell": {
     "cellMetadata": {},
     "inputWidgets": {},
     "nuid": "90aaa754-ee0b-472c-b1e4-8cf7db9124bf",
     "showTitle": false,
     "title": ""
    }
   },
   "outputs": [],
   "source": [
    "findstr     = '{DEFAULT_TARGET}.{TableName}'\n",
    "replacestr  = '{get_table_namespace(f\\'{DEFAULT_TARGET}\\', f\\'{TableName}\\')}'\n",
    "find_replace(directory, '', findstr, replacestr)"
   ]
  },
  {
   "cell_type": "code",
   "execution_count": 0,
   "metadata": {
    "application/vnd.databricks.v1+cell": {
     "cellMetadata": {},
     "inputWidgets": {},
     "nuid": "e79c1e8d-f7f7-4b78-bbef-852b8aeb3764",
     "showTitle": false,
     "title": ""
    }
   },
   "outputs": [],
   "source": [
    "findstr     = '{TARGET}.refReportConfiguration'\n",
    "replacestr  = '{get_table_namespace(f\\'{TARGET}\\', \\'refReportConfiguration\\')}'\n",
    "find_replace(directory, '', findstr, replacestr)"
   ]
  },
  {
   "cell_type": "code",
   "execution_count": 0,
   "metadata": {
    "application/vnd.databricks.v1+cell": {
     "cellMetadata": {},
     "inputWidgets": {},
     "nuid": "d2c4cd1d-6d79-4dda-8b4a-bc57d5a747df",
     "showTitle": false,
     "title": ""
    }
   },
   "outputs": [],
   "source": [
    "findstr     = 'GetTable(f\"{DEFAULT_TARGET}.dimSurvey\")'\n",
    "replacestr  = 'GetTable(f\"{get_table_namespace(f\\'{DEFAULT_TARGET}\\', \\'dimSurvey\\')}\")'\n",
    "find_replace(directory, '', findstr, replacestr)"
   ]
  },
  {
   "cell_type": "code",
   "execution_count": 0,
   "metadata": {
    "application/vnd.databricks.v1+cell": {
     "cellMetadata": {},
     "inputWidgets": {},
     "nuid": "8ff1bfd4-d4e8-4834-8d6e-eb6ac8437bf4",
     "showTitle": false,
     "title": ""
    }
   },
   "outputs": [],
   "source": [
    "findstr     = 'hive_metastore.'\n",
    "replacestr  = ''\n",
    "find_replace(directory, '', findstr, replacestr)"
   ]
  },
  {
   "cell_type": "markdown",
   "metadata": {
    "application/vnd.databricks.v1+cell": {
     "cellMetadata": {},
     "inputWidgets": {},
     "nuid": "7f0d6f26-0a4f-43b0-a713-0c4cab1d5b7f",
     "showTitle": false,
     "title": ""
    }
   },
   "source": [
    "Function to get the list of hardcoded cleansed tablenames in the view definitions, uses regex to pattern match 'cleansed.'"
   ]
  },
  {
   "cell_type": "code",
   "execution_count": 0,
   "metadata": {
    "application/vnd.databricks.v1+cell": {
     "cellMetadata": {},
     "inputWidgets": {},
     "nuid": "901fba12-a4cf-4b92-a7ab-d4ea402e6d08",
     "showTitle": false,
     "title": ""
    }
   },
   "outputs": [],
   "source": [
    "def get_strings_to_replace(full_path, pattern):\n",
    "    strings_to_replace = []\n",
    "    for filename in os.listdir(full_path):\n",
    "        if filename.endswith(\".py\"):\n",
    "            with open(os.path.join(full_path, filename), \"r\") as f:\n",
    "                for line in f:\n",
    "                    for word in line.split():\n",
    "                        if pattern.search(word): \n",
    "                            if (len(word.split(\".\"))) == 2:\n",
    "                                strings_to_replace.append( re.sub( r'[)\"](.*)', '', (re.sub('[^A-Za-z0-9.]+_', '', word)) ) )\n",
    "                            else:\n",
    "                                print (f\"This was formatted poorly and is hence not included in the list:\\n \\'{filename} \\'- {word}\\n\")\n",
    "    return strings_to_replace"
   ]
  },
  {
   "cell_type": "markdown",
   "metadata": {
    "application/vnd.databricks.v1+cell": {
     "cellMetadata": {},
     "inputWidgets": {},
     "nuid": "4ae1d855-7bf1-48a3-ac4d-e5aae97d0e34",
     "showTitle": false,
     "title": ""
    }
   },
   "source": [
    "Finding and replacing the hardcoded cleansed table names in view definitions using the above function"
   ]
  },
  {
   "cell_type": "code",
   "execution_count": 0,
   "metadata": {
    "application/vnd.databricks.v1+cell": {
     "cellMetadata": {},
     "inputWidgets": {},
     "nuid": "90f56a92-a79b-470b-8180-fe4998e486ea",
     "showTitle": false,
     "title": ""
    }
   },
   "outputs": [],
   "source": [
    "directory = \"../Transform/Dimension/\"\n",
    "patternstr = re.compile(r\"\\bcleansed.\\b\")\n",
    "\n",
    "strings_to_replace =  get_strings_to_replace(full_path = directory, pattern = patternstr)"
   ]
  },
  {
   "cell_type": "code",
   "execution_count": 0,
   "metadata": {
    "application/vnd.databricks.v1+cell": {
     "cellMetadata": {},
     "inputWidgets": {},
     "nuid": "707ba01e-e6ef-445a-820e-fdde6ccd6949",
     "showTitle": false,
     "title": ""
    }
   },
   "outputs": [],
   "source": [
    "strings_to_replace"
   ]
  },
  {
   "cell_type": "code",
   "execution_count": 0,
   "metadata": {
    "application/vnd.databricks.v1+cell": {
     "cellMetadata": {},
     "inputWidgets": {},
     "nuid": "3f5d8f72-d57a-4944-ac46-7e76b7c338d7",
     "showTitle": false,
     "title": ""
    }
   },
   "outputs": [],
   "source": [
    "\n",
    "for findstr in sorted(strings_to_replace, key = len, reverse = True):\n",
    "    # print(findstr)\n",
    "    layer   = findstr.split(\".\")[0]\n",
    "    schema  = findstr.split(\".\")[1].split(\"_\")[0]\n",
    "    table   = findstr.split(\".\")[1]\n",
    "    replacestr  = f'{{get_table_namespace(\\'{layer}\\', \\'{table}\\')}}'\n",
    "    # print(replacestr)\n",
    "    find_replace(directory, '', findstr, replacestr)"
   ]
  },
  {
   "cell_type": "code",
   "execution_count": 0,
   "metadata": {
    "application/vnd.databricks.v1+cell": {
     "cellMetadata": {},
     "inputWidgets": {},
     "nuid": "b1a1aef6-bf39-4a19-9f4e-387efc30227d",
     "showTitle": false,
     "title": ""
    }
   },
   "outputs": [],
   "source": [
    "directory = \"../Transform/Dimension/\"\n",
    "patternstr = re.compile(r\"\\braw.\\b\")\n",
    "\n",
    "strings_to_replace =  get_strings_to_replace(full_path = directory, pattern = patternstr)\n"
   ]
  },
  {
   "cell_type": "code",
   "execution_count": 0,
   "metadata": {
    "application/vnd.databricks.v1+cell": {
     "cellMetadata": {},
     "inputWidgets": {},
     "nuid": "ce4644b0-f1d5-46b3-a907-c6eb3f26dd2e",
     "showTitle": false,
     "title": ""
    }
   },
   "outputs": [],
   "source": [
    "strings_to_replace"
   ]
  },
  {
   "cell_type": "code",
   "execution_count": 0,
   "metadata": {
    "application/vnd.databricks.v1+cell": {
     "cellMetadata": {},
     "inputWidgets": {},
     "nuid": "54b82b2a-84df-4658-959b-4a3793dcfbac",
     "showTitle": false,
     "title": ""
    }
   },
   "outputs": [],
   "source": [
    "\n",
    "for findstr in sorted(strings_to_replace, key = len, reverse = True):\n",
    "    # print(findstr)\n",
    "    layer   = findstr.split(\".\")[0]\n",
    "    schema  = findstr.split(\".\")[1].split(\"_\")[0]\n",
    "    table   = findstr.split(\".\")[1]\n",
    "    replacestr  = f'{{get_table_namespace(\\'{layer}\\', \\'{table}\\')}}'\n",
    "    # print(replacestr)\n",
    "    find_replace(directory, '', findstr, replacestr)"
   ]
  },
  {
   "cell_type": "markdown",
   "metadata": {
    "application/vnd.databricks.v1+cell": {
     "cellMetadata": {},
     "inputWidgets": {},
     "nuid": "f9fa82b3-1c70-4778-820a-ba61afaf058d",
     "showTitle": false,
     "title": ""
    }
   },
   "source": [
    "Replacing \"curated.view\\<name\\>\" with \"\\<env_\\>curated.\\<productdatabase\\>.\\<viewname\\>\" \n",
    "in notebooks under \"/Databricks/MDP-Framework/Transform/Views/\". These views are meant to be created in product specific database, resolved based on the csv lookup."
   ]
  },
  {
   "cell_type": "code",
   "execution_count": 0,
   "metadata": {
    "application/vnd.databricks.v1+cell": {
     "cellMetadata": {},
     "inputWidgets": {},
     "nuid": "cb195748-b26c-45cb-827a-6934185d3526",
     "showTitle": false,
     "title": ""
    }
   },
   "outputs": [],
   "source": [
    "directory = \"../Transform/Dimension/\"\n",
    "patternstr = re.compile(r\"\\bcurated_v3.\\b\")\n",
    "\n",
    "strings_to_replace =  get_strings_to_replace(full_path = directory, pattern = patternstr)\n"
   ]
  },
  {
   "cell_type": "code",
   "execution_count": 0,
   "metadata": {
    "application/vnd.databricks.v1+cell": {
     "cellMetadata": {},
     "inputWidgets": {},
     "nuid": "95aabeeb-aef1-4ba0-a325-7b10a9473a52",
     "showTitle": false,
     "title": ""
    }
   },
   "outputs": [],
   "source": [
    "strings_to_replace"
   ]
  },
  {
   "cell_type": "code",
   "execution_count": 0,
   "metadata": {
    "application/vnd.databricks.v1+cell": {
     "cellMetadata": {},
     "inputWidgets": {},
     "nuid": "3c32322f-86d3-46b7-b769-91109753bef5",
     "showTitle": false,
     "title": ""
    }
   },
   "outputs": [],
   "source": [
    "\n",
    "for findstr in sorted(strings_to_replace, key = len, reverse = True):\n",
    "    # print(findstr)\n",
    "    layer   = findstr.split(\".\")[0]\n",
    "    # schema  = findstr.split(\".\")[1].split(\"_\")[0]\n",
    "    table   = findstr.split(\".\")[1]\n",
    "    replacestr  = f'{{get_table_namespace(\\'curated\\', \\'{table}\\')}}'\n",
    "    print(replacestr)\n",
    "    find_replace(directory, '', findstr, replacestr)"
   ]
  },
  {
   "cell_type": "markdown",
   "metadata": {
    "application/vnd.databricks.v1+cell": {
     "cellMetadata": {},
     "inputWidgets": {},
     "nuid": "6214952a-9dfb-42c5-af60-0e5531fe0851",
     "showTitle": false,
     "title": ""
    }
   },
   "source": [
    "**MDP Facts Notebooks Refactoring**"
   ]
  },
  {
   "cell_type": "code",
   "execution_count": 0,
   "metadata": {
    "application/vnd.databricks.v1+cell": {
     "cellMetadata": {},
     "inputWidgets": {},
     "nuid": "5620cdc8-5887-4607-96f2-470eff6dd8a8",
     "showTitle": false,
     "title": ""
    }
   },
   "outputs": [],
   "source": [
    "directory   = \"../Transform/Fact/\""
   ]
  },
  {
   "cell_type": "code",
   "execution_count": 0,
   "metadata": {
    "application/vnd.databricks.v1+cell": {
     "cellMetadata": {},
     "inputWidgets": {},
     "nuid": "a1f2d6b4-816d-471d-ba0e-1c2bcbb4b777",
     "showTitle": false,
     "title": ""
    }
   },
   "outputs": [],
   "source": [
    "find_replace(directory, '', '# MAGIC %run ../../Common/common-transform', \"# MAGIC %run ../../Common/common-transform \\n\\n# COMMAND ---------- \\n\\n# MAGIC %run ../../Common/common-helpers \\n# COMMAND ---------- \\n\")"
   ]
  },
  {
   "cell_type": "code",
   "execution_count": 0,
   "metadata": {
    "application/vnd.databricks.v1+cell": {
     "cellMetadata": {},
     "inputWidgets": {},
     "nuid": "3f10ecf5-8f88-4d07-a98f-5040e8c9d31b",
     "showTitle": false,
     "title": ""
    }
   },
   "outputs": [],
   "source": [
    "find_replace(directory, '', 'spark.sql(\"\"\"', 'spark.sql(f\"\"\"')"
   ]
  },
  {
   "cell_type": "code",
   "execution_count": 0,
   "metadata": {
    "application/vnd.databricks.v1+cell": {
     "cellMetadata": {},
     "inputWidgets": {},
     "nuid": "e0b68301-8623-4166-9b2f-1d54e94787f1",
     "showTitle": false,
     "title": ""
    }
   },
   "outputs": [],
   "source": [
    "findstr     = 'hive_metastore.'\n",
    "replacestr  = ''\n",
    "find_replace(directory, '', findstr, replacestr)"
   ]
  },
  {
   "cell_type": "code",
   "execution_count": 0,
   "metadata": {
    "application/vnd.databricks.v1+cell": {
     "cellMetadata": {},
     "inputWidgets": {},
     "nuid": "b85003da-b45d-4ef9-aa79-b6be76d04a1b",
     "showTitle": false,
     "title": ""
    }
   },
   "outputs": [],
   "source": [
    "findstr     = 'GetTable(f\"{DEFAULT_TARGET}.dimBusinessPartnerGroup\")'\n",
    "replacestr  = 'GetTable(f\"{get_table_namespace(f\\'{DEFAULT_TARGET}\\', \\'dimBusinessPartnerGroup\\')}\")'\n",
    "find_replace(directory, '', findstr, replacestr)"
   ]
  },
  {
   "cell_type": "code",
   "execution_count": 0,
   "metadata": {
    "application/vnd.databricks.v1+cell": {
     "cellMetadata": {},
     "inputWidgets": {},
     "nuid": "d1dafa36-9e2e-4668-abc2-ca2961971fa9",
     "showTitle": false,
     "title": ""
    }
   },
   "outputs": [],
   "source": [
    "\n",
    "findstr     = 'GetTable(f\"{TARGET}.factworkorder\")'\n",
    "replacestr  = 'GetTable(f\"{get_table_namespace(f\\'{TARGET}\\', \\'factworkorder\\')}\")'\n",
    "find_replace(directory, '', findstr, replacestr)"
   ]
  },
  {
   "cell_type": "code",
   "execution_count": 0,
   "metadata": {
    "application/vnd.databricks.v1+cell": {
     "cellMetadata": {},
     "inputWidgets": {},
     "nuid": "1197df9f-cc77-49c2-9b08-cbe819b782b3",
     "showTitle": false,
     "title": ""
    }
   },
   "outputs": [],
   "source": [
    "\n",
    "findstr     = 'GetTable(f\"{TARGET}.dimAssetLocation\")'\n",
    "replacestr  = 'GetTable(f\"{get_table_namespace(f\\'{TARGET}\\', \\'dimAssetLocation\\')}\")'\n",
    "find_replace(directory, '', findstr, replacestr)"
   ]
  },
  {
   "cell_type": "code",
   "execution_count": 0,
   "metadata": {
    "application/vnd.databricks.v1+cell": {
     "cellMetadata": {},
     "inputWidgets": {},
     "nuid": "5e9f0cd3-47c3-47fb-a89d-94ae0d58e9e2",
     "showTitle": false,
     "title": ""
    }
   },
   "outputs": [],
   "source": [
    "\n",
    "findstr     = 'GetTable(f\"{TARGET}.dimAsset\")'\n",
    "replacestr  = 'GetTable(f\"{get_table_namespace(f\\'{TARGET}\\', \\'dimAsset\\')}\")'\n",
    "find_replace(directory, '', findstr, replacestr)"
   ]
  },
  {
   "cell_type": "code",
   "execution_count": 0,
   "metadata": {
    "application/vnd.databricks.v1+cell": {
     "cellMetadata": {},
     "inputWidgets": {},
     "nuid": "94beca6d-6103-4746-9de3-f98f09882ae1",
     "showTitle": false,
     "title": ""
    }
   },
   "outputs": [],
   "source": [
    "findstr     = '{TARGET}.factworkorder'\n",
    "replacestr  = '{get_table_namespace(f\\'{TARGET}\\', \\'factworkorder\\')}'\n",
    "find_replace(directory, '', findstr, replacestr)"
   ]
  },
  {
   "cell_type": "code",
   "execution_count": 0,
   "metadata": {
    "application/vnd.databricks.v1+cell": {
     "cellMetadata": {},
     "inputWidgets": {},
     "nuid": "e8f3912e-7582-401e-8395-0c78f5a63d78",
     "showTitle": false,
     "title": ""
    }
   },
   "outputs": [],
   "source": [
    "findstr     = '{TARGET}.factworkorder'\n",
    "replacestr  = '{get_table_namespace(f\\'{TARGET}\\', \\'factworkorder\\')}'\n",
    "find_replace(directory, '', findstr, replacestr)"
   ]
  },
  {
   "cell_type": "code",
   "execution_count": 0,
   "metadata": {
    "application/vnd.databricks.v1+cell": {
     "cellMetadata": {},
     "inputWidgets": {},
     "nuid": "07658a2c-5882-43ef-b840-c79b59ed2782",
     "showTitle": false,
     "title": ""
    }
   },
   "outputs": [],
   "source": [
    "findstr     = '{TARGET}.factworkorder'\n",
    "replacestr  = '{get_table_namespace(f\\'{TARGET}\\', \\'factworkorder\\')}'\n",
    "find_replace(directory, '', findstr, replacestr)"
   ]
  },
  {
   "cell_type": "code",
   "execution_count": 0,
   "metadata": {
    "application/vnd.databricks.v1+cell": {
     "cellMetadata": {},
     "inputWidgets": {},
     "nuid": "391b06b1-154a-4b0e-af1b-a2f263c33971",
     "showTitle": false,
     "title": ""
    }
   },
   "outputs": [],
   "source": [
    "find_replace(directory, '', 'curated_v3', 'curated')"
   ]
  },
  {
   "cell_type": "code",
   "execution_count": 0,
   "metadata": {
    "application/vnd.databricks.v1+cell": {
     "cellMetadata": {},
     "inputWidgets": {},
     "nuid": "e32df7f3-ae32-4d60-b0d9-70b3581c25d7",
     "showTitle": false,
     "title": ""
    }
   },
   "outputs": [],
   "source": [
    "directory = \"../Transform/Views\"\n",
    "patternstr = re.compile(r\"curated_v2\")\n",
    "\n",
    "strings_to_replace =  get_strings_to_replace(full_path = directory, pattern = patternstr)\n",
    "\n",
    "for findstr in sorted(strings_to_replace, key = len, reverse = True):\n",
    "    print(findstr)\n",
    "    layer   = findstr.split(\".\")[0]\n",
    "    table   = findstr.split(\".\")[1]\n",
    "    replacestr  = f'{{get_table_namespace(\\'curated\\', \\'{table}\\')}}'\n",
    "    print(replacestr)\n",
    "    find_replace(directory, '', findstr, replacestr)"
   ]
  },
  {
   "cell_type": "code",
   "execution_count": 0,
   "metadata": {
    "application/vnd.databricks.v1+cell": {
     "cellMetadata": {},
     "inputWidgets": {},
     "nuid": "549a6df0-d2b8-4f72-a9b3-a9c78a0e42f2",
     "showTitle": false,
     "title": ""
    }
   },
   "outputs": [],
   "source": [
    "patternstr = re.compile(r\"\\bcleansed.\\b\")\n",
    "\n",
    "strings_to_replace =  get_strings_to_replace(full_path = directory, pattern = patternstr)\n",
    "\n",
    "for findstr in sorted(strings_to_replace, key = len, reverse = True):\n",
    "    # print(findstr)\n",
    "    layer   = findstr.split(\".\")[0]\n",
    "    table   = findstr.split(\".\")[1]\n",
    "    replacestr  = f'{{get_table_namespace(\\'{layer}\\', \\'{table}\\')}}'\n",
    "    # print(replacestr)\n",
    "    find_replace(directory, '', findstr, replacestr)"
   ]
  },
  {
   "cell_type": "code",
   "execution_count": 0,
   "metadata": {
    "application/vnd.databricks.v1+cell": {
     "cellMetadata": {},
     "inputWidgets": {},
     "nuid": "1a1b4eeb-1d47-46c2-b7fa-9cf6dd79441e",
     "showTitle": false,
     "title": ""
    }
   },
   "outputs": [],
   "source": [
    "\n",
    "findstr     = 'GetTable(f\"{SOURCE}.crm_0crm_sales_act_1\")'\n",
    "replacestr  = 'GetTable(f\"{get_table_namespace(f\\'{SOURCE}\\', \\'crm_0crm_sales_act_1\\')}\")'\n",
    "find_replace(directory, '', findstr, replacestr)"
   ]
  },
  {
   "cell_type": "code",
   "execution_count": 0,
   "metadata": {
    "application/vnd.databricks.v1+cell": {
     "cellMetadata": {},
     "inputWidgets": {},
     "nuid": "d64a9321-631f-4dd4-8bbe-5bc91d9ead17",
     "showTitle": false,
     "title": ""
    }
   },
   "outputs": [],
   "source": [
    "\n",
    "findstr     = 'GetTable(f\"{DEFAULT_TARGET}.dimCustomerServiceProcessType\")'\n",
    "replacestr  = 'GetTable(f\"{get_table_namespace(f\\'{DEFAULT_TARGET}\\', \\'dimCustomerServiceProcessType\\')}\")'\n",
    "find_replace(directory, '', findstr, replacestr)"
   ]
  },
  {
   "cell_type": "code",
   "execution_count": 0,
   "metadata": {
    "application/vnd.databricks.v1+cell": {
     "cellMetadata": {},
     "inputWidgets": {},
     "nuid": "273b7f54-3ca4-49d5-8e6c-22f96355c123",
     "showTitle": false,
     "title": ""
    }
   },
   "outputs": [],
   "source": [
    "\n",
    "findstr     = 'GetTable(f\"{DEFAULT_TARGET}.dimCustomerInteractionStatus\")'\n",
    "replacestr  = 'GetTable(f\"{get_table_namespace(f\\'{DEFAULT_TARGET}\\', \\'dimCustomerInteractionStatus\\')}\")'\n",
    "find_replace(directory, '', findstr, replacestr)"
   ]
  },
  {
   "cell_type": "code",
   "execution_count": 0,
   "metadata": {
    "application/vnd.databricks.v1+cell": {
     "cellMetadata": {},
     "inputWidgets": {},
     "nuid": "7006f9ec-20bf-4459-af36-4f2317bafd87",
     "showTitle": false,
     "title": ""
    }
   },
   "outputs": [],
   "source": [
    "\n",
    "findstr     = 'GetTable(f\"{DEFAULT_TARGET}.dimBusinessPartner\")'\n",
    "replacestr  = 'GetTable(f\"{get_table_namespace(f\\'{DEFAULT_TARGET}\\', \\'dimBusinessPartner\\')}\")'\n",
    "find_replace(directory, '', findstr, replacestr)"
   ]
  },
  {
   "cell_type": "code",
   "execution_count": 0,
   "metadata": {
    "application/vnd.databricks.v1+cell": {
     "cellMetadata": {},
     "inputWidgets": {},
     "nuid": "9e896248-34cd-46fe-80d8-d865af9fd8f5",
     "showTitle": false,
     "title": ""
    }
   },
   "outputs": [],
   "source": [
    "\n",
    "findstr     = 'GetTable(f\"{DEFAULT_TARGET}.dimProperty\")'\n",
    "replacestr  = 'GetTable(f\"{get_table_namespace(f\\'{DEFAULT_TARGET}\\', \\'dimProperty\\')}\")'\n",
    "find_replace(directory, '', findstr, replacestr)"
   ]
  },
  {
   "cell_type": "code",
   "execution_count": 0,
   "metadata": {
    "application/vnd.databricks.v1+cell": {
     "cellMetadata": {},
     "inputWidgets": {},
     "nuid": "323b0203-68e9-4876-b012-f0725731ba27",
     "showTitle": false,
     "title": ""
    }
   },
   "outputs": [],
   "source": [
    "\n",
    "findstr     = 'GetTable(f\"{DEFAULT_TARGET}.dimcommunicationchannel\")'\n",
    "replacestr  = 'GetTable(f\"{get_table_namespace(f\\'{DEFAULT_TARGET}\\', \\'dimcommunicationchannel\\')}\")'\n",
    "find_replace(directory, '', findstr, replacestr)"
   ]
  },
  {
   "cell_type": "code",
   "execution_count": 0,
   "metadata": {
    "application/vnd.databricks.v1+cell": {
     "cellMetadata": {},
     "inputWidgets": {},
     "nuid": "eee7e9c5-5d46-461a-beef-53bd6aab0e1a",
     "showTitle": false,
     "title": ""
    }
   },
   "outputs": [],
   "source": [
    "\n",
    "findstr     = 'GetTable(f\"{DEFAULT_TARGET}.dimdate\")'\n",
    "replacestr  = 'GetTable(f\"{get_table_namespace(f\\'{DEFAULT_TARGET}\\', \\'dimdate\\')}\")'\n",
    "find_replace(directory, '', findstr, replacestr)"
   ]
  },
  {
   "cell_type": "code",
   "execution_count": 0,
   "metadata": {
    "application/vnd.databricks.v1+cell": {
     "cellMetadata": {},
     "inputWidgets": {},
     "nuid": "d05633e7-997b-4c85-a231-73c98bc64da9",
     "showTitle": false,
     "title": ""
    }
   },
   "outputs": [],
   "source": [
    "\n",
    "findstr     = 'GetTable(f\"{SOURCE}.crm_crmd_erms_step\")'\n",
    "replacestr  = 'GetTable(f\"{get_table_namespace(f\\'{SOURCE}\\', \\'crm_crmd_erms_step\\')}\")'\n",
    "find_replace(directory, '', findstr, replacestr)"
   ]
  },
  {
   "cell_type": "code",
   "execution_count": 0,
   "metadata": {
    "application/vnd.databricks.v1+cell": {
     "cellMetadata": {},
     "inputWidgets": {},
     "nuid": "8dfce5b3-e064-450e-959d-3d249e147367",
     "showTitle": false,
     "title": ""
    }
   },
   "outputs": [],
   "source": [
    "\n",
    "findstr     = 'GetTable(f\"{SOURCE}.crm_crmd_erms_eventt\")'\n",
    "replacestr  = 'GetTable(f\"{get_table_namespace(f\\'{SOURCE}\\', \\'crm_crmd_erms_eventt\\')}\")'\n",
    "find_replace(directory, '', findstr, replacestr)"
   ]
  },
  {
   "cell_type": "code",
   "execution_count": 0,
   "metadata": {
    "application/vnd.databricks.v1+cell": {
     "cellMetadata": {},
     "inputWidgets": {},
     "nuid": "a045c2e1-9ca3-43b4-b8e2-38395945233a",
     "showTitle": false,
     "title": ""
    }
   },
   "outputs": [],
   "source": [
    "\n",
    "findstr     = 'GetTable(f\"{TARGET}.dimbusinessPartner\")'\n",
    "replacestr  = 'GetTable(f\"{get_table_namespace(f\\'{TARGET}\\', \\'dimbusinessPartner\\')}\")'\n",
    "find_replace(directory, '', findstr, replacestr)"
   ]
  },
  {
   "cell_type": "code",
   "execution_count": 0,
   "metadata": {
    "application/vnd.databricks.v1+cell": {
     "cellMetadata": {},
     "inputWidgets": {},
     "nuid": "9c318b1e-b67e-4fa8-a10d-43c6edb532d4",
     "showTitle": false,
     "title": ""
    }
   },
   "outputs": [],
   "source": [
    "\n",
    "findstr     = 'GetTable(f\"{TARGET}.dimcustomerserviceemailheader\")'\n",
    "replacestr  = 'GetTable(f\"{get_table_namespace(f\\'{TARGET}\\', \\'dimcustomerserviceemailheader\\')}\")'\n",
    "find_replace(directory, '', findstr, replacestr)"
   ]
  },
  {
   "cell_type": "code",
   "execution_count": 0,
   "metadata": {
    "application/vnd.databricks.v1+cell": {
     "cellMetadata": {},
     "inputWidgets": {},
     "nuid": "6fa47c7e-7647-4fa3-bc67-8ac6c9c7f6b2",
     "showTitle": false,
     "title": ""
    }
   },
   "outputs": [],
   "source": [
    "\n",
    "findstr     = 'GetTable(f\"{SOURCE}.crm_0crm_srv_req_inci_h\")'\n",
    "replacestr  = 'GetTable(f\"{get_table_namespace(f\\'{SOURCE}\\', \\'crm_0crm_srv_req_inci_h\\')}\")'\n",
    "find_replace(directory, '', findstr, replacestr)"
   ]
  },
  {
   "cell_type": "code",
   "execution_count": 0,
   "metadata": {
    "application/vnd.databricks.v1+cell": {
     "cellMetadata": {},
     "inputWidgets": {},
     "nuid": "96c9e005-dee6-4c9f-a2ab-31ff48dfe61f",
     "showTitle": false,
     "title": ""
    }
   },
   "outputs": [],
   "source": [
    "\n",
    "findstr     = 'GetTable(f\"{SOURCE}.datagov_australiapublicholidays\")'\n",
    "replacestr  = 'GetTable(f\"{get_table_namespace(f\\'{SOURCE}\\', \\'datagov_australiapublicholidays\\')}\")'\n",
    "find_replace(directory, '', findstr, replacestr)"
   ]
  },
  {
   "cell_type": "code",
   "execution_count": 0,
   "metadata": {
    "application/vnd.databricks.v1+cell": {
     "cellMetadata": {},
     "inputWidgets": {},
     "nuid": "0b3b7aea-af5f-4d0b-96a5-31097aef6bef",
     "showTitle": false,
     "title": ""
    }
   },
   "outputs": [],
   "source": [
    "\n",
    "findstr     = 'GetTable(f\"{DEFAULT_TARGET}.dimcustomerservicecategory\")'\n",
    "replacestr  = 'GetTable(f\"{get_table_namespace(f\\'{DEFAULT_TARGET}\\', \\'dimcustomerservicecategory\\')}\")'\n",
    "find_replace(directory, '', findstr, replacestr)"
   ]
  },
  {
   "cell_type": "code",
   "execution_count": 0,
   "metadata": {
    "application/vnd.databricks.v1+cell": {
     "cellMetadata": {},
     "inputWidgets": {},
     "nuid": "424b69ac-3e6f-447a-9d5e-d7d1aa30e1a0",
     "showTitle": false,
     "title": ""
    }
   },
   "outputs": [],
   "source": [
    "\n",
    "findstr     = 'GetTable(f\"{DEFAULT_TARGET}.dimCustomerServiceProcessType\")'\n",
    "replacestr  = 'GetTable(f\"{get_table_namespace(f\\'{DEFAULT_TARGET}\\', \\'dimCustomerServiceProcessType\\')}\")'\n",
    "find_replace(directory, '', findstr, replacestr)"
   ]
  },
  {
   "cell_type": "code",
   "execution_count": 0,
   "metadata": {
    "application/vnd.databricks.v1+cell": {
     "cellMetadata": {},
     "inputWidgets": {},
     "nuid": "13e6a866-720a-462e-aeb5-fda66e76d7f1",
     "showTitle": false,
     "title": ""
    }
   },
   "outputs": [],
   "source": [
    "\n",
    "findstr     = 'GetTable(f\"{DEFAULT_TARGET}.dimContract\")'\n",
    "replacestr  = 'GetTable(f\"{get_table_namespace(f\\'{DEFAULT_TARGET}\\', \\'dimContract\\')}\")'\n",
    "find_replace(directory, '', findstr, replacestr)"
   ]
  },
  {
   "cell_type": "code",
   "execution_count": 0,
   "metadata": {
    "application/vnd.databricks.v1+cell": {
     "cellMetadata": {},
     "inputWidgets": {},
     "nuid": "98372c36-6399-4c51-9a7c-2580d0040716",
     "showTitle": false,
     "title": ""
    }
   },
   "outputs": [],
   "source": [
    "\n",
    "findstr     = 'GetTable(f\"{DEFAULT_TARGET}.dimcustomerserviceprocesstype\")'\n",
    "replacestr  = 'GetTable(f\"{get_table_namespace(f\\'{DEFAULT_TARGET}\\', \\'dimcustomerserviceprocesstype\\')}\")'\n",
    "find_replace(directory, '', findstr, replacestr)"
   ]
  },
  {
   "cell_type": "code",
   "execution_count": 0,
   "metadata": {
    "application/vnd.databricks.v1+cell": {
     "cellMetadata": {},
     "inputWidgets": {},
     "nuid": "4fc78048-2afe-463c-b6ec-53bac8ac9939",
     "showTitle": false,
     "title": ""
    }
   },
   "outputs": [],
   "source": [
    "\n",
    "findstr     = 'GetTable(f\"{DEFAULT_TARGET}.dimcustomerservicerequestStatus\")'\n",
    "replacestr  = 'GetTable(f\"{get_table_namespace(f\\'{DEFAULT_TARGET}\\', \\'dimcustomerservicerequestStatus\\')}\")'\n",
    "find_replace(directory, '', findstr, replacestr)"
   ]
  },
  {
   "cell_type": "code",
   "execution_count": 0,
   "metadata": {
    "application/vnd.databricks.v1+cell": {
     "cellMetadata": {},
     "inputWidgets": {},
     "nuid": "240b1d71-14ff-4245-b24b-8013ee6f19f5",
     "showTitle": false,
     "title": ""
    }
   },
   "outputs": [],
   "source": [
    "\n",
    "findstr     = 'GetTable(f\"{DEFAULT_TARGET}.dimCommunicationChannel\")'\n",
    "replacestr  = 'GetTable(f\"{get_table_namespace(f\\'{DEFAULT_TARGET}\\', \\'dimCommunicationChannel\\')}\")'\n",
    "find_replace(directory, '', findstr, replacestr)"
   ]
  },
  {
   "cell_type": "code",
   "execution_count": 0,
   "metadata": {
    "application/vnd.databricks.v1+cell": {
     "cellMetadata": {},
     "inputWidgets": {},
     "nuid": "4cd7996f-4d32-45b5-8a90-440f15b6983e",
     "showTitle": false,
     "title": ""
    }
   },
   "outputs": [],
   "source": [
    "\n",
    "findstr     = 'GetTable(f\"{DEFAULT_TARGET}.dimCustomerServiceProcessType\")'\n",
    "replacestr  = 'GetTable(f\"{get_table_namespace(f\\'{DEFAULT_TARGET}\\', \\'dimCustomerServiceProcessType\\')}\")'\n",
    "find_replace(directory, '', findstr, replacestr)"
   ]
  },
  {
   "cell_type": "code",
   "execution_count": 0,
   "metadata": {
    "application/vnd.databricks.v1+cell": {
     "cellMetadata": {},
     "inputWidgets": {},
     "nuid": "6e8c4194-c277-4c2b-a7ce-a1a0a7b7e492",
     "showTitle": false,
     "title": ""
    }
   },
   "outputs": [],
   "source": [
    "\n",
    "findstr     = 'GetTable(f\"{SOURCE}.crm_crmd_link\")'\n",
    "replacestr  = 'GetTable(f\"{get_table_namespace(f\\'{SOURCE}\\', \\'crm_crmd_link\\')}\")'\n",
    "find_replace(directory, '', findstr, replacestr)"
   ]
  },
  {
   "cell_type": "code",
   "execution_count": 0,
   "metadata": {
    "application/vnd.databricks.v1+cell": {
     "cellMetadata": {},
     "inputWidgets": {},
     "nuid": "1cdc933f-f3ed-4042-ade2-ad04c86c5feb",
     "showTitle": false,
     "title": ""
    }
   },
   "outputs": [],
   "source": [
    "\n",
    "findstr     = 'GetTable(f\"{SOURCE}.crm_scapptseg\")'\n",
    "replacestr  = 'GetTable(f\"{get_table_namespace(f\\'{SOURCE}\\', \\'crm_scapptseg\\')}\")'\n",
    "find_replace(directory, '', findstr, replacestr)"
   ]
  },
  {
   "cell_type": "code",
   "execution_count": 0,
   "metadata": {
    "application/vnd.databricks.v1+cell": {
     "cellMetadata": {},
     "inputWidgets": {},
     "nuid": "7c6d29a5-a5db-4ef1-89fd-f4420833dbd9",
     "showTitle": false,
     "title": ""
    }
   },
   "outputs": [],
   "source": [
    "\n",
    "findstr     = 'GetTable(f\"{SOURCE}.vw_aurion_employee_details\")'\n",
    "replacestr  = 'GetTable(f\"{get_table_namespace(f\\'{SOURCE}\\', \\'vw_aurion_employee_details\\')}\")'\n",
    "find_replace(directory, '', findstr, replacestr)"
   ]
  },
  {
   "cell_type": "code",
   "execution_count": 0,
   "metadata": {
    "application/vnd.databricks.v1+cell": {
     "cellMetadata": {},
     "inputWidgets": {},
     "nuid": "de46cc8b-d7c5-4f55-b2d5-2c4e7691680f",
     "showTitle": false,
     "title": ""
    }
   },
   "outputs": [],
   "source": [
    "\n",
    "findstr     = 'GetTable(f\"{DEFAULT_TARGET}.dimlocation\")'\n",
    "replacestr  = 'GetTable(f\"{get_table_namespace(f\\'{DEFAULT_TARGET}\\', \\'dimlocation\\')}\")'\n",
    "find_replace(directory, '', findstr, replacestr)"
   ]
  },
  {
   "cell_type": "code",
   "execution_count": 0,
   "metadata": {
    "application/vnd.databricks.v1+cell": {
     "cellMetadata": {},
     "inputWidgets": {},
     "nuid": "ec5c6d35-722d-4e90-94d1-c4fcd25bd9b3",
     "showTitle": false,
     "title": ""
    }
   },
   "outputs": [],
   "source": [
    "\n",
    "findstr     = 'GetTable(f\"{DEFAULT_TARGET}.dimDate\")'\n",
    "replacestr  = 'GetTable(f\"{get_table_namespace(f\\'{DEFAULT_TARGET}\\', \\'dimDate\\')}\")'\n",
    "find_replace(directory, '', findstr, replacestr)"
   ]
  },
  {
   "cell_type": "code",
   "execution_count": 0,
   "metadata": {
    "application/vnd.databricks.v1+cell": {
     "cellMetadata": {},
     "inputWidgets": {},
     "nuid": "e64a097b-b1ac-461f-b5c6-aac4429b4aa6",
     "showTitle": false,
     "title": ""
    }
   },
   "outputs": [],
   "source": [
    "\n",
    "findstr     = 'GetTable(f\"cleansed.crm_zpstxhwithcguid\")'\n",
    "replacestr  = 'GetTable(f\"{get_table_namespace(\\'cleansed\\', \\'crm_zpstxhwithcguid\\')}\")'\n",
    "find_replace(directory, '', findstr, replacestr)"
   ]
  },
  {
   "cell_type": "code",
   "execution_count": 0,
   "metadata": {
    "application/vnd.databricks.v1+cell": {
     "cellMetadata": {},
     "inputWidgets": {},
     "nuid": "0377db0b-4d45-4d60-8910-71250764c887",
     "showTitle": false,
     "title": ""
    }
   },
   "outputs": [],
   "source": [
    "\n",
    "findstr     = 'GetTable(f\"curated_v2.dimdate\")'\n",
    "replacestr  = 'GetTable(f\"{get_table_namespace(\\'curated\\', \\'dimdate\\')}\")'\n",
    "find_replace(directory, '', findstr, replacestr)"
   ]
  },
  {
   "cell_type": "code",
   "execution_count": 0,
   "metadata": {
    "application/vnd.databricks.v1+cell": {
     "cellMetadata": {},
     "inputWidgets": {},
     "nuid": "08727080-87f6-4040-ac96-32a2b149873d",
     "showTitle": false,
     "title": ""
    }
   },
   "outputs": [],
   "source": [
    "\n",
    "findstr     = 'GetTable(f\"{TARGET}.dimWorkOrderJobPlan\")'\n",
    "replacestr  = 'GetTable(f\"{get_table_namespace(f\\'{TARGET}\\', \\'dimWorkOrderJobPlan\\')}\")'\n",
    "find_replace(directory, '', findstr, replacestr)"
   ]
  },
  {
   "cell_type": "code",
   "execution_count": 0,
   "metadata": {
    "application/vnd.databricks.v1+cell": {
     "cellMetadata": {},
     "inputWidgets": {},
     "nuid": "6927dc06-eb02-42ab-a44d-b41b64b73b61",
     "showTitle": false,
     "title": ""
    }
   },
   "outputs": [],
   "source": [
    "\n",
    "findstr     = 'GetTable(f\"{TARGET}.dimAssetContract\")'\n",
    "replacestr  = 'GetTable(f\"{get_table_namespace(f\\'{TARGET}\\', \\'dimAssetContract\\')}\")'\n",
    "find_replace(directory, '', findstr, replacestr)"
   ]
  },
  {
   "cell_type": "code",
   "execution_count": 0,
   "metadata": {
    "application/vnd.databricks.v1+cell": {
     "cellMetadata": {},
     "inputWidgets": {},
     "nuid": "3efc7ecd-4ec1-4257-80c4-8181b0c90652",
     "showTitle": false,
     "title": ""
    }
   },
   "outputs": [],
   "source": [
    "\n",
    "findstr     = 'GetTable(f\"{SOURCE}.maximo_sr\")'\n",
    "replacestr  = 'GetTable(f\"{get_table_namespace(f\\'{SOURCE}\\', \\'maximo_sr\\')}\")'\n",
    "find_replace(directory, '', findstr, replacestr)"
   ]
  },
  {
   "cell_type": "code",
   "execution_count": 0,
   "metadata": {
    "application/vnd.databricks.v1+cell": {
     "cellMetadata": {},
     "inputWidgets": {},
     "nuid": "ca13bd12-b686-489f-9188-76fd7c6f1a32",
     "showTitle": false,
     "title": ""
    }
   },
   "outputs": [],
   "source": [
    "\n",
    "findstr     = 'GetTable(f\"{SOURCE}.qualtrics_billpaidsuccessfullyresponses\")'\n",
    "replacestr  = 'GetTable(f\"{get_table_namespace(f\\'{SOURCE}\\', \\'qualtrics_billpaidsuccessfullyresponses\\')}\")'\n",
    "find_replace(directory, '', findstr, replacestr)"
   ]
  },
  {
   "cell_type": "code",
   "execution_count": 0,
   "metadata": {
    "application/vnd.databricks.v1+cell": {
     "cellMetadata": {},
     "inputWidgets": {},
     "nuid": "6242e11b-6a9b-4598-9a69-0d152ef9d11b",
     "showTitle": false,
     "title": ""
    }
   },
   "outputs": [],
   "source": [
    "\n",
    "findstr     = 'GetTable(f\"{SOURCE}.qualtrics_businessconnectservicerequestcloseresponses\")'\n",
    "replacestr  = 'GetTable(f\"{get_table_namespace(f\\'{SOURCE}\\', \\'qualtrics_businessconnectservicerequestcloseresponses\\')}\")'\n",
    "find_replace(directory, '', findstr, replacestr)"
   ]
  },
  {
   "cell_type": "code",
   "execution_count": 0,
   "metadata": {
    "application/vnd.databricks.v1+cell": {
     "cellMetadata": {},
     "inputWidgets": {},
     "nuid": "cf1bc339-8143-4045-8434-d3a6a73a6a01",
     "showTitle": false,
     "title": ""
    }
   },
   "outputs": [],
   "source": [
    "\n",
    "findstr     = 'GetTable(f\"{SOURCE}.qualtrics_complaintscomplaintclosedresponses\")'\n",
    "replacestr  = 'GetTable(f\"{get_table_namespace(f\\'{SOURCE}\\', \\'qualtrics_complaintscomplaintclosedresponses\\')}\")'\n",
    "find_replace(directory, '', findstr, replacestr)"
   ]
  },
  {
   "cell_type": "code",
   "execution_count": 0,
   "metadata": {
    "application/vnd.databricks.v1+cell": {
     "cellMetadata": {},
     "inputWidgets": {},
     "nuid": "f9b2b3ff-da8c-4499-b52a-ce57de2976d1",
     "showTitle": false,
     "title": ""
    }
   },
   "outputs": [],
   "source": [
    "\n",
    "findstr     = 'GetTable(f\"{SOURCE}.qualtrics_contactcentreinteractionmeasurementsurveyresponses\")'\n",
    "replacestr  = 'GetTable(f\"{get_table_namespace(f\\'{SOURCE}\\', \\'qualtrics_contactcentreinteractionmeasurementsurveyresponses\\')}\")'\n",
    "find_replace(directory, '', findstr, replacestr)"
   ]
  },
  {
   "cell_type": "code",
   "execution_count": 0,
   "metadata": {
    "application/vnd.databricks.v1+cell": {
     "cellMetadata": {},
     "inputWidgets": {},
     "nuid": "eafff7bb-2157-4dd7-8ec0-bf93d8f568de",
     "showTitle": false,
     "title": ""
    }
   },
   "outputs": [],
   "source": [
    "\n",
    "findstr     = 'GetTable(f\"{SOURCE}.qualtrics_customercareresponses\")'\n",
    "replacestr  = 'GetTable(f\"{get_table_namespace(f\\'{SOURCE}\\', \\'qualtrics_customercareresponses\\')}\")'\n",
    "find_replace(directory, '', findstr, replacestr)"
   ]
  },
  {
   "cell_type": "code",
   "execution_count": 0,
   "metadata": {
    "application/vnd.databricks.v1+cell": {
     "cellMetadata": {},
     "inputWidgets": {},
     "nuid": "d7f0b737-3f16-4bfd-966b-e886d5b3f040",
     "showTitle": false,
     "title": ""
    }
   },
   "outputs": [],
   "source": [
    "\n",
    "findstr     = 'GetTable(f\"{SOURCE}.qualtrics_developerapplicationreceivedresponses\")'\n",
    "replacestr  = 'GetTable(f\"{get_table_namespace(f\\'{SOURCE}\\', \\'qualtrics_developerapplicationreceivedresponses\\')}\")'\n",
    "find_replace(directory, '', findstr, replacestr)"
   ]
  },
  {
   "cell_type": "code",
   "execution_count": 0,
   "metadata": {
    "application/vnd.databricks.v1+cell": {
     "cellMetadata": {},
     "inputWidgets": {},
     "nuid": "aaa12fa0-ad0b-44ac-a280-326feb71b811",
     "showTitle": false,
     "title": ""
    }
   },
   "outputs": [],
   "source": [
    "\n",
    "findstr     = 'GetTable(f\"{SOURCE}.qualtrics_feedbacktabgoliveresponses\")'\n",
    "replacestr  = 'GetTable(f\"{get_table_namespace(f\\'{SOURCE}\\', \\'qualtrics_feedbacktabgoliveresponses\\')}\")'\n",
    "find_replace(directory, '', findstr, replacestr)"
   ]
  },
  {
   "cell_type": "code",
   "execution_count": 0,
   "metadata": {
    "application/vnd.databricks.v1+cell": {
     "cellMetadata": {},
     "inputWidgets": {},
     "nuid": "5391addb-5a0b-4626-97aa-9d18218e2502",
     "showTitle": false,
     "title": ""
    }
   },
   "outputs": [],
   "source": [
    "\n",
    "findstr     = 'GetTable(f\"{SOURCE}.qualtrics_p4sonlinefeedbackresponses\")'\n",
    "replacestr  = 'GetTable(f\"{get_table_namespace(f\\'{SOURCE}\\', \\'qualtrics_p4sonlinefeedbackresponses\\')}\")'\n",
    "find_replace(directory, '', findstr, replacestr)"
   ]
  },
  {
   "cell_type": "code",
   "execution_count": 0,
   "metadata": {
    "application/vnd.databricks.v1+cell": {
     "cellMetadata": {},
     "inputWidgets": {},
     "nuid": "3ef2fb9b-18ab-4735-8f40-0d59b9b2193e",
     "showTitle": false,
     "title": ""
    }
   },
   "outputs": [],
   "source": [
    "\n",
    "findstr     = 'GetTable(f\"{SOURCE}.qualtrics_s73surveyresponses\")'\n",
    "replacestr  = 'GetTable(f\"{get_table_namespace(f\\'{SOURCE}\\', \\'qualtrics_s73surveyresponses\\')}\")'\n",
    "find_replace(directory, '', findstr, replacestr)"
   ]
  },
  {
   "cell_type": "code",
   "execution_count": 0,
   "metadata": {
    "application/vnd.databricks.v1+cell": {
     "cellMetadata": {},
     "inputWidgets": {},
     "nuid": "60c7b1e5-f7af-439c-8221-1326da9aad00",
     "showTitle": false,
     "title": ""
    }
   },
   "outputs": [],
   "source": [
    "\n",
    "findstr     = 'GetTable(f\"{SOURCE}.qualtrics_waterfixpostinteractionfeedbackresponses\")'\n",
    "replacestr  = 'GetTable(f\"{get_table_namespace(f\\'{SOURCE}\\', \\'qualtrics_waterfixpostinteractionfeedbackresponses\\')}\")'\n",
    "find_replace(directory, '', findstr, replacestr)"
   ]
  },
  {
   "cell_type": "code",
   "execution_count": 0,
   "metadata": {
    "application/vnd.databricks.v1+cell": {
     "cellMetadata": {},
     "inputWidgets": {},
     "nuid": "2d70942f-51cb-4728-b62c-7e785051cb87",
     "showTitle": false,
     "title": ""
    }
   },
   "outputs": [],
   "source": [
    "\n",
    "findstr     = 'GetTable(f\"{SOURCE}.qualtrics_websitegoliveresponses\")'\n",
    "replacestr  = 'GetTable(f\"{get_table_namespace(f\\'{SOURCE}\\', \\'qualtrics_websitegoliveresponses\\')}\")'\n",
    "find_replace(directory, '', findstr, replacestr)"
   ]
  },
  {
   "cell_type": "code",
   "execution_count": 0,
   "metadata": {
    "application/vnd.databricks.v1+cell": {
     "cellMetadata": {},
     "inputWidgets": {},
     "nuid": "c33588d6-bc6a-4932-94c2-d011d7d5c0fb",
     "showTitle": false,
     "title": ""
    }
   },
   "outputs": [],
   "source": [
    "\n",
    "findstr     = 'GetTable(f\"{SOURCE}.qualtrics_wscs73experiencesurveyresponses\")'\n",
    "replacestr  = 'GetTable(f\"{get_table_namespace(f\\'{SOURCE}\\', \\'qualtrics_wscs73experiencesurveyresponses\\')}\")'\n",
    "find_replace(directory, '', findstr, replacestr)"
   ]
  },
  {
   "cell_type": "code",
   "execution_count": 0,
   "metadata": {
    "application/vnd.databricks.v1+cell": {
     "cellMetadata": {},
     "inputWidgets": {},
     "nuid": "908e0480-8eb0-4b89-95d5-0c992f322097",
     "showTitle": false,
     "title": ""
    }
   },
   "outputs": [],
   "source": [
    "\n",
    "findstr     = 'GetTable(f\"{TARGET}.dimsurveyparticipant\")'\n",
    "replacestr  = 'GetTable(f\"{get_table_namespace(f\\'{TARGET}\\', \\'dimsurveyparticipant\\')}\")'\n",
    "find_replace(directory, '', findstr, replacestr)"
   ]
  },
  {
   "cell_type": "code",
   "execution_count": 0,
   "metadata": {
    "application/vnd.databricks.v1+cell": {
     "cellMetadata": {},
     "inputWidgets": {},
     "nuid": "62a08e83-faad-440f-8869-5aab065247fe",
     "showTitle": false,
     "title": ""
    }
   },
   "outputs": [],
   "source": [
    "\n",
    "findstr     = 'GetTable(f\"{TARGET}.dimsurveyresponseinformation\")'\n",
    "replacestr  = 'GetTable(f\"{get_table_namespace(f\\'{TARGET}\\', \\'dimsurveyresponseinformation\\')}\")'\n",
    "find_replace(directory, '', findstr, replacestr)"
   ]
  },
  {
   "cell_type": "code",
   "execution_count": 0,
   "metadata": {
    "application/vnd.databricks.v1+cell": {
     "cellMetadata": {},
     "inputWidgets": {},
     "nuid": "385cacc9-d7e7-470e-a320-4eff32c86a2d",
     "showTitle": false,
     "title": ""
    }
   },
   "outputs": [],
   "source": [
    "\n",
    "findstr     = 'GetTable(f\"{TARGET}.dimProperty\")'\n",
    "replacestr  = 'GetTable(f\"{get_table_namespace(f\\'{TARGET}\\', \\'dimProperty\\')}\")'\n",
    "find_replace(directory, '', findstr, replacestr)"
   ]
  },
  {
   "cell_type": "code",
   "execution_count": 0,
   "metadata": {
    "application/vnd.databricks.v1+cell": {
     "cellMetadata": {},
     "inputWidgets": {},
     "nuid": "eff4884e-a3d1-495b-a17e-889af45032fa",
     "showTitle": false,
     "title": ""
    }
   },
   "outputs": [],
   "source": [
    "\n",
    "findstr     = 'GetTable(f\"{TARGET}.dimbusinesspartner\")'\n",
    "replacestr  = 'GetTable(f\"{get_table_namespace(f\\'{TARGET}\\', \\'dimbusinesspartner\\')}\")'\n",
    "find_replace(directory, '', findstr, replacestr)"
   ]
  },
  {
   "cell_type": "code",
   "execution_count": 0,
   "metadata": {
    "application/vnd.databricks.v1+cell": {
     "cellMetadata": {},
     "inputWidgets": {},
     "nuid": "78e64813-588f-4e39-b06b-445e74094c39",
     "showTitle": false,
     "title": ""
    }
   },
   "outputs": [],
   "source": [
    "\n",
    "findstr     = 'GetTable(f\"{DEFAULT_TARGET}.dimSurvey\")'\n",
    "replacestr  = 'GetTable(f\"{get_table_namespace(f\\'{DEFAULT_TARGET}\\', \\'dimSurvey\\')}\")'\n",
    "find_replace(directory, '', findstr, replacestr)"
   ]
  },
  {
   "cell_type": "code",
   "execution_count": 0,
   "metadata": {
    "application/vnd.databricks.v1+cell": {
     "cellMetadata": {},
     "inputWidgets": {},
     "nuid": "1134b71e-b453-47e9-84dd-dbde1486c502",
     "showTitle": false,
     "title": ""
    }
   },
   "outputs": [],
   "source": [
    "\n",
    "findstr     = 'GetTable(f\"{SOURCE}.crm_crmd_survey\")'\n",
    "replacestr  = 'GetTable(f\"{get_table_namespace(f\\'{SOURCE}\\', \\'crm_crmd_survey\\')}\")'\n",
    "find_replace(directory, '', findstr, replacestr)"
   ]
  },
  {
   "cell_type": "code",
   "execution_count": 0,
   "metadata": {
    "application/vnd.databricks.v1+cell": {
     "cellMetadata": {},
     "inputWidgets": {},
     "nuid": "edf37db8-44e6-4cce-94fe-b383a8e281fc",
     "showTitle": false,
     "title": ""
    }
   },
   "outputs": [],
   "source": [
    "\n",
    "findstr     = 'GetTable(f\"{SOURCE}.crm_crm_svy_db_sv\")'\n",
    "replacestr  = 'GetTable(f\"{get_table_namespace(f\\'{SOURCE}\\', \\'crm_crm_svy_db_sv\\')}\")'\n",
    "find_replace(directory, '', findstr, replacestr)"
   ]
  },
  {
   "cell_type": "code",
   "execution_count": 0,
   "metadata": {
    "application/vnd.databricks.v1+cell": {
     "cellMetadata": {},
     "inputWidgets": {},
     "nuid": "db51ddfe-764a-4cd3-ad86-ff96c141ac6e",
     "showTitle": false,
     "title": ""
    }
   },
   "outputs": [],
   "source": [
    "\n",
    "findstr     = 'GetTable(f\"{SOURCE}.crm_crm_svy_re_quest\")'\n",
    "replacestr  = 'GetTable(f\"{get_table_namespace(f\\'{SOURCE}\\', \\'crm_crm_svy_re_quest\\')}\")'\n",
    "find_replace(directory, '', findstr, replacestr)"
   ]
  },
  {
   "cell_type": "code",
   "execution_count": 0,
   "metadata": {
    "application/vnd.databricks.v1+cell": {
     "cellMetadata": {},
     "inputWidgets": {},
     "nuid": "96b0a0dc-f0c4-48b3-be4f-ca1ffed145f7",
     "showTitle": false,
     "title": ""
    }
   },
   "outputs": [],
   "source": [
    "\n",
    "findstr     = 'GetTable(f\"{SOURCE}.crm_crm_svy_db_s\")'\n",
    "replacestr  = 'GetTable(f\"{get_table_namespace(f\\'{SOURCE}\\', \\'crm_crm_svy_db_s\\')}\")'\n",
    "find_replace(directory, '', findstr, replacestr)"
   ]
  },
  {
   "cell_type": "code",
   "execution_count": 0,
   "metadata": {
    "application/vnd.databricks.v1+cell": {
     "cellMetadata": {},
     "inputWidgets": {},
     "nuid": "0bf24c89-9288-445b-a311-9b4b369051bf",
     "showTitle": false,
     "title": ""
    }
   },
   "outputs": [],
   "source": [
    "\n",
    "findstr     = 'GetTable(f\"{SOURCE}.crm_0svy_qstnnr_text\")'\n",
    "replacestr  = 'GetTable(f\"{get_table_namespace(f\\'{SOURCE}\\', \\'crm_0svy_qstnnr_text\\')}\")'\n",
    "find_replace(directory, '', findstr, replacestr)"
   ]
  },
  {
   "cell_type": "code",
   "execution_count": 0,
   "metadata": {
    "application/vnd.databricks.v1+cell": {
     "cellMetadata": {},
     "inputWidgets": {},
     "nuid": "5b7a4dc5-1479-4db2-b952-2f40e5c62f5e",
     "showTitle": false,
     "title": ""
    }
   },
   "outputs": [],
   "source": [
    "\n",
    "findstr     = 'GetTable(f\"{SOURCE}.crm_0svy_quest_text\")'\n",
    "replacestr  = 'GetTable(f\"{get_table_namespace(f\\'{SOURCE}\\', \\'crm_0svy_quest_text\\')}\")'\n",
    "find_replace(directory, '', findstr, replacestr)"
   ]
  },
  {
   "cell_type": "code",
   "execution_count": 0,
   "metadata": {
    "application/vnd.databricks.v1+cell": {
     "cellMetadata": {},
     "inputWidgets": {},
     "nuid": "e02eb376-a9cd-4bb0-aa90-418e533e88f2",
     "showTitle": false,
     "title": ""
    }
   },
   "outputs": [],
   "source": [
    "\n",
    "findstr     = 'GetTable(f\"{DEFAULT_TARGET}.dimSurveyQuestion\")'\n",
    "replacestr  = 'GetTable(f\"{get_table_namespace(f\\'{DEFAULT_TARGET}\\', \\'dimSurveyQuestion\\')}\")'\n",
    "find_replace(directory, '', findstr, replacestr)"
   ]
  },
  {
   "cell_type": "code",
   "execution_count": 0,
   "metadata": {
    "application/vnd.databricks.v1+cell": {
     "cellMetadata": {},
     "inputWidgets": {},
     "nuid": "183703a1-d6f1-4cd6-8ba1-e66d045bf048",
     "showTitle": false,
     "title": ""
    }
   },
   "outputs": [],
   "source": [
    "findstr     = '{TARGET}.dimSurveyQuestion'\n",
    "replacestr  = '{get_table_namespace(f\\'{TARGET}\\', \\'dimSurveyQuestion\\')}'\n",
    "find_replace(directory, '', findstr, replacestr)"
   ]
  },
  {
   "cell_type": "code",
   "execution_count": 0,
   "metadata": {
    "application/vnd.databricks.v1+cell": {
     "cellMetadata": {},
     "inputWidgets": {},
     "nuid": "20f283f6-9844-4e66-b8b8-f2fcfd93b9a9",
     "showTitle": false,
     "title": ""
    }
   },
   "outputs": [],
   "source": [
    "\n",
    "findstr     = 'GetTable(f\"{DEFAULT_TARGET}.viewpropertyKey\")'\n",
    "replacestr  = 'GetTable(f\"{get_table_namespace(f\\'{DEFAULT_TARGET}\\', \\'viewpropertyKey\\')}\")'\n",
    "find_replace(directory, '', findstr, replacestr)"
   ]
  },
  {
   "cell_type": "code",
   "execution_count": 0,
   "metadata": {
    "application/vnd.databricks.v1+cell": {
     "cellMetadata": {},
     "inputWidgets": {},
     "nuid": "6ad433d2-28a5-485b-bc89-4ea33680b690",
     "showTitle": false,
     "title": ""
    }
   },
   "outputs": [],
   "source": [
    "\n",
    "findstr     = 'GetTable(f\"{DEFAULT_TARGET}.viewpropertyservice\")'\n",
    "replacestr  = 'GetTable(f\"{get_table_namespace(f\\'{DEFAULT_TARGET}\\', \\'viewpropertyservice\\')}\")'\n",
    "find_replace(directory, '', findstr, replacestr)"
   ]
  },
  {
   "cell_type": "code",
   "execution_count": 0,
   "metadata": {
    "application/vnd.databricks.v1+cell": {
     "cellMetadata": {},
     "inputWidgets": {},
     "nuid": "ddf53cef-3017-4e88-80d8-68ba843cec46",
     "showTitle": false,
     "title": ""
    }
   },
   "outputs": [],
   "source": [
    "\n",
    "findstr     = 'GetTable(f\"{DEFAULT_TARGET}.viewPropertyRelation\")'\n",
    "replacestr  = 'GetTable(f\"{get_table_namespace(f\\'{DEFAULT_TARGET}\\', \\'viewPropertyRelation\\')}\")'\n",
    "find_replace(directory, '', findstr, replacestr)"
   ]
  },
  {
   "cell_type": "code",
   "execution_count": 0,
   "metadata": {
    "application/vnd.databricks.v1+cell": {
     "cellMetadata": {},
     "inputWidgets": {},
     "nuid": "6e87a819-9deb-44e1-b828-d737d9230724",
     "showTitle": false,
     "title": ""
    }
   },
   "outputs": [],
   "source": [
    "\n",
    "findstr     = 'GetTable(f\"{DEFAULT_TARGET}.viewinstallation\")'\n",
    "replacestr  = 'GetTable(f\"{get_table_namespace(f\\'{DEFAULT_TARGET}\\', \\'viewinstallation\\')}\")'\n",
    "find_replace(directory, '', findstr, replacestr)"
   ]
  },
  {
   "cell_type": "code",
   "execution_count": 0,
   "metadata": {
    "application/vnd.databricks.v1+cell": {
     "cellMetadata": {},
     "inputWidgets": {},
     "nuid": "90f29249-f129-43a2-ad29-8179c0f50fc8",
     "showTitle": false,
     "title": ""
    }
   },
   "outputs": [],
   "source": [
    "\n",
    "findstr     = 'GetTable(f\"{DEFAULT_TARGET}.dimInstallationFacts\")'\n",
    "replacestr  = 'GetTable(f\"{get_table_namespace(f\\'{DEFAULT_TARGET}\\', \\'dimInstallationFacts\\')}\")'\n",
    "find_replace(directory, '', findstr, replacestr)"
   ]
  },
  {
   "cell_type": "code",
   "execution_count": 0,
   "metadata": {
    "application/vnd.databricks.v1+cell": {
     "cellMetadata": {},
     "inputWidgets": {},
     "nuid": "f26e4395-d6c1-4b13-bab8-a670821877b4",
     "showTitle": false,
     "title": ""
    }
   },
   "outputs": [],
   "source": [
    "\n",
    "findstr     = 'GetTable(f\"{DEFAULT_TARGET}.dimCustomerServiceProcessType\")'\n",
    "replacestr  = 'GetTable(f\"{get_table_namespace(f\\'{DEFAULT_TARGET}\\', \\'dimCustomerServiceProcessType\\')}\")'\n",
    "find_replace(directory, '', findstr, replacestr)"
   ]
  },
  {
   "cell_type": "code",
   "execution_count": 0,
   "metadata": {
    "application/vnd.databricks.v1+cell": {
     "cellMetadata": {},
     "inputWidgets": {},
     "nuid": "02f96522-d3b0-422a-a0cf-ba4547fd9c6c",
     "showTitle": false,
     "title": ""
    }
   },
   "outputs": [],
   "source": [
    "\n",
    "findstr     = 'GetTable(f\"{DEFAULT_TARGET}.dimmeterconsumptionbillingdocument\")'\n",
    "replacestr  = 'GetTable(f\"{get_table_namespace(f\\'{DEFAULT_TARGET}\\', \\'dimmeterconsumptionbillingdocument\\')}\")'\n",
    "find_replace(directory, '', findstr, replacestr)"
   ]
  },
  {
   "cell_type": "code",
   "execution_count": 0,
   "metadata": {
    "application/vnd.databricks.v1+cell": {
     "cellMetadata": {},
     "inputWidgets": {},
     "nuid": "1a654ab5-a4e8-4f35-ae97-a0ec90c7ad76",
     "showTitle": false,
     "title": ""
    }
   },
   "outputs": [],
   "source": [
    "\n",
    "findstr     = 'GetTable(f\"{DEFAULT_TARGET}.factbilledwaterconsumption\")'\n",
    "replacestr  = 'GetTable(f\"{get_table_namespace(f\\'{DEFAULT_TARGET}\\', \\'factbilledwaterconsumption\\')}\")'\n",
    "find_replace(directory, '', findstr, replacestr)"
   ]
  },
  {
   "cell_type": "code",
   "execution_count": 0,
   "metadata": {
    "application/vnd.databricks.v1+cell": {
     "cellMetadata": {},
     "inputWidgets": {},
     "nuid": "1ad17236-b88f-4b9f-83a7-bd120b3630be",
     "showTitle": false,
     "title": ""
    }
   },
   "outputs": [],
   "source": [
    "\n",
    "findstr     = 'GetTable(f\"{DEFAULT_TARGET}.factworkorder\")'\n",
    "replacestr  = 'GetTable(f\"{get_table_namespace(f\\'{DEFAULT_TARGET}\\', \\'factworkorder\\')}\")'\n",
    "find_replace(directory, '', findstr, replacestr)"
   ]
  },
  {
   "cell_type": "code",
   "execution_count": 0,
   "metadata": {
    "application/vnd.databricks.v1+cell": {
     "cellMetadata": {},
     "inputWidgets": {},
     "nuid": "73afa252-8b21-4c07-8987-c4f6d0e85fd1",
     "showTitle": false,
     "title": ""
    }
   },
   "outputs": [],
   "source": [
    "\n",
    "findstr     = 'GetTable(f\"{TARGET}.dimWorkOrderProblemType\")'\n",
    "replacestr  = 'GetTable(f\"{get_table_namespace(f\\'{TARGET}\\', \\'dimWorkOrderProblemType\\')}\")'\n",
    "find_replace(directory, '', findstr, replacestr)"
   ]
  },
  {
   "cell_type": "code",
   "execution_count": 0,
   "metadata": {
    "application/vnd.databricks.v1+cell": {
     "cellMetadata": {},
     "inputWidgets": {},
     "nuid": "3d7c4a64-99dc-4cb8-ac45-abf32765a084",
     "showTitle": false,
     "title": ""
    }
   },
   "outputs": [],
   "source": [
    "\n",
    "findstr     = 'GetTable(f\"{TARGET}.factWorkOrder\")'\n",
    "replacestr  = 'GetTable(f\"{get_table_namespace(f\\'{TARGET}\\', \\'factWorkOrder\\')}\")'\n",
    "find_replace(directory, '', findstr, replacestr)"
   ]
  },
  {
   "cell_type": "code",
   "execution_count": 0,
   "metadata": {
    "application/vnd.databricks.v1+cell": {
     "cellMetadata": {},
     "inputWidgets": {},
     "nuid": "3defffb8-573d-4cb1-8fc9-158772f96f7f",
     "showTitle": false,
     "title": ""
    }
   },
   "outputs": [],
   "source": [
    "\n",
    "findstr     = 'GetTable(f\"{TARGET}.dimSurveyResponseInformation\")'\n",
    "replacestr  = 'GetTable(f\"{get_table_namespace(f\\'{TARGET}\\', \\'dimSurveyResponseInformation\\')}\")'\n",
    "find_replace(directory, '', findstr, replacestr)"
   ]
  },
  {
   "cell_type": "code",
   "execution_count": 0,
   "metadata": {
    "application/vnd.databricks.v1+cell": {
     "cellMetadata": {},
     "inputWidgets": {},
     "nuid": "4391ad30-cd3b-4e40-bf83-deef89f8f904",
     "showTitle": false,
     "title": ""
    }
   },
   "outputs": [],
   "source": [
    "\n",
    "findstr     = 'GetTable(f\"{SOURCE}.crm_zcs_long_text_f\")'\n",
    "replacestr  = 'GetTable(f\"{get_table_namespace(f\\'{SOURCE}\\', \\'crm_zcs_long_text_f\\')}\")'\n",
    "find_replace(directory, '', findstr, replacestr)\n",
    "\n",
    "# crm_zcs_long_text_act"
   ]
  },
  {
   "cell_type": "code",
   "execution_count": 0,
   "metadata": {
    "application/vnd.databricks.v1+cell": {
     "cellMetadata": {},
     "inputWidgets": {},
     "nuid": "3d2ad9b7-131a-4d76-b20d-f8089dd07b9b",
     "showTitle": false,
     "title": ""
    }
   },
   "outputs": [],
   "source": [
    "\n",
    "findstr     = 'GetTable(f\"{SOURCE}.crm_zcs_long_text_act\")'\n",
    "replacestr  = 'GetTable(f\"{get_table_namespace(f\\'{SOURCE}\\', \\'crm_zcs_long_text_act\\')}\")'\n",
    "find_replace(directory, '', findstr, replacestr)"
   ]
  },
  {
   "cell_type": "code",
   "execution_count": 0,
   "metadata": {
    "application/vnd.databricks.v1+cell": {
     "cellMetadata": {},
     "inputWidgets": {},
     "nuid": "44cdd9b4-37f0-42d0-8787-0a49bc86b8a1",
     "showTitle": false,
     "title": ""
    }
   },
   "outputs": [],
   "source": [
    "\n",
    "findstr     = 'GetTable(f\"{SOURCE}.maximo_failurereport\")'\n",
    "replacestr  = 'GetTable(f\"{get_table_namespace(f\\'{SOURCE}\\', \\'maximo_failurereport\\')}\")'\n",
    "find_replace(directory, '', findstr, replacestr)"
   ]
  },
  {
   "cell_type": "code",
   "execution_count": 0,
   "metadata": {
    "application/vnd.databricks.v1+cell": {
     "cellMetadata": {},
     "inputWidgets": {},
     "nuid": "9ae0e466-0724-4252-9509-ada32aeee753",
     "showTitle": false,
     "title": ""
    }
   },
   "outputs": [],
   "source": [
    "def check_strings(full_path, pattern):\n",
    "    for filename in os.listdir(full_path):\n",
    "        if filename.endswith(\".py\"):\n",
    "            with open(os.path.join(full_path, filename), \"r\") as f:\n",
    "                for line in f:\n",
    "                    for word in line.split():\n",
    "                        if pattern.search(word): \n",
    "                            print (f\"{word}\\n found in {filename}\")\n",
    "                            # strings_to_replace.append(word)\n",
    "\n",
    "    # return strings_to_replace"
   ]
  },
  {
   "cell_type": "markdown",
   "metadata": {
    "application/vnd.databricks.v1+cell": {
     "cellMetadata": {},
     "inputWidgets": {},
     "nuid": "6466dc6d-ba0d-4ac8-a588-29f94bb0de53",
     "showTitle": false,
     "title": ""
    }
   },
   "source": []
  },
  {
   "cell_type": "code",
   "execution_count": 0,
   "metadata": {
    "application/vnd.databricks.v1+cell": {
     "cellMetadata": {},
     "inputWidgets": {},
     "nuid": "e5fa42bd-9621-43a8-8cd4-bc1cb89bea12",
     "showTitle": false,
     "title": ""
    }
   },
   "outputs": [],
   "source": [
    "check_path = \"../Transform/\"\n",
    "patternstr = re.compile(r'{DEFAULT_TARGET}')\n",
    "\n",
    "strings_to_replace =  check_strings(full_path = directory, pattern = patternstr)\n",
    "strings_to_replace"
   ]
  },
  {
   "cell_type": "code",
   "execution_count": 0,
   "metadata": {
    "application/vnd.databricks.v1+cell": {
     "cellMetadata": {},
     "inputWidgets": {},
     "nuid": "d7642d0f-6ced-4bdc-b13d-5f4cabef9ed0",
     "showTitle": false,
     "title": ""
    }
   },
   "outputs": [],
   "source": []
  },
  {
   "cell_type": "code",
   "execution_count": 0,
   "metadata": {
    "application/vnd.databricks.v1+cell": {
     "cellMetadata": {},
     "inputWidgets": {},
     "nuid": "44e44ecf-6aff-4c2e-998b-4fa96929e7af",
     "showTitle": false,
     "title": ""
    }
   },
   "outputs": [],
   "source": []
  }
 ],
 "metadata": {
  "application/vnd.databricks.v1+notebook": {
   "dashboards": [],
   "language": "python",
   "notebookMetadata": {},
   "notebookName": "mdp_curated_code_refactor",
   "widgets": {}
  },
  "kernelspec": {
   "display_name": "Python 3",
   "language": "python",
   "name": "python3"
  },
  "language_info": {
   "codemirror_mode": {
    "name": "ipython",
    "version": 3
   },
   "file_extension": ".py",
   "mimetype": "text/x-python",
   "name": "python",
   "nbconvert_exporter": "python",
   "pygments_lexer": "ipython3",
   "version": "3.11.1"
  },
  "orig_nbformat": 4
 },
 "nbformat": 4,
 "nbformat_minor": 0
}
