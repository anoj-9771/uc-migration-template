{
 "cells": [
  {
   "attachments": {},
   "cell_type": "markdown",
   "metadata": {},
   "source": [
    "Implementation Plan:\n"
   ]
  },
  {
   "attachments": {},
   "cell_type": "markdown",
   "metadata": {},
   "source": [
    "You can run git commands like this to get the latest version of code to work with:\n",
    "\n",
    "git checkout preprod && git pull && git checkout -B uc-code-refactor-20230225 && git checkout uc-code-refactor-20230224 ./uc1Codefix.ipynb"
   ]
  },
  {
   "cell_type": "code",
   "execution_count": 1,
   "metadata": {},
   "outputs": [],
   "source": [
    "import os, re, fnmatch"
   ]
  },
  {
   "attachments": {},
   "cell_type": "markdown",
   "metadata": {},
   "source": [
    "Function to find a given string and replace all occurances in all the notebooks (.py) in the current direcotry and its sub directories"
   ]
  },
  {
   "cell_type": "code",
   "execution_count": 2,
   "metadata": {},
   "outputs": [],
   "source": [
    "def find_replace(directory, filename_filter, find, replace, filePattern=\"*.py\") -> None:\n",
    "    \"\"\"traverses through the given directory and using given conditions and pattern, does a find + replace\"\"\"\n",
    "    for path, dirs, files in os.walk(os.path.abspath(directory)):\n",
    "        print(path)\n",
    "        for filename in fnmatch.filter(files, filePattern):\n",
    "            if filename_filter.lower() in filename.lower():\n",
    "                filepath = os.path.join(path, filename)\n",
    "                with open(filepath) as f:\n",
    "                    s = f.read()\n",
    "                if find.lower() in s.lower():\n",
    "                    s = s.replace(find, replace)\n",
    "                    print (f\"{filename} updated - [{find}] --> [{replace}]\")\n",
    "                with open(filepath, \"w\") as f:\n",
    "                    f.write(s)\n"
   ]
  },
  {
   "attachments": {},
   "cell_type": "markdown",
   "metadata": {},
   "source": [
    "**MDP View Notebooks' Refactoring**"
   ]
  },
  {
   "attachments": {},
   "cell_type": "markdown",
   "metadata": {},
   "source": [
    "Some view notebooks have references that deviate from the standard naming convention, hence handling manually in the following command"
   ]
  },
  {
   "cell_type": "code",
   "execution_count": null,
   "metadata": {},
   "outputs": [],
   "source": [
    "directory   = \"../Transform/Views/\"\n",
    "\n",
    "findstr     = 'cleansed.vw_swirl_ref_lookup'\n",
    "replacestr  = '{get_table_namespace(\\'cleansed\\', \\'swirl_ref_lookup\\')}'\n",
    "find_replace(directory, 'swirl-view-creation.py', findstr, replacestr)\n",
    "\n",
    "findstr     = 'cleansed.vw_swirl_ref_nfcomponents'\n",
    "replacestr  = '{get_table_namespace(\\'cleansed\\', \\'swirl_ref_nfcomponents\\')}'\n",
    "find_replace(directory, 'swirl-view-creation.py', findstr, replacestr)\n",
    "\n",
    "findstr     = 'cleansed.crm_zpstxhwithcguid'\n",
    "replacestr  = '{get_table_namespace(\\'cleansed\\', \\'crm_zpstxhwithcguid\\')}'\n",
    "find_replace(directory, 'WorkNote.py', findstr, replacestr)\n",
    "\n",
    "findstr     = 'GetTable(f\"{SOURCE}.crm_zcs_long_text_f\")'\n",
    "replacestr  = 'GetTable(f\"{get_table_namespace(f'{SOURCE}', \\'crm_zcs_long_text_f\\')}\")'\n",
    "find_replace(directory, 'WorkNote.py', findstr, replacestr)\n",
    "\n",
    "findstr     = 'GetTable(f\"{SOURCE}.crm_zcs_long_text_act\")'\n",
    "replacestr  = 'GetTable(f\"{get_table_namespace(f'{SOURCE}', \\'crm_zcs_long_text_act\\')}\")'\n",
    "find_replace(directory, 'WorkNote.py', findstr, replacestr)\n",
    "\n",
    "findstr     = 'cleansed.viewmaximosr'\n",
    "replacestr  = '{get_table_namespace(\\'cleansed\\', \\'maximo_viewmaximosr\\')}'\n",
    "find_replace(directory, 'maximo-view-creation.py', findstr, replacestr)\n",
    "\n",
    "findstr     = 'cleansed.viewmaximowoactivity'\n",
    "replacestr  = '{get_table_namespace(\\'cleansed\\', \\'maximo_viewmaximowoactivity\\')}'\n",
    "find_replace(directory, 'maximo-view-creation.py', findstr, replacestr)\n",
    "\n",
    "findstr     = '{SOURCE}.vw_aurion_employee_details'\n",
    "replacestr  = '{get_table_namespace(f\\'{SOURCE}\\', \\'aurion_employee_details\\')}'\n",
    "find_replace(directory, 'AurionEmployeeDetails.py', findstr, replacestr)\n",
    "\n",
    "findstr     = 'hive_metastore.'\n",
    "replacestr  = ''\n",
    "find_replace(directory, 'AurionEmployeeDetails.py', findstr, replacestr)\n"
   ]
  },
  {
   "attachments": {},
   "cell_type": "markdown",
   "metadata": {},
   "source": [
    "Replacing \"curated.view\\<sourcesystem\\>\\<tablename\\>\" with \"\\<env_\\>cleansed.\\<schema\\>.\\<tablename\\>_current\" \n",
    "in notebooks under \"/Databricks/MDP-Framework/Transform/Views/\". These views are meant to be created in Cleansed layer."
   ]
  },
  {
   "cell_type": "code",
   "execution_count": null,
   "metadata": {},
   "outputs": [],
   "source": [
    "directory   = \"../Transform/Views/\"\n",
    "\n",
    "findstr     = 'view curated.view{i.DestinationSchema}{i.DestinationTableName}'\n",
    "replacestr  = 'view {get_table_namespace(\\'cleansed\\', f\\'{i.DestinationSchema}_{i.DestinationTableName}_current\\')}'\n",
    "find_replace(directory, '', findstr, replacestr)\n",
    "\n",
    "print('Iteration 2')\n",
    "\n",
    "findstr     = 'from cleansed.{i.DestinationSchema}_{i.DestinationTableName}'\n",
    "replacestr  = 'from {get_table_namespace(\\'cleansed\\', f\\'{i.DestinationSchema}_{i.DestinationTableName}\\')}'\n",
    "find_replace(directory, '', findstr, replacestr)"
   ]
  },
  {
   "attachments": {},
   "cell_type": "markdown",
   "metadata": {},
   "source": [
    "Replacing \"\\{target_schema\\}.view\\<tablename\\>\" with \"\\<env_\\>\\{target_schema\\}.\\<schema\\>.\\<tablename\\>\" \n",
    "in notebooks under \"/Databricks/MDP-Framework/Transform/Views/\". \\{target_schema\\} in MDP Framework is \"curated\", the target view names are looked up from mapping.csv."
   ]
  },
  {
   "cell_type": "code",
   "execution_count": null,
   "metadata": {},
   "outputs": [],
   "source": [
    "directory   = \"../Transform/Views/\"\n",
    "\n",
    "findstr     = '{target_schema}.view{table}'\n",
    "replacestr  = '{get_table_namespace(f\\'{target_schema}\\', f\\'{table}\\')}'\n",
    "find_replace(directory, '', findstr, replacestr)\n",
    "\n",
    "print('Iteration 2')\n",
    "\n",
    "findstr     = '{target_schema}.{table}'\n",
    "replacestr  = '{get_table_namespace(f\\'{target_schema}\\', f\\'{table}\\')}'\n",
    "find_replace(directory, '', findstr, replacestr)"
   ]
  },
  {
   "attachments": {},
   "cell_type": "markdown",
   "metadata": {},
   "source": [
    "Function to get the list of hardcoded cleansed tablenames in the view definitions, uses regex to pattern match 'cleansed.'"
   ]
  },
  {
   "cell_type": "code",
   "execution_count": 4,
   "metadata": {},
   "outputs": [],
   "source": [
    "def get_strings_to_replace(full_path, pattern):\n",
    "    strings_to_replace = []\n",
    "    for filename in os.listdir(full_path):\n",
    "        if filename.endswith(\".py\"):\n",
    "            with open(os.path.join(full_path, filename), \"r\") as f:\n",
    "                for line in f:\n",
    "                    for word in line.split():\n",
    "                        if pattern.search(word): \n",
    "                            if (len(word.split(\".\"))) == 2:\n",
    "                                strings_to_replace.append( re.sub( r'[)\"](.*)', '', (re.sub('[^A-Za-z0-9.]+_', '', word)) ) )\n",
    "                            else:\n",
    "                                print (f\"This was formatted poorly and is hence not included in the list:\\n \\'{filename} \\'- {word}\\n\")\n",
    "    return strings_to_replace"
   ]
  },
  {
   "attachments": {},
   "cell_type": "markdown",
   "metadata": {},
   "source": [
    "Finding and replacing the hardcoded cleansed table names in view definitions using the above function"
   ]
  },
  {
   "cell_type": "code",
   "execution_count": null,
   "metadata": {},
   "outputs": [],
   "source": [
    "directory = \"../Transform/Views/\"\n",
    "patternstr = re.compile(r\"\\bcleansed.\\b\")\n",
    "\n",
    "strings_to_replace =  get_strings_to_replace(full_path = directory, pattern = patternstr)\n",
    "\n",
    "for findstr in sorted(strings_to_replace, key = len, reverse = True):\n",
    "    # print(findstr)\n",
    "    layer   = findstr.split(\".\")[0]\n",
    "    schema  = findstr.split(\".\")[1].split(\"_\")[0]\n",
    "    table   = findstr.split(\".\")[1]\n",
    "    replacestr  = f'{{get_table_namespace(\\'{layer}\\', \\'{table}\\')}}'\n",
    "    # print(replacestr)\n",
    "    find_replace(directory, '', findstr, replacestr)"
   ]
  },
  {
   "cell_type": "code",
   "execution_count": null,
   "metadata": {},
   "outputs": [],
   "source": [
    "directory = \"../Transform/Views/\"\n",
    "patternstr = re.compile(r\"{SOURCE}.\")\n",
    "\n",
    "strings_to_replace =  get_strings_to_replace(full_path = directory, pattern = patternstr)\n",
    "\n",
    "for findstr in sorted(strings_to_replace, key = len, reverse = True):\n",
    "    # print(findstr)\n",
    "    layer   = findstr.split(\".\")[0]\n",
    "    schema  = findstr.split(\".\")[1].split(\"_\")[0]\n",
    "    table   = findstr.split(\".\")[1]\n",
    "    replacestr  = f'{{get_table_namespace(\\'{layer}\\', \\'{table}\\')}}'\n",
    "    # print(replacestr)\n",
    "    find_replace(directory, 'AurionEmployeeDetails.py', findstr, replacestr)"
   ]
  },
  {
   "attachments": {},
   "cell_type": "markdown",
   "metadata": {},
   "source": [
    "Replacing \"curated.view\\<name\\>\" with \"\\<env_\\>curated.\\<productdatabase\\>.\\<viewname\\>\" \n",
    "in notebooks under \"/Databricks/MDP-Framework/Transform/Views/\". These views are meant to be created in product specific database, resolved based on the csv lookup."
   ]
  },
  {
   "cell_type": "code",
   "execution_count": null,
   "metadata": {},
   "outputs": [],
   "source": [
    "directory = \"../Transform/Views/\"\n",
    "patternstr = re.compile(r\"curated.dim\")\n",
    "\n",
    "strings_to_replace =  get_strings_to_replace(full_path = directory, pattern = patternstr)\n",
    "\n",
    "for findstr in sorted(strings_to_replace, key = len, reverse = True):\n",
    "    # print(findstr)\n",
    "    layer   = findstr.split(\".\")[0]\n",
    "    schema  = findstr.split(\".\")[1].split(\"_\")[0]\n",
    "    table   = findstr.split(\".\")[1]\n",
    "    replacestr  = f'{{get_table_namespace(\\'{layer}\\', \\'{table}\\')}}'\n",
    "    # print(replacestr)\n",
    "    find_replace(directory, '', findstr, replacestr)"
   ]
  },
  {
   "attachments": {},
   "cell_type": "markdown",
   "metadata": {},
   "source": [
    "Replacing \"curated_v3.view\\<name\\>\" with \"\\<env_\\>curated_v3.\\<productdatabase\\>.\\<viewname\\>\" \n",
    "in notebooks under \"/Databricks/MDP-Framework/Transform/Views/\". These views are meant to be created in product specific database, resolved based on the csv lookup."
   ]
  },
  {
   "cell_type": "code",
   "execution_count": null,
   "metadata": {},
   "outputs": [],
   "source": [
    "directory = \"../Transform/Views/\"\n",
    "patternstr = re.compile(r\"curated.view\")\n",
    "\n",
    "strings_to_replace =  get_strings_to_replace(full_path = directory, pattern = patternstr)\n",
    "\n",
    "for findstr in sorted(strings_to_replace, key = len, reverse = True):\n",
    "    # print(findstr)\n",
    "    layer   = findstr.split(\".\")[0]\n",
    "    schema  = findstr.split(\".\")[1].split(\"_\")[0]\n",
    "    table   = findstr.split(\".\")[1]\n",
    "    replacestr  = f'{{get_table_namespace(\\'{layer}\\', \\'{table}\\')}}'\n",
    "    # print(replacestr)\n",
    "    find_replace(directory, '', findstr, replacestr)"
   ]
  },
  {
   "cell_type": "code",
   "execution_count": null,
   "metadata": {},
   "outputs": [],
   "source": [
    "directory = \"../Transform/Views/\"\n",
    "patternstr = re.compile(r\"curated_v3\")\n",
    "\n",
    "strings_to_replace =  get_strings_to_replace(full_path = directory, pattern = patternstr)\n",
    "\n",
    "for findstr in sorted(strings_to_replace, key = len, reverse = True):\n",
    "    # print(findstr)\n",
    "    layer   = findstr.split(\".\")[0]\n",
    "    schema  = findstr.split(\".\")[1].split(\"_\")[0]\n",
    "    table   = findstr.split(\".\")[1]\n",
    "    replacestr  = f'{{get_table_namespace(\\'{layer}\\', \\'{table}\\')}}'\n",
    "    # print(replacestr)\n",
    "    find_replace(directory, '', findstr, replacestr)"
   ]
  },
  {
   "cell_type": "code",
   "execution_count": null,
   "metadata": {},
   "outputs": [],
   "source": [
    "directory = \"../Transform/Views/\"\n",
    "patternstr = re.compile(r\"curated_v2\")\n",
    "\n",
    "strings_to_replace =  get_strings_to_replace(full_path = directory, pattern = patternstr)\n",
    "\n",
    "for findstr in sorted(strings_to_replace, key = len, reverse = True):\n",
    "    # print(findstr)\n",
    "    layer   = findstr.split(\".\")[0]\n",
    "    schema  = findstr.split(\".\")[1].split(\"_\")[0]\n",
    "    table   = findstr.split(\".\")[1]\n",
    "    replacestr  = f'{{get_table_namespace(\\'{layer}\\', \\'{table}\\')}}'\n",
    "    # print(replacestr)\n",
    "    find_replace(directory, '', findstr, replacestr)"
   ]
  },
  {
   "cell_type": "code",
   "execution_count": 6,
   "metadata": {},
   "outputs": [
    {
     "name": "stdout",
     "output_type": "stream",
     "text": [
      "This was formatted poorly and is hence not included in the list:\n",
      " 'viewCuratedRefViews.py '- {get_table_namespace(f'{DEFAULT_TARGET}',\n",
      "\n",
      "This was formatted poorly and is hence not included in the list:\n",
      " 'viewCuratedRefViews.py '- {get_table_namespace(f'{DEFAULT_TARGET}',\n",
      "\n",
      "This was formatted poorly and is hence not included in the list:\n",
      " 'viewCuratedRefViews.py '- {get_table_namespace(f'{DEFAULT_TARGET}',\n",
      "\n",
      "This was formatted poorly and is hence not included in the list:\n",
      " 'viewCuratedRefViews.py '- {get_table_namespace(f'{DEFAULT_TARGET}',\n",
      "\n",
      "This was formatted poorly and is hence not included in the list:\n",
      " 'viewCuratedRefViews.py '- {get_table_namespace(f'{DEFAULT_TARGET}',\n",
      "\n",
      "This was formatted poorly and is hence not included in the list:\n",
      " 'viewDimAssetLocationAncestorHierarchyPivot.py '- {get_table_namespace(f'{DEFAULT_TARGET}',\n",
      "\n",
      "This was formatted poorly and is hence not included in the list:\n",
      " 'viewDimAssetLocationAncestorHierarchyPivot.py '- {get_table_namespace(f'{DEFAULT_TARGET}',\n",
      "\n",
      "This was formatted poorly and is hence not included in the list:\n",
      " 'viewFactAssetPerformance.py '- {get_table_namespace(f'{DEFAULT_TARGET}',\n",
      "\n",
      "This was formatted poorly and is hence not included in the list:\n",
      " 'viewFactAssetPerformance.py '- {get_table_namespace(f'{DEFAULT_TARGET}',\n",
      "\n",
      "This was formatted poorly and is hence not included in the list:\n",
      " 'viewFactAssetPerformanceIndex.py '- {get_table_namespace(f'{DEFAULT_TARGET}',\n",
      "\n",
      "This was formatted poorly and is hence not included in the list:\n",
      " 'viewFactPreventiveMaintenance.py '- {get_table_namespace(f'{DEFAULT_TARGET}',\n",
      "\n",
      "This was formatted poorly and is hence not included in the list:\n",
      " 'viewFactPreventiveMaintenance.py '- {get_table_namespace(f'{DEFAULT_TARGET}',\n",
      "\n",
      "This was formatted poorly and is hence not included in the list:\n",
      " 'viewFactWorkOrder.py '- {get_table_namespace(f'{DEFAULT_TARGET}',\n",
      "\n",
      "This was formatted poorly and is hence not included in the list:\n",
      " 'viewFactWorkOrder.py '- {get_table_namespace(f'{DEFAULT_TARGET}',\n",
      "\n",
      "This was formatted poorly and is hence not included in the list:\n",
      " 'viewFactWorkOrderCurrent.py '- {get_table_namespace(f'{DEFAULT_TARGET}',\n",
      "\n",
      "This was formatted poorly and is hence not included in the list:\n",
      " 'viewFactWorkOrderCurrent.py '- {get_table_namespace(f'{DEFAULT_TARGET}',\n",
      "\n",
      "This was formatted poorly and is hence not included in the list:\n",
      " 'viewFactWorkOrderFailureReport.py '- {get_table_namespace(f'{DEFAULT_TARGET}',\n",
      "\n",
      "This was formatted poorly and is hence not included in the list:\n",
      " 'viewFactWorkOrderFailureReport.py '- {get_table_namespace(f'{DEFAULT_TARGET}',\n",
      "\n",
      "This was formatted poorly and is hence not included in the list:\n",
      " 'viewUnmeteredConsumption_UC2.py '- {get_table_namespace(f'{DEFAULT_TARGET}',\n",
      "\n",
      "This was formatted poorly and is hence not included in the list:\n",
      " 'viewUnmeteredConsumption_UC2.py '- {get_table_namespace(f'{DEFAULT_TARGET}',\n",
      "\n",
      "This was formatted poorly and is hence not included in the list:\n",
      " 'viewUnmeteredConsumption_UC2.py '- {get_table_namespace(f'{DEFAULT_TARGET}',\n",
      "\n",
      "This was formatted poorly and is hence not included in the list:\n",
      " 'viewUnmeteredConsumption_UC2.py '- {get_table_namespace(f'{DEFAULT_TARGET}',\n",
      "\n",
      "This was formatted poorly and is hence not included in the list:\n",
      " 'viewUnmeteredConsumption_UC2.py '- {get_table_namespace(f'{DEFAULT_TARGET}',\n",
      "\n",
      "This was formatted poorly and is hence not included in the list:\n",
      " 'viewUnmeteredConsumption_UC2.py '- {get_table_namespace(f'{DEFAULT_TARGET}',\n",
      "\n",
      "This was formatted poorly and is hence not included in the list:\n",
      " 'viewUnmeteredConsumption_UC2.py '- {get_table_namespace(f'{DEFAULT_TARGET}',\n",
      "\n",
      "This was formatted poorly and is hence not included in the list:\n",
      " 'viewUnmeteredConsumption_UC2.py '- {get_table_namespace(f'{DEFAULT_TARGET}',\n",
      "\n",
      "This was formatted poorly and is hence not included in the list:\n",
      " 'viewUnmeteredConsumption_UC2.py '- {get_table_namespace(f'{DEFAULT_TARGET}',\n",
      "\n",
      "This was formatted poorly and is hence not included in the list:\n",
      " 'viewUnmeteredConsumption_UC2.py '- {get_table_namespace(f'{DEFAULT_TARGET}',\n",
      "\n",
      "This was formatted poorly and is hence not included in the list:\n",
      " 'viewUnmeteredConsumption_UC2.py '- {get_table_namespace(f'{DEFAULT_TARGET}',\n",
      "\n",
      "This was formatted poorly and is hence not included in the list:\n",
      " 'viewUnmeteredConsumption_UC2.py '- {get_table_namespace(f'{DEFAULT_TARGET}',\n",
      "\n",
      "This was formatted poorly and is hence not included in the list:\n",
      " 'viewUnmeteredConsumption_UC2.py '- {get_table_namespace(f'{DEFAULT_TARGET}',\n",
      "\n",
      "This was formatted poorly and is hence not included in the list:\n",
      " 'viewUnmeteredConsumption_UC2.py '- {get_table_namespace(f'{DEFAULT_TARGET}',\n",
      "\n",
      "c:\\Users\\o9ji\\Documents\\daf_poc_repo1\\Databricks\\MDP-Framework\\Transform\\Views\n",
      "viewUnmeteredConsumption_UC2.py updated - [{DEFAULT_TARGET}.dimwaterNetwork] --> [{get_table_namespace(f'{DEFAULT_TARGET}', 'dimwaterNetwork')}]\n",
      "c:\\Users\\o9ji\\Documents\\daf_poc_repo1\\Databricks\\MDP-Framework\\Transform\\Views\n"
     ]
    }
   ],
   "source": [
    "directory = \"../Transform/Views/\"\n",
    "patternstr = re.compile(r\"{DEFAULT_TARGET}\")\n",
    "\n",
    "strings_to_replace =  get_strings_to_replace(full_path = directory, pattern = patternstr)\n",
    "\n",
    "for findstr in sorted(strings_to_replace, key = len, reverse = True):\n",
    "    # print(findstr)\n",
    "    layer   = findstr.split(\".\")[0]\n",
    "    schema  = findstr.split(\".\")[1].split(\"_\")[0]\n",
    "    table   = findstr.split(\".\")[1]\n",
    "    replacestr  = f'{{get_table_namespace(f\\'{layer}\\', \\'{table}\\')}}'\n",
    "    # print(replacestr)\n",
    "    find_replace(directory, 'viewUnmeteredConsumption_UC2.py', findstr, replacestr)"
   ]
  },
  {
   "attachments": {},
   "cell_type": "markdown",
   "metadata": {},
   "source": [
    "adding f string where get_table_name function was called in place of hardcoded table names"
   ]
  },
  {
   "cell_type": "code",
   "execution_count": null,
   "metadata": {},
   "outputs": [],
   "source": [
    "directory = \"../Transform/Views/\"\n",
    "\n",
    "findstr     = 'spark.sql(\"\"\"'\n",
    "replacestr  = 'spark.sql(f\"\"\"'\n",
    "find_replace(directory, '', findstr, replacestr)"
   ]
  }
 ],
 "metadata": {
  "kernelspec": {
   "display_name": "Python 3",
   "language": "python",
   "name": "python3"
  },
  "language_info": {
   "codemirror_mode": {
    "name": "ipython",
    "version": 3
   },
   "file_extension": ".py",
   "mimetype": "text/x-python",
   "name": "python",
   "nbconvert_exporter": "python",
   "pygments_lexer": "ipython3",
   "version": "3.11.1"
  },
  "orig_nbformat": 4
 },
 "nbformat": 4,
 "nbformat_minor": 2
}
