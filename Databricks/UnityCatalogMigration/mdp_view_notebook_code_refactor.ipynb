{
 "cells": [
  {
   "cell_type": "markdown",
   "metadata": {
    "application/vnd.databricks.v1+cell": {
     "cellMetadata": {},
     "inputWidgets": {},
     "nuid": "d91bc76d-9a66-4fcc-a31f-c996e7e16395",
     "showTitle": false,
     "title": ""
    }
   },
   "source": [
    "Implementation Plan:"
   ]
  },
  {
   "cell_type": "markdown",
   "metadata": {
    "application/vnd.databricks.v1+cell": {
     "cellMetadata": {},
     "inputWidgets": {},
     "nuid": "297729ed-4812-452f-9d77-acf3007945aa",
     "showTitle": false,
     "title": ""
    }
   },
   "source": [
    "You can run git commands like this to get the latest version of code to work with:\n",
    "\n",
    "git checkout preprod && git pull && git checkout -B uc-code-refactor-20230225 && git checkout uc-code-refactor-20230224 ./uc1Codefix.ipynb"
   ]
  },
  {
   "cell_type": "code",
   "execution_count": 0,
   "metadata": {
    "application/vnd.databricks.v1+cell": {
     "cellMetadata": {},
     "inputWidgets": {},
     "nuid": "8fbfacf5-68e7-4d84-ac3c-c8cce2419246",
     "showTitle": false,
     "title": ""
    }
   },
   "outputs": [],
   "source": [
    "import os, re, fnmatch"
   ]
  },
  {
   "cell_type": "markdown",
   "metadata": {
    "application/vnd.databricks.v1+cell": {
     "cellMetadata": {},
     "inputWidgets": {},
     "nuid": "791a5493-457c-4407-be50-4da47d09de72",
     "showTitle": false,
     "title": ""
    }
   },
   "source": [
    "Function to find a given string and replace all occurances in all the notebooks (.py) in the current direcotry and its sub directories"
   ]
  },
  {
   "cell_type": "code",
   "execution_count": 0,
   "metadata": {
    "application/vnd.databricks.v1+cell": {
     "cellMetadata": {},
     "inputWidgets": {},
     "nuid": "5ab3f900-dec9-4292-9240-8db596c60529",
     "showTitle": false,
     "title": ""
    }
   },
   "outputs": [],
   "source": [
    "def find_replace(directory, filename_filter, find, replace, filePattern=\"*.py\") -> None:\n",
    "    \"\"\"traverses through the given directory and using given conditions and pattern, does a find + replace\"\"\"\n",
    "    for path, dirs, files in os.walk(os.path.abspath(directory)):\n",
    "        print(path)\n",
    "        for filename in fnmatch.filter(files, filePattern):\n",
    "            if filename_filter.lower() in filename.lower():\n",
    "                filepath = os.path.join(path, filename)\n",
    "                with open(filepath) as f:\n",
    "                    s = f.read()\n",
    "                if find.lower() in s.lower():\n",
    "                    s = s.replace(find, replace)\n",
    "                    print (f\"{filename} updated - [{find}] --> [{replace}]\")\n",
    "                with open(filepath, \"w\") as f:\n",
    "                    f.write(s)\n"
   ]
  },
  {
   "cell_type": "markdown",
   "metadata": {
    "application/vnd.databricks.v1+cell": {
     "cellMetadata": {},
     "inputWidgets": {},
     "nuid": "2e921146-00b7-45d6-8070-8337aa6ace70",
     "showTitle": false,
     "title": ""
    }
   },
   "source": [
    "**MDP View Notebooks' Refactoring**"
   ]
  },
  {
   "cell_type": "markdown",
   "metadata": {
    "application/vnd.databricks.v1+cell": {
     "cellMetadata": {},
     "inputWidgets": {},
     "nuid": "5fe55cc9-534d-4d6c-a5a2-4be50edbd17b",
     "showTitle": false,
     "title": ""
    }
   },
   "source": [
    "Some view notebooks have references that deviate from the standard naming convention, hence handling manually in the following command"
   ]
  },
  {
   "cell_type": "code",
   "execution_count": 0,
   "metadata": {
    "application/vnd.databricks.v1+cell": {
     "cellMetadata": {},
     "inputWidgets": {},
     "nuid": "ece04956-1243-4ee3-90d7-b0aafbcdfc9f",
     "showTitle": false,
     "title": ""
    }
   },
   "outputs": [],
   "source": [
    "directory   = \"../Transform/Views/\"\n",
    "\n",
    "findstr     = 'cleansed.vw_swirl_ref_lookup'\n",
    "replacestr  = '{get_table_namespace(\\'cleansed\\', \\'swirl_ref_lookup\\')}'\n",
    "find_replace(directory, 'swirl-view-creation.py', findstr, replacestr)\n",
    "\n",
    "findstr     = 'cleansed.vw_swirl_ref_nfcomponents'\n",
    "replacestr  = '{get_table_namespace(\\'cleansed\\', \\'swirl_ref_nfcomponents\\')}'\n",
    "find_replace(directory, 'swirl-view-creation.py', findstr, replacestr)\n",
    "\n",
    "findstr     = 'cleansed.crm_zpstxhwithcguid'\n",
    "replacestr  = '{get_table_namespace(\\'cleansed\\', \\'crm_zpstxhwithcguid\\')}'\n",
    "find_replace(directory, 'WorkNote.py', findstr, replacestr)\n",
    "\n",
    "findstr     = 'GetTable(f\"{SOURCE}.crm_zcs_long_text_f\")'\n",
    "replacestr  = 'GetTable(f\"{get_table_namespace(f'{SOURCE}', \\'crm_zcs_long_text_f\\')}\")'\n",
    "find_replace(directory, 'WorkNote.py', findstr, replacestr)\n",
    "\n",
    "findstr     = 'GetTable(f\"{SOURCE}.crm_zcs_long_text_act\")'\n",
    "replacestr  = 'GetTable(f\"{get_table_namespace(f'{SOURCE}', \\'crm_zcs_long_text_act\\')}\")'\n",
    "find_replace(directory, 'WorkNote.py', findstr, replacestr)\n",
    "\n",
    "findstr     = 'cleansed.viewmaximosr'\n",
    "replacestr  = '{get_table_namespace(\\'cleansed\\', \\'maximo_viewmaximosr\\')}'\n",
    "find_replace(directory, 'maximo-view-creation.py', findstr, replacestr)\n",
    "\n",
    "findstr     = 'cleansed.viewmaximowoactivity'\n",
    "replacestr  = '{get_table_namespace(\\'cleansed\\', \\'maximo_viewmaximowoactivity\\')}'\n",
    "find_replace(directory, 'maximo-view-creation.py', findstr, replacestr)\n",
    "\n",
    "findstr     = '{SOURCE}.vw_aurion_employee_details'\n",
    "replacestr  = '{get_table_namespace(f\\'{SOURCE}\\', \\'aurion_employee_details\\')}'\n",
    "find_replace(directory, 'AurionEmployeeDetails.py', findstr, replacestr)\n",
    "\n",
    "findstr     = 'hive_metastore.'\n",
    "replacestr  = ''\n",
    "find_replace(directory, 'AurionEmployeeDetails.py', findstr, replacestr)\n"
   ]
  },
  {
   "cell_type": "markdown",
   "metadata": {
    "application/vnd.databricks.v1+cell": {
     "cellMetadata": {},
     "inputWidgets": {},
     "nuid": "92ed5059-fa30-49f6-8fb0-28eac33939bd",
     "showTitle": false,
     "title": ""
    }
   },
   "source": [
    "Replacing \"curated.view\\<sourcesystem\\>\\<tablename\\>\" with \"\\<env_\\>cleansed.\\<schema\\>.\\<tablename\\>_current\" \n",
    "in notebooks under \"/Databricks/MDP-Framework/Transform/Views/\". These views are meant to be created in Cleansed layer."
   ]
  },
  {
   "cell_type": "code",
   "execution_count": 0,
   "metadata": {
    "application/vnd.databricks.v1+cell": {
     "cellMetadata": {},
     "inputWidgets": {},
     "nuid": "a889d562-9f6b-449a-bbe0-de8cf69f377b",
     "showTitle": false,
     "title": ""
    }
   },
   "outputs": [],
   "source": [
    "directory   = \"../Transform/Views/\"\n",
    "\n",
    "findstr     = 'view curated.view{i.DestinationSchema}{i.DestinationTableName}'\n",
    "replacestr  = 'view {get_table_namespace(\\'cleansed\\', f\\'{i.DestinationSchema}_{i.DestinationTableName}_current\\')}'\n",
    "find_replace(directory, '', findstr, replacestr)\n",
    "\n",
    "print('Iteration 2')\n",
    "\n",
    "findstr     = 'from cleansed.{i.DestinationSchema}_{i.DestinationTableName}'\n",
    "replacestr  = 'from {get_table_namespace(\\'cleansed\\', f\\'{i.DestinationSchema}_{i.DestinationTableName}\\')}'\n",
    "find_replace(directory, '', findstr, replacestr)"
   ]
  },
  {
   "cell_type": "markdown",
   "metadata": {
    "application/vnd.databricks.v1+cell": {
     "cellMetadata": {},
     "inputWidgets": {},
     "nuid": "35e8fd1b-43d2-4390-a881-71cfea4c9bca",
     "showTitle": false,
     "title": ""
    }
   },
   "source": [
    "Replacing \"\\{target_schema\\}.view\\<tablename\\>\" with \"\\<env_\\>\\{target_schema\\}.\\<schema\\>.\\<tablename\\>\" \n",
    "in notebooks under \"/Databricks/MDP-Framework/Transform/Views/\". \\{target_schema\\} in MDP Framework is \"curated\", the target view names are looked up from mapping.csv."
   ]
  },
  {
   "cell_type": "code",
   "execution_count": 0,
   "metadata": {
    "application/vnd.databricks.v1+cell": {
     "cellMetadata": {},
     "inputWidgets": {},
     "nuid": "b0b7ff97-d3e9-4af3-9596-df2e2e0c0525",
     "showTitle": false,
     "title": ""
    }
   },
   "outputs": [],
   "source": [
    "directory   = \"../Transform/Views/\"\n",
    "\n",
    "findstr     = '{target_schema}.view{table}'\n",
    "replacestr  = '{get_table_namespace(f\\'{target_schema}\\', f\\'{table}\\')}'\n",
    "find_replace(directory, '', findstr, replacestr)\n",
    "\n",
    "print('Iteration 2')\n",
    "\n",
    "findstr     = '{target_schema}.{table}'\n",
    "replacestr  = '{get_table_namespace(f\\'{target_schema}\\', f\\'{table}\\')}'\n",
    "find_replace(directory, '', findstr, replacestr)"
   ]
  },
  {
   "cell_type": "markdown",
   "metadata": {
    "application/vnd.databricks.v1+cell": {
     "cellMetadata": {},
     "inputWidgets": {},
     "nuid": "fd64c39b-4ea8-4236-b839-617dd63a67d8",
     "showTitle": false,
     "title": ""
    }
   },
   "source": [
    "Function to get the list of hardcoded cleansed tablenames in the view definitions, uses regex to pattern match 'cleansed.'"
   ]
  },
  {
   "cell_type": "code",
   "execution_count": 0,
   "metadata": {
    "application/vnd.databricks.v1+cell": {
     "cellMetadata": {},
     "inputWidgets": {},
     "nuid": "80c3da2a-2580-4380-82f7-2e4dac44167e",
     "showTitle": false,
     "title": ""
    }
   },
   "outputs": [],
   "source": [
    "def get_strings_to_replace(full_path, pattern):\n",
    "    strings_to_replace = []\n",
    "    for filename in os.listdir(full_path):\n",
    "        if filename.endswith(\".py\"):\n",
    "            with open(os.path.join(full_path, filename), \"r\") as f:\n",
    "                for line in f:\n",
    "                    for word in line.split():\n",
    "                        if pattern.search(word): \n",
    "                            if (len(word.split(\".\"))) == 2:\n",
    "                                strings_to_replace.append( re.sub( r'[)\"](.*)', '', (re.sub('[^A-Za-z0-9.]+_', '', word)) ) )\n",
    "                            else:\n",
    "                                print (f\"This was formatted poorly and is hence not included in the list:\\n \\'{filename} \\'- {word}\\n\")\n",
    "    return strings_to_replace"
   ]
  },
  {
   "cell_type": "markdown",
   "metadata": {
    "application/vnd.databricks.v1+cell": {
     "cellMetadata": {},
     "inputWidgets": {},
     "nuid": "7164ac3c-72c2-4201-9192-307b61f3ad35",
     "showTitle": false,
     "title": ""
    }
   },
   "source": [
    "Finding and replacing the hardcoded cleansed table names in view definitions using the above function"
   ]
  },
  {
   "cell_type": "code",
   "execution_count": 0,
   "metadata": {
    "application/vnd.databricks.v1+cell": {
     "cellMetadata": {},
     "inputWidgets": {},
     "nuid": "b53b9c21-fe53-4537-8187-3d5001b2fcc2",
     "showTitle": false,
     "title": ""
    }
   },
   "outputs": [],
   "source": [
    "directory = \"../Transform/Views/\"\n",
    "patternstr = re.compile(r\"\\bcleansed.\\b\")\n",
    "\n",
    "strings_to_replace =  get_strings_to_replace(full_path = directory, pattern = patternstr)\n",
    "\n",
    "for findstr in sorted(strings_to_replace, key = len, reverse = True):\n",
    "    # print(findstr)\n",
    "    layer   = findstr.split(\".\")[0]\n",
    "    schema  = findstr.split(\".\")[1].split(\"_\")[0]\n",
    "    table   = findstr.split(\".\")[1]\n",
    "    replacestr  = f'{{get_table_namespace(\\'{layer}\\', \\'{table}\\')}}'\n",
    "    # print(replacestr)\n",
    "    find_replace(directory, '', findstr, replacestr)"
   ]
  },
  {
   "cell_type": "code",
   "execution_count": 0,
   "metadata": {
    "application/vnd.databricks.v1+cell": {
     "cellMetadata": {},
     "inputWidgets": {},
     "nuid": "2071a75f-a374-4558-8c7e-f0259b808608",
     "showTitle": false,
     "title": ""
    }
   },
   "outputs": [],
   "source": [
    "directory = \"../Transform/Views/\"\n",
    "patternstr = re.compile(r\"{SOURCE}.\")\n",
    "\n",
    "strings_to_replace =  get_strings_to_replace(full_path = directory, pattern = patternstr)\n",
    "\n",
    "for findstr in sorted(strings_to_replace, key = len, reverse = True):\n",
    "    # print(findstr)\n",
    "    layer   = findstr.split(\".\")[0]\n",
    "    schema  = findstr.split(\".\")[1].split(\"_\")[0]\n",
    "    table   = findstr.split(\".\")[1]\n",
    "    replacestr  = f'{{get_table_namespace(\\'{layer}\\', \\'{table}\\')}}'\n",
    "    # print(replacestr)\n",
    "    find_replace(directory, 'AurionEmployeeDetails.py', findstr, replacestr)"
   ]
  },
  {
   "cell_type": "markdown",
   "metadata": {
    "application/vnd.databricks.v1+cell": {
     "cellMetadata": {},
     "inputWidgets": {},
     "nuid": "d7991565-55cc-4e68-bcb4-ee419b193a09",
     "showTitle": false,
     "title": ""
    }
   },
   "source": [
    "Replacing \"curated.view\\<name\\>\" with \"\\<env_\\>curated.\\<productdatabase\\>.\\<viewname\\>\" \n",
    "in notebooks under \"/Databricks/MDP-Framework/Transform/Views/\". These views are meant to be created in product specific database, resolved based on the csv lookup."
   ]
  },
  {
   "cell_type": "code",
   "execution_count": 0,
   "metadata": {
    "application/vnd.databricks.v1+cell": {
     "cellMetadata": {},
     "inputWidgets": {},
     "nuid": "7687485e-5b1d-4ebc-ba52-3fe88f7efac3",
     "showTitle": false,
     "title": ""
    }
   },
   "outputs": [],
   "source": [
    "directory = \"../Transform/Views/\"\n",
    "patternstr = re.compile(r\"curated.dim\")\n",
    "\n",
    "strings_to_replace =  get_strings_to_replace(full_path = directory, pattern = patternstr)\n",
    "\n",
    "for findstr in sorted(strings_to_replace, key = len, reverse = True):\n",
    "    # print(findstr)\n",
    "    layer   = findstr.split(\".\")[0]\n",
    "    schema  = findstr.split(\".\")[1].split(\"_\")[0]\n",
    "    table   = findstr.split(\".\")[1]\n",
    "    replacestr  = f'{{get_table_namespace(\\'{layer}\\', \\'{table}\\')}}'\n",
    "    # print(replacestr)\n",
    "    find_replace(directory, '', findstr, replacestr)"
   ]
  },
  {
   "cell_type": "markdown",
   "metadata": {
    "application/vnd.databricks.v1+cell": {
     "cellMetadata": {},
     "inputWidgets": {},
     "nuid": "16772c46-5934-48a9-a186-b1f2f3d3d733",
     "showTitle": false,
     "title": ""
    }
   },
   "source": [
    "Replacing \"curated_v3.view\\<name\\>\" with \"\\<env_\\>curated_v3.\\<productdatabase\\>.\\<viewname\\>\" \n",
    "in notebooks under \"/Databricks/MDP-Framework/Transform/Views/\". These views are meant to be created in product specific database, resolved based on the csv lookup."
   ]
  },
  {
   "cell_type": "code",
   "execution_count": 0,
   "metadata": {
    "application/vnd.databricks.v1+cell": {
     "cellMetadata": {},
     "inputWidgets": {},
     "nuid": "175ecc9d-6e1d-49f4-8040-78656c88598d",
     "showTitle": false,
     "title": ""
    }
   },
   "outputs": [],
   "source": [
    "directory = \"../Transform/Views/\"\n",
    "patternstr = re.compile(r\"curated.view\")\n",
    "\n",
    "strings_to_replace =  get_strings_to_replace(full_path = directory, pattern = patternstr)\n",
    "\n",
    "for findstr in sorted(strings_to_replace, key = len, reverse = True):\n",
    "    # print(findstr)\n",
    "    layer   = findstr.split(\".\")[0]\n",
    "    schema  = findstr.split(\".\")[1].split(\"_\")[0]\n",
    "    table   = findstr.split(\".\")[1]\n",
    "    replacestr  = f'{{get_table_namespace(\\'{layer}\\', \\'{table}\\')}}'\n",
    "    # print(replacestr)\n",
    "    find_replace(directory, '', findstr, replacestr)"
   ]
  },
  {
   "cell_type": "code",
   "execution_count": 0,
   "metadata": {
    "application/vnd.databricks.v1+cell": {
     "cellMetadata": {},
     "inputWidgets": {},
     "nuid": "9c285a81-1a6e-4780-a30b-0559d7466f8a",
     "showTitle": false,
     "title": ""
    }
   },
   "outputs": [],
   "source": [
    "directory = \"../Transform/Views/\"\n",
    "patternstr = re.compile(r\"curated_v3\")\n",
    "\n",
    "strings_to_replace =  get_strings_to_replace(full_path = directory, pattern = patternstr)\n",
    "\n",
    "for findstr in sorted(strings_to_replace, key = len, reverse = True):\n",
    "    # print(findstr)\n",
    "    layer   = findstr.split(\".\")[0]\n",
    "    schema  = findstr.split(\".\")[1].split(\"_\")[0]\n",
    "    table   = findstr.split(\".\")[1]\n",
    "    replacestr  = f'{{get_table_namespace(\\'{layer}\\', \\'{table}\\')}}'\n",
    "    # print(replacestr)\n",
    "    find_replace(directory, '', findstr, replacestr)"
   ]
  },
  {
   "cell_type": "code",
   "execution_count": 0,
   "metadata": {
    "application/vnd.databricks.v1+cell": {
     "cellMetadata": {},
     "inputWidgets": {},
     "nuid": "a2f1aeb7-716e-43e1-a194-7279c1bbefdb",
     "showTitle": false,
     "title": ""
    }
   },
   "outputs": [],
   "source": [
    "directory = \"../Transform/Views/\"\n",
    "patternstr = re.compile(r\"curated_v2\")\n",
    "\n",
    "strings_to_replace =  get_strings_to_replace(full_path = directory, pattern = patternstr)\n",
    "\n",
    "for findstr in sorted(strings_to_replace, key = len, reverse = True):\n",
    "    # print(findstr)\n",
    "    layer   = findstr.split(\".\")[0]\n",
    "    schema  = findstr.split(\".\")[1].split(\"_\")[0]\n",
    "    table   = findstr.split(\".\")[1]\n",
    "    replacestr  = f'{{get_table_namespace(\\'{layer}\\', \\'{table}\\')}}'\n",
    "    # print(replacestr)\n",
    "    find_replace(directory, '', findstr, replacestr)"
   ]
  },
  {
   "cell_type": "code",
   "execution_count": 0,
   "metadata": {
    "application/vnd.databricks.v1+cell": {
     "cellMetadata": {},
     "inputWidgets": {},
     "nuid": "d6f4d14f-f378-4337-a552-434280439076",
     "showTitle": false,
     "title": ""
    }
   },
   "outputs": [],
   "source": [
    "directory = \"../Transform/Views/\"\n",
    "patternstr = re.compile(r\"{DEFAULT_TARGET}\")\n",
    "\n",
    "strings_to_replace =  get_strings_to_replace(full_path = directory, pattern = patternstr)\n",
    "\n",
    "for findstr in sorted(strings_to_replace, key = len, reverse = True):\n",
    "    # print(findstr)\n",
    "    layer   = findstr.split(\".\")[0]\n",
    "    schema  = findstr.split(\".\")[1].split(\"_\")[0]\n",
    "    table   = findstr.split(\".\")[1]\n",
    "    replacestr  = f'{{get_table_namespace(f\\'{layer}\\', \\'{table}\\')}}'\n",
    "    # print(replacestr)\n",
    "    find_replace(directory, 'viewUnmeteredConsumption_UC2.py', findstr, replacestr)"
   ]
  },
  {
   "cell_type": "markdown",
   "metadata": {
    "application/vnd.databricks.v1+cell": {
     "cellMetadata": {},
     "inputWidgets": {},
     "nuid": "385f147a-b8ca-40e7-ba06-34bd3631fc06",
     "showTitle": false,
     "title": ""
    }
   },
   "source": [
    "adding f string where get_table_name function was called in place of hardcoded table names"
   ]
  },
  {
   "cell_type": "code",
   "execution_count": 0,
   "metadata": {
    "application/vnd.databricks.v1+cell": {
     "cellMetadata": {},
     "inputWidgets": {},
     "nuid": "101f50d5-7602-4ff1-a6f5-a0f2670d9bf0",
     "showTitle": false,
     "title": ""
    }
   },
   "outputs": [],
   "source": [
    "directory = \"../Transform/Views/\"\n",
    "\n",
    "findstr     = 'spark.sql(\"\"\"'\n",
    "replacestr  = 'spark.sql(f\"\"\"'\n",
    "find_replace(directory, '', findstr, replacestr)"
   ]
  }
 ],
 "metadata": {
  "application/vnd.databricks.v1+notebook": {
   "dashboards": [],
   "language": "python",
   "notebookMetadata": {},
   "notebookName": "mdp_view_notebook_code_refactor",
   "widgets": {}
  },
  "kernelspec": {
   "display_name": "Python 3",
   "language": "python",
   "name": "python3"
  },
  "language_info": {
   "codemirror_mode": {
    "name": "ipython",
    "version": 3
   },
   "file_extension": ".py",
   "mimetype": "text/x-python",
   "name": "python",
   "nbconvert_exporter": "python",
   "pygments_lexer": "ipython3",
   "version": "3.11.1"
  },
  "orig_nbformat": 4
 },
 "nbformat": 4,
 "nbformat_minor": 0
}
