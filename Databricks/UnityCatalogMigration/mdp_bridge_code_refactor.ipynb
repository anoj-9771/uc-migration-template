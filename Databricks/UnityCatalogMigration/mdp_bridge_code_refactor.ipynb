{
 "cells": [
  {
   "cell_type": "markdown",
   "metadata": {
    "application/vnd.databricks.v1+cell": {
     "cellMetadata": {},
     "inputWidgets": {},
     "nuid": "902c2ad2-cf81-4573-9e71-b8845a959a74",
     "showTitle": false,
     "title": ""
    }
   },
   "source": [
    "Implementation Plan:"
   ]
  },
  {
   "cell_type": "markdown",
   "metadata": {
    "application/vnd.databricks.v1+cell": {
     "cellMetadata": {},
     "inputWidgets": {},
     "nuid": "e85cddc5-9ba5-4823-b3ec-0af97ae2bf39",
     "showTitle": false,
     "title": ""
    }
   },
   "source": [
    "You can run git commands like this to get the latest version of code to work with:\n",
    "\n",
    "git checkout preprod && git pull && git checkout -B uc-code-refactor-20230225 && git checkout uc-code-refactor-20230224 ./uc1Codefix.ipynb"
   ]
  },
  {
   "cell_type": "code",
   "execution_count": 0,
   "metadata": {
    "application/vnd.databricks.v1+cell": {
     "cellMetadata": {},
     "inputWidgets": {},
     "nuid": "81a2325f-4db1-4b35-92a1-0c7cbcc01039",
     "showTitle": false,
     "title": ""
    }
   },
   "outputs": [],
   "source": [
    "import os, re, fnmatch"
   ]
  },
  {
   "cell_type": "markdown",
   "metadata": {
    "application/vnd.databricks.v1+cell": {
     "cellMetadata": {},
     "inputWidgets": {},
     "nuid": "0f7bfba1-498b-46c8-bca9-0f1e2a5cdabd",
     "showTitle": false,
     "title": ""
    }
   },
   "source": [
    "Function to find a given string and replace all occurances in all the notebooks (.py) in the current direcotry and its sub directories"
   ]
  },
  {
   "cell_type": "code",
   "execution_count": 0,
   "metadata": {
    "application/vnd.databricks.v1+cell": {
     "cellMetadata": {},
     "inputWidgets": {},
     "nuid": "48ae3529-97ca-413b-bdfb-f01ca4e8cff4",
     "showTitle": false,
     "title": ""
    }
   },
   "outputs": [],
   "source": [
    "def find_replace(directory, filename_filter, find, replace, filePattern=\"*.py\") -> None:\n",
    "    \"\"\"traverses through the given directory and using given conditions and pattern, does a find + replace\"\"\"\n",
    "    for path, dirs, files in os.walk(os.path.abspath(directory)):\n",
    "        print(path)\n",
    "        for filename in fnmatch.filter(files, filePattern):\n",
    "            if filename_filter.lower() in filename.lower():\n",
    "                filepath = os.path.join(path, filename)\n",
    "                with open(filepath) as f:\n",
    "                    s = f.read()\n",
    "                if find.lower() in s.lower():\n",
    "                    s = s.replace(find, replace)\n",
    "                    print (f\"{filename} updated - [{find}] --> [{replace}]\")\n",
    "                with open(filepath, \"w\") as f:\n",
    "                    f.write(s)\n"
   ]
  },
  {
   "cell_type": "markdown",
   "metadata": {
    "application/vnd.databricks.v1+cell": {
     "cellMetadata": {},
     "inputWidgets": {},
     "nuid": "35acda34-87fc-41d8-90b9-70220a2d8d1e",
     "showTitle": false,
     "title": ""
    }
   },
   "source": [
    "**MDP Dimension & Facts Notebooks Refactoring**"
   ]
  },
  {
   "cell_type": "markdown",
   "metadata": {
    "application/vnd.databricks.v1+cell": {
     "cellMetadata": {},
     "inputWidgets": {},
     "nuid": "e0ad497c-4e29-4e83-904d-a09aea6d75a3",
     "showTitle": false,
     "title": ""
    }
   },
   "source": [
    "Some view notebooks have references that deviate from the standard naming convention, hence handling manually in the following command"
   ]
  },
  {
   "cell_type": "code",
   "execution_count": 0,
   "metadata": {
    "application/vnd.databricks.v1+cell": {
     "cellMetadata": {},
     "inputWidgets": {},
     "nuid": "c295d188-6d44-4145-a5c8-3d621349df4b",
     "showTitle": false,
     "title": ""
    }
   },
   "outputs": [],
   "source": [
    "directory   = \"../Transform/Bridge/\""
   ]
  },
  {
   "cell_type": "code",
   "execution_count": 0,
   "metadata": {
    "application/vnd.databricks.v1+cell": {
     "cellMetadata": {},
     "inputWidgets": {},
     "nuid": "82494af9-7979-4da2-a106-bf86a64c5490",
     "showTitle": false,
     "title": ""
    }
   },
   "outputs": [],
   "source": []
  },
  {
   "cell_type": "code",
   "execution_count": 0,
   "metadata": {
    "application/vnd.databricks.v1+cell": {
     "cellMetadata": {},
     "inputWidgets": {},
     "nuid": "fb208650-f071-4555-8a5e-52055985f876",
     "showTitle": false,
     "title": ""
    }
   },
   "outputs": [],
   "source": [
    "find_replace(directory, '', '# MAGIC %run ../../Common/common-transform', \"# MAGIC %run ../../Common/common-transform \\n\\n# COMMAND ---------- \\n\\n# MAGIC %run ../../Common/common-helpers \\n# COMMAND ---------- \\n\")"
   ]
  },
  {
   "cell_type": "markdown",
   "metadata": {
    "application/vnd.databricks.v1+cell": {
     "cellMetadata": {},
     "inputWidgets": {},
     "nuid": "3c3e16fb-81fc-48ed-a3bb-3b020553a190",
     "showTitle": false,
     "title": ""
    }
   },
   "source": [
    "adding f string where get_table_name function was called in place of hardcoded table names"
   ]
  },
  {
   "cell_type": "code",
   "execution_count": 0,
   "metadata": {
    "application/vnd.databricks.v1+cell": {
     "cellMetadata": {},
     "inputWidgets": {},
     "nuid": "3e2b7cfb-7555-420b-9de1-2de09ffad6e3",
     "showTitle": false,
     "title": ""
    }
   },
   "outputs": [],
   "source": [
    "find_replace(directory, '', 'spark.sql(\"\"\"', 'spark.sql(f\"\"\"')"
   ]
  },
  {
   "cell_type": "code",
   "execution_count": 0,
   "metadata": {
    "application/vnd.databricks.v1+cell": {
     "cellMetadata": {},
     "inputWidgets": {},
     "nuid": "e45040d1-bd3b-4db5-b2bb-a700b9b432e5",
     "showTitle": false,
     "title": ""
    }
   },
   "outputs": [],
   "source": [
    "\n",
    "findstr     = 'GetTable(f\"{TARGET}.factcustomerinteraction\")'\n",
    "replacestr  = 'GetTable(f\"{get_table_namespace(f\\'{TARGET}\\', \\'factcustomerinteraction\\')}\")'\n",
    "find_replace(directory, '', findstr, replacestr)"
   ]
  },
  {
   "cell_type": "code",
   "execution_count": 0,
   "metadata": {
    "application/vnd.databricks.v1+cell": {
     "cellMetadata": {},
     "inputWidgets": {},
     "nuid": "98e6d496-2a2b-4da2-a94f-20b575d170e0",
     "showTitle": false,
     "title": ""
    }
   },
   "outputs": [],
   "source": [
    "findstr     = 'GetTable(f\"{SOURCE}.crm_skwg_brel\")'\n",
    "replacestr  = 'GetTable(f\"{get_table_namespace(f\\'{SOURCE}\\', \\'crm_skwg_brel\\')}\")'\n",
    "find_replace(directory, '', findstr, replacestr)"
   ]
  },
  {
   "cell_type": "code",
   "execution_count": 0,
   "metadata": {
    "application/vnd.databricks.v1+cell": {
     "cellMetadata": {},
     "inputWidgets": {},
     "nuid": "a6b8fddf-eb1e-4b8d-9726-ae9bcd04f410",
     "showTitle": false,
     "title": ""
    }
   },
   "outputs": [],
   "source": [
    "findstr     = 'GetTable(f\"{SOURCE}.crm_crmorderphio\")'\n",
    "replacestr  = 'GetTable(f\"{get_table_namespace(f\\'{SOURCE}\\', \\'crm_crmorderphio\\')}\")'\n",
    "find_replace(directory, '', findstr, replacestr)"
   ]
  },
  {
   "cell_type": "code",
   "execution_count": 0,
   "metadata": {
    "application/vnd.databricks.v1+cell": {
     "cellMetadata": {},
     "inputWidgets": {},
     "nuid": "8c5bb9f2-eece-4d78-a32a-9569f4789d46",
     "showTitle": false,
     "title": ""
    }
   },
   "outputs": [],
   "source": [
    "\n",
    "findstr     = 'GetTable(f\"{TARGET}.dimcustomerserviceattachmentinfo\")'\n",
    "replacestr  = 'GetTable(f\"{get_table_namespace(f\\'{TARGET}\\', \\'dimcustomerserviceattachmentinfo\\')}\")'\n",
    "find_replace(directory, '', findstr, replacestr)"
   ]
  },
  {
   "cell_type": "code",
   "execution_count": 0,
   "metadata": {
    "application/vnd.databricks.v1+cell": {
     "cellMetadata": {},
     "inputWidgets": {},
     "nuid": "8258d025-5fa8-4bfc-a3f1-a5597d72c5cc",
     "showTitle": false,
     "title": ""
    }
   },
   "outputs": [],
   "source": [
    "\n",
    "findstr     = 'GetTable(f\"{SOURCE}.crm_crmd_brelvonae\")'\n",
    "replacestr  = 'GetTable(f\"{get_table_namespace(f\\'{SOURCE}\\', \\'crm_crmd_brelvonae\\')}\")'\n",
    "find_replace(directory, '', findstr, replacestr)"
   ]
  },
  {
   "cell_type": "code",
   "execution_count": 0,
   "metadata": {
    "application/vnd.databricks.v1+cell": {
     "cellMetadata": {},
     "inputWidgets": {},
     "nuid": "a2f594de-9b5d-4f8c-85b9-63c7a5eb884a",
     "showTitle": false,
     "title": ""
    }
   },
   "outputs": [],
   "source": [
    "findstr     = 'GetTable(f\"{TARGET}.dimcustomerserviceemailheader\")'\n",
    "replacestr  = 'GetTable(f\"{get_table_namespace(f\\'{TARGET}\\', \\'dimcustomerserviceemailheader\\')}\")'\n",
    "find_replace(directory, '', findstr, replacestr)"
   ]
  },
  {
   "cell_type": "code",
   "execution_count": 0,
   "metadata": {
    "application/vnd.databricks.v1+cell": {
     "cellMetadata": {},
     "inputWidgets": {},
     "nuid": "10ed61e1-8bf1-4f0a-8a3e-ad7a9de8b886",
     "showTitle": false,
     "title": ""
    }
   },
   "outputs": [],
   "source": [
    "findstr     = 'GetTable(f\"{TARGET}.factcustomerservicerequest\")'\n",
    "replacestr  = 'GetTable(f\"{get_table_namespace(f\\'{TARGET}\\', \\'factcustomerservicerequest\\')}\")'\n",
    "find_replace(directory, '', findstr, replacestr)"
   ]
  },
  {
   "cell_type": "code",
   "execution_count": 0,
   "metadata": {
    "application/vnd.databricks.v1+cell": {
     "cellMetadata": {},
     "inputWidgets": {},
     "nuid": "8e2d5678-0abc-462e-83d2-c837548439f8",
     "showTitle": false,
     "title": ""
    }
   },
   "outputs": [],
   "source": [
    "findstr     = 'GetTable(f\"{TARGET}.factcustomerserviceworknote\")'\n",
    "replacestr  = 'GetTable(f\"{get_table_namespace(f\\'{TARGET}\\', \\'factcustomerserviceworknote\\')}\")'\n",
    "find_replace(directory, '', findstr, replacestr)"
   ]
  },
  {
   "cell_type": "code",
   "execution_count": 0,
   "metadata": {
    "application/vnd.databricks.v1+cell": {
     "cellMetadata": {},
     "inputWidgets": {},
     "nuid": "571e10ee-b0df-4ee5-a4e7-fb0510f06ef9",
     "showTitle": false,
     "title": ""
    }
   },
   "outputs": [],
   "source": [
    "\n",
    "findstr     = 'GetTable(f\"{TARGET}.factsurveymiscellaneousinformation\")'\n",
    "replacestr  = 'GetTable(f\"{get_table_namespace(f\\'{TARGET}\\', \\'factsurveymiscellaneousinformation\\')}\")'\n",
    "find_replace(directory, '', findstr, replacestr)"
   ]
  },
  {
   "cell_type": "code",
   "execution_count": 0,
   "metadata": {
    "application/vnd.databricks.v1+cell": {
     "cellMetadata": {},
     "inputWidgets": {},
     "nuid": "1d8c9a27-2163-4368-a486-5f663f892f88",
     "showTitle": false,
     "title": ""
    }
   },
   "outputs": [],
   "source": [
    "\n",
    "findstr     = 'GetTableName(f\"{SOURCE}.maximo_relatedrecord\")'\n",
    "replacestr  = 'GetTable(f\"{get_table_namespace(f\\'{SOURCE}\\', \\'maximo_relatedrecord\\')}\")'\n",
    "find_replace(directory, '', findstr, replacestr)"
   ]
  },
  {
   "cell_type": "code",
   "execution_count": 0,
   "metadata": {
    "application/vnd.databricks.v1+cell": {
     "cellMetadata": {},
     "inputWidgets": {},
     "nuid": "202bae3d-8faf-4ec3-a058-07e5be325c48",
     "showTitle": false,
     "title": ""
    }
   },
   "outputs": [],
   "source": [
    "findstr     = 'GetTableName(f\"{DEFAULT_TARGET}.factWorkOrder\")'\n",
    "replacestr  = 'GetTable(f\"{get_table_namespace(f\\'{DEFAULT_TARGET}\\', \\'factWorkOrder\\')}\")'\n",
    "find_replace(directory, '', findstr, replacestr)"
   ]
  },
  {
   "cell_type": "code",
   "execution_count": 0,
   "metadata": {
    "application/vnd.databricks.v1+cell": {
     "cellMetadata": {},
     "inputWidgets": {},
     "nuid": "3ca0b212-4e75-477a-88c2-76d9759a2c8c",
     "showTitle": false,
     "title": ""
    }
   },
   "outputs": [],
   "source": [
    "findstr     = 'GetTableName(f\"{DEFAULT_TARGET}.factserviceTicket\")'\n",
    "replacestr  = 'GetTable(f\"{get_table_namespace(f\\'{DEFAULT_TARGET}\\', \\'factserviceTicket\\')}\")'\n",
    "find_replace(directory, '', findstr, replacestr)"
   ]
  },
  {
   "cell_type": "code",
   "execution_count": 0,
   "metadata": {
    "application/vnd.databricks.v1+cell": {
     "cellMetadata": {},
     "inputWidgets": {},
     "nuid": "43f54c90-bc47-432a-a23b-545f1ab1c569",
     "showTitle": false,
     "title": ""
    }
   },
   "outputs": [],
   "source": [
    "findstr     = '{TARGET}.factWorkOrder'\n",
    "replacestr  = '{get_table_namespace(f\\'{TARGET}\\', \\'factWorkOrder\\')}'\n",
    "find_replace(directory, '', findstr, replacestr)"
   ]
  },
  {
   "cell_type": "code",
   "execution_count": 0,
   "metadata": {
    "application/vnd.databricks.v1+cell": {
     "cellMetadata": {},
     "inputWidgets": {},
     "nuid": "8a8b7527-0307-413a-9a84-7ff910762221",
     "showTitle": false,
     "title": ""
    }
   },
   "outputs": [],
   "source": [
    "findstr     = '{TARGET}.factpreventivemaintenance'\n",
    "replacestr  = '{get_table_namespace(f\\'{TARGET}\\', \\'factpreventivemaintenance\\')}'\n",
    "find_replace(directory, '', findstr, replacestr)"
   ]
  },
  {
   "cell_type": "code",
   "execution_count": 0,
   "metadata": {
    "application/vnd.databricks.v1+cell": {
     "cellMetadata": {},
     "inputWidgets": {},
     "nuid": "8ff1bfd4-d4e8-4834-8d6e-eb6ac8437bf4",
     "showTitle": false,
     "title": ""
    }
   },
   "outputs": [],
   "source": [
    "findstr     = 'hive_metastore.'\n",
    "replacestr  = ''\n",
    "find_replace(directory, '', findstr, replacestr)"
   ]
  },
  {
   "cell_type": "markdown",
   "metadata": {
    "application/vnd.databricks.v1+cell": {
     "cellMetadata": {},
     "inputWidgets": {},
     "nuid": "a304c856-fd98-4879-ad18-aa2643b8a782",
     "showTitle": false,
     "title": ""
    }
   },
   "source": [
    "Function to get the list of hardcoded cleansed tablenames in the view definitions, uses regex to pattern match 'cleansed.'"
   ]
  },
  {
   "cell_type": "code",
   "execution_count": 0,
   "metadata": {
    "application/vnd.databricks.v1+cell": {
     "cellMetadata": {},
     "inputWidgets": {},
     "nuid": "901fba12-a4cf-4b92-a7ab-d4ea402e6d08",
     "showTitle": false,
     "title": ""
    }
   },
   "outputs": [],
   "source": [
    "def get_strings_to_replace(full_path, pattern):\n",
    "    strings_to_replace = []\n",
    "    for filename in os.listdir(full_path):\n",
    "        if filename.endswith(\".py\"):\n",
    "            with open(os.path.join(full_path, filename), \"r\") as f:\n",
    "                for line in f:\n",
    "                    for word in line.split():\n",
    "                        if pattern.search(word): \n",
    "                            if (len(word.split(\".\"))) == 2:\n",
    "                                strings_to_replace.append( re.sub( r'[)\"](.*)', '', (re.sub('[^A-Za-z0-9.]+_', '', word)) ) )\n",
    "                            else:\n",
    "                                print (f\"This was formatted poorly and is hence not included in the list:\\n \\'{filename} \\'- {word}\\n\")\n",
    "    return strings_to_replace"
   ]
  },
  {
   "cell_type": "markdown",
   "metadata": {
    "application/vnd.databricks.v1+cell": {
     "cellMetadata": {},
     "inputWidgets": {},
     "nuid": "95e454c5-952f-4f59-b1e4-534a2b39793e",
     "showTitle": false,
     "title": ""
    }
   },
   "source": [
    "Finding and replacing the hardcoded cleansed table names in view definitions using the above function"
   ]
  },
  {
   "cell_type": "code",
   "execution_count": 0,
   "metadata": {
    "application/vnd.databricks.v1+cell": {
     "cellMetadata": {},
     "inputWidgets": {},
     "nuid": "90f56a92-a79b-470b-8180-fe4998e486ea",
     "showTitle": false,
     "title": ""
    }
   },
   "outputs": [],
   "source": [
    "directory = \"../Transform/Bridge/\"\n",
    "patternstr = re.compile(r\"\\bcleansed.\\b\")\n",
    "\n",
    "strings_to_replace =  get_strings_to_replace(full_path = directory, pattern = patternstr)"
   ]
  },
  {
   "cell_type": "code",
   "execution_count": 0,
   "metadata": {
    "application/vnd.databricks.v1+cell": {
     "cellMetadata": {},
     "inputWidgets": {},
     "nuid": "707ba01e-e6ef-445a-820e-fdde6ccd6949",
     "showTitle": false,
     "title": ""
    }
   },
   "outputs": [],
   "source": [
    "strings_to_replace"
   ]
  },
  {
   "cell_type": "code",
   "execution_count": 0,
   "metadata": {
    "application/vnd.databricks.v1+cell": {
     "cellMetadata": {},
     "inputWidgets": {},
     "nuid": "3f5d8f72-d57a-4944-ac46-7e76b7c338d7",
     "showTitle": false,
     "title": ""
    }
   },
   "outputs": [],
   "source": [
    "\n",
    "for findstr in sorted(strings_to_replace, key = len, reverse = True):\n",
    "    # print(findstr)\n",
    "    layer   = findstr.split(\".\")[0]\n",
    "    schema  = findstr.split(\".\")[1].split(\"_\")[0]\n",
    "    table   = findstr.split(\".\")[1]\n",
    "    replacestr  = f'{{get_table_namespace(\\'{layer}\\', \\'{table}\\')}}'\n",
    "    # print(replacestr)\n",
    "    find_replace(directory, '', findstr, replacestr)"
   ]
  },
  {
   "cell_type": "code",
   "execution_count": 0,
   "metadata": {
    "application/vnd.databricks.v1+cell": {
     "cellMetadata": {},
     "inputWidgets": {},
     "nuid": "b1a1aef6-bf39-4a19-9f4e-387efc30227d",
     "showTitle": false,
     "title": ""
    }
   },
   "outputs": [],
   "source": [
    "directory = \"../Transform/Bridge/\"\n",
    "patternstr = re.compile(r\"\\braw.\\b\")\n",
    "\n",
    "strings_to_replace =  get_strings_to_replace(full_path = directory, pattern = patternstr)\n"
   ]
  },
  {
   "cell_type": "code",
   "execution_count": 0,
   "metadata": {
    "application/vnd.databricks.v1+cell": {
     "cellMetadata": {},
     "inputWidgets": {},
     "nuid": "ce4644b0-f1d5-46b3-a907-c6eb3f26dd2e",
     "showTitle": false,
     "title": ""
    }
   },
   "outputs": [],
   "source": [
    "strings_to_replace"
   ]
  },
  {
   "cell_type": "code",
   "execution_count": 0,
   "metadata": {
    "application/vnd.databricks.v1+cell": {
     "cellMetadata": {},
     "inputWidgets": {},
     "nuid": "54b82b2a-84df-4658-959b-4a3793dcfbac",
     "showTitle": false,
     "title": ""
    }
   },
   "outputs": [],
   "source": [
    "\n",
    "for findstr in sorted(strings_to_replace, key = len, reverse = True):\n",
    "    # print(findstr)\n",
    "    layer   = findstr.split(\".\")[0]\n",
    "    schema  = findstr.split(\".\")[1].split(\"_\")[0]\n",
    "    table   = findstr.split(\".\")[1]\n",
    "    replacestr  = f'{{get_table_namespace(\\'{layer}\\', \\'{table}\\')}}'\n",
    "    # print(replacestr)\n",
    "    find_replace(directory, '', findstr, replacestr)"
   ]
  },
  {
   "cell_type": "markdown",
   "metadata": {
    "application/vnd.databricks.v1+cell": {
     "cellMetadata": {},
     "inputWidgets": {},
     "nuid": "8812c3e5-f6ef-4f07-891b-52742a8cc2de",
     "showTitle": false,
     "title": ""
    }
   },
   "source": [
    "Replacing \"curated.view\\<name\\>\" with \"\\<env_\\>curated.\\<productdatabase\\>.\\<viewname\\>\" \n",
    "in notebooks under \"/Databricks/MDP-Framework/Transform/Views/\". These views are meant to be created in product specific database, resolved based on the csv lookup."
   ]
  },
  {
   "cell_type": "code",
   "execution_count": 0,
   "metadata": {
    "application/vnd.databricks.v1+cell": {
     "cellMetadata": {},
     "inputWidgets": {},
     "nuid": "cb195748-b26c-45cb-827a-6934185d3526",
     "showTitle": false,
     "title": ""
    }
   },
   "outputs": [],
   "source": [
    "directory = \"../Transform/Bridge/\"\n",
    "patternstr = re.compile(r\"\\bcurated.\\b\")\n",
    "\n",
    "strings_to_replace =  get_strings_to_replace(full_path = directory, pattern = patternstr)\n"
   ]
  },
  {
   "cell_type": "code",
   "execution_count": 0,
   "metadata": {
    "application/vnd.databricks.v1+cell": {
     "cellMetadata": {},
     "inputWidgets": {},
     "nuid": "95aabeeb-aef1-4ba0-a325-7b10a9473a52",
     "showTitle": false,
     "title": ""
    }
   },
   "outputs": [],
   "source": [
    "strings_to_replace"
   ]
  },
  {
   "cell_type": "code",
   "execution_count": 0,
   "metadata": {
    "application/vnd.databricks.v1+cell": {
     "cellMetadata": {},
     "inputWidgets": {},
     "nuid": "3c32322f-86d3-46b7-b769-91109753bef5",
     "showTitle": false,
     "title": ""
    }
   },
   "outputs": [],
   "source": [
    "\n",
    "for findstr in sorted(strings_to_replace, key = len, reverse = True):\n",
    "    # print(findstr)\n",
    "    layer   = findstr.split(\".\")[0]\n",
    "    # schema  = findstr.split(\".\")[1].split(\"_\")[0]\n",
    "    table   = findstr.split(\".\")[1]\n",
    "    replacestr  = f'{{get_table_namespace(\\'curated\\', \\'{table}\\')}}'\n",
    "    print(replacestr)\n",
    "    find_replace(directory, '', findstr, replacestr)"
   ]
  },
  {
   "cell_type": "code",
   "execution_count": 0,
   "metadata": {
    "application/vnd.databricks.v1+cell": {
     "cellMetadata": {},
     "inputWidgets": {},
     "nuid": "9ae0e466-0724-4252-9509-ada32aeee753",
     "showTitle": false,
     "title": ""
    }
   },
   "outputs": [],
   "source": [
    "def check_strings(full_path, pattern):\n",
    "    for filename in os.listdir(full_path):\n",
    "        if filename.endswith(\".py\"):\n",
    "            with open(os.path.join(full_path, filename), \"r\") as f:\n",
    "                for line in f:\n",
    "                    for word in line.split():\n",
    "                        if pattern.search(word): \n",
    "                            print (f\"{word}\\n found in {filename}\")\n",
    "                            # strings_to_replace.append(word)\n",
    "\n",
    "    # return strings_to_replace"
   ]
  },
  {
   "cell_type": "markdown",
   "metadata": {
    "application/vnd.databricks.v1+cell": {
     "cellMetadata": {},
     "inputWidgets": {},
     "nuid": "2cde14c5-a2bb-4ae8-be07-449d263eff8a",
     "showTitle": false,
     "title": ""
    }
   },
   "source": []
  },
  {
   "cell_type": "code",
   "execution_count": 0,
   "metadata": {
    "application/vnd.databricks.v1+cell": {
     "cellMetadata": {},
     "inputWidgets": {},
     "nuid": "e5fa42bd-9621-43a8-8cd4-bc1cb89bea12",
     "showTitle": false,
     "title": ""
    }
   },
   "outputs": [],
   "source": [
    "check_path = \"../Transform/\"\n",
    "patternstr = re.compile(r'{DEFAULT_TARGET}')\n",
    "\n",
    "strings_to_replace =  check_strings(full_path = directory, pattern = patternstr)\n",
    "strings_to_replace"
   ]
  }
 ],
 "metadata": {
  "application/vnd.databricks.v1+notebook": {
   "dashboards": [],
   "language": "python",
   "notebookMetadata": {},
   "notebookName": "mdp_bridge_code_refactor",
   "widgets": {}
  },
  "kernelspec": {
   "display_name": "Python 3",
   "language": "python",
   "name": "python3"
  },
  "language_info": {
   "codemirror_mode": {
    "name": "ipython",
    "version": 3
   },
   "file_extension": ".py",
   "mimetype": "text/x-python",
   "name": "python",
   "nbconvert_exporter": "python",
   "pygments_lexer": "ipython3",
   "version": "3.11.1"
  },
  "orig_nbformat": 4
 },
 "nbformat": 4,
 "nbformat_minor": 0
}
