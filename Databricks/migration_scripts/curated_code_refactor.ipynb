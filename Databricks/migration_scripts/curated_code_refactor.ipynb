{
 "cells": [
  {
   "cell_type": "markdown",
   "metadata": {
    "application/vnd.databricks.v1+cell": {
     "cellMetadata": {},
     "inputWidgets": {},
     "nuid": "0457b813-1163-4426-a948-d334c345e76d",
     "showTitle": false,
     "title": ""
    }
   },
   "source": [
    "Implementation Plan:"
   ]
  },
  {
   "cell_type": "markdown",
   "metadata": {
    "application/vnd.databricks.v1+cell": {
     "cellMetadata": {},
     "inputWidgets": {},
     "nuid": "eac04179-ba30-466d-b3e5-537c20a1d0e9",
     "showTitle": false,
     "title": ""
    }
   },
   "source": [
    "You can run git commands like this to get the latest version of code to work with:\n",
    "\n",
    "git checkout preprod && git pull && git checkout -B uc-code-refactor-20230225 && git checkout uc-code-refactor-20230224 ./uc1Codefix.ipynb"
   ]
  },
  {
   "cell_type": "code",
   "execution_count": 1,
   "metadata": {
    "application/vnd.databricks.v1+cell": {
     "cellMetadata": {},
     "inputWidgets": {},
     "nuid": "81a2325f-4db1-4b35-92a1-0c7cbcc01039",
     "showTitle": false,
     "title": ""
    }
   },
   "outputs": [],
   "source": [
    "import os, re, fnmatch"
   ]
  },
  {
   "cell_type": "code",
   "execution_count": 4,
   "metadata": {},
   "outputs": [],
   "source": [
    "def get_strings_to_replace(full_path, pattern):\n",
    "    strings_to_replace = []\n",
    "    for filename in os.listdir(full_path):\n",
    "        if filename.endswith(\".py\"):\n",
    "            with open(os.path.join(full_path, filename), \"r\") as f:\n",
    "                for line in f:\n",
    "                    for word in line.split():\n",
    "                        if pattern.search(word): \n",
    "                            if (len(word.split(\".\"))) == 2:\n",
    "                                strings_to_replace.append( re.sub( r'[)\"](.*)', '', (re.sub('[^A-Za-z0-9.]+_', '', word)) ) )\n",
    "                            else:\n",
    "                                print (f\"This was formatted poorly and is hence not included in the list:\\n \\'{filename} \\'- {word}\\n\")\n",
    "                                \n",
    "    return strings_to_replace"
   ]
  },
  {
   "cell_type": "markdown",
   "metadata": {},
   "source": [
    "**Facts Notebooks Refactoring**"
   ]
  },
  {
   "cell_type": "markdown",
   "metadata": {},
   "source": [
    "Adding additional imports to the top of the notebook"
   ]
  },
  {
   "cell_type": "code",
   "execution_count": 3,
   "metadata": {
    "application/vnd.databricks.v1+cell": {
     "cellMetadata": {},
     "inputWidgets": {},
     "nuid": "c295d188-6d44-4145-a5c8-3d621349df4b",
     "showTitle": false,
     "title": ""
    }
   },
   "outputs": [],
   "source": [
    "directory   = \"../transform/facts/\""
   ]
  },
  {
   "cell_type": "code",
   "execution_count": null,
   "metadata": {
    "application/vnd.databricks.v1+cell": {
     "cellMetadata": {},
     "inputWidgets": {},
     "nuid": "fb208650-f071-4555-8a5e-52055985f876",
     "showTitle": false,
     "title": ""
    }
   },
   "outputs": [],
   "source": [
    "find_replace(directory, '', '# MAGIC %run ../../Common/common-transform', \"# MAGIC %run ../../common/common-transform \\n\\n# COMMAND ---------- \\n\\n# MAGIC %run ../../common/common-helpers \\n# COMMAND ---------- \\n\")"
   ]
  },
  {
   "cell_type": "markdown",
   "metadata": {},
   "source": [
    "Removing hardcoded hive metastore references."
   ]
  },
  {
   "cell_type": "code",
   "execution_count": null,
   "metadata": {},
   "outputs": [],
   "source": [
    "findstr     = 'hive_metastore.'\n",
    "replacestr  = ''\n",
    "find_replace(directory, '', findstr, replacestr)"
   ]
  },
  {
   "cell_type": "markdown",
   "metadata": {
    "application/vnd.databricks.v1+cell": {
     "cellMetadata": {},
     "inputWidgets": {},
     "nuid": "40b90ae3-fa1b-488b-bc23-97ba1c1d5796",
     "showTitle": false,
     "title": ""
    }
   },
   "source": [
    "Adding f string where get_table_name function was called in place of hardcoded table names"
   ]
  },
  {
   "cell_type": "code",
   "execution_count": null,
   "metadata": {
    "application/vnd.databricks.v1+cell": {
     "cellMetadata": {},
     "inputWidgets": {},
     "nuid": "3e2b7cfb-7555-420b-9de1-2de09ffad6e3",
     "showTitle": false,
     "title": ""
    }
   },
   "outputs": [],
   "source": [
    "find_replace(directory, '', 'spark.sql(\"\"\"', 'spark.sql(f\"\"\"')"
   ]
  },
  {
   "cell_type": "markdown",
   "metadata": {},
   "source": [
    "Finding and replacing the hive mestastore table namespaces using regex pattern."
   ]
  },
  {
   "cell_type": "code",
   "execution_count": null,
   "metadata": {},
   "outputs": [],
   "source": [
    "directory = \"../Transform/Dimension/\""
   ]
  },
  {
   "cell_type": "code",
   "execution_count": null,
   "metadata": {},
   "outputs": [],
   "source": [
    "patternstr = re.compile(r\"\\braw.\\b\")\n",
    "strings_to_replace =  get_strings_to_replace(full_path = directory, pattern = patternstr)\n",
    "\n",
    "\n",
    "for findstr in sorted(strings_to_replace, key = len, reverse = True):\n",
    "    layer   = findstr.split(\".\")[0]\n",
    "    schema  = findstr.split(\".\")[1].split(\"_\")[0]\n",
    "    table   = findstr.split(\".\")[1]\n",
    "    replacestr  = f'{{get_table_namespace(\\'{layer}\\', \\'{table}\\')}}'\n",
    "    find_replace(directory, '', findstr, replacestr)"
   ]
  },
  {
   "cell_type": "code",
   "execution_count": null,
   "metadata": {},
   "outputs": [],
   "source": [
    "#repeat above pattern for other layers. I'd tried converting above to a function but had an issue with the regex. need to revisit.\n",
    "patternstr = re.compile(r\"\\bcleansed.\\b\")\n",
    "strings_to_replace =  get_strings_to_replace(full_path = directory, pattern = patternstr)\n",
    "\n",
    "\n",
    "for findstr in sorted(strings_to_replace, key = len, reverse = True):\n",
    "    layer   = findstr.split(\".\")[0]\n",
    "    schema  = findstr.split(\".\")[1].split(\"_\")[0]\n",
    "    table   = findstr.split(\".\")[1]\n",
    "    replacestr  = f'{{get_table_namespace(\\'{layer}\\', \\'{table}\\')}}'\n",
    "    find_replace(directory, '', findstr, replacestr)"
   ]
  },
  {
   "cell_type": "code",
   "execution_count": null,
   "metadata": {},
   "outputs": [],
   "source": [
    "patternstr = re.compile(r\"\\bcurated.\\b\")\n",
    "strings_to_replace =  get_strings_to_replace(full_path = directory, pattern = patternstr)\n",
    "\n",
    "\n",
    "for findstr in sorted(strings_to_replace, key = len, reverse = True):\n",
    "    layer   = findstr.split(\".\")[0]\n",
    "    schema  = findstr.split(\".\")[1].split(\"_\")[0]\n",
    "    table   = findstr.split(\".\")[1]\n",
    "    replacestr  = f'{{get_table_namespace(\\'{layer}\\', \\'{table}\\')}}'\n",
    "    find_replace(directory, '', findstr, replacestr)"
   ]
  },
  {
   "cell_type": "markdown",
   "metadata": {},
   "source": [
    "In instances where the raw, cleansed and curated aren't explicitly called in the namespace, you can use adhoc find and replace as below."
   ]
  },
  {
   "cell_type": "code",
   "execution_count": null,
   "metadata": {
    "application/vnd.databricks.v1+cell": {
     "cellMetadata": {},
     "inputWidgets": {},
     "nuid": "2b558736-12c5-45b0-8b47-53ca02c41c1a",
     "showTitle": false,
     "title": ""
    }
   },
   "outputs": [],
   "source": [
    "#in this instance, the codebase has soft coded tablenames like '{SOURCE}.tablename'\n",
    "findstr     = '{SOURCE}.tablename'\n",
    "replacestr  = '{get_table_namespace(f\\'{SOURCE}\\', \\'tablename\\')}'\n",
    "find_replace(directory, '', findstr, replacestr)"
   ]
  },
  {
   "cell_type": "markdown",
   "metadata": {},
   "source": [
    "Below instances show a variety of conventions currently used in codebase which need to be replaced by the new approach."
   ]
  },
  {
   "cell_type": "code",
   "execution_count": null,
   "metadata": {
    "application/vnd.databricks.v1+cell": {
     "cellMetadata": {},
     "inputWidgets": {},
     "nuid": "e79c1e8d-f7f7-4b78-bbef-852b8aeb3764",
     "showTitle": false,
     "title": ""
    }
   },
   "outputs": [],
   "source": [
    "findstr     = '{TARGET}.tablename'\n",
    "replacestr  = '{get_table_namespace(f\\'{TARGET}\\', \\'tablename\\')}'\n",
    "find_replace(directory, '', findstr, replacestr)"
   ]
  },
  {
   "cell_type": "code",
   "execution_count": null,
   "metadata": {},
   "outputs": [],
   "source": [
    "\n",
    "findstr     = 'GetTable(f\"{TARGET}.tablename\")'\n",
    "replacestr  = 'GetTable(f\"{get_table_namespace(f\\'{TARGET}\\', \\'tablename\\')}\")'\n",
    "find_replace(directory, '', findstr, replacestr)"
   ]
  }
 ],
 "metadata": {
  "application/vnd.databricks.v1+notebook": {
   "dashboards": [],
   "language": "python",
   "notebookMetadata": {},
   "notebookName": "mdp_curated_code_refactor",
   "widgets": {}
  },
  "kernelspec": {
   "display_name": "Python 3",
   "language": "python",
   "name": "python3"
  },
  "language_info": {
   "codemirror_mode": {
    "name": "ipython",
    "version": 3
   },
   "file_extension": ".py",
   "mimetype": "text/x-python",
   "name": "python",
   "nbconvert_exporter": "python",
   "pygments_lexer": "ipython3",
   "version": "3.9.7"
  },
  "orig_nbformat": 4
 },
 "nbformat": 4,
 "nbformat_minor": 0
}
