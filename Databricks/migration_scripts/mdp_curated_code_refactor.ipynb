{
 "cells": [
  {
   "cell_type": "markdown",
   "metadata": {
    "application/vnd.databricks.v1+cell": {
     "cellMetadata": {},
     "inputWidgets": {},
     "nuid": "0457b813-1163-4426-a948-d334c345e76d",
     "showTitle": false,
     "title": ""
    }
   },
   "source": [
    "Implementation Plan:"
   ]
  },
  {
   "cell_type": "markdown",
   "metadata": {
    "application/vnd.databricks.v1+cell": {
     "cellMetadata": {},
     "inputWidgets": {},
     "nuid": "eac04179-ba30-466d-b3e5-537c20a1d0e9",
     "showTitle": false,
     "title": ""
    }
   },
   "source": [
    "You can run git commands like this to get the latest version of code to work with:\n",
    "\n",
    "git checkout preprod && git pull && git checkout -B uc-code-refactor-20230225 && git checkout uc-code-refactor-20230224 ./uc1Codefix.ipynb"
   ]
  },
  {
   "cell_type": "code",
   "execution_count": 1,
   "metadata": {
    "application/vnd.databricks.v1+cell": {
     "cellMetadata": {},
     "inputWidgets": {},
     "nuid": "81a2325f-4db1-4b35-92a1-0c7cbcc01039",
     "showTitle": false,
     "title": ""
    }
   },
   "outputs": [],
   "source": [
    "import os, re, fnmatch"
   ]
  },
  {
   "cell_type": "markdown",
   "metadata": {
    "application/vnd.databricks.v1+cell": {
     "cellMetadata": {},
     "inputWidgets": {},
     "nuid": "760db515-d52b-4eb8-95f0-d5f6b579ed53",
     "showTitle": false,
     "title": ""
    }
   },
   "source": [
    "Function to find a given string and replace all occurances in all the notebooks (.py) in the current direcotry and its sub directories"
   ]
  },
  {
   "cell_type": "code",
   "execution_count": 2,
   "metadata": {
    "application/vnd.databricks.v1+cell": {
     "cellMetadata": {},
     "inputWidgets": {},
     "nuid": "48ae3529-97ca-413b-bdfb-f01ca4e8cff4",
     "showTitle": false,
     "title": ""
    }
   },
   "outputs": [],
   "source": [
    "def find_replace(directory, filename_filter, find, replace, filePattern=\"*.py\") -> None:\n",
    "    \"\"\"traverses through the given directory and using given conditions and pattern, does a find + replace\"\"\"\n",
    "    for path, dirs, files in os.walk(os.path.abspath(directory)):\n",
    "        print(path)\n",
    "        for filename in fnmatch.filter(files, filePattern):\n",
    "            if filename_filter.lower() in filename.lower():\n",
    "                filepath = os.path.join(path, filename)\n",
    "                with open(filepath) as f:\n",
    "                    s = f.read()\n",
    "                if find.lower() in s.lower():\n",
    "                    s = s.replace(find, replace)\n",
    "                    print (f\"{filename} updated - [{find}] --> [{replace}]\")\n",
    "                with open(filepath, \"w\") as f:\n",
    "                    f.write(s)\n"
   ]
  },
  {
   "cell_type": "markdown",
   "metadata": {},
   "source": [
    "**Facts Notebooks Refactoring**"
   ]
  },
  {
   "cell_type": "markdown",
   "metadata": {},
   "source": [
    "Adding additional imports to the top of the notebook"
   ]
  },
  {
   "cell_type": "code",
   "execution_count": 3,
   "metadata": {
    "application/vnd.databricks.v1+cell": {
     "cellMetadata": {},
     "inputWidgets": {},
     "nuid": "c295d188-6d44-4145-a5c8-3d621349df4b",
     "showTitle": false,
     "title": ""
    }
   },
   "outputs": [],
   "source": [
    "directory   = \"../transform/facts/\""
   ]
  },
  {
   "cell_type": "code",
   "execution_count": null,
   "metadata": {
    "application/vnd.databricks.v1+cell": {
     "cellMetadata": {},
     "inputWidgets": {},
     "nuid": "fb208650-f071-4555-8a5e-52055985f876",
     "showTitle": false,
     "title": ""
    }
   },
   "outputs": [],
   "source": [
    "find_replace(directory, '', '# MAGIC %run ../../Common/common-transform', \"# MAGIC %run ../../Common/common-transform \\n\\n# COMMAND ---------- \\n\\n# MAGIC %run ../../Common/common-helpers \\n# COMMAND ---------- \\n\")"
   ]
  },
  {
   "cell_type": "markdown",
   "metadata": {
    "application/vnd.databricks.v1+cell": {
     "cellMetadata": {},
     "inputWidgets": {},
     "nuid": "40b90ae3-fa1b-488b-bc23-97ba1c1d5796",
     "showTitle": false,
     "title": ""
    }
   },
   "source": [
    "Adding f string where get_table_name function was called in place of hardcoded table names"
   ]
  },
  {
   "cell_type": "code",
   "execution_count": null,
   "metadata": {
    "application/vnd.databricks.v1+cell": {
     "cellMetadata": {},
     "inputWidgets": {},
     "nuid": "3e2b7cfb-7555-420b-9de1-2de09ffad6e3",
     "showTitle": false,
     "title": ""
    }
   },
   "outputs": [],
   "source": [
    "find_replace(directory, '', 'spark.sql(\"\"\"', 'spark.sql(f\"\"\"')"
   ]
  },
  {
   "cell_type": "markdown",
   "metadata": {},
   "source": [
    "Examples of how to replace the tablenamespaces adhoc."
   ]
  },
  {
   "cell_type": "code",
   "execution_count": null,
   "metadata": {
    "application/vnd.databricks.v1+cell": {
     "cellMetadata": {},
     "inputWidgets": {},
     "nuid": "2b558736-12c5-45b0-8b47-53ca02c41c1a",
     "showTitle": false,
     "title": ""
    }
   },
   "outputs": [],
   "source": [
    "findstr     = '{SOURCE}.crm_0crm_sales_act_1'\n",
    "replacestr  = '{get_table_namespace(f\\'{SOURCE}\\', \\'crm_0crm_sales_act_1\\')}'\n",
    "find_replace(directory, '', findstr, replacestr)"
   ]
  },
  {
   "cell_type": "code",
   "execution_count": null,
   "metadata": {
    "application/vnd.databricks.v1+cell": {
     "cellMetadata": {},
     "inputWidgets": {},
     "nuid": "e79c1e8d-f7f7-4b78-bbef-852b8aeb3764",
     "showTitle": false,
     "title": ""
    }
   },
   "outputs": [],
   "source": [
    "findstr     = '{TARGET}.refReportConfiguration'\n",
    "replacestr  = '{get_table_namespace(f\\'{TARGET}\\', \\'refReportConfiguration\\')}'\n",
    "find_replace(directory, '', findstr, replacestr)"
   ]
  },
  {
   "cell_type": "code",
   "execution_count": null,
   "metadata": {},
   "outputs": [],
   "source": [
    "\n",
    "findstr     = 'GetTable(f\"{TARGET}.factworkorder\")'\n",
    "replacestr  = 'GetTable(f\"{get_table_namespace(f\\'{TARGET}\\', \\'factworkorder\\')}\")'\n",
    "find_replace(directory, '', findstr, replacestr)"
   ]
  },
  {
   "cell_type": "markdown",
   "metadata": {
    "application/vnd.databricks.v1+cell": {
     "cellMetadata": {},
     "inputWidgets": {},
     "nuid": "7f0d6f26-0a4f-43b0-a713-0c4cab1d5b7f",
     "showTitle": false,
     "title": ""
    }
   },
   "source": [
    "Function to get the list of hardcoded cleansed tablenames in the view definitions, uses regex to pattern match 'cleansed.'"
   ]
  },
  {
   "cell_type": "code",
   "execution_count": null,
   "metadata": {
    "application/vnd.databricks.v1+cell": {
     "cellMetadata": {},
     "inputWidgets": {},
     "nuid": "901fba12-a4cf-4b92-a7ab-d4ea402e6d08",
     "showTitle": false,
     "title": ""
    }
   },
   "outputs": [],
   "source": [
    "def get_strings_to_replace(full_path, pattern):\n",
    "    strings_to_replace = []\n",
    "    for filename in os.listdir(full_path):\n",
    "        if filename.endswith(\".py\"):\n",
    "            with open(os.path.join(full_path, filename), \"r\") as f:\n",
    "                for line in f:\n",
    "                    for word in line.split():\n",
    "                        if pattern.search(word): \n",
    "                            if (len(word.split(\".\"))) == 2:\n",
    "                                strings_to_replace.append( re.sub( r'[)\"](.*)', '', (re.sub('[^A-Za-z0-9.]+_', '', word)) ) )\n",
    "                            else:\n",
    "                                print (f\"This was formatted poorly and is hence not included in the list:\\n \\'{filename} \\'- {word}\\n\")\n",
    "    return strings_to_replace"
   ]
  },
  {
   "cell_type": "markdown",
   "metadata": {
    "application/vnd.databricks.v1+cell": {
     "cellMetadata": {},
     "inputWidgets": {},
     "nuid": "4ae1d855-7bf1-48a3-ac4d-e5aae97d0e34",
     "showTitle": false,
     "title": ""
    }
   },
   "source": [
    "Finding and replacing the hardcoded cleansed table names in view definitions using the above function"
   ]
  },
  {
   "cell_type": "code",
   "execution_count": null,
   "metadata": {
    "application/vnd.databricks.v1+cell": {
     "cellMetadata": {},
     "inputWidgets": {},
     "nuid": "90f56a92-a79b-470b-8180-fe4998e486ea",
     "showTitle": false,
     "title": ""
    }
   },
   "outputs": [],
   "source": [
    "directory = \"../Transform/Dimension/\"\n",
    "patternstr = re.compile(r\"\\bcleansed.\\b\")\n",
    "\n",
    "strings_to_replace =  get_strings_to_replace(full_path = directory, pattern = patternstr)"
   ]
  },
  {
   "cell_type": "code",
   "execution_count": null,
   "metadata": {
    "application/vnd.databricks.v1+cell": {
     "cellMetadata": {},
     "inputWidgets": {},
     "nuid": "707ba01e-e6ef-445a-820e-fdde6ccd6949",
     "showTitle": false,
     "title": ""
    }
   },
   "outputs": [],
   "source": [
    "strings_to_replace"
   ]
  },
  {
   "cell_type": "code",
   "execution_count": null,
   "metadata": {
    "application/vnd.databricks.v1+cell": {
     "cellMetadata": {},
     "inputWidgets": {},
     "nuid": "3f5d8f72-d57a-4944-ac46-7e76b7c338d7",
     "showTitle": false,
     "title": ""
    }
   },
   "outputs": [],
   "source": [
    "\n",
    "for findstr in sorted(strings_to_replace, key = len, reverse = True):\n",
    "    # print(findstr)\n",
    "    layer   = findstr.split(\".\")[0]\n",
    "    schema  = findstr.split(\".\")[1].split(\"_\")[0]\n",
    "    table   = findstr.split(\".\")[1]\n",
    "    replacestr  = f'{{get_table_namespace(\\'{layer}\\', \\'{table}\\')}}'\n",
    "    # print(replacestr)\n",
    "    find_replace(directory, '', findstr, replacestr)"
   ]
  },
  {
   "cell_type": "code",
   "execution_count": null,
   "metadata": {
    "application/vnd.databricks.v1+cell": {
     "cellMetadata": {},
     "inputWidgets": {},
     "nuid": "b1a1aef6-bf39-4a19-9f4e-387efc30227d",
     "showTitle": false,
     "title": ""
    }
   },
   "outputs": [],
   "source": [
    "directory = \"../Transform/Dimension/\"\n",
    "patternstr = re.compile(r\"\\braw.\\b\")\n",
    "\n",
    "strings_to_replace =  get_strings_to_replace(full_path = directory, pattern = patternstr)\n"
   ]
  },
  {
   "cell_type": "code",
   "execution_count": null,
   "metadata": {
    "application/vnd.databricks.v1+cell": {
     "cellMetadata": {},
     "inputWidgets": {},
     "nuid": "ce4644b0-f1d5-46b3-a907-c6eb3f26dd2e",
     "showTitle": false,
     "title": ""
    }
   },
   "outputs": [],
   "source": [
    "strings_to_replace"
   ]
  },
  {
   "cell_type": "code",
   "execution_count": null,
   "metadata": {
    "application/vnd.databricks.v1+cell": {
     "cellMetadata": {},
     "inputWidgets": {},
     "nuid": "54b82b2a-84df-4658-959b-4a3793dcfbac",
     "showTitle": false,
     "title": ""
    }
   },
   "outputs": [],
   "source": [
    "\n",
    "for findstr in sorted(strings_to_replace, key = len, reverse = True):\n",
    "    # print(findstr)\n",
    "    layer   = findstr.split(\".\")[0]\n",
    "    schema  = findstr.split(\".\")[1].split(\"_\")[0]\n",
    "    table   = findstr.split(\".\")[1]\n",
    "    replacestr  = f'{{get_table_namespace(\\'{layer}\\', \\'{table}\\')}}'\n",
    "    # print(replacestr)\n",
    "    find_replace(directory, '', findstr, replacestr)"
   ]
  },
  {
   "cell_type": "markdown",
   "metadata": {
    "application/vnd.databricks.v1+cell": {
     "cellMetadata": {},
     "inputWidgets": {},
     "nuid": "f9fa82b3-1c70-4778-820a-ba61afaf058d",
     "showTitle": false,
     "title": ""
    }
   },
   "source": [
    "Replacing \"curated.view\\<name\\>\" with \"\\<env_\\>curated.\\<productdatabase\\>.\\<viewname\\>\" \n",
    "in notebooks under \"/Databricks/MDP-Framework/Transform/Views/\". These views are meant to be created in product specific database, resolved based on the csv lookup."
   ]
  },
  {
   "cell_type": "code",
   "execution_count": null,
   "metadata": {
    "application/vnd.databricks.v1+cell": {
     "cellMetadata": {},
     "inputWidgets": {},
     "nuid": "cb195748-b26c-45cb-827a-6934185d3526",
     "showTitle": false,
     "title": ""
    }
   },
   "outputs": [],
   "source": [
    "directory = \"../Transform/Dimension/\"\n",
    "patternstr = re.compile(r\"\\bcurated_v3.\\b\")\n",
    "\n",
    "strings_to_replace =  get_strings_to_replace(full_path = directory, pattern = patternstr)\n"
   ]
  },
  {
   "cell_type": "code",
   "execution_count": null,
   "metadata": {
    "application/vnd.databricks.v1+cell": {
     "cellMetadata": {},
     "inputWidgets": {},
     "nuid": "95aabeeb-aef1-4ba0-a325-7b10a9473a52",
     "showTitle": false,
     "title": ""
    }
   },
   "outputs": [],
   "source": [
    "strings_to_replace"
   ]
  },
  {
   "cell_type": "code",
   "execution_count": null,
   "metadata": {
    "application/vnd.databricks.v1+cell": {
     "cellMetadata": {},
     "inputWidgets": {},
     "nuid": "3c32322f-86d3-46b7-b769-91109753bef5",
     "showTitle": false,
     "title": ""
    }
   },
   "outputs": [],
   "source": [
    "\n",
    "for findstr in sorted(strings_to_replace, key = len, reverse = True):\n",
    "    # print(findstr)\n",
    "    layer   = findstr.split(\".\")[0]\n",
    "    # schema  = findstr.split(\".\")[1].split(\"_\")[0]\n",
    "    table   = findstr.split(\".\")[1]\n",
    "    replacestr  = f'{{get_table_namespace(\\'curated\\', \\'{table}\\')}}'\n",
    "    print(replacestr)\n",
    "    find_replace(directory, '', findstr, replacestr)"
   ]
  },
  {
   "cell_type": "code",
   "execution_count": null,
   "metadata": {
    "application/vnd.databricks.v1+cell": {
     "cellMetadata": {},
     "inputWidgets": {},
     "nuid": "e0b68301-8623-4166-9b2f-1d54e94787f1",
     "showTitle": false,
     "title": ""
    }
   },
   "outputs": [],
   "source": [
    "findstr     = 'hive_metastore.'\n",
    "replacestr  = ''\n",
    "find_replace(directory, '', findstr, replacestr)"
   ]
  },
  {
   "cell_type": "code",
   "execution_count": null,
   "metadata": {
    "application/vnd.databricks.v1+cell": {
     "cellMetadata": {},
     "inputWidgets": {},
     "nuid": "d1dafa36-9e2e-4668-abc2-ca2961971fa9",
     "showTitle": false,
     "title": ""
    }
   },
   "outputs": [],
   "source": [
    "\n",
    "findstr     = 'GetTable(f\"{TARGET}.factworkorder\")'\n",
    "replacestr  = 'GetTable(f\"{get_table_namespace(f\\'{TARGET}\\', \\'factworkorder\\')}\")'\n",
    "find_replace(directory, '', findstr, replacestr)"
   ]
  },
  {
   "cell_type": "code",
   "execution_count": null,
   "metadata": {
    "application/vnd.databricks.v1+cell": {
     "cellMetadata": {},
     "inputWidgets": {},
     "nuid": "1197df9f-cc77-49c2-9b08-cbe819b782b3",
     "showTitle": false,
     "title": ""
    }
   },
   "outputs": [],
   "source": [
    "\n",
    "findstr     = 'GetTable(f\"{TARGET}.dimAssetLocation\")'\n",
    "replacestr  = 'GetTable(f\"{get_table_namespace(f\\'{TARGET}\\', \\'dimAssetLocation\\')}\")'\n",
    "find_replace(directory, '', findstr, replacestr)"
   ]
  },
  {
   "cell_type": "code",
   "execution_count": null,
   "metadata": {
    "application/vnd.databricks.v1+cell": {
     "cellMetadata": {},
     "inputWidgets": {},
     "nuid": "5e9f0cd3-47c3-47fb-a89d-94ae0d58e9e2",
     "showTitle": false,
     "title": ""
    }
   },
   "outputs": [],
   "source": [
    "\n",
    "findstr     = 'GetTable(f\"{TARGET}.dimAsset\")'\n",
    "replacestr  = 'GetTable(f\"{get_table_namespace(f\\'{TARGET}\\', \\'dimAsset\\')}\")'\n",
    "find_replace(directory, '', findstr, replacestr)"
   ]
  },
  {
   "cell_type": "code",
   "execution_count": null,
   "metadata": {
    "application/vnd.databricks.v1+cell": {
     "cellMetadata": {},
     "inputWidgets": {},
     "nuid": "e8f3912e-7582-401e-8395-0c78f5a63d78",
     "showTitle": false,
     "title": ""
    }
   },
   "outputs": [],
   "source": [
    "findstr     = '{TARGET}.factworkorder'\n",
    "replacestr  = '{get_table_namespace(f\\'{TARGET}\\', \\'factworkorder\\')}'\n",
    "find_replace(directory, '', findstr, replacestr)"
   ]
  },
  {
   "cell_type": "code",
   "execution_count": null,
   "metadata": {
    "application/vnd.databricks.v1+cell": {
     "cellMetadata": {},
     "inputWidgets": {},
     "nuid": "391b06b1-154a-4b0e-af1b-a2f263c33971",
     "showTitle": false,
     "title": ""
    }
   },
   "outputs": [],
   "source": [
    "find_replace(directory, '', 'curated_v3', 'curated')"
   ]
  },
  {
   "cell_type": "code",
   "execution_count": null,
   "metadata": {
    "application/vnd.databricks.v1+cell": {
     "cellMetadata": {},
     "inputWidgets": {},
     "nuid": "e32df7f3-ae32-4d60-b0d9-70b3581c25d7",
     "showTitle": false,
     "title": ""
    }
   },
   "outputs": [],
   "source": [
    "directory = \"../Transform/Views\"\n",
    "patternstr = re.compile(r\"curated_v2\")\n",
    "\n",
    "strings_to_replace =  get_strings_to_replace(full_path = directory, pattern = patternstr)\n",
    "\n",
    "for findstr in sorted(strings_to_replace, key = len, reverse = True):\n",
    "    print(findstr)\n",
    "    layer   = findstr.split(\".\")[0]\n",
    "    table   = findstr.split(\".\")[1]\n",
    "    replacestr  = f'{{get_table_namespace(\\'curated\\', \\'{table}\\')}}'\n",
    "    print(replacestr)\n",
    "    find_replace(directory, '', findstr, replacestr)"
   ]
  },
  {
   "cell_type": "code",
   "execution_count": null,
   "metadata": {
    "application/vnd.databricks.v1+cell": {
     "cellMetadata": {},
     "inputWidgets": {},
     "nuid": "549a6df0-d2b8-4f72-a9b3-a9c78a0e42f2",
     "showTitle": false,
     "title": ""
    }
   },
   "outputs": [],
   "source": [
    "patternstr = re.compile(r\"\\bcleansed.\\b\")\n",
    "\n",
    "strings_to_replace =  get_strings_to_replace(full_path = directory, pattern = patternstr)\n",
    "\n",
    "for findstr in sorted(strings_to_replace, key = len, reverse = True):\n",
    "    # print(findstr)\n",
    "    layer   = findstr.split(\".\")[0]\n",
    "    table   = findstr.split(\".\")[1]\n",
    "    replacestr  = f'{{get_table_namespace(\\'{layer}\\', \\'{table}\\')}}'\n",
    "    # print(replacestr)\n",
    "    find_replace(directory, '', findstr, replacestr)"
   ]
  },
  {
   "cell_type": "code",
   "execution_count": null,
   "metadata": {
    "application/vnd.databricks.v1+cell": {
     "cellMetadata": {},
     "inputWidgets": {},
     "nuid": "44cdd9b4-37f0-42d0-8787-0a49bc86b8a1",
     "showTitle": false,
     "title": ""
    }
   },
   "outputs": [],
   "source": [
    "\n",
    "findstr     = 'GetTable(f\"{SOURCE}.maximo_failurereport\")'\n",
    "replacestr  = 'GetTable(f\"{get_table_namespace(f\\'{SOURCE}\\', \\'maximo_failurereport\\')}\")'\n",
    "find_replace(directory, '', findstr, replacestr)"
   ]
  },
  {
   "cell_type": "code",
   "execution_count": null,
   "metadata": {
    "application/vnd.databricks.v1+cell": {
     "cellMetadata": {},
     "inputWidgets": {},
     "nuid": "9ae0e466-0724-4252-9509-ada32aeee753",
     "showTitle": false,
     "title": ""
    }
   },
   "outputs": [],
   "source": [
    "def check_strings(full_path, pattern):\n",
    "    for filename in os.listdir(full_path):\n",
    "        if filename.endswith(\".py\"):\n",
    "            with open(os.path.join(full_path, filename), \"r\") as f:\n",
    "                for line in f:\n",
    "                    for word in line.split():\n",
    "                        if pattern.search(word): \n",
    "                            print (f\"{word}\\n found in {filename}\")\n",
    "                            # strings_to_replace.append(word)\n",
    "\n",
    "    # return strings_to_replace"
   ]
  },
  {
   "cell_type": "code",
   "execution_count": null,
   "metadata": {
    "application/vnd.databricks.v1+cell": {
     "cellMetadata": {},
     "inputWidgets": {},
     "nuid": "e5fa42bd-9621-43a8-8cd4-bc1cb89bea12",
     "showTitle": false,
     "title": ""
    }
   },
   "outputs": [],
   "source": [
    "check_path = \"../Transform/\"\n",
    "patternstr = re.compile(r'{DEFAULT_TARGET}')\n",
    "\n",
    "strings_to_replace =  check_strings(full_path = directory, pattern = patternstr)\n",
    "strings_to_replace"
   ]
  }
 ],
 "metadata": {
  "application/vnd.databricks.v1+notebook": {
   "dashboards": [],
   "language": "python",
   "notebookMetadata": {},
   "notebookName": "mdp_curated_code_refactor",
   "widgets": {}
  },
  "kernelspec": {
   "display_name": "Python 3",
   "language": "python",
   "name": "python3"
  },
  "language_info": {
   "codemirror_mode": {
    "name": "ipython",
    "version": 3
   },
   "file_extension": ".py",
   "mimetype": "text/x-python",
   "name": "python",
   "nbconvert_exporter": "python",
   "pygments_lexer": "ipython3",
   "version": "3.9.7"
  },
  "orig_nbformat": 4
 },
 "nbformat": 4,
 "nbformat_minor": 0
}
