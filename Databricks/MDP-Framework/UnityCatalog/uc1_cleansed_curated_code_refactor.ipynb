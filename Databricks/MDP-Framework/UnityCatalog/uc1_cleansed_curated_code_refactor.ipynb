{
 "cells": [
  {
   "cell_type": "markdown",
   "metadata": {
    "application/vnd.databricks.v1+cell": {
     "cellMetadata": {},
     "inputWidgets": {},
     "nuid": "4ff21dc9-ed9c-4d7d-b428-463aa517ac36",
     "showTitle": false,
     "title": ""
    }
   },
   "source": [
    "Implementation Plan:\n",
    "1. Update the global-variable-python.py at \\Databricks\\notebooks\\includes\\ so that the following global variables get the right database value <br>\n",
    "    ADS_DATABASE_CLEANSED = \"cleansed\"     -> ADS_DATABASE_CLEANSED = \"\\<env\\>cleansed\" <br>\n",
    "    ADS_DATABASE_CURATED = \"curated\"       -> ADS_DATABASE_CURATED = \"\\<env\\>curated\" <br>\n",
    "2. Run the following find and replace steps to update cleansed and curated notebooks to update the table prifexes with schema names in the sql statement. Source and target tables are handled through Control DB updates.<br>\n",
    "    eg: {ADS_DATABASE_CLEANSED}.crm_0BPARTNER_ATTR  -> {ADS_DATABASE_CLEANSED}.crm.0BPARTNER_ATTR <br>\n",
    "        {ADS_DATABASE_CURATED}.dimbusinesspartner   -> {ADS_DATABASE_CURATED}.dim.businesspartner <br>\n",
    "3. Update Control DB to update the source and Target names that get passed to ADF pipeline as parameters <br>"
   ]
  },
  {
   "cell_type": "markdown",
   "metadata": {
    "application/vnd.databricks.v1+cell": {
     "cellMetadata": {},
     "inputWidgets": {},
     "nuid": "6a1e78d5-0996-4f3d-b547-26503577c9b5",
     "showTitle": false,
     "title": ""
    }
   },
   "source": [
    "You can run git commands like this to get the latest version of code to work with:\n",
    "\n",
    "git checkout preprod && git pull && git checkout -B uc-code-refactor-20230225 && git checkout uc-code-refactor-20230224 ./uc1Codefix.ipynb"
   ]
  },
  {
   "cell_type": "code",
   "execution_count": 0,
   "metadata": {
    "application/vnd.databricks.v1+cell": {
     "cellMetadata": {},
     "inputWidgets": {},
     "nuid": "cbd8cf47-1837-46e4-be9a-2a48e28d44e3",
     "showTitle": false,
     "title": ""
    }
   },
   "outputs": [],
   "source": [
    "import os, re, fnmatch"
   ]
  },
  {
   "cell_type": "markdown",
   "metadata": {
    "application/vnd.databricks.v1+cell": {
     "cellMetadata": {},
     "inputWidgets": {},
     "nuid": "5d23917a-b249-41ba-b941-d9efe6fc6ac7",
     "showTitle": false,
     "title": ""
    }
   },
   "source": [
    "Function to find a given string and replace all occurances in all the notebooks (.py) in the current direcotry and its sub directories"
   ]
  },
  {
   "cell_type": "code",
   "execution_count": 0,
   "metadata": {
    "application/vnd.databricks.v1+cell": {
     "cellMetadata": {},
     "inputWidgets": {},
     "nuid": "3d4ef6a6-9b78-43f7-a96d-c2bc5dd1a463",
     "showTitle": false,
     "title": ""
    }
   },
   "outputs": [],
   "source": [
    "def find_replace(directory, filename_filter, find, replace, filePattern=\"*.py\") -> None:\n",
    "    \"\"\"traverses through the given directory and using given conditions and pattern, does a find + replace\"\"\"\n",
    "    for path, dirs, files in os.walk(os.path.abspath(directory)):\n",
    "        print(path)\n",
    "        for filename in fnmatch.filter(files, filePattern):\n",
    "            if filename_filter.lower() in filename.lower() and 'view' not in filename.lower():\n",
    "                filepath = os.path.join(path, filename)\n",
    "                with open(filepath) as f:\n",
    "                    s = f.read()\n",
    "                if find.lower() in s.lower():\n",
    "                    s = s.replace(find, replace)\n",
    "                    print (f\"{filename} updated - [{find}] --> [{replace}]\")\n",
    "                with open(filepath, \"w\") as f:\n",
    "                    f.write(s)\n"
   ]
  },
  {
   "cell_type": "markdown",
   "metadata": {
    "application/vnd.databricks.v1+cell": {
     "cellMetadata": {},
     "inputWidgets": {},
     "nuid": "8417eaa0-571d-4d56-a234-8955c7b9caef",
     "showTitle": false,
     "title": ""
    }
   },
   "source": [
    "**Usecase1 Cleansed Notebooks' Refactoring**"
   ]
  },
  {
   "cell_type": "markdown",
   "metadata": {
    "application/vnd.databricks.v1+cell": {
     "cellMetadata": {},
     "inputWidgets": {},
     "nuid": "1ad05772-d5c5-4629-9f0f-3b1b322a9e55",
     "showTitle": false,
     "title": ""
    }
   },
   "source": [
    "Replacing \"access_\" with \"access.\" in notebooks under \"/Databricks/notebooks/cleansed/ACCESS Data/\""
   ]
  },
  {
   "cell_type": "code",
   "execution_count": 0,
   "metadata": {
    "application/vnd.databricks.v1+cell": {
     "cellMetadata": {},
     "inputWidgets": {},
     "nuid": "73b4f52b-99e2-4e74-827b-554a4fd5a537",
     "showTitle": false,
     "title": ""
    }
   },
   "outputs": [],
   "source": [
    "directory = \"../../notebooks/cleansed/ACCESS Data/\"\n",
    "\n",
    "findstr     = '{ADS_DATABASE_CLEANSED}.access_'\n",
    "replacestr  = '{ADS_DATABASE_CLEANSED}.access.'\n",
    "find_replace(directory, '', findstr, replacestr)\n",
    "\n",
    "print('Iteration 2')\n",
    "findstr     = 'cleansed.access_'\n",
    "replacestr  = '{ADS_DATABASE_CLEANSED}.access.'\n",
    "find_replace(directory, '', findstr, replacestr)"
   ]
  },
  {
   "cell_type": "markdown",
   "metadata": {
    "application/vnd.databricks.v1+cell": {
     "cellMetadata": {},
     "inputWidgets": {},
     "nuid": "66e683f4-40c8-40d0-adb4-3eeb629c2b2b",
     "showTitle": false,
     "title": ""
    }
   },
   "source": [
    "Replacing \"access_\" with \"access.\" in notebooks under \"/Databricks/notebooks/cleansed/ACCESS Ref/\""
   ]
  },
  {
   "cell_type": "code",
   "execution_count": 0,
   "metadata": {
    "application/vnd.databricks.v1+cell": {
     "cellMetadata": {},
     "inputWidgets": {},
     "nuid": "3c24aac3-eb38-4654-94dc-8387b15f5a59",
     "showTitle": false,
     "title": ""
    }
   },
   "outputs": [],
   "source": [
    "directory = \"../../notebooks/cleansed/ACCESS Ref/\"\n",
    "\n",
    "findstr     = '{ADS_DATABASE_CLEANSED}.access_'\n",
    "replacestr  = '{ADS_DATABASE_CLEANSED}.access.'\n",
    "find_replace(directory, '', findstr, replacestr)\n",
    "\n",
    "print('Iteration 2')\n",
    "findstr     = 'cleansed.access_'\n",
    "replacestr  = '{ADS_DATABASE_CLEANSED}.access.'\n",
    "find_replace(directory, '', findstr, replacestr)"
   ]
  },
  {
   "cell_type": "markdown",
   "metadata": {
    "application/vnd.databricks.v1+cell": {
     "cellMetadata": {},
     "inputWidgets": {},
     "nuid": "8569ed93-2923-4896-857c-23bc31d0da17",
     "showTitle": false,
     "title": ""
    }
   },
   "source": [
    "Replacing \"access_\" with \"access.\" in notebooks under \"/Databricks/notebooks/cleansed/ACCESS Timeslices/\""
   ]
  },
  {
   "cell_type": "code",
   "execution_count": 0,
   "metadata": {
    "application/vnd.databricks.v1+cell": {
     "cellMetadata": {},
     "inputWidgets": {},
     "nuid": "9b5aadb7-d31c-4767-a451-dcd9289c738c",
     "showTitle": false,
     "title": ""
    }
   },
   "outputs": [],
   "source": [
    "directory = \"../../notebooks/cleansed/ACCESS Timeslices/\"\n",
    "\n",
    "findstr     = '{ADS_DATABASE_CLEANSED}.access_'\n",
    "replacestr  = '{ADS_DATABASE_CLEANSED}.access.'\n",
    "find_replace(directory, '', findstr, replacestr)\n",
    "\n",
    "print('Iteration 2')\n",
    "findstr     = 'cleansed.access_'\n",
    "replacestr  = '{ADS_DATABASE_CLEANSED}.access.'\n",
    "find_replace(directory, '', findstr, replacestr)"
   ]
  },
  {
   "cell_type": "markdown",
   "metadata": {
    "application/vnd.databricks.v1+cell": {
     "cellMetadata": {},
     "inputWidgets": {},
     "nuid": "e5708e83-f621-477b-b34c-059b29aabe35",
     "showTitle": false,
     "title": ""
    }
   },
   "source": [
    "Replacing \"crm_\" with \"crm.\" in notebooks under \"/Databricks/notebooks/cleansed/CRM Data/\""
   ]
  },
  {
   "cell_type": "code",
   "execution_count": 0,
   "metadata": {
    "application/vnd.databricks.v1+cell": {
     "cellMetadata": {},
     "inputWidgets": {},
     "nuid": "3e832f51-b5e8-4d7f-b158-f0ff5e32aad4",
     "showTitle": false,
     "title": ""
    }
   },
   "outputs": [],
   "source": [
    "directory = \"../../notebooks/cleansed/CRM Data/\"\n",
    "\n",
    "findstr     = '{ADS_DATABASE_CLEANSED}.crm_'\n",
    "replacestr  = '{ADS_DATABASE_CLEANSED}.crm.'\n",
    "find_replace(directory, '', findstr, replacestr)\n",
    "\n",
    "print('Iteration 2')\n",
    "findstr     = 'cleansed.crm_'\n",
    "replacestr  = '{ADS_DATABASE_CLEANSED}.crm.'\n",
    "find_replace(directory, '', findstr, replacestr)"
   ]
  },
  {
   "cell_type": "markdown",
   "metadata": {
    "application/vnd.databricks.v1+cell": {
     "cellMetadata": {},
     "inputWidgets": {},
     "nuid": "f58b869c-824c-4fa9-8f18-86ffa2cb3783",
     "showTitle": false,
     "title": ""
    }
   },
   "source": [
    "Replacing \"crm_\" with \"crm.\" in notebooks under \"/Databricks/notebooks/cleansed/CRM Ref/\""
   ]
  },
  {
   "cell_type": "code",
   "execution_count": 0,
   "metadata": {
    "application/vnd.databricks.v1+cell": {
     "cellMetadata": {},
     "inputWidgets": {},
     "nuid": "49f3629a-7550-4d03-9ca9-5e7b40b3d498",
     "showTitle": false,
     "title": ""
    }
   },
   "outputs": [],
   "source": [
    "directory = \"../../notebooks/cleansed/CRM Ref/\"\n",
    "\n",
    "findstr     = '{ADS_DATABASE_CLEANSED}.crm_'\n",
    "replacestr  = '{ADS_DATABASE_CLEANSED}.crm.'\n",
    "find_replace(directory, '', findstr, replacestr)\n",
    "\n",
    "print('Iteration 2')\n",
    "findstr     = 'cleansed.crm_'\n",
    "replacestr  = '{ADS_DATABASE_CLEANSED}.crm.'\n",
    "find_replace(directory, '', findstr, replacestr)"
   ]
  },
  {
   "cell_type": "markdown",
   "metadata": {
    "application/vnd.databricks.v1+cell": {
     "cellMetadata": {},
     "inputWidgets": {},
     "nuid": "6d6386b5-7d5c-4ef3-854a-080094b7c7fa",
     "showTitle": false,
     "title": ""
    }
   },
   "source": [
    "Replacing \"hydra_\" with \"hydra.\" in notebooks under \"/Databricks/notebooks/cleansed/HYDRA Data/\""
   ]
  },
  {
   "cell_type": "code",
   "execution_count": 0,
   "metadata": {
    "application/vnd.databricks.v1+cell": {
     "cellMetadata": {},
     "inputWidgets": {},
     "nuid": "b5191c6c-41af-4fe7-9d95-509168d53e12",
     "showTitle": false,
     "title": ""
    }
   },
   "outputs": [],
   "source": [
    "directory = \"../../notebooks/cleansed/HYDRA Data/\"\n",
    "\n",
    "findstr     = '{ADS_DATABASE_CLEANSED}.hydra_'\n",
    "replacestr  = '{ADS_DATABASE_CLEANSED}.hydra.'\n",
    "find_replace(directory, '', findstr, replacestr)\n",
    "\n",
    "print('Iteration 2')\n",
    "findstr     = 'cleansed.hydra_'\n",
    "replacestr  = '{ADS_DATABASE_CLEANSED}.hydra.'\n",
    "find_replace(directory, '', findstr, replacestr)"
   ]
  },
  {
   "cell_type": "markdown",
   "metadata": {
    "application/vnd.databricks.v1+cell": {
     "cellMetadata": {},
     "inputWidgets": {},
     "nuid": "816b460e-9e99-4f2e-8853-414232a342a3",
     "showTitle": false,
     "title": ""
    }
   },
   "source": [
    "Replacing \"hydra_\" with \"hydra.\" in notebooks under \"/Databricks/notebooks/cleansed/HYDRA Ref/\""
   ]
  },
  {
   "cell_type": "code",
   "execution_count": 0,
   "metadata": {
    "application/vnd.databricks.v1+cell": {
     "cellMetadata": {},
     "inputWidgets": {},
     "nuid": "0d40ec7c-4846-4a4c-b172-9a658f8fc566",
     "showTitle": false,
     "title": ""
    }
   },
   "outputs": [],
   "source": [
    "directory = \"../../notebooks/cleansed/HYDRA Ref/\"\n",
    "\n",
    "findstr     = '{ADS_DATABASE_CLEANSED}.hydra_'\n",
    "replacestr  = '{ADS_DATABASE_CLEANSED}.hydra.'\n",
    "find_replace(directory, '', findstr, replacestr)\n",
    "\n",
    "print('Iteration 2')\n",
    "findstr     = 'cleansed.hydra_'\n",
    "replacestr  = '{ADS_DATABASE_CLEANSED}.hydra.'\n",
    "find_replace(directory, '', findstr, replacestr)"
   ]
  },
  {
   "cell_type": "markdown",
   "metadata": {
    "application/vnd.databricks.v1+cell": {
     "cellMetadata": {},
     "inputWidgets": {},
     "nuid": "01130f32-944d-4f41-802f-7c34762e9b1e",
     "showTitle": false,
     "title": ""
    }
   },
   "source": [
    "Replacing \"isu_\" with \"isu.\" in notebooks under \"/Databricks/notebooks/cleansed/ISU Data/\""
   ]
  },
  {
   "cell_type": "code",
   "execution_count": 0,
   "metadata": {
    "application/vnd.databricks.v1+cell": {
     "cellMetadata": {},
     "inputWidgets": {},
     "nuid": "3899ad31-61e4-4d36-a4fc-2782d298c745",
     "showTitle": false,
     "title": ""
    }
   },
   "outputs": [],
   "source": [
    "directory = \"../../notebooks/cleansed/ISU Data/\"\n",
    "\n",
    "findstr     = '{ADS_DATABASE_CLEANSED}.isu_'\n",
    "replacestr  = '{ADS_DATABASE_CLEANSED}.isu.'\n",
    "find_replace(directory, '', findstr, replacestr)\n",
    "\n",
    "print('Iteration 2')\n",
    "findstr     = 'cleansed.isu_'\n",
    "replacestr  = '{ADS_DATABASE_CLEANSED}.isu.'\n",
    "find_replace(directory, '', findstr, replacestr)"
   ]
  },
  {
   "cell_type": "markdown",
   "metadata": {
    "application/vnd.databricks.v1+cell": {
     "cellMetadata": {},
     "inputWidgets": {},
     "nuid": "1bcce853-2a31-4e9f-956c-4b033e3616dc",
     "showTitle": false,
     "title": ""
    }
   },
   "source": [
    "Replacing \"isu_\" with \"isu.\" in notebooks under \"/Databricks/notebooks/cleansed/ISU Ref/\""
   ]
  },
  {
   "cell_type": "code",
   "execution_count": 0,
   "metadata": {
    "application/vnd.databricks.v1+cell": {
     "cellMetadata": {},
     "inputWidgets": {},
     "nuid": "141155fe-c7aa-4692-9f63-6454eb322e08",
     "showTitle": false,
     "title": ""
    }
   },
   "outputs": [],
   "source": [
    "directory = \"../../notebooks/cleansed/ISU Ref/\"\n",
    "\n",
    "findstr     = '{ADS_DATABASE_CLEANSED}.isu_'\n",
    "replacestr  = '{ADS_DATABASE_CLEANSED}.isu.'\n",
    "find_replace(directory, '', findstr, replacestr)\n",
    "\n",
    "print('Iteration 2')\n",
    "findstr     = 'cleansed.isu_'\n",
    "replacestr  = '{ADS_DATABASE_CLEANSED}.isu.'\n",
    "find_replace(directory, '', findstr, replacestr)"
   ]
  },
  {
   "cell_type": "markdown",
   "metadata": {
    "application/vnd.databricks.v1+cell": {
     "cellMetadata": {},
     "inputWidgets": {},
     "nuid": "c86f9202-8dd5-4239-892b-45847b5ce8ca",
     "showTitle": false,
     "title": ""
    }
   },
   "source": [
    "Replacing \"isu_\" with \"isu.\" in notebooks under \"/Databricks/notebooks/cleansed/ISU SLT/\""
   ]
  },
  {
   "cell_type": "code",
   "execution_count": 0,
   "metadata": {
    "application/vnd.databricks.v1+cell": {
     "cellMetadata": {},
     "inputWidgets": {},
     "nuid": "7e1ec563-d9d7-4ed2-b6c3-1022d03d5c87",
     "showTitle": false,
     "title": ""
    }
   },
   "outputs": [],
   "source": [
    "directory = \"../../notebooks/cleansed/ISU SLT/\"\n",
    "\n",
    "findstr     = '{ADS_DATABASE_CLEANSED}.isu_'\n",
    "replacestr  = '{ADS_DATABASE_CLEANSED}.isu.'\n",
    "find_replace(directory, '', findstr, replacestr)\n",
    "\n",
    "print('Iteration 2')\n",
    "findstr     = 'cleansed.isu_'\n",
    "replacestr  = '{ADS_DATABASE_CLEANSED}.isu.'\n",
    "find_replace(directory, '', findstr, replacestr)"
   ]
  },
  {
   "cell_type": "markdown",
   "metadata": {
    "application/vnd.databricks.v1+cell": {
     "cellMetadata": {},
     "inputWidgets": {},
     "nuid": "c9f1e310-bc0b-4bcc-b0cf-fa7c8d79a33a",
     "showTitle": false,
     "title": ""
    }
   },
   "source": [
    "**Usecase1 Curated Notebooks' Refactoring**"
   ]
  },
  {
   "cell_type": "markdown",
   "metadata": {
    "application/vnd.databricks.v1+cell": {
     "cellMetadata": {},
     "inputWidgets": {},
     "nuid": "f51901b4-fe9f-4e26-8257-1959bebff5d3",
     "showTitle": false,
     "title": ""
    }
   },
   "source": [
    "Replacing \"isu_\" with \"isu.\" in notebooks under \"/Databricks/notebooks/curated/\""
   ]
  },
  {
   "cell_type": "code",
   "execution_count": 0,
   "metadata": {
    "application/vnd.databricks.v1+cell": {
     "cellMetadata": {},
     "inputWidgets": {},
     "nuid": "bfda60e1-6144-4be9-a91a-824061d1edc0",
     "showTitle": false,
     "title": ""
    }
   },
   "outputs": [],
   "source": [
    "directory = \"../../notebooks/curated/\"\n",
    "\n",
    "findstr     = '{ADS_DATABASE_CLEANSED}.isu_'\n",
    "replacestr  = '{ADS_DATABASE_CLEANSED}.isu.'\n",
    "find_replace(directory, '', findstr, replacestr)\n",
    "\n",
    "print('Iteration 2')\n",
    "findstr     = 'cleansed.isu_'\n",
    "replacestr  = '{ADS_DATABASE_CLEANSED}.isu.'\n",
    "find_replace(directory, '', findstr, replacestr)"
   ]
  },
  {
   "cell_type": "markdown",
   "metadata": {
    "application/vnd.databricks.v1+cell": {
     "cellMetadata": {},
     "inputWidgets": {},
     "nuid": "ac0afdc7-62b4-470f-91e1-598fcbab21a8",
     "showTitle": false,
     "title": ""
    }
   },
   "source": [
    "Replacing \"crm_\" with \"crm.\" in notebooks under \"/Databricks/notebooks/curated/\""
   ]
  },
  {
   "cell_type": "code",
   "execution_count": 0,
   "metadata": {
    "application/vnd.databricks.v1+cell": {
     "cellMetadata": {},
     "inputWidgets": {},
     "nuid": "4ca177d2-7a31-4602-a10c-98ad0f755385",
     "showTitle": false,
     "title": ""
    }
   },
   "outputs": [],
   "source": [
    "directory = \"../../notebooks/curated/\"\n",
    "\n",
    "findstr = '{ADS_DATABASE_CLEANSED}.crm_'\n",
    "replacestr = '{ADS_DATABASE_CLEANSED}.crm.'\n",
    "find_replace(directory, '', findstr, replacestr)\n",
    "\n",
    "print('Iteration 2')\n",
    "findstr = 'cleansed.crm_'\n",
    "replacestr = '{ADS_DATABASE_CLEANSED}.crm.'\n",
    "find_replace(directory, '', findstr, replacestr)"
   ]
  },
  {
   "cell_type": "markdown",
   "metadata": {
    "application/vnd.databricks.v1+cell": {
     "cellMetadata": {},
     "inputWidgets": {},
     "nuid": "7e59c5bf-84e0-45b7-a713-34894ceca72d",
     "showTitle": false,
     "title": ""
    }
   },
   "source": [
    "Replacing \"hydra_\" with \"hydra.\" in notebooks under \"/Databricks/notebooks/curated/\""
   ]
  },
  {
   "cell_type": "code",
   "execution_count": 0,
   "metadata": {
    "application/vnd.databricks.v1+cell": {
     "cellMetadata": {},
     "inputWidgets": {},
     "nuid": "bca410f5-9089-43c8-b4da-cc57082f4080",
     "showTitle": false,
     "title": ""
    }
   },
   "outputs": [],
   "source": [
    "directory = \"../../notebooks/curated/\"\n",
    "\n",
    "findstr = '{ADS_DATABASE_CLEANSED}.hydra_'\n",
    "replacestr = '{ADS_DATABASE_CLEANSED}.hydra.'\n",
    "find_replace(directory, '', findstr, replacestr)\n",
    "\n",
    "print('Iteration 2')\n",
    "findstr = 'cleansed.hydra_'\n",
    "replacestr = '{ADS_DATABASE_CLEANSED}.hydra.'\n",
    "find_replace(directory, '', findstr, replacestr)"
   ]
  },
  {
   "cell_type": "markdown",
   "metadata": {
    "application/vnd.databricks.v1+cell": {
     "cellMetadata": {},
     "inputWidgets": {},
     "nuid": "59a74163-26f2-44f4-8850-9b9f6ce8e848",
     "showTitle": false,
     "title": ""
    }
   },
   "source": [
    "Replacing \"access_\" with \"access.\" in notebooks under \"/Databricks/notebooks/curated/\""
   ]
  },
  {
   "cell_type": "code",
   "execution_count": 0,
   "metadata": {
    "application/vnd.databricks.v1+cell": {
     "cellMetadata": {},
     "inputWidgets": {},
     "nuid": "40e99441-fc55-43f5-b735-4f2edfd0bac0",
     "showTitle": false,
     "title": ""
    }
   },
   "outputs": [],
   "source": [
    "directory = \"../../notebooks/curated/\"\n",
    "\n",
    "findstr = '{ADS_DATABASE_CLEANSED}.access_'\n",
    "replacestr = '{ADS_DATABASE_CLEANSED}.access.'\n",
    "find_replace(directory, '', findstr, replacestr)\n",
    "\n",
    "print('Iteration 2')\n",
    "findstr = 'cleansed.access_'\n",
    "replacestr = '{ADS_DATABASE_CLEANSED}.access.'\n",
    "find_replace(directory, '', findstr, replacestr)"
   ]
  },
  {
   "cell_type": "markdown",
   "metadata": {
    "application/vnd.databricks.v1+cell": {
     "cellMetadata": {},
     "inputWidgets": {},
     "nuid": "3fa76e5d-5697-4de0-81a1-c688a1c74e2b",
     "showTitle": false,
     "title": ""
    }
   },
   "source": [
    "Replacing \"curated.dim\" with \"curated.dim.\" in notebooks under \"/Databricks/notebooks/curated/\""
   ]
  },
  {
   "cell_type": "code",
   "execution_count": 0,
   "metadata": {
    "application/vnd.databricks.v1+cell": {
     "cellMetadata": {},
     "inputWidgets": {},
     "nuid": "edadbb08-4554-4d22-9d07-0ef05c7a29c8",
     "showTitle": false,
     "title": ""
    }
   },
   "outputs": [],
   "source": [
    "directory = \"../../notebooks/curated/01 dimensions\"\n",
    "\n",
    "findstr = '{ADS_DATABASE_CURATED}.dim'\n",
    "replacestr = '{ADS_DATABASE_CURATED}.dim.'\n",
    "find_replace(directory, '', findstr, replacestr)\n",
    "\n",
    "print('Iteration 2')\n",
    "findstr = 'curated.dim'\n",
    "replacestr = '{ADS_DATABASE_CURATED}.dim.'\n",
    "find_replace(directory, '', findstr, replacestr)"
   ]
  },
  {
   "cell_type": "markdown",
   "metadata": {
    "application/vnd.databricks.v1+cell": {
     "cellMetadata": {},
     "inputWidgets": {},
     "nuid": "a3ccb3d5-1ff8-40c6-b48b-597c04c7fcd5",
     "showTitle": false,
     "title": ""
    }
   },
   "source": [
    "Removing \"dim\" from dimension names as the dimensions would be created under \"dim\" schema in notebooks under \"/Databricks/notebooks/curated/\""
   ]
  },
  {
   "cell_type": "code",
   "execution_count": 0,
   "metadata": {
    "application/vnd.databricks.v1+cell": {
     "cellMetadata": {},
     "inputWidgets": {},
     "nuid": "3391fbce-f6e2-4e39-9568-2ce8c4bcfac1",
     "showTitle": false,
     "title": ""
    }
   },
   "outputs": [],
   "source": [
    "directory = \"../../notebooks/curated/01 dimensions\"\n",
    "\n",
    "findstr = 'entity=\"dim'\n",
    "replacestr = 'entity=\"dim.'\n",
    "find_replace(directory, '', findstr, replacestr)"
   ]
  },
  {
   "cell_type": "markdown",
   "metadata": {
    "application/vnd.databricks.v1+cell": {
     "cellMetadata": {},
     "inputWidgets": {},
     "nuid": "8432b947-8b11-4709-a440-add7652e0002",
     "showTitle": false,
     "title": ""
    }
   },
   "source": [
    "Replacing \"curated.fact\" with \"curated.fact.\" in notebooks under \"/Databricks/notebooks/curated/\""
   ]
  },
  {
   "cell_type": "code",
   "execution_count": 0,
   "metadata": {
    "application/vnd.databricks.v1+cell": {
     "cellMetadata": {},
     "inputWidgets": {},
     "nuid": "15c820ec-338d-4b54-b0b8-37549101f954",
     "showTitle": false,
     "title": ""
    }
   },
   "outputs": [],
   "source": [
    "directory = \"../../notebooks/curated/02 facts\"\n",
    "\n",
    "findstr = '{ADS_DATABASE_CURATED}.fact'\n",
    "replacestr = '{ADS_DATABASE_CURATED}.fact.'\n",
    "find_replace(directory, '', findstr, replacestr)\n",
    "\n",
    "print('Iteration 2')\n",
    "findstr = 'curated.fact'\n",
    "replacestr = '{ADS_DATABASE_CURATED}.fact.'\n",
    "find_replace(directory, '', findstr, replacestr)"
   ]
  },
  {
   "cell_type": "markdown",
   "metadata": {
    "application/vnd.databricks.v1+cell": {
     "cellMetadata": {},
     "inputWidgets": {},
     "nuid": "d5d0cabf-ed93-49ea-87a8-937ef8e7fd58",
     "showTitle": false,
     "title": ""
    }
   },
   "source": [
    "Removing \"fact\" from fact names as the facts would be created under \"fact\" schema in notebooks under \"/Databricks/notebooks/curated/\""
   ]
  },
  {
   "cell_type": "code",
   "execution_count": 0,
   "metadata": {
    "application/vnd.databricks.v1+cell": {
     "cellMetadata": {},
     "inputWidgets": {},
     "nuid": "6b98ec82-afe0-4641-bf64-2226bced283c",
     "showTitle": false,
     "title": ""
    }
   },
   "outputs": [],
   "source": [
    "directory = \"../../notebooks/curated/02 facts\"\n",
    "\n",
    "findstr = 'entity=\"fact'\n",
    "replacestr = 'entity=\"fact.'\n",
    "find_replace(directory, '', findstr, replacestr)"
   ]
  },
  {
   "cell_type": "markdown",
   "metadata": {
    "application/vnd.databricks.v1+cell": {
     "cellMetadata": {},
     "inputWidgets": {},
     "nuid": "848fe4c8-4862-4c3f-9d15-392c4b09496d",
     "showTitle": false,
     "title": ""
    }
   },
   "source": [
    "**Usecase1 View Notebooks' Refactoring**"
   ]
  },
  {
   "cell_type": "markdown",
   "metadata": {
    "application/vnd.databricks.v1+cell": {
     "cellMetadata": {},
     "inputWidgets": {},
     "nuid": "1b3084bd-0fb8-4aaf-9902-007acb87ec97",
     "showTitle": false,
     "title": ""
    }
   },
   "source": [
    "Function to find a given string and replace all occurances in all the notebooks (.py) in the current direcotry and its sub directories"
   ]
  },
  {
   "cell_type": "code",
   "execution_count": 0,
   "metadata": {
    "application/vnd.databricks.v1+cell": {
     "cellMetadata": {},
     "inputWidgets": {},
     "nuid": "4cd5600c-f53e-4f1a-a88a-9cfea3b180f2",
     "showTitle": false,
     "title": ""
    }
   },
   "outputs": [],
   "source": [
    "def find_replace(directory, filename_filter, find, replace, filePattern=\"view*.py\") -> None:\n",
    "    \"\"\"traverses through the given directory and using given conditions and pattern, does a find + replace\"\"\"\n",
    "    for path, dirs, files in os.walk(os.path.abspath(directory)):\n",
    "        print(path)\n",
    "        for filename in fnmatch.filter(files, filePattern):\n",
    "            if filename_filter.lower() in filename.lower():\n",
    "                filepath = os.path.join(path, filename)\n",
    "                with open(filepath) as f:\n",
    "                    s = f.read()\n",
    "                if find in s:\n",
    "                    s = s.replace(find, replace)\n",
    "                    print (f\"{filename} updated - [{find}] --> [{replace}]\")\n",
    "                with open(filepath, \"w\") as f:\n",
    "                    f.write(s)"
   ]
  },
  {
   "cell_type": "markdown",
   "metadata": {
    "application/vnd.databricks.v1+cell": {
     "cellMetadata": {},
     "inputWidgets": {},
     "nuid": "fd8702ec-3c64-4a92-ad86-e1b1801a111e",
     "showTitle": false,
     "title": ""
    }
   },
   "source": [
    "UC1 views to be created in 'water_consumption' schema, hence changing the create statement to point to the new schema in notebooks under \"/Databricks/notebooks/curated/\""
   ]
  },
  {
   "cell_type": "markdown",
   "metadata": {
    "application/vnd.databricks.v1+cell": {
     "cellMetadata": {},
     "inputWidgets": {},
     "nuid": "dbe5f85f-21e1-4918-b82e-4f6ef11607cf",
     "showTitle": false,
     "title": ""
    }
   },
   "source": [
    "Once the latest codebase is available in Develop branch update the view notebooks under curated/01 Dimensions folder to add the following commands.\n",
    "1. # COMMAND ----------\n",
    "\n",
    "# MAGIC %run ../common/common-curated-includeMain\n",
    "\n",
    "# COMMAND ----------\n",
    "2. spark.sql(\"\"\" -> spark.sql(f\"\"\""
   ]
  },
  {
   "cell_type": "code",
   "execution_count": 0,
   "metadata": {
    "application/vnd.databricks.v1+cell": {
     "cellMetadata": {},
     "inputWidgets": {},
     "nuid": "66ee7e46-6e20-4480-8698-b8a0a74a6a5b",
     "showTitle": false,
     "title": ""
    }
   },
   "outputs": [],
   "source": [
    "directory = \"../../notebooks/curated/\"\n",
    "\n",
    "findstr = 'CREATE OR REPLACE VIEW curated.view'\n",
    "replacestr = 'CREATE OR REPLACE VIEW {ADS_DATABASE_CURATED}.water_consumption.view'\n",
    "find_replace(directory, '', findstr, replacestr)\n",
    "\n",
    "print('Iteration 2')\n",
    "findstr = 'curated.dim'\n",
    "replacestr = '{ADS_DATABASE_CURATED}.dim.'\n",
    "find_replace(directory, '', findstr, replacestr)"
   ]
  },
  {
   "cell_type": "markdown",
   "metadata": {
    "application/vnd.databricks.v1+cell": {
     "cellMetadata": {},
     "inputWidgets": {},
     "nuid": "6b59c1b6-9119-4ffa-9a03-fe34a28cbc25",
     "showTitle": false,
     "title": ""
    }
   },
   "source": [
    "**Control DB Updates**"
   ]
  },
  {
   "cell_type": "markdown",
   "metadata": {
    "application/vnd.databricks.v1+cell": {
     "cellMetadata": {},
     "inputWidgets": {},
     "nuid": "36f7ecdd-494e-4acc-9b19-420d309ba55b",
     "showTitle": false,
     "title": ""
    }
   },
   "source": [
    "Target/Source Names in Control DB to be updated to send the right table name with the format schema.tablename to ADF pipeline. (Run the following query to get the records to be updated that could be used to validate after running the update subsequently)"
   ]
  },
  {
   "cell_type": "markdown",
   "metadata": {
    "application/vnd.databricks.v1+cell": {
     "cellMetadata": {},
     "inputWidgets": {},
     "nuid": "c0c3fddd-f1eb-4c40-be64-3d49fa45f023",
     "showTitle": false,
     "title": ""
    }
   },
   "source": [
    "select\n",
    "  cc.*,\n",
    "  ct.TargetName,\n",
    "  substring(TargetName, 1, charindex('_', TargetName, 1) -1) + '.' + substring(TargetName, charindex('_', TargetName, 1) + 1, LEN(TargetName)) updTargetName\n",
    "from\n",
    "  ctl.ControlTarget ct\n",
    "  inner join ctl.vw_ControlConfiguration cc on cc.TargetId = ct.TargetId\n",
    "where\n",
    "  TriggerName in ('BATCH_DAILY_HYDRA', 'BATCH_DAILY_SAPCRM', 'BATCH_DAILY_SAPISU')\n",
    "  and ProjectName like 'CLEANSED%'"
   ]
  },
  {
   "cell_type": "markdown",
   "metadata": {
    "application/vnd.databricks.v1+cell": {
     "cellMetadata": {},
     "inputWidgets": {},
     "nuid": "d1b40dbc-6f79-4027-b0e2-cc6b85ebfb82",
     "showTitle": false,
     "title": ""
    }
   },
   "source": [
    "with controlconfig as (\n",
    "  select\n",
    "    cc.*,\n",
    "    ct.TargetName,\n",
    "    substring(TargetName, 1, charindex('_', TargetName, 1) -1) + '.' + substring(TargetName, charindex('_', TargetName, 1) + 1, LEN(TargetName)) updTargetName\n",
    "  from\n",
    "    ctl.ControlTarget ct\n",
    "    inner join ctl.vw_ControlConfiguration cc on cc.TargetId = ct.TargetId\n",
    "  where\n",
    "    TriggerName in ('BATCH_DAILY_HYDRA', 'BATCH_DAILY_SAPCRM', 'BATCH_DAILY_SAPISU')\n",
    "    and ProjectName like 'CLEANSED%'\n",
    ")\n",
    "update\n",
    "  controlconfig\n",
    "set\n",
    "  TargetName = updTargetName;"
   ]
  },
  {
   "cell_type": "markdown",
   "metadata": {
    "application/vnd.databricks.v1+cell": {
     "cellMetadata": {},
     "inputWidgets": {},
     "nuid": "67ea40ef-4ba7-4714-8fea-b1b5a04cd910",
     "showTitle": false,
     "title": ""
    }
   },
   "source": [
    "select\n",
    "  cc.*,\n",
    "  cs.SourceName,\n",
    "  substring(SourceName, 1, charindex('_', SourceName, 1) -1) + '.' + substring(SourceName, charindex('_', SourceName, 1) + 1, LEN(SourceName)) updSourceName\n",
    "from\n",
    "  ctl.ControlSource cs\n",
    "  inner join ctl.vw_ControlConfiguration cc on cc.SourceId = cs.SourceId\n",
    "where\n",
    "  TriggerName in ('BATCH_DAILY_HYDRA', 'BATCH_DAILY_SAPCRM', 'BATCH_DAILY_SAPISU')\n",
    "  and ProjectName like 'CLEANSED%'"
   ]
  },
  {
   "cell_type": "markdown",
   "metadata": {
    "application/vnd.databricks.v1+cell": {
     "cellMetadata": {},
     "inputWidgets": {},
     "nuid": "06cf7e6c-f4d8-46f1-b9e1-8b3308155c4b",
     "showTitle": false,
     "title": ""
    }
   },
   "source": [
    "with controlconfig as (\n",
    "  select\n",
    "    cc.*,\n",
    "    cs.SourceName,\n",
    "    substring(SourceName, 1, charindex('_', SourceName, 1) -1) + '.' + substring(SourceName, charindex('_', SourceName, 1) + 1, LEN(SourceName)) updSourceName\n",
    "  from\n",
    "    ctl.ControlSource cs\n",
    "    inner join ctl.vw_ControlConfiguration cc on cc.SourceId = cs.SourceId\n",
    "  where\n",
    "    TriggerName in ('BATCH_DAILY_HYDRA', 'BATCH_DAILY_SAPCRM', 'BATCH_DAILY_SAPISU')\n",
    "    and ProjectName like 'CLEANSED%'\n",
    ")\n",
    "update\n",
    "  controlconfig\n",
    "set\n",
    "  SourceName = updSourceName;"
   ]
  }
 ],
 "metadata": {
  "application/vnd.databricks.v1+notebook": {
   "dashboards": [],
   "language": "python",
   "notebookMetadata": {},
   "notebookName": "uc1_cleansed_curated_code_refactor",
   "widgets": {}
  },
  "kernelspec": {
   "display_name": "Python 3",
   "language": "python",
   "name": "python3"
  },
  "language_info": {
   "codemirror_mode": {
    "name": "ipython",
    "version": 3
   },
   "file_extension": ".py",
   "mimetype": "text/x-python",
   "name": "python",
   "nbconvert_exporter": "python",
   "pygments_lexer": "ipython3",
   "version": "3.11.1"
  },
  "orig_nbformat": 4
 },
 "nbformat": 4,
 "nbformat_minor": 0
}
