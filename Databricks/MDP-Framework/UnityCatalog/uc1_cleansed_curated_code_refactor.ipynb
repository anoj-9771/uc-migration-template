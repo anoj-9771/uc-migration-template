{
 "cells": [
  {
   "attachments": {},
   "cell_type": "markdown",
   "metadata": {},
   "source": [
    "Implementation Plan:\n",
    "1. Update the global-variable-python.py at \\Databricks\\notebooks\\includes\\ so that the following global variables get the right database value <br>\n",
    "    ADS_DATABASE_CLEANSED = \"cleansed\"     -> ADS_DATABASE_CLEANSED = \"\\<env\\>cleansed\" <br>\n",
    "    ADS_DATABASE_CURATED = \"curated\"       -> ADS_DATABASE_CURATED = \"\\<env\\>curated\" <br>\n",
    "2. Run the following find and replace steps to update cleansed and curated notebooks to update the table prifexes with schema names in the sql statement. Source and target tables are handled through Control DB updates.<br>\n",
    "    eg: {ADS_DATABASE_CLEANSED}.crm_0BPARTNER_ATTR  -> {ADS_DATABASE_CLEANSED}.crm.0BPARTNER_ATTR <br>\n",
    "        {ADS_DATABASE_CURATED}.dimbusinesspartner   -> {ADS_DATABASE_CURATED}.dim.businesspartner <br>\n",
    "3. Update Control DB to update the source and Target names that get passed to ADF pipeline as parameters <br>"
   ]
  },
  {
   "attachments": {},
   "cell_type": "markdown",
   "metadata": {},
   "source": [
    "You can run git commands like this to get the latest version of code to work with:\n",
    "\n",
    "git checkout preprod && git pull && git checkout -B uc-code-refactor-20230225 && git checkout uc-code-refactor-20230224 ./uc1Codefix.ipynb"
   ]
  },
  {
   "cell_type": "code",
   "execution_count": 4,
   "metadata": {},
   "outputs": [],
   "source": [
    "import os, re, fnmatch"
   ]
  },
  {
   "attachments": {},
   "cell_type": "markdown",
   "metadata": {},
   "source": [
    "Function to find a given string and replace all occurances in all the notebooks (.py) in the current direcotry and its sub directories"
   ]
  },
  {
   "cell_type": "code",
   "execution_count": 7,
   "metadata": {},
   "outputs": [],
   "source": [
    "def find_replace(directory, filename_filter, find, replace, filePattern=\"*.py\") -> None:\n",
    "    \"\"\"traverses through the given directory and using given conditions and pattern, does a find + replace\"\"\"\n",
    "    for path, dirs, files in os.walk(os.path.abspath(directory)):\n",
    "        print(path)\n",
    "        for filename in fnmatch.filter(files, filePattern):\n",
    "            if filename_filter.lower() in filename.lower() and 'view' not in filename.lower():\n",
    "                filepath = os.path.join(path, filename)\n",
    "                with open(filepath) as f:\n",
    "                    s = f.read()\n",
    "                if find.lower() in s.lower():\n",
    "                    s = s.replace(find, replace)\n",
    "                    print (f\"{filename} updated - [{find}] --> [{replace}]\")\n",
    "                with open(filepath, \"w\") as f:\n",
    "                    f.write(s)\n"
   ]
  },
  {
   "attachments": {},
   "cell_type": "markdown",
   "metadata": {},
   "source": [
    "**Usecase1 Cleansed Notebooks' Refactoring**"
   ]
  },
  {
   "attachments": {},
   "cell_type": "markdown",
   "metadata": {},
   "source": [
    "Replacing \"access_\" with \"access.\" in notebooks under \"/Databricks/notebooks/cleansed/ACCESS Data/\""
   ]
  },
  {
   "cell_type": "code",
   "execution_count": 42,
   "metadata": {},
   "outputs": [
    {
     "name": "stdout",
     "output_type": "stream",
     "text": [
      "c:\\Users\\o3hz\\DAF%20POC%20REPO1\\Databricks\\notebooks\\cleansed\\ACCESS Data\n",
      "Iteration 2\n",
      "c:\\Users\\o3hz\\DAF%20POC%20REPO1\\Databricks\\notebooks\\cleansed\\ACCESS Data\n",
      "Generic Table Ingestion.py updated - [cleansed.access_] --> [{ADS_DATABASE_CLEANSED}.access.]\n",
      "Z309_TDEBIT.py updated - [cleansed.access_] --> [{ADS_DATABASE_CLEANSED}.access.]\n",
      "Z309_THLOT.py updated - [cleansed.access_] --> [{ADS_DATABASE_CLEANSED}.access.]\n",
      "Z309_THMASTRATAPLAN.py updated - [cleansed.access_] --> [{ADS_DATABASE_CLEANSED}.access.]\n",
      "Z309_THPROPERTY.py updated - [cleansed.access_] --> [{ADS_DATABASE_CLEANSED}.access.]\n",
      "Z309_THPROPERTYADDRESS.py updated - [cleansed.access_] --> [{ADS_DATABASE_CLEANSED}.access.]\n",
      "Z309_THPROPMETER.py updated - [cleansed.access_] --> [{ADS_DATABASE_CLEANSED}.access.]\n",
      "Z309_THPROPSERVFACI.py updated - [cleansed.access_] --> [{ADS_DATABASE_CLEANSED}.access.]\n",
      "Z309_THRELATEDPROPS.py updated - [cleansed.access_] --> [{ADS_DATABASE_CLEANSED}.access.]\n",
      "Z309_THYDRAAREAS.py updated - [cleansed.access_] --> [{ADS_DATABASE_CLEANSED}.access.]\n",
      "Z309_TLOT.py updated - [cleansed.access_] --> [{ADS_DATABASE_CLEANSED}.access.]\n",
      "Z309_TMETERREADING.py updated - [cleansed.access_] --> [{ADS_DATABASE_CLEANSED}.access.]\n",
      "Z309_TPROPERTY.py updated - [cleansed.access_] --> [{ADS_DATABASE_CLEANSED}.access.]\n",
      "Z309_TPROPMETER.py updated - [cleansed.access_] --> [{ADS_DATABASE_CLEANSED}.access.]\n",
      "Z309_TPROPSERVFACI.py updated - [cleansed.access_] --> [{ADS_DATABASE_CLEANSED}.access.]\n",
      "Z309_TRELATEDPROPS.py updated - [cleansed.access_] --> [{ADS_DATABASE_CLEANSED}.access.]\n",
      "Z309_TSTRATAUNITS.py updated - [cleansed.access_] --> [{ADS_DATABASE_CLEANSED}.access.]\n"
     ]
    }
   ],
   "source": [
    "directory = \"../../notebooks/cleansed/ACCESS Data/\"\n",
    "\n",
    "findstr     = '{ADS_DATABASE_CLEANSED}.access_'\n",
    "replacestr  = '{ADS_DATABASE_CLEANSED}.access.'\n",
    "find_replace(directory, '', findstr, replacestr)\n",
    "\n",
    "print('Iteration 2')\n",
    "findstr     = 'cleansed.access_'\n",
    "replacestr  = '{ADS_DATABASE_CLEANSED}.access.'\n",
    "find_replace(directory, '', findstr, replacestr)"
   ]
  },
  {
   "attachments": {},
   "cell_type": "markdown",
   "metadata": {},
   "source": [
    "Replacing \"access_\" with \"access.\" in notebooks under \"/Databricks/notebooks/cleansed/ACCESS Ref/\""
   ]
  },
  {
   "cell_type": "code",
   "execution_count": 43,
   "metadata": {},
   "outputs": [
    {
     "name": "stdout",
     "output_type": "stream",
     "text": [
      "c:\\Users\\o3hz\\DAF%20POC%20REPO1\\Databricks\\notebooks\\cleansed\\ACCESS Ref\n",
      "Iteration 2\n",
      "c:\\Users\\o3hz\\DAF%20POC%20REPO1\\Databricks\\notebooks\\cleansed\\ACCESS Ref\n",
      "Z309_TDEBITTYPE.py updated - [cleansed.access_] --> [{ADS_DATABASE_CLEANSED}.access.]\n",
      "Z309_TDPIDCODE.py updated - [cleansed.access_] --> [{ADS_DATABASE_CLEANSED}.access.]\n",
      "Z309_THSTREETGUIDE.py updated - [cleansed.access_] --> [{ADS_DATABASE_CLEANSED}.access.]\n"
     ]
    }
   ],
   "source": [
    "directory = \"../../notebooks/cleansed/ACCESS Ref/\"\n",
    "\n",
    "findstr     = '{ADS_DATABASE_CLEANSED}.access_'\n",
    "replacestr  = '{ADS_DATABASE_CLEANSED}.access.'\n",
    "find_replace(directory, '', findstr, replacestr)\n",
    "\n",
    "print('Iteration 2')\n",
    "findstr     = 'cleansed.access_'\n",
    "replacestr  = '{ADS_DATABASE_CLEANSED}.access.'\n",
    "find_replace(directory, '', findstr, replacestr)"
   ]
  },
  {
   "attachments": {},
   "cell_type": "markdown",
   "metadata": {},
   "source": [
    "Replacing \"access_\" with \"access.\" in notebooks under \"/Databricks/notebooks/cleansed/ACCESS Timeslices/\""
   ]
  },
  {
   "cell_type": "code",
   "execution_count": 44,
   "metadata": {},
   "outputs": [
    {
     "name": "stdout",
     "output_type": "stream",
     "text": [
      "c:\\Users\\o3hz\\DAF%20POC%20REPO1\\Databricks\\notebooks\\cleansed\\ACCESS Timeslices\n",
      "Iteration 2\n",
      "c:\\Users\\o3hz\\DAF%20POC%20REPO1\\Databricks\\notebooks\\cleansed\\ACCESS Timeslices\n",
      "LocationDev.py updated - [cleansed.access_] --> [{ADS_DATABASE_CLEANSED}.access.]\n",
      "meterTimeslice.py updated - [cleansed.access_] --> [{ADS_DATABASE_CLEANSED}.access.]\n",
      "meterTimeslice_Fix.py updated - [cleansed.access_] --> [{ADS_DATABASE_CLEANSED}.access.]\n",
      "propertyAddressTimeslice.py updated - [cleansed.access_] --> [{ADS_DATABASE_CLEANSED}.access.]\n",
      "RerunAllTimeSlice.py updated - [cleansed.access_] --> [{ADS_DATABASE_CLEANSED}.access.]\n"
     ]
    }
   ],
   "source": [
    "directory = \"../../notebooks/cleansed/ACCESS Timeslices/\"\n",
    "\n",
    "findstr     = '{ADS_DATABASE_CLEANSED}.access_'\n",
    "replacestr  = '{ADS_DATABASE_CLEANSED}.access.'\n",
    "find_replace(directory, '', findstr, replacestr)\n",
    "\n",
    "print('Iteration 2')\n",
    "findstr     = 'cleansed.access_'\n",
    "replacestr  = '{ADS_DATABASE_CLEANSED}.access.'\n",
    "find_replace(directory, '', findstr, replacestr)"
   ]
  },
  {
   "attachments": {},
   "cell_type": "markdown",
   "metadata": {},
   "source": [
    "Replacing \"crm_\" with \"crm.\" in notebooks under \"/Databricks/notebooks/cleansed/CRM Data/\""
   ]
  },
  {
   "cell_type": "code",
   "execution_count": 45,
   "metadata": {},
   "outputs": [
    {
     "name": "stdout",
     "output_type": "stream",
     "text": [
      "c:\\Users\\o3hz\\DAF%20POC%20REPO1\\Databricks\\notebooks\\cleansed\\CRM Data\n",
      "0BPARTNER_ATTR.py updated - [{ADS_DATABASE_CLEANSED}.crm_] --> [{ADS_DATABASE_CLEANSED}.crm.]\n",
      "0BP_DEF_ADDRESS_ATTR.py updated - [{ADS_DATABASE_CLEANSED}.crm_] --> [{ADS_DATABASE_CLEANSED}.crm.]\n",
      "0BP_ID_ATTR.py updated - [{ADS_DATABASE_CLEANSED}.crm_] --> [{ADS_DATABASE_CLEANSED}.crm.]\n",
      "0BP_RELATIONS_ATTR.py updated - [{ADS_DATABASE_CLEANSED}.crm_] --> [{ADS_DATABASE_CLEANSED}.crm.]\n",
      "UTILITIESCONTRACT.py updated - [{ADS_DATABASE_CLEANSED}.crm_] --> [{ADS_DATABASE_CLEANSED}.crm.]\n",
      "Iteration 2\n",
      "c:\\Users\\o3hz\\DAF%20POC%20REPO1\\Databricks\\notebooks\\cleansed\\CRM Data\n",
      "0BP_ID_ATTR.py updated - [cleansed.crm_] --> [{ADS_DATABASE_CLEANSED}.crm.]\n"
     ]
    }
   ],
   "source": [
    "directory = \"../../notebooks/cleansed/CRM Data/\"\n",
    "\n",
    "findstr     = '{ADS_DATABASE_CLEANSED}.crm_'\n",
    "replacestr  = '{ADS_DATABASE_CLEANSED}.crm.'\n",
    "find_replace(directory, '', findstr, replacestr)\n",
    "\n",
    "print('Iteration 2')\n",
    "findstr     = 'cleansed.crm_'\n",
    "replacestr  = '{ADS_DATABASE_CLEANSED}.crm.'\n",
    "find_replace(directory, '', findstr, replacestr)"
   ]
  },
  {
   "attachments": {},
   "cell_type": "markdown",
   "metadata": {},
   "source": [
    "Replacing \"crm_\" with \"crm.\" in notebooks under \"/Databricks/notebooks/cleansed/CRM Ref/\""
   ]
  },
  {
   "cell_type": "code",
   "execution_count": 46,
   "metadata": {},
   "outputs": [
    {
     "name": "stdout",
     "output_type": "stream",
     "text": [
      "c:\\Users\\o3hz\\DAF%20POC%20REPO1\\Databricks\\notebooks\\cleansed\\CRM Ref\n",
      "Iteration 2\n",
      "c:\\Users\\o3hz\\DAF%20POC%20REPO1\\Databricks\\notebooks\\cleansed\\CRM Ref\n"
     ]
    }
   ],
   "source": [
    "directory = \"../../notebooks/cleansed/CRM Ref/\"\n",
    "\n",
    "findstr     = '{ADS_DATABASE_CLEANSED}.crm_'\n",
    "replacestr  = '{ADS_DATABASE_CLEANSED}.crm.'\n",
    "find_replace(directory, '', findstr, replacestr)\n",
    "\n",
    "print('Iteration 2')\n",
    "findstr     = 'cleansed.crm_'\n",
    "replacestr  = '{ADS_DATABASE_CLEANSED}.crm.'\n",
    "find_replace(directory, '', findstr, replacestr)"
   ]
  },
  {
   "attachments": {},
   "cell_type": "markdown",
   "metadata": {},
   "source": [
    "Replacing \"hydra_\" with \"hydra.\" in notebooks under \"/Databricks/notebooks/cleansed/HYDRA Data/\""
   ]
  },
  {
   "cell_type": "code",
   "execution_count": 47,
   "metadata": {},
   "outputs": [
    {
     "name": "stdout",
     "output_type": "stream",
     "text": [
      "c:\\Users\\o3hz\\DAF%20POC%20REPO1\\Databricks\\notebooks\\cleansed\\HYDRA Data\n",
      "TLOTPARCEL.py updated - [{ADS_DATABASE_CLEANSED}.hydra_] --> [{ADS_DATABASE_CLEANSED}.hydra.]\n",
      "Iteration 2\n",
      "c:\\Users\\o3hz\\DAF%20POC%20REPO1\\Databricks\\notebooks\\cleansed\\HYDRA Data\n"
     ]
    }
   ],
   "source": [
    "directory = \"../../notebooks/cleansed/HYDRA Data/\"\n",
    "\n",
    "findstr     = '{ADS_DATABASE_CLEANSED}.hydra_'\n",
    "replacestr  = '{ADS_DATABASE_CLEANSED}.hydra.'\n",
    "find_replace(directory, '', findstr, replacestr)\n",
    "\n",
    "print('Iteration 2')\n",
    "findstr     = 'cleansed.hydra_'\n",
    "replacestr  = '{ADS_DATABASE_CLEANSED}.hydra.'\n",
    "find_replace(directory, '', findstr, replacestr)"
   ]
  },
  {
   "attachments": {},
   "cell_type": "markdown",
   "metadata": {},
   "source": [
    "Replacing \"hydra_\" with \"hydra.\" in notebooks under \"/Databricks/notebooks/cleansed/HYDRA Ref/\""
   ]
  },
  {
   "cell_type": "code",
   "execution_count": 48,
   "metadata": {},
   "outputs": [
    {
     "name": "stdout",
     "output_type": "stream",
     "text": [
      "c:\\Users\\o3hz\\DAF%20POC%20REPO1\\Databricks\\notebooks\\cleansed\\HYDRA Ref\n",
      "Iteration 2\n",
      "c:\\Users\\o3hz\\DAF%20POC%20REPO1\\Databricks\\notebooks\\cleansed\\HYDRA Ref\n"
     ]
    }
   ],
   "source": [
    "directory = \"../../notebooks/cleansed/HYDRA Ref/\"\n",
    "\n",
    "findstr     = '{ADS_DATABASE_CLEANSED}.hydra_'\n",
    "replacestr  = '{ADS_DATABASE_CLEANSED}.hydra.'\n",
    "find_replace(directory, '', findstr, replacestr)\n",
    "\n",
    "print('Iteration 2')\n",
    "findstr     = 'cleansed.hydra_'\n",
    "replacestr  = '{ADS_DATABASE_CLEANSED}.hydra.'\n",
    "find_replace(directory, '', findstr, replacestr)"
   ]
  },
  {
   "attachments": {},
   "cell_type": "markdown",
   "metadata": {},
   "source": [
    "Replacing \"isu_\" with \"isu.\" in notebooks under \"/Databricks/notebooks/cleansed/ISU Data/\""
   ]
  },
  {
   "cell_type": "code",
   "execution_count": 49,
   "metadata": {},
   "outputs": [
    {
     "name": "stdout",
     "output_type": "stream",
     "text": [
      "c:\\Users\\o3hz\\DAF%20POC%20REPO1\\Databricks\\notebooks\\cleansed\\ISU Data\n",
      "0BPARTNER_ATTR.py updated - [{ADS_DATABASE_CLEANSED}.isu_] --> [{ADS_DATABASE_CLEANSED}.isu.]\n",
      "0BP_DEF_ADDRESS_ATTR.py updated - [{ADS_DATABASE_CLEANSED}.isu_] --> [{ADS_DATABASE_CLEANSED}.isu.]\n",
      "0BP_ID_ATTR.py updated - [{ADS_DATABASE_CLEANSED}.isu_] --> [{ADS_DATABASE_CLEANSED}.isu.]\n",
      "0BP_RELATIONS_ATTR.py updated - [{ADS_DATABASE_CLEANSED}.isu_] --> [{ADS_DATABASE_CLEANSED}.isu.]\n",
      "0CACONT_ACC_ATTR_2.py updated - [{ADS_DATABASE_CLEANSED}.isu_] --> [{ADS_DATABASE_CLEANSED}.isu.]\n",
      "0EQUIPMENT_ATTR.py updated - [{ADS_DATABASE_CLEANSED}.isu_] --> [{ADS_DATABASE_CLEANSED}.isu.]\n",
      "0FC_BP_ITEMS.py updated - [{ADS_DATABASE_CLEANSED}.isu_] --> [{ADS_DATABASE_CLEANSED}.isu.]\n",
      "0FUNCT_LOC_ATTR.py updated - [{ADS_DATABASE_CLEANSED}.isu_] --> [{ADS_DATABASE_CLEANSED}.isu.]\n",
      "0UCCONTRACTH_ATTR_2.py updated - [{ADS_DATABASE_CLEANSED}.isu_] --> [{ADS_DATABASE_CLEANSED}.isu.]\n",
      "0UCCONTRACT_ATTR_2.py updated - [{ADS_DATABASE_CLEANSED}.isu_] --> [{ADS_DATABASE_CLEANSED}.isu.]\n",
      "0UCINSTALLAH_ATTR_2.py updated - [{ADS_DATABASE_CLEANSED}.isu_] --> [{ADS_DATABASE_CLEANSED}.isu.]\n",
      "0UCINSTALLA_ATTR_2.py updated - [{ADS_DATABASE_CLEANSED}.isu_] --> [{ADS_DATABASE_CLEANSED}.isu.]\n",
      "0UCMTRDUNIT_ATTR.py updated - [{ADS_DATABASE_CLEANSED}.isu_] --> [{ADS_DATABASE_CLEANSED}.isu.]\n",
      "0UC_ACCNTBP_ATTR_2.py updated - [{ADS_DATABASE_CLEANSED}.isu_] --> [{ADS_DATABASE_CLEANSED}.isu.]\n",
      "0UC_CONNOBJ_ATTR_2.py updated - [{ADS_DATABASE_CLEANSED}.isu_] --> [{ADS_DATABASE_CLEANSED}.isu.]\n",
      "0UC_DEVCAT_ATTR.py updated - [{ADS_DATABASE_CLEANSED}.isu_] --> [{ADS_DATABASE_CLEANSED}.isu.]\n",
      "0UC_DEVICEH_ATTR.py updated - [{ADS_DATABASE_CLEANSED}.isu_] --> [{ADS_DATABASE_CLEANSED}.isu.]\n",
      "0UC_DEVINST_ATTR.py updated - [{ADS_DATABASE_CLEANSED}.isu_] --> [{ADS_DATABASE_CLEANSED}.isu.]\n",
      "0UC_ISU_32.py updated - [{ADS_DATABASE_CLEANSED}.isu_] --> [{ADS_DATABASE_CLEANSED}.isu.]\n",
      "0UC_MTR_DOC.py updated - [{ADS_DATABASE_CLEANSED}.isu_] --> [{ADS_DATABASE_CLEANSED}.isu.]\n",
      "0UC_REGINST_STR_ATTR.py updated - [{ADS_DATABASE_CLEANSED}.isu_] --> [{ADS_DATABASE_CLEANSED}.isu.]\n",
      "0UC_REGIST_ATTR.py updated - [{ADS_DATABASE_CLEANSED}.isu_] --> [{ADS_DATABASE_CLEANSED}.isu.]\n",
      "ETTIFN.py updated - [{ADS_DATABASE_CLEANSED}.isu_] --> [{ADS_DATABASE_CLEANSED}.isu.]\n",
      "VIBDNODE.py updated - [{ADS_DATABASE_CLEANSED}.isu_] --> [{ADS_DATABASE_CLEANSED}.isu.]\n",
      "ZCD_TPROPTY_HIST.py updated - [{ADS_DATABASE_CLEANSED}.isu_] --> [{ADS_DATABASE_CLEANSED}.isu.]\n",
      "ZCD_TPROP_REL.py updated - [{ADS_DATABASE_CLEANSED}.isu_] --> [{ADS_DATABASE_CLEANSED}.isu.]\n",
      "Iteration 2\n",
      "c:\\Users\\o3hz\\DAF%20POC%20REPO1\\Databricks\\notebooks\\cleansed\\ISU Data\n",
      "0BP_DEF_ADDRESS_ATTR.py updated - [cleansed.isu_] --> [{ADS_DATABASE_CLEANSED}.isu.]\n",
      "0BP_ID_ATTR.py updated - [cleansed.isu_] --> [{ADS_DATABASE_CLEANSED}.isu.]\n",
      "0UCCONTRACTH_ATTR_2.py updated - [cleansed.isu_] --> [{ADS_DATABASE_CLEANSED}.isu.]\n",
      "0UCINSTALLAH_ATTR_2.py updated - [cleansed.isu_] --> [{ADS_DATABASE_CLEANSED}.isu.]\n",
      "0UC_DEVICEH_ATTR.py updated - [cleansed.isu_] --> [{ADS_DATABASE_CLEANSED}.isu.]\n",
      "0UC_DEVINST_ATTR.py updated - [cleansed.isu_] --> [{ADS_DATABASE_CLEANSED}.isu.]\n",
      "0UC_REGINST_STR_ATTR.py updated - [cleansed.isu_] --> [{ADS_DATABASE_CLEANSED}.isu.]\n",
      "0UC_REGIST_ATTR.py updated - [cleansed.isu_] --> [{ADS_DATABASE_CLEANSED}.isu.]\n"
     ]
    }
   ],
   "source": [
    "directory = \"../../notebooks/cleansed/ISU Data/\"\n",
    "\n",
    "findstr     = '{ADS_DATABASE_CLEANSED}.isu_'\n",
    "replacestr  = '{ADS_DATABASE_CLEANSED}.isu.'\n",
    "find_replace(directory, '', findstr, replacestr)\n",
    "\n",
    "print('Iteration 2')\n",
    "findstr     = 'cleansed.isu_'\n",
    "replacestr  = '{ADS_DATABASE_CLEANSED}.isu.'\n",
    "find_replace(directory, '', findstr, replacestr)"
   ]
  },
  {
   "attachments": {},
   "cell_type": "markdown",
   "metadata": {},
   "source": [
    "Replacing \"isu_\" with \"isu.\" in notebooks under \"/Databricks/notebooks/cleansed/ISU Ref/\""
   ]
  },
  {
   "cell_type": "code",
   "execution_count": 50,
   "metadata": {},
   "outputs": [
    {
     "name": "stdout",
     "output_type": "stream",
     "text": [
      "c:\\Users\\o3hz\\DAF%20POC%20REPO1\\Databricks\\notebooks\\cleansed\\ISU Ref\n",
      "Iteration 2\n",
      "c:\\Users\\o3hz\\DAF%20POC%20REPO1\\Databricks\\notebooks\\cleansed\\ISU Ref\n"
     ]
    }
   ],
   "source": [
    "directory = \"../../notebooks/cleansed/ISU Ref/\"\n",
    "\n",
    "findstr     = '{ADS_DATABASE_CLEANSED}.isu_'\n",
    "replacestr  = '{ADS_DATABASE_CLEANSED}.isu.'\n",
    "find_replace(directory, '', findstr, replacestr)\n",
    "\n",
    "print('Iteration 2')\n",
    "findstr     = 'cleansed.isu_'\n",
    "replacestr  = '{ADS_DATABASE_CLEANSED}.isu.'\n",
    "find_replace(directory, '', findstr, replacestr)"
   ]
  },
  {
   "attachments": {},
   "cell_type": "markdown",
   "metadata": {},
   "source": [
    "Replacing \"isu_\" with \"isu.\" in notebooks under \"/Databricks/notebooks/cleansed/ISU SLT/\""
   ]
  },
  {
   "cell_type": "code",
   "execution_count": 51,
   "metadata": {},
   "outputs": [
    {
     "name": "stdout",
     "output_type": "stream",
     "text": [
      "c:\\Users\\o3hz\\DAF%20POC%20REPO1\\Databricks\\notebooks\\cleansed\\ISU SLT\n",
      "ADRC.py updated - [{ADS_DATABASE_CLEANSED}.isu_] --> [{ADS_DATABASE_CLEANSED}.isu.]\n",
      "AUSP.py updated - [{ADS_DATABASE_CLEANSED}.isu_] --> [{ADS_DATABASE_CLEANSED}.isu.]\n",
      "DBERCHZ1.py updated - [{ADS_DATABASE_CLEANSED}.isu_] --> [{ADS_DATABASE_CLEANSED}.isu.]\n",
      "DBERCHZ2.py updated - [{ADS_DATABASE_CLEANSED}.isu_] --> [{ADS_DATABASE_CLEANSED}.isu.]\n",
      "ERCH.py updated - [{ADS_DATABASE_CLEANSED}.isu_] --> [{ADS_DATABASE_CLEANSED}.isu.]\n",
      "ETTIFN.py updated - [{ADS_DATABASE_CLEANSED}.isu_] --> [{ADS_DATABASE_CLEANSED}.isu.]\n",
      "VIBDAO.py updated - [{ADS_DATABASE_CLEANSED}.isu_] --> [{ADS_DATABASE_CLEANSED}.isu.]\n",
      "VIBDCHARACT.py updated - [{ADS_DATABASE_CLEANSED}.isu_] --> [{ADS_DATABASE_CLEANSED}.isu.]\n",
      "Iteration 2\n",
      "c:\\Users\\o3hz\\DAF%20POC%20REPO1\\Databricks\\notebooks\\cleansed\\ISU SLT\n",
      "AUSP.py updated - [cleansed.isu_] --> [{ADS_DATABASE_CLEANSED}.isu.]\n",
      "ERCHC.py updated - [cleansed.isu_] --> [{ADS_DATABASE_CLEANSED}.isu.]\n",
      "ETTIFN.py updated - [cleansed.isu_] --> [{ADS_DATABASE_CLEANSED}.isu.]\n",
      "VIBDCHARACT.py updated - [cleansed.isu_] --> [{ADS_DATABASE_CLEANSED}.isu.]\n"
     ]
    }
   ],
   "source": [
    "directory = \"../../notebooks/cleansed/ISU SLT/\"\n",
    "\n",
    "findstr     = '{ADS_DATABASE_CLEANSED}.isu_'\n",
    "replacestr  = '{ADS_DATABASE_CLEANSED}.isu.'\n",
    "find_replace(directory, '', findstr, replacestr)\n",
    "\n",
    "print('Iteration 2')\n",
    "findstr     = 'cleansed.isu_'\n",
    "replacestr  = '{ADS_DATABASE_CLEANSED}.isu.'\n",
    "find_replace(directory, '', findstr, replacestr)"
   ]
  },
  {
   "attachments": {},
   "cell_type": "markdown",
   "metadata": {},
   "source": [
    "**Usecase1 Curated Notebooks' Refactoring**"
   ]
  },
  {
   "attachments": {},
   "cell_type": "markdown",
   "metadata": {},
   "source": [
    "Replacing \"isu_\" with \"isu.\" in notebooks under \"/Databricks/notebooks/curated/\""
   ]
  },
  {
   "cell_type": "code",
   "execution_count": 52,
   "metadata": {},
   "outputs": [
    {
     "name": "stdout",
     "output_type": "stream",
     "text": [
      "c:\\Users\\o3hz\\DAF%20POC%20REPO1\\Databricks\\notebooks\\curated\n",
      "c:\\Users\\o3hz\\DAF%20POC%20REPO1\\Databricks\\notebooks\\curated\\01 dimensions\n",
      "ACCESS_MERGE.py updated - [{ADS_DATABASE_CLEANSED}.isu_] --> [{ADS_DATABASE_CLEANSED}.isu.]\n",
      "AccountBusinessPartner.py updated - [{ADS_DATABASE_CLEANSED}.isu_] --> [{ADS_DATABASE_CLEANSED}.isu.]\n",
      "BusinessPartner.py updated - [{ADS_DATABASE_CLEANSED}.isu_] --> [{ADS_DATABASE_CLEANSED}.isu.]\n",
      "BusinessPartnerAddress.py updated - [{ADS_DATABASE_CLEANSED}.isu_] --> [{ADS_DATABASE_CLEANSED}.isu.]\n",
      "BusinessPartnerGroup.py updated - [{ADS_DATABASE_CLEANSED}.isu_] --> [{ADS_DATABASE_CLEANSED}.isu.]\n",
      "BusinessPartnerIdentification.py updated - [{ADS_DATABASE_CLEANSED}.isu_] --> [{ADS_DATABASE_CLEANSED}.isu.]\n",
      "BusinessPartnerRelation.py updated - [{ADS_DATABASE_CLEANSED}.isu_] --> [{ADS_DATABASE_CLEANSED}.isu.]\n",
      "Contract.py updated - [{ADS_DATABASE_CLEANSED}.isu_] --> [{ADS_DATABASE_CLEANSED}.isu.]\n",
      "ContractAccount.py updated - [{ADS_DATABASE_CLEANSED}.isu_] --> [{ADS_DATABASE_CLEANSED}.isu.]\n",
      "ContractHistory.py updated - [{ADS_DATABASE_CLEANSED}.isu_] --> [{ADS_DATABASE_CLEANSED}.isu.]\n",
      "Date.py updated - [{ADS_DATABASE_CLEANSED}.isu_] --> [{ADS_DATABASE_CLEANSED}.isu.]\n",
      "Device.py updated - [{ADS_DATABASE_CLEANSED}.isu_] --> [{ADS_DATABASE_CLEANSED}.isu.]\n",
      "DeviceCharacteristics.py updated - [{ADS_DATABASE_CLEANSED}.isu_] --> [{ADS_DATABASE_CLEANSED}.isu.]\n",
      "DeviceHistory.py updated - [{ADS_DATABASE_CLEANSED}.isu_] --> [{ADS_DATABASE_CLEANSED}.isu.]\n",
      "DeviceInstallationHistory.py updated - [{ADS_DATABASE_CLEANSED}.isu_] --> [{ADS_DATABASE_CLEANSED}.isu.]\n",
      "DisconnectionDocument.py updated - [{ADS_DATABASE_CLEANSED}.isu_] --> [{ADS_DATABASE_CLEANSED}.isu.]\n",
      "Installation.py updated - [{ADS_DATABASE_CLEANSED}.isu_] --> [{ADS_DATABASE_CLEANSED}.isu.]\n",
      "InstallationFacts.py updated - [{ADS_DATABASE_CLEANSED}.isu_] --> [{ADS_DATABASE_CLEANSED}.isu.]\n",
      "InstallationHistory.py updated - [{ADS_DATABASE_CLEANSED}.isu_] --> [{ADS_DATABASE_CLEANSED}.isu.]\n",
      "Location.py updated - [{ADS_DATABASE_CLEANSED}.isu_] --> [{ADS_DATABASE_CLEANSED}.isu.]\n",
      "MeterConsumptionBillingDocument.py updated - [{ADS_DATABASE_CLEANSED}.isu_] --> [{ADS_DATABASE_CLEANSED}.isu.]\n",
      "Property.py updated - [{ADS_DATABASE_CLEANSED}.isu_] --> [{ADS_DATABASE_CLEANSED}.isu.]\n",
      "PropertyLot.py updated - [{ADS_DATABASE_CLEANSED}.isu_] --> [{ADS_DATABASE_CLEANSED}.isu.]\n",
      "PropertyRelation.py updated - [{ADS_DATABASE_CLEANSED}.isu_] --> [{ADS_DATABASE_CLEANSED}.isu.]\n",
      "PropertyService.py updated - [{ADS_DATABASE_CLEANSED}.isu_] --> [{ADS_DATABASE_CLEANSED}.isu.]\n",
      "PropertyTypeHistory.py updated - [{ADS_DATABASE_CLEANSED}.isu_] --> [{ADS_DATABASE_CLEANSED}.isu.]\n",
      "RegisterHistory.py updated - [{ADS_DATABASE_CLEANSED}.isu_] --> [{ADS_DATABASE_CLEANSED}.isu.]\n",
      "RegisterInstallationHistory.py updated - [{ADS_DATABASE_CLEANSED}.isu_] --> [{ADS_DATABASE_CLEANSED}.isu.]\n",
      "c:\\Users\\o3hz\\DAF%20POC%20REPO1\\Databricks\\notebooks\\curated\\02 facts\n",
      "c:\\Users\\o3hz\\DAF%20POC%20REPO1\\Databricks\\notebooks\\curated\\common\n",
      "c:\\Users\\o3hz\\DAF%20POC%20REPO1\\Databricks\\notebooks\\curated\\common\\functions\n",
      "c:\\Users\\o3hz\\DAF%20POC%20REPO1\\Databricks\\notebooks\\curated\\common\\includes\n",
      "Iteration 2\n",
      "c:\\Users\\o3hz\\DAF%20POC%20REPO1\\Databricks\\notebooks\\curated\n",
      "c:\\Users\\o3hz\\DAF%20POC%20REPO1\\Databricks\\notebooks\\curated\\01 dimensions\n",
      "MeterConsumptionBillingLineItem.py updated - [cleansed.isu_] --> [{ADS_DATABASE_CLEANSED}.isu.]\n",
      "_RejectOverlapSourceData.py updated - [cleansed.isu_] --> [{ADS_DATABASE_CLEANSED}.isu.]\n",
      "c:\\Users\\o3hz\\DAF%20POC%20REPO1\\Databricks\\notebooks\\curated\\02 facts\n",
      "c:\\Users\\o3hz\\DAF%20POC%20REPO1\\Databricks\\notebooks\\curated\\common\n",
      "common-transform-scd.py updated - [cleansed.isu_] --> [{ADS_DATABASE_CLEANSED}.isu.]\n",
      "c:\\Users\\o3hz\\DAF%20POC%20REPO1\\Databricks\\notebooks\\curated\\common\\functions\n",
      "c:\\Users\\o3hz\\DAF%20POC%20REPO1\\Databricks\\notebooks\\curated\\common\\includes\n"
     ]
    }
   ],
   "source": [
    "directory = \"../../notebooks/curated/\"\n",
    "\n",
    "findstr     = '{ADS_DATABASE_CLEANSED}.isu_'\n",
    "replacestr  = '{ADS_DATABASE_CLEANSED}.isu.'\n",
    "find_replace(directory, '', findstr, replacestr)\n",
    "\n",
    "print('Iteration 2')\n",
    "findstr     = 'cleansed.isu_'\n",
    "replacestr  = '{ADS_DATABASE_CLEANSED}.isu.'\n",
    "find_replace(directory, '', findstr, replacestr)"
   ]
  },
  {
   "attachments": {},
   "cell_type": "markdown",
   "metadata": {},
   "source": [
    "Replacing \"crm_\" with \"crm.\" in notebooks under \"/Databricks/notebooks/curated/\""
   ]
  },
  {
   "cell_type": "code",
   "execution_count": 53,
   "metadata": {},
   "outputs": [
    {
     "name": "stdout",
     "output_type": "stream",
     "text": [
      "c:\\Users\\o3hz\\DAF%20POC%20REPO1\\Databricks\\notebooks\\curated\n",
      "c:\\Users\\o3hz\\DAF%20POC%20REPO1\\Databricks\\notebooks\\curated\\01 dimensions\n",
      "BusinessPartner.py updated - [{ADS_DATABASE_CLEANSED}.crm_] --> [{ADS_DATABASE_CLEANSED}.crm.]\n",
      "BusinessPartnerAddress.py updated - [{ADS_DATABASE_CLEANSED}.crm_] --> [{ADS_DATABASE_CLEANSED}.crm.]\n",
      "BusinessPartnerGroup.py updated - [{ADS_DATABASE_CLEANSED}.crm_] --> [{ADS_DATABASE_CLEANSED}.crm.]\n",
      "BusinessPartnerIdentification.py updated - [{ADS_DATABASE_CLEANSED}.crm_] --> [{ADS_DATABASE_CLEANSED}.crm.]\n",
      "BusinessPartnerRelation.py updated - [{ADS_DATABASE_CLEANSED}.crm_] --> [{ADS_DATABASE_CLEANSED}.crm.]\n",
      "ContractHistory.py updated - [{ADS_DATABASE_CLEANSED}.crm_] --> [{ADS_DATABASE_CLEANSED}.crm.]\n",
      "c:\\Users\\o3hz\\DAF%20POC%20REPO1\\Databricks\\notebooks\\curated\\02 facts\n",
      "c:\\Users\\o3hz\\DAF%20POC%20REPO1\\Databricks\\notebooks\\curated\\common\n",
      "c:\\Users\\o3hz\\DAF%20POC%20REPO1\\Databricks\\notebooks\\curated\\common\\functions\n",
      "c:\\Users\\o3hz\\DAF%20POC%20REPO1\\Databricks\\notebooks\\curated\\common\\includes\n",
      "Iteration 2\n",
      "c:\\Users\\o3hz\\DAF%20POC%20REPO1\\Databricks\\notebooks\\curated\n",
      "c:\\Users\\o3hz\\DAF%20POC%20REPO1\\Databricks\\notebooks\\curated\\01 dimensions\n",
      "c:\\Users\\o3hz\\DAF%20POC%20REPO1\\Databricks\\notebooks\\curated\\02 facts\n",
      "c:\\Users\\o3hz\\DAF%20POC%20REPO1\\Databricks\\notebooks\\curated\\common\n",
      "c:\\Users\\o3hz\\DAF%20POC%20REPO1\\Databricks\\notebooks\\curated\\common\\functions\n",
      "c:\\Users\\o3hz\\DAF%20POC%20REPO1\\Databricks\\notebooks\\curated\\common\\includes\n"
     ]
    }
   ],
   "source": [
    "directory = \"../../notebooks/curated/\"\n",
    "\n",
    "findstr = '{ADS_DATABASE_CLEANSED}.crm_'\n",
    "replacestr = '{ADS_DATABASE_CLEANSED}.crm.'\n",
    "find_replace(directory, '', findstr, replacestr)\n",
    "\n",
    "print('Iteration 2')\n",
    "findstr = 'cleansed.crm_'\n",
    "replacestr = '{ADS_DATABASE_CLEANSED}.crm.'\n",
    "find_replace(directory, '', findstr, replacestr)"
   ]
  },
  {
   "attachments": {},
   "cell_type": "markdown",
   "metadata": {},
   "source": [
    "Replacing \"hydra_\" with \"hydra.\" in notebooks under \"/Databricks/notebooks/curated/\""
   ]
  },
  {
   "cell_type": "code",
   "execution_count": 54,
   "metadata": {},
   "outputs": [
    {
     "name": "stdout",
     "output_type": "stream",
     "text": [
      "c:\\Users\\o3hz\\DAF%20POC%20REPO1\\Databricks\\notebooks\\curated\n",
      "c:\\Users\\o3hz\\DAF%20POC%20REPO1\\Databricks\\notebooks\\curated\\01 dimensions\n",
      "ACCESS_MERGE.py updated - [{ADS_DATABASE_CLEANSED}.hydra_] --> [{ADS_DATABASE_CLEANSED}.hydra.]\n",
      "Location.py updated - [{ADS_DATABASE_CLEANSED}.hydra_] --> [{ADS_DATABASE_CLEANSED}.hydra.]\n",
      "Property.py updated - [{ADS_DATABASE_CLEANSED}.hydra_] --> [{ADS_DATABASE_CLEANSED}.hydra.]\n",
      "SewerNetwork.py updated - [{ADS_DATABASE_CLEANSED}.hydra_] --> [{ADS_DATABASE_CLEANSED}.hydra.]\n",
      "StormWaterNetwork.py updated - [{ADS_DATABASE_CLEANSED}.hydra_] --> [{ADS_DATABASE_CLEANSED}.hydra.]\n",
      "WaterNetwork.py updated - [{ADS_DATABASE_CLEANSED}.hydra_] --> [{ADS_DATABASE_CLEANSED}.hydra.]\n",
      "c:\\Users\\o3hz\\DAF%20POC%20REPO1\\Databricks\\notebooks\\curated\\02 facts\n",
      "c:\\Users\\o3hz\\DAF%20POC%20REPO1\\Databricks\\notebooks\\curated\\common\n",
      "c:\\Users\\o3hz\\DAF%20POC%20REPO1\\Databricks\\notebooks\\curated\\common\\functions\n",
      "c:\\Users\\o3hz\\DAF%20POC%20REPO1\\Databricks\\notebooks\\curated\\common\\includes\n",
      "Iteration 2\n",
      "c:\\Users\\o3hz\\DAF%20POC%20REPO1\\Databricks\\notebooks\\curated\n",
      "c:\\Users\\o3hz\\DAF%20POC%20REPO1\\Databricks\\notebooks\\curated\\01 dimensions\n",
      "Location.py updated - [cleansed.hydra_] --> [{ADS_DATABASE_CLEANSED}.hydra.]\n",
      "PropertyLot.py updated - [cleansed.hydra_] --> [{ADS_DATABASE_CLEANSED}.hydra.]\n",
      "c:\\Users\\o3hz\\DAF%20POC%20REPO1\\Databricks\\notebooks\\curated\\02 facts\n",
      "c:\\Users\\o3hz\\DAF%20POC%20REPO1\\Databricks\\notebooks\\curated\\common\n",
      "c:\\Users\\o3hz\\DAF%20POC%20REPO1\\Databricks\\notebooks\\curated\\common\\functions\n",
      "c:\\Users\\o3hz\\DAF%20POC%20REPO1\\Databricks\\notebooks\\curated\\common\\includes\n"
     ]
    }
   ],
   "source": [
    "directory = \"../../notebooks/curated/\"\n",
    "\n",
    "findstr = '{ADS_DATABASE_CLEANSED}.hydra_'\n",
    "replacestr = '{ADS_DATABASE_CLEANSED}.hydra.'\n",
    "find_replace(directory, '', findstr, replacestr)\n",
    "\n",
    "print('Iteration 2')\n",
    "findstr = 'cleansed.hydra_'\n",
    "replacestr = '{ADS_DATABASE_CLEANSED}.hydra.'\n",
    "find_replace(directory, '', findstr, replacestr)"
   ]
  },
  {
   "attachments": {},
   "cell_type": "markdown",
   "metadata": {},
   "source": [
    "Replacing \"access_\" with \"access.\" in notebooks under \"/Databricks/notebooks/curated/\""
   ]
  },
  {
   "cell_type": "code",
   "execution_count": 56,
   "metadata": {},
   "outputs": [
    {
     "name": "stdout",
     "output_type": "stream",
     "text": [
      "c:\\Users\\o3hz\\DAF%20POC%20REPO1\\Databricks\\notebooks\\curated\n",
      "c:\\Users\\o3hz\\DAF%20POC%20REPO1\\Databricks\\notebooks\\curated\\01 dimensions\n",
      "ACCESS_MERGE.py updated - [{ADS_DATABASE_CLEANSED}.access_] --> [{ADS_DATABASE_CLEANSED}.access.]\n",
      "Location.py updated - [{ADS_DATABASE_CLEANSED}.access_] --> [{ADS_DATABASE_CLEANSED}.access.]\n",
      "Property.py updated - [{ADS_DATABASE_CLEANSED}.access_] --> [{ADS_DATABASE_CLEANSED}.access.]\n",
      "PropertyTypeHistory.py updated - [{ADS_DATABASE_CLEANSED}.access_] --> [{ADS_DATABASE_CLEANSED}.access.]\n",
      "c:\\Users\\o3hz\\DAF%20POC%20REPO1\\Databricks\\notebooks\\curated\\02 facts\n",
      "c:\\Users\\o3hz\\DAF%20POC%20REPO1\\Databricks\\notebooks\\curated\\common\n",
      "c:\\Users\\o3hz\\DAF%20POC%20REPO1\\Databricks\\notebooks\\curated\\common\\functions\n",
      "commonBilledWaterConsumptionAccess.py updated - [{ADS_DATABASE_CLEANSED}.access_] --> [{ADS_DATABASE_CLEANSED}.access.]\n",
      "c:\\Users\\o3hz\\DAF%20POC%20REPO1\\Databricks\\notebooks\\curated\\common\\includes\n",
      "Iteration 2\n",
      "c:\\Users\\o3hz\\DAF%20POC%20REPO1\\Databricks\\notebooks\\curated\n",
      "c:\\Users\\o3hz\\DAF%20POC%20REPO1\\Databricks\\notebooks\\curated\\01 dimensions\n",
      "ACCESS_MERGE.py updated - [cleansed.access_] --> [{ADS_DATABASE_CLEANSED}.access.]\n",
      "c:\\Users\\o3hz\\DAF%20POC%20REPO1\\Databricks\\notebooks\\curated\\02 facts\n",
      "c:\\Users\\o3hz\\DAF%20POC%20REPO1\\Databricks\\notebooks\\curated\\common\n",
      "c:\\Users\\o3hz\\DAF%20POC%20REPO1\\Databricks\\notebooks\\curated\\common\\functions\n",
      "commonBilledWaterConsumptionAccess.py updated - [cleansed.access_] --> [{ADS_DATABASE_CLEANSED}.access.]\n",
      "c:\\Users\\o3hz\\DAF%20POC%20REPO1\\Databricks\\notebooks\\curated\\common\\includes\n"
     ]
    }
   ],
   "source": [
    "directory = \"../../notebooks/curated/\"\n",
    "\n",
    "findstr = '{ADS_DATABASE_CLEANSED}.access_'\n",
    "replacestr = '{ADS_DATABASE_CLEANSED}.access.'\n",
    "find_replace(directory, '', findstr, replacestr)\n",
    "\n",
    "print('Iteration 2')\n",
    "findstr = 'cleansed.access_'\n",
    "replacestr = '{ADS_DATABASE_CLEANSED}.access.'\n",
    "find_replace(directory, '', findstr, replacestr)"
   ]
  },
  {
   "attachments": {},
   "cell_type": "markdown",
   "metadata": {},
   "source": [
    "Replacing \"curated.dim\" with \"curated.dim.\" in notebooks under \"/Databricks/notebooks/curated/\""
   ]
  },
  {
   "cell_type": "code",
   "execution_count": 8,
   "metadata": {},
   "outputs": [
    {
     "name": "stdout",
     "output_type": "stream",
     "text": [
      "c:\\Users\\o3hz\\DAF%20POC%20REPO1\\Databricks\\notebooks\\curated\\01 dimensions\n",
      "Contract.py updated - [{ADS_DATABASE_CURATED}.dim] --> [{ADS_DATABASE_CURATED}.dim.]\n",
      "Device.py updated - [{ADS_DATABASE_CURATED}.dim] --> [{ADS_DATABASE_CURATED}.dim.]\n",
      "DeviceCharacteristics.py updated - [{ADS_DATABASE_CURATED}.dim] --> [{ADS_DATABASE_CURATED}.dim.]\n",
      "Installation.py updated - [{ADS_DATABASE_CURATED}.dim] --> [{ADS_DATABASE_CURATED}.dim.]\n",
      "Location.py updated - [{ADS_DATABASE_CURATED}.dim] --> [{ADS_DATABASE_CURATED}.dim.]\n",
      "Property.py updated - [{ADS_DATABASE_CURATED}.dim] --> [{ADS_DATABASE_CURATED}.dim.]\n",
      "PropertyLot.py updated - [{ADS_DATABASE_CURATED}.dim] --> [{ADS_DATABASE_CURATED}.dim.]\n",
      "Iteration 2\n",
      "c:\\Users\\o3hz\\DAF%20POC%20REPO1\\Databricks\\notebooks\\curated\\01 dimensions\n",
      "BusinessPartner.py updated - [curated.dim] --> [{ADS_DATABASE_CURATED}.dim.]\n",
      "BusinessPartnerGroup.py updated - [curated.dim] --> [{ADS_DATABASE_CURATED}.dim.]\n",
      "BusinessPartnerIdentification.py updated - [curated.dim] --> [{ADS_DATABASE_CURATED}.dim.]\n",
      "Location.py updated - [curated.dim] --> [{ADS_DATABASE_CURATED}.dim.]\n",
      "Property.py updated - [curated.dim] --> [{ADS_DATABASE_CURATED}.dim.]\n",
      "_reRunFull.py updated - [curated.dim] --> [{ADS_DATABASE_CURATED}.dim.]\n"
     ]
    }
   ],
   "source": [
    "directory = \"../../notebooks/curated/01 dimensions\"\n",
    "\n",
    "findstr = '{ADS_DATABASE_CURATED}.dim'\n",
    "replacestr = '{ADS_DATABASE_CURATED}.dim.'\n",
    "find_replace(directory, '', findstr, replacestr)\n",
    "\n",
    "print('Iteration 2')\n",
    "findstr = 'curated.dim'\n",
    "replacestr = '{ADS_DATABASE_CURATED}.dim.'\n",
    "find_replace(directory, '', findstr, replacestr)"
   ]
  },
  {
   "attachments": {},
   "cell_type": "markdown",
   "metadata": {},
   "source": [
    "Removing \"dim\" from dimension names as the dimensions would be created under \"dim\" schema in notebooks under \"/Databricks/notebooks/curated/\""
   ]
  },
  {
   "cell_type": "code",
   "execution_count": 10,
   "metadata": {},
   "outputs": [
    {
     "name": "stdout",
     "output_type": "stream",
     "text": [
      "c:\\Users\\o3hz\\DAF%20POC%20REPO1\\Databricks\\notebooks\\curated\\01 dimensions\n",
      "AccountBusinessPartner.py updated - [entity=\"dim] --> [entity=\"dim.]\n",
      "BusinessPartner.py updated - [entity=\"dim] --> [entity=\"dim.]\n",
      "BusinessPartnerAddress.py updated - [entity=\"dim] --> [entity=\"dim.]\n",
      "BusinessPartnerGroup.py updated - [entity=\"dim] --> [entity=\"dim.]\n",
      "BusinessPartnerIdentification.py updated - [entity=\"dim] --> [entity=\"dim.]\n",
      "BusinessPartnerRelation.py updated - [entity=\"dim] --> [entity=\"dim.]\n",
      "Contract.py updated - [entity=\"dim] --> [entity=\"dim.]\n",
      "ContractAccount.py updated - [entity=\"dim] --> [entity=\"dim.]\n",
      "ContractHistory.py updated - [entity=\"dim] --> [entity=\"dim.]\n",
      "Date.py updated - [entity=\"dim] --> [entity=\"dim.]\n",
      "Device.py updated - [entity=\"dim] --> [entity=\"dim.]\n",
      "DeviceCharacteristics.py updated - [entity=\"dim] --> [entity=\"dim.]\n",
      "DeviceHistory.py updated - [entity=\"dim] --> [entity=\"dim.]\n",
      "DeviceInstallationHistory.py updated - [entity=\"dim] --> [entity=\"dim.]\n",
      "DisconnectionDocument.py updated - [entity=\"dim] --> [entity=\"dim.]\n",
      "Installation.py updated - [entity=\"dim] --> [entity=\"dim.]\n",
      "InstallationFacts.py updated - [entity=\"dim] --> [entity=\"dim.]\n",
      "InstallationHistory.py updated - [entity=\"dim] --> [entity=\"dim.]\n",
      "Location.py updated - [entity=\"dim] --> [entity=\"dim.]\n",
      "MeterConsumptionBillingDocument.py updated - [entity=\"dim] --> [entity=\"dim.]\n",
      "MeterConsumptionBillingLineItem.py updated - [entity=\"dim] --> [entity=\"dim.]\n",
      "Property.py updated - [entity=\"dim] --> [entity=\"dim.]\n",
      "PropertyLot.py updated - [entity=\"dim] --> [entity=\"dim.]\n",
      "PropertyRelation.py updated - [entity=\"dim] --> [entity=\"dim.]\n",
      "PropertyService.py updated - [entity=\"dim] --> [entity=\"dim.]\n",
      "PropertyTypeHistory.py updated - [entity=\"dim] --> [entity=\"dim.]\n",
      "RegisterHistory.py updated - [entity=\"dim] --> [entity=\"dim.]\n",
      "RegisterInstallationHistory.py updated - [entity=\"dim] --> [entity=\"dim.]\n",
      "SewerNetwork.py updated - [entity=\"dim] --> [entity=\"dim.]\n",
      "StormWaterNetwork.py updated - [entity=\"dim] --> [entity=\"dim.]\n",
      "WaterNetwork.py updated - [entity=\"dim] --> [entity=\"dim.]\n"
     ]
    }
   ],
   "source": [
    "directory = \"../../notebooks/curated/01 dimensions\"\n",
    "\n",
    "findstr = 'entity=\"dim'\n",
    "replacestr = 'entity=\"dim.'\n",
    "find_replace(directory, '', findstr, replacestr)"
   ]
  },
  {
   "attachments": {},
   "cell_type": "markdown",
   "metadata": {},
   "source": [
    "Replacing \"curated.fact\" with \"curated.fact.\" in notebooks under \"/Databricks/notebooks/curated/\""
   ]
  },
  {
   "cell_type": "code",
   "execution_count": 11,
   "metadata": {},
   "outputs": [
    {
     "name": "stdout",
     "output_type": "stream",
     "text": [
      "c:\\Users\\o3hz\\DAF%20POC%20REPO1\\Databricks\\notebooks\\curated\\02 facts\n",
      "Iteration 2\n",
      "c:\\Users\\o3hz\\DAF%20POC%20REPO1\\Databricks\\notebooks\\curated\\02 facts\n",
      "BilledWaterConsumption.py updated - [curated.fact] --> [{ADS_DATABASE_CURATED}.fact.]\n",
      "BilledWaterConsumptionMonthly.py updated - [curated.fact] --> [{ADS_DATABASE_CURATED}.fact.]\n"
     ]
    }
   ],
   "source": [
    "directory = \"../../notebooks/curated/02 facts\"\n",
    "\n",
    "findstr = '{ADS_DATABASE_CURATED}.fact'\n",
    "replacestr = '{ADS_DATABASE_CURATED}.fact.'\n",
    "find_replace(directory, '', findstr, replacestr)\n",
    "\n",
    "print('Iteration 2')\n",
    "findstr = 'curated.fact'\n",
    "replacestr = '{ADS_DATABASE_CURATED}.fact.'\n",
    "find_replace(directory, '', findstr, replacestr)"
   ]
  },
  {
   "attachments": {},
   "cell_type": "markdown",
   "metadata": {},
   "source": [
    "Removing \"fact\" from fact names as the facts would be created under \"fact\" schema in notebooks under \"/Databricks/notebooks/curated/\""
   ]
  },
  {
   "cell_type": "code",
   "execution_count": 12,
   "metadata": {},
   "outputs": [
    {
     "name": "stdout",
     "output_type": "stream",
     "text": [
      "c:\\Users\\o3hz\\DAF%20POC%20REPO1\\Databricks\\notebooks\\curated\\02 facts\n",
      "BilledWaterConsumption.py updated - [entity=\"fact] --> [entity=\"fact.]\n",
      "BilledWaterConsumptionMonthly.py updated - [entity=\"fact] --> [entity=\"fact.]\n"
     ]
    }
   ],
   "source": [
    "directory = \"../../notebooks/curated/02 facts\"\n",
    "\n",
    "findstr = 'entity=\"fact'\n",
    "replacestr = 'entity=\"fact.'\n",
    "find_replace(directory, '', findstr, replacestr)"
   ]
  },
  {
   "attachments": {},
   "cell_type": "markdown",
   "metadata": {},
   "source": [
    "**Usecase1 View Notebooks' Refactoring**"
   ]
  },
  {
   "attachments": {},
   "cell_type": "markdown",
   "metadata": {},
   "source": [
    "Function to find a given string and replace all occurances in all the notebooks (.py) in the current direcotry and its sub directories"
   ]
  },
  {
   "cell_type": "code",
   "execution_count": 20,
   "metadata": {},
   "outputs": [],
   "source": [
    "def find_replace(directory, filename_filter, find, replace, filePattern=\"view*.py\") -> None:\n",
    "    \"\"\"traverses through the given directory and using given conditions and pattern, does a find + replace\"\"\"\n",
    "    for path, dirs, files in os.walk(os.path.abspath(directory)):\n",
    "        print(path)\n",
    "        for filename in fnmatch.filter(files, filePattern):\n",
    "            if filename_filter.lower() in filename.lower():\n",
    "                filepath = os.path.join(path, filename)\n",
    "                with open(filepath) as f:\n",
    "                    s = f.read()\n",
    "                if find in s:\n",
    "                    s = s.replace(find, replace)\n",
    "                    print (f\"{filename} updated - [{find}] --> [{replace}]\")\n",
    "                with open(filepath, \"w\") as f:\n",
    "                    f.write(s)"
   ]
  },
  {
   "attachments": {},
   "cell_type": "markdown",
   "metadata": {},
   "source": [
    "UC1 views to be created in 'water_consumption' schema, hence changing the create statement to point to the new schema in notebooks under \"/Databricks/notebooks/curated/\""
   ]
  },
  {
   "attachments": {},
   "cell_type": "markdown",
   "metadata": {},
   "source": [
    "Once the latest codebase is available in Develop branch update the view notebooks under curated/01 Dimensions folder to add the following commands.\n",
    "1. # COMMAND ----------\n",
    "\n",
    "# MAGIC %run ../common/common-curated-includeMain\n",
    "\n",
    "# COMMAND ----------\n",
    "2. spark.sql(\"\"\" -> spark.sql(f\"\"\""
   ]
  },
  {
   "cell_type": "code",
   "execution_count": 21,
   "metadata": {},
   "outputs": [
    {
     "name": "stdout",
     "output_type": "stream",
     "text": [
      "c:\\Users\\o3hz\\DAF%20POC%20REPO1\\Databricks\\notebooks\\curated\n",
      "c:\\Users\\o3hz\\DAF%20POC%20REPO1\\Databricks\\notebooks\\curated\\01 dimensions\n",
      "viewBusinessPartner.py updated - [CREATE OR REPLACE VIEW curated.view] --> [CREATE OR REPLACE VIEW {ADS_DATABASE_CURATED}.water_consumption.view]\n",
      "viewBusinessPartnerGroup.py updated - [CREATE OR REPLACE VIEW curated.view] --> [CREATE OR REPLACE VIEW {ADS_DATABASE_CURATED}.water_consumption.view]\n",
      "ViewContract.py updated - [CREATE OR REPLACE VIEW curated.view] --> [CREATE OR REPLACE VIEW {ADS_DATABASE_CURATED}.water_consumption.view]\n",
      "ViewContractAccount.py updated - [CREATE OR REPLACE VIEW curated.view] --> [CREATE OR REPLACE VIEW {ADS_DATABASE_CURATED}.water_consumption.view]\n",
      "ViewDevice.py updated - [CREATE OR REPLACE VIEW curated.view] --> [CREATE OR REPLACE VIEW {ADS_DATABASE_CURATED}.water_consumption.view]\n",
      "ViewDeviceCharacteristics.py updated - [CREATE OR REPLACE VIEW curated.view] --> [CREATE OR REPLACE VIEW {ADS_DATABASE_CURATED}.water_consumption.view]\n",
      "viewInstallation.py updated - [CREATE OR REPLACE VIEW curated.view] --> [CREATE OR REPLACE VIEW {ADS_DATABASE_CURATED}.water_consumption.view]\n",
      "ViewProperty.py updated - [CREATE OR REPLACE VIEW curated.view] --> [CREATE OR REPLACE VIEW {ADS_DATABASE_CURATED}.water_consumption.view]\n",
      "ViewPropertyRelation.py updated - [CREATE OR REPLACE VIEW curated.view] --> [CREATE OR REPLACE VIEW {ADS_DATABASE_CURATED}.water_consumption.view]\n",
      "ViewPropertyService.py updated - [CREATE OR REPLACE VIEW curated.view] --> [CREATE OR REPLACE VIEW {ADS_DATABASE_CURATED}.water_consumption.view]\n",
      "c:\\Users\\o3hz\\DAF%20POC%20REPO1\\Databricks\\notebooks\\curated\\02 facts\n",
      "c:\\Users\\o3hz\\DAF%20POC%20REPO1\\Databricks\\notebooks\\curated\\common\n",
      "c:\\Users\\o3hz\\DAF%20POC%20REPO1\\Databricks\\notebooks\\curated\\common\\functions\n",
      "c:\\Users\\o3hz\\DAF%20POC%20REPO1\\Databricks\\notebooks\\curated\\common\\includes\n",
      "Iteration 2\n",
      "c:\\Users\\o3hz\\DAF%20POC%20REPO1\\Databricks\\notebooks\\curated\n",
      "c:\\Users\\o3hz\\DAF%20POC%20REPO1\\Databricks\\notebooks\\curated\\01 dimensions\n",
      "viewBusinessPartner.py updated - [curated.dim] --> [{ADS_DATABASE_CURATED}.dim.]\n",
      "viewBusinessPartnerGroup.py updated - [curated.dim] --> [{ADS_DATABASE_CURATED}.dim.]\n",
      "ViewContract.py updated - [curated.dim] --> [{ADS_DATABASE_CURATED}.dim.]\n",
      "ViewContractAccount.py updated - [curated.dim] --> [{ADS_DATABASE_CURATED}.dim.]\n",
      "ViewDevice.py updated - [curated.dim] --> [{ADS_DATABASE_CURATED}.dim.]\n",
      "ViewDeviceCharacteristics.py updated - [curated.dim] --> [{ADS_DATABASE_CURATED}.dim.]\n",
      "viewInstallation.py updated - [curated.dim] --> [{ADS_DATABASE_CURATED}.dim.]\n",
      "ViewProperty.py updated - [curated.dim] --> [{ADS_DATABASE_CURATED}.dim.]\n",
      "ViewPropertyRelation.py updated - [curated.dim] --> [{ADS_DATABASE_CURATED}.dim.]\n",
      "ViewPropertyService.py updated - [curated.dim] --> [{ADS_DATABASE_CURATED}.dim.]\n",
      "c:\\Users\\o3hz\\DAF%20POC%20REPO1\\Databricks\\notebooks\\curated\\02 facts\n",
      "c:\\Users\\o3hz\\DAF%20POC%20REPO1\\Databricks\\notebooks\\curated\\common\n",
      "c:\\Users\\o3hz\\DAF%20POC%20REPO1\\Databricks\\notebooks\\curated\\common\\functions\n",
      "c:\\Users\\o3hz\\DAF%20POC%20REPO1\\Databricks\\notebooks\\curated\\common\\includes\n"
     ]
    }
   ],
   "source": [
    "directory = \"../../notebooks/curated/\"\n",
    "\n",
    "findstr = 'CREATE OR REPLACE VIEW curated.view'\n",
    "replacestr = 'CREATE OR REPLACE VIEW {ADS_DATABASE_CURATED}.water_consumption.view'\n",
    "find_replace(directory, '', findstr, replacestr)\n",
    "\n",
    "print('Iteration 2')\n",
    "findstr = 'curated.dim'\n",
    "replacestr = '{ADS_DATABASE_CURATED}.dim.'\n",
    "find_replace(directory, '', findstr, replacestr)"
   ]
  },
  {
   "attachments": {},
   "cell_type": "markdown",
   "metadata": {},
   "source": [
    "**Control DB Updates**"
   ]
  },
  {
   "attachments": {},
   "cell_type": "markdown",
   "metadata": {},
   "source": [
    "Target/Source Names in Control DB to be updated to send the right table name with the format schema.tablename to ADF pipeline. (Run the following query to get the records to be updated that could be used to validate after running the update subsequently)"
   ]
  },
  {
   "attachments": {},
   "cell_type": "markdown",
   "metadata": {},
   "source": [
    "select\n",
    "  cc.*,\n",
    "  ct.TargetName,\n",
    "  substring(TargetName, 1, charindex('_', TargetName, 1) -1) + '.' + substring(TargetName, charindex('_', TargetName, 1) + 1, LEN(TargetName)) updTargetName\n",
    "from\n",
    "  ctl.ControlTarget ct\n",
    "  inner join ctl.vw_ControlConfiguration cc on cc.TargetId = ct.TargetId\n",
    "where\n",
    "  TriggerName in ('BATCH_DAILY_HYDRA', 'BATCH_DAILY_SAPCRM', 'BATCH_DAILY_SAPISU')\n",
    "  and ProjectName like 'CLEANSED%'"
   ]
  },
  {
   "attachments": {},
   "cell_type": "markdown",
   "metadata": {},
   "source": [
    "with controlconfig as (\n",
    "  select\n",
    "    cc.*,\n",
    "    ct.TargetName,\n",
    "    substring(TargetName, 1, charindex('_', TargetName, 1) -1) + '.' + substring(TargetName, charindex('_', TargetName, 1) + 1, LEN(TargetName)) updTargetName\n",
    "  from\n",
    "    ctl.ControlTarget ct\n",
    "    inner join ctl.vw_ControlConfiguration cc on cc.TargetId = ct.TargetId\n",
    "  where\n",
    "    TriggerName in ('BATCH_DAILY_HYDRA', 'BATCH_DAILY_SAPCRM', 'BATCH_DAILY_SAPISU')\n",
    "    and ProjectName like 'CLEANSED%'\n",
    ")\n",
    "update\n",
    "  controlconfig\n",
    "set\n",
    "  TargetName = updTargetName;"
   ]
  },
  {
   "attachments": {},
   "cell_type": "markdown",
   "metadata": {},
   "source": [
    "select\n",
    "  cc.*,\n",
    "  cs.SourceName,\n",
    "  substring(SourceName, 1, charindex('_', SourceName, 1) -1) + '.' + substring(SourceName, charindex('_', SourceName, 1) + 1, LEN(SourceName)) updSourceName\n",
    "from\n",
    "  ctl.ControlSource cs\n",
    "  inner join ctl.vw_ControlConfiguration cc on cc.SourceId = cs.SourceId\n",
    "where\n",
    "  TriggerName in ('BATCH_DAILY_HYDRA', 'BATCH_DAILY_SAPCRM', 'BATCH_DAILY_SAPISU')\n",
    "  and ProjectName like 'CLEANSED%'"
   ]
  },
  {
   "attachments": {},
   "cell_type": "markdown",
   "metadata": {},
   "source": [
    "with controlconfig as (\n",
    "  select\n",
    "    cc.*,\n",
    "    cs.SourceName,\n",
    "    substring(SourceName, 1, charindex('_', SourceName, 1) -1) + '.' + substring(SourceName, charindex('_', SourceName, 1) + 1, LEN(SourceName)) updSourceName\n",
    "  from\n",
    "    ctl.ControlSource cs\n",
    "    inner join ctl.vw_ControlConfiguration cc on cc.SourceId = cs.SourceId\n",
    "  where\n",
    "    TriggerName in ('BATCH_DAILY_HYDRA', 'BATCH_DAILY_SAPCRM', 'BATCH_DAILY_SAPISU')\n",
    "    and ProjectName like 'CLEANSED%'\n",
    ")\n",
    "update\n",
    "  controlconfig\n",
    "set\n",
    "  SourceName = updSourceName;"
   ]
  }
 ],
 "metadata": {
  "kernelspec": {
   "display_name": "Python 3",
   "language": "python",
   "name": "python3"
  },
  "language_info": {
   "codemirror_mode": {
    "name": "ipython",
    "version": 3
   },
   "file_extension": ".py",
   "mimetype": "text/x-python",
   "name": "python",
   "nbconvert_exporter": "python",
   "pygments_lexer": "ipython3",
   "version": "3.11.1"
  },
  "orig_nbformat": 4
 },
 "nbformat": 4,
 "nbformat_minor": 2
}
