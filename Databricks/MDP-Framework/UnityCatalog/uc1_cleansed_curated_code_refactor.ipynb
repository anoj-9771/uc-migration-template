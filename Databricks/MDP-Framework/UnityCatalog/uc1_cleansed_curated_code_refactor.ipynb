{
 "cells": [
  {
   "attachments": {},
   "cell_type": "markdown",
   "metadata": {},
   "source": [
    "Implementation Plan:\n",
    "1. Update the global-variable-python.py at \\Databricks\\notebooks\\includes\\ so that the following global variables get the right database value <br>\n",
    "    ADS_DATABASE_CLEANSED = \"cleansed\"     -> ADS_DATABASE_CLEANSED = \"\\<env\\>cleansed\" <br>\n",
    "    ADS_DATABASE_CURATED = \"curated\"       -> ADS_DATABASE_CURATED = \"\\<env\\>curated\" <br>\n",
    "2. Run the following find and replace steps to update cleansed and curated notebooks to update the table prifexes with schema names in the sql statement. Source and target tables are handled through Control DB updates.<br>\n",
    "    eg: {ADS_DATABASE_CLEANSED}.crm_0BPARTNER_ATTR  -> {ADS_DATABASE_CLEANSED}.crm.0BPARTNER_ATTR <br>\n",
    "        {ADS_DATABASE_CURATED}.dimbusinesspartner   -> {ADS_DATABASE_CURATED}.dim.businesspartner <br>\n",
    "3. Update Control DB to update the source and Target names that get passed to ADF pipeline as parameters <br>"
   ]
  },
  {
   "attachments": {},
   "cell_type": "markdown",
   "metadata": {},
   "source": [
    "You can run git commands like this to get the latest version of code to work with:\n",
    "\n",
    "git checkout preprod && git pull && git checkout -B uc-code-refactor-20230225 && git checkout uc-code-refactor-20230224 ./uc1Codefix.ipynb"
   ]
  },
  {
   "cell_type": "code",
   "execution_count": null,
   "metadata": {},
   "outputs": [],
   "source": [
    "import os, re, fnmatch"
   ]
  },
  {
   "attachments": {},
   "cell_type": "markdown",
   "metadata": {},
   "source": [
    "Function to find a given string and replace all occurances in all the notebooks (.py) in the current direcotry and its sub directories"
   ]
  },
  {
   "cell_type": "code",
   "execution_count": null,
   "metadata": {},
   "outputs": [],
   "source": [
    "def find_replace(directory, filename_filter, find, replace, filePattern=\"*.py\") -> None:\n",
    "    \"\"\"traverses through the given directory and using given conditions and pattern, does a find + replace\"\"\"\n",
    "    for path, dirs, files in os.walk(os.path.abspath(directory)):\n",
    "        print(path)\n",
    "        for filename in fnmatch.filter(files, filePattern):\n",
    "            if filename_filter.lower() in filename.lower() and 'view' not in filename.lower():\n",
    "                filepath = os.path.join(path, filename)\n",
    "                with open(filepath) as f:\n",
    "                    s = f.read()\n",
    "                if find.lower() in s.lower():\n",
    "                    print (filename)\n",
    "                    s = s.replace(find, replace)\n",
    "                with open(filepath, \"w\") as f:\n",
    "                    f.write(s)\n"
   ]
  },
  {
   "attachments": {},
   "cell_type": "markdown",
   "metadata": {},
   "source": [
    "**Usecase1 Cleansed Notebooks' Refactoring**"
   ]
  },
  {
   "attachments": {},
   "cell_type": "markdown",
   "metadata": {},
   "source": [
    "Replacing \"access_\" with \"access.\" in notebooks under \"/Databricks/notebooks/cleansed/ACCESS Data/\""
   ]
  },
  {
   "cell_type": "code",
   "execution_count": null,
   "metadata": {},
   "outputs": [],
   "source": [
    "directory = \"../Databricks/notebooks/cleansed/ACCESS Data/\"\n",
    "\n",
    "findstr     = '{ADS_DATABASE_CLEANSED}.access_'\n",
    "replacestr  = '{ADS_DATABASE_CLEANSED}.access.'\n",
    "find_replace(directory, '', findstr, replacestr)\n",
    "\n",
    "print('Iteration 2')\n",
    "findstr     = 'cleansed.access_'\n",
    "replacestr  = '{ADS_DATABASE_CLEANSED}.access.'\n",
    "find_replace(directory, '', findstr, replacestr)"
   ]
  },
  {
   "attachments": {},
   "cell_type": "markdown",
   "metadata": {},
   "source": [
    "Replacing \"access_\" with \"access.\" in notebooks under \"/Databricks/notebooks/cleansed/ACCESS Ref/\""
   ]
  },
  {
   "cell_type": "code",
   "execution_count": null,
   "metadata": {},
   "outputs": [],
   "source": [
    "directory = \"../Databricks/notebooks/cleansed/ACCESS Ref/\"\n",
    "\n",
    "findstr     = '{ADS_DATABASE_CLEANSED}.access_'\n",
    "replacestr  = '{ADS_DATABASE_CLEANSED}.access.'\n",
    "find_replace(directory, '', findstr, replacestr)\n",
    "\n",
    "print('Iteration 2')\n",
    "findstr     = 'cleansed.access_'\n",
    "replacestr  = '{ADS_DATABASE_CLEANSED}.access.'\n",
    "find_replace(directory, '', findstr, replacestr)"
   ]
  },
  {
   "attachments": {},
   "cell_type": "markdown",
   "metadata": {},
   "source": [
    "Replacing \"access_\" with \"access.\" in notebooks under \"/Databricks/notebooks/cleansed/ACCESS Timeslices/\""
   ]
  },
  {
   "cell_type": "code",
   "execution_count": null,
   "metadata": {},
   "outputs": [],
   "source": [
    "directory = \"../Databricks/notebooks/cleansed/ACCESS Timeslices/\"\n",
    "\n",
    "findstr     = '{ADS_DATABASE_CLEANSED}.access_'\n",
    "replacestr  = '{ADS_DATABASE_CLEANSED}.access.'\n",
    "find_replace(directory, '', findstr, replacestr)\n",
    "\n",
    "print('Iteration 2')\n",
    "findstr     = 'cleansed.access_'\n",
    "replacestr  = '{ADS_DATABASE_CLEANSED}.access.'\n",
    "find_replace(directory, '', findstr, replacestr)"
   ]
  },
  {
   "attachments": {},
   "cell_type": "markdown",
   "metadata": {},
   "source": [
    "Replacing \"crm_\" with \"crm.\" in notebooks under \"/Databricks/notebooks/cleansed/CRM Data/\""
   ]
  },
  {
   "cell_type": "code",
   "execution_count": null,
   "metadata": {},
   "outputs": [],
   "source": [
    "directory = \"../Databricks/notebooks/cleansed/CRM Data/\"\n",
    "\n",
    "findstr     = '{ADS_DATABASE_CLEANSED}.crm_'\n",
    "replacestr  = '{ADS_DATABASE_CLEANSED}.crm.'\n",
    "find_replace(directory, '', findstr, replacestr)\n",
    "\n",
    "print('Iteration 2')\n",
    "findstr     = 'cleansed.crm_'\n",
    "replacestr  = '{ADS_DATABASE_CLEANSED}.crm.'\n",
    "find_replace(directory, '', findstr, replacestr)"
   ]
  },
  {
   "attachments": {},
   "cell_type": "markdown",
   "metadata": {},
   "source": [
    "Replacing \"crm_\" with \"crm.\" in notebooks under \"/Databricks/notebooks/cleansed/CRM Ref/\""
   ]
  },
  {
   "cell_type": "code",
   "execution_count": null,
   "metadata": {},
   "outputs": [],
   "source": [
    "directory = \"../Databricks/notebooks/cleansed/CRM Ref/\"\n",
    "\n",
    "findstr     = '{ADS_DATABASE_CLEANSED}.crm_'\n",
    "replacestr  = '{ADS_DATABASE_CLEANSED}.crm.'\n",
    "find_replace(directory, '', findstr, replacestr)\n",
    "\n",
    "print('Iteration 2')\n",
    "findstr     = 'cleansed.crm_'\n",
    "replacestr  = '{ADS_DATABASE_CLEANSED}.crm.'\n",
    "find_replace(directory, '', findstr, replacestr)"
   ]
  },
  {
   "attachments": {},
   "cell_type": "markdown",
   "metadata": {},
   "source": [
    "Replacing \"hydra_\" with \"hydra.\" in notebooks under \"/Databricks/notebooks/cleansed/HYDRA Data/\""
   ]
  },
  {
   "cell_type": "code",
   "execution_count": null,
   "metadata": {},
   "outputs": [],
   "source": [
    "directory = \"../Databricks/notebooks/cleansed/HYDRA Data/\"\n",
    "\n",
    "findstr     = '{ADS_DATABASE_CLEANSED}.hydra_'\n",
    "replacestr  = '{ADS_DATABASE_CLEANSED}.hydra.'\n",
    "find_replace(directory, '', findstr, replacestr)\n",
    "\n",
    "print('Iteration 2')\n",
    "findstr     = 'cleansed.hydra_'\n",
    "replacestr  = '{ADS_DATABASE_CLEANSED}.hydra.'\n",
    "find_replace(directory, '', findstr, replacestr)"
   ]
  },
  {
   "attachments": {},
   "cell_type": "markdown",
   "metadata": {},
   "source": [
    "Replacing \"hydra_\" with \"hydra.\" in notebooks under \"/Databricks/notebooks/cleansed/HYDRA Ref/\""
   ]
  },
  {
   "cell_type": "code",
   "execution_count": null,
   "metadata": {},
   "outputs": [],
   "source": [
    "directory = \"../Databricks/notebooks/cleansed/HYDRA Ref/\"\n",
    "\n",
    "findstr     = '{ADS_DATABASE_CLEANSED}.hydra_'\n",
    "replacestr  = '{ADS_DATABASE_CLEANSED}.hydra.'\n",
    "find_replace(directory, '', findstr, replacestr)\n",
    "\n",
    "print('Iteration 2')\n",
    "findstr     = 'cleansed.hydra_'\n",
    "replacestr  = '{ADS_DATABASE_CLEANSED}.hydra.'\n",
    "find_replace(directory, '', findstr, replacestr)"
   ]
  },
  {
   "attachments": {},
   "cell_type": "markdown",
   "metadata": {},
   "source": [
    "Replacing \"isu_\" with \"isu.\" in notebooks under \"/Databricks/notebooks/cleansed/ISU Data/\""
   ]
  },
  {
   "cell_type": "code",
   "execution_count": null,
   "metadata": {},
   "outputs": [],
   "source": [
    "directory = \"../Databricks/notebooks/cleansed/ISU Data/\"\n",
    "\n",
    "findstr     = '{ADS_DATABASE_CLEANSED}.isu_'\n",
    "replacestr  = '{ADS_DATABASE_CLEANSED}.isu.'\n",
    "find_replace(directory, '', findstr, replacestr)\n",
    "\n",
    "print('Iteration 2')\n",
    "findstr     = 'cleansed.isu_'\n",
    "replacestr  = '{ADS_DATABASE_CLEANSED}.isu.'\n",
    "find_replace(directory, '', findstr, replacestr)"
   ]
  },
  {
   "attachments": {},
   "cell_type": "markdown",
   "metadata": {},
   "source": [
    "Replacing \"isu_\" with \"isu.\" in notebooks under \"/Databricks/notebooks/cleansed/ISU Ref/\""
   ]
  },
  {
   "cell_type": "code",
   "execution_count": null,
   "metadata": {},
   "outputs": [],
   "source": [
    "directory = \"../Databricks/notebooks/cleansed/ISU Ref/\"\n",
    "\n",
    "findstr     = '{ADS_DATABASE_CLEANSED}.isu_'\n",
    "replacestr  = '{ADS_DATABASE_CLEANSED}.isu.'\n",
    "find_replace(directory, '', findstr, replacestr)\n",
    "\n",
    "print('Iteration 2')\n",
    "findstr     = 'cleansed.isu_'\n",
    "replacestr  = '{ADS_DATABASE_CLEANSED}.isu.'\n",
    "find_replace(directory, '', findstr, replacestr)"
   ]
  },
  {
   "attachments": {},
   "cell_type": "markdown",
   "metadata": {},
   "source": [
    "Replacing \"isu_\" with \"isu.\" in notebooks under \"/Databricks/notebooks/cleansed/ISU SLT/\""
   ]
  },
  {
   "cell_type": "code",
   "execution_count": null,
   "metadata": {},
   "outputs": [],
   "source": [
    "directory = \"../Databricks/notebooks/cleansed/ISU SLT/\"\n",
    "\n",
    "findstr     = '{ADS_DATABASE_CLEANSED}.isu_'\n",
    "replacestr  = '{ADS_DATABASE_CLEANSED}.isu.'\n",
    "find_replace(directory, '', findstr, replacestr)\n",
    "\n",
    "print('Iteration 2')\n",
    "findstr     = 'cleansed.isu_'\n",
    "replacestr  = '{ADS_DATABASE_CLEANSED}.isu.'\n",
    "find_replace(directory, '', findstr, replacestr)"
   ]
  },
  {
   "attachments": {},
   "cell_type": "markdown",
   "metadata": {},
   "source": [
    "**Usecase1 Curated Notebooks' Refactoring**"
   ]
  },
  {
   "attachments": {},
   "cell_type": "markdown",
   "metadata": {},
   "source": [
    "Replacing \"isu_\" with \"isu.\" in notebooks under \"/Databricks/notebooks/curated/\""
   ]
  },
  {
   "cell_type": "code",
   "execution_count": null,
   "metadata": {},
   "outputs": [],
   "source": [
    "directory = \"../Databricks/notebooks/curated/\"\n",
    "\n",
    "findstr     = '{ADS_DATABASE_CLEANSED}.isu_'\n",
    "replacestr  = '{ADS_DATABASE_CLEANSED}.isu.'\n",
    "find_replace(directory, '', findstr, replacestr)\n",
    "\n",
    "print('Iteration 2')\n",
    "findstr     = 'cleansed.isu_'\n",
    "replacestr  = '{ADS_DATABASE_CLEANSED}.isu.'\n",
    "find_replace(directory, '', findstr, replacestr)"
   ]
  },
  {
   "attachments": {},
   "cell_type": "markdown",
   "metadata": {},
   "source": [
    "Replacing \"crm_\" with \"crm.\" in notebooks under \"/Databricks/notebooks/curated/\""
   ]
  },
  {
   "cell_type": "code",
   "execution_count": null,
   "metadata": {},
   "outputs": [],
   "source": [
    "directory = \"../Databricks/notebooks/curated/\"\n",
    "\n",
    "findstr = '{ADS_DATABASE_CLEANSED}.crm_'\n",
    "replacestr = '{ADS_DATABASE_CLEANSED}.crm.'\n",
    "find_replace(directory, '', findstr, replacestr)\n",
    "\n",
    "print('Iteration 2')\n",
    "findstr = 'cleansed.crm_'\n",
    "replacestr = '{ADS_DATABASE_CLEANSED}.crm.'\n",
    "find_replace(directory, '', findstr, replacestr)"
   ]
  },
  {
   "attachments": {},
   "cell_type": "markdown",
   "metadata": {},
   "source": [
    "Replacing \"hydra_\" with \"hydra.\" in notebooks under \"/Databricks/notebooks/curated/\""
   ]
  },
  {
   "cell_type": "code",
   "execution_count": null,
   "metadata": {},
   "outputs": [],
   "source": [
    "directory = \"../Databricks/notebooks/curated/\"\n",
    "\n",
    "findstr = '{ADS_DATABASE_CLEANSED}.hydra_'\n",
    "replacestr = '{ADS_DATABASE_CLEANSED}.hydra.'\n",
    "find_replace(directory, '', findstr, replacestr)\n",
    "\n",
    "print('Iteration 2')\n",
    "findstr = 'cleansed.hydra_'\n",
    "replacestr = '{ADS_DATABASE_CLEANSED}.hydra.'\n",
    "find_replace(directory, '', findstr, replacestr)"
   ]
  },
  {
   "attachments": {},
   "cell_type": "markdown",
   "metadata": {},
   "source": [
    "Replacing \"access_\" with \"access.\" in notebooks under \"/Databricks/notebooks/curated/\""
   ]
  },
  {
   "cell_type": "code",
   "execution_count": null,
   "metadata": {},
   "outputs": [],
   "source": [
    "directory = \"../Databricks/notebooks/curated/\"\n",
    "\n",
    "findstr = '{ADS_DATABASE_CLEANSED}.access_'\n",
    "replacestr = '{ADS_DATABASE_CLEANSED}.access.'\n",
    "find_replace(directory, '', findstr, replacestr)\n",
    "\n",
    "print('Iteration 2')\n",
    "findstr = 'cleansed.access_'\n",
    "replacestr = '{ADS_DATABASE_CLEANSED}.access.'\n",
    "find_replace(directory, '', findstr, replacestr)"
   ]
  },
  {
   "attachments": {},
   "cell_type": "markdown",
   "metadata": {},
   "source": [
    "Replacing \"curated.dim\" with \"curated.dim.\" in notebooks under \"/Databricks/notebooks/curated/\""
   ]
  },
  {
   "cell_type": "code",
   "execution_count": null,
   "metadata": {},
   "outputs": [],
   "source": [
    "directory = \"../Databricks/notebooks/curated/\"\n",
    "\n",
    "findstr = '{ADS_DATABASE_CURATED}.dim'\n",
    "replacestr = '{ADS_DATABASE_CURATED}.dim.'\n",
    "find_replace(directory, '', findstr, replacestr)\n",
    "\n",
    "print('Iteration 2')\n",
    "findstr = 'curated.dim'\n",
    "replacestr = '{ADS_DATABASE_CURATED}.dim.'\n",
    "find_replace(directory, '', findstr, replacestr)"
   ]
  },
  {
   "attachments": {},
   "cell_type": "markdown",
   "metadata": {},
   "source": [
    "Removing \"dim\" from dimension names as the dimensions would be created under \"dim\" schema in notebooks under \"/Databricks/notebooks/curated/\""
   ]
  },
  {
   "cell_type": "code",
   "execution_count": null,
   "metadata": {},
   "outputs": [],
   "source": [
    "directory = \"../Databricks/notebooks/curated/\"\n",
    "\n",
    "findstr = 'entity=\"dim'\n",
    "replacestr = 'entity=\"dim.'\n",
    "find_replace(directory, '', findstr, replacestr)"
   ]
  },
  {
   "attachments": {},
   "cell_type": "markdown",
   "metadata": {},
   "source": [
    "Replacing \"curated.fact\" with \"curated.fact.\" in notebooks under \"/Databricks/notebooks/curated/\""
   ]
  },
  {
   "cell_type": "code",
   "execution_count": null,
   "metadata": {},
   "outputs": [],
   "source": [
    "directory = \"../Databricks/notebooks/curated/\"\n",
    "\n",
    "findstr = '{ADS_DATABASE_CURATED}.fact'\n",
    "replacestr = '{ADS_DATABASE_CURATED}.fact.'\n",
    "find_replace(directory, '', findstr, replacestr)\n",
    "\n",
    "print('Iteration 2')\n",
    "findstr = 'curated.fact'\n",
    "replacestr = '{ADS_DATABASE_CURATED}.fact.'\n",
    "find_replace(directory, '', findstr, replacestr)"
   ]
  },
  {
   "attachments": {},
   "cell_type": "markdown",
   "metadata": {},
   "source": [
    "Removing \"fact\" from fact names as the facts would be created under \"fact\" schema in notebooks under \"/Databricks/notebooks/curated/\""
   ]
  },
  {
   "cell_type": "code",
   "execution_count": null,
   "metadata": {},
   "outputs": [],
   "source": [
    "directory = \"../Databricks/notebooks/curated/\"\n",
    "\n",
    "findstr = 'entity=\"fact'\n",
    "replacestr = 'entity=\"fact.'\n",
    "find_replace(directory, '', findstr, replacestr)"
   ]
  },
  {
   "attachments": {},
   "cell_type": "markdown",
   "metadata": {},
   "source": [
    "**Usecase1 View Notebooks' Refactoring**"
   ]
  },
  {
   "attachments": {},
   "cell_type": "markdown",
   "metadata": {},
   "source": [
    "Function to find a given string and replace all occurances in all the notebooks (.py) in the current direcotry and its sub directories"
   ]
  },
  {
   "cell_type": "code",
   "execution_count": null,
   "metadata": {},
   "outputs": [],
   "source": [
    "def find_replace(directory, filename_filter, find, replace, filePattern=\"*.py\") -> None:\n",
    "    \"\"\"traverses through the given directory and using given conditions and pattern, does a find + replace\"\"\"\n",
    "    for path, dirs, files in os.walk(os.path.abspath(directory)):\n",
    "        print(path)\n",
    "        for filename in fnmatch.filter(files, filePattern):\n",
    "            if filename_filter.lower() in filename.lower():\n",
    "                filepath = os.path.join(path, filename)\n",
    "                with open(filepath) as f:\n",
    "                    s = f.read()\n",
    "                if find in s:\n",
    "                    print (filename)\n",
    "                    s = s.replace(find, replace)\n",
    "                with open(filepath, \"w\") as f:\n",
    "                    f.write(s)"
   ]
  },
  {
   "attachments": {},
   "cell_type": "markdown",
   "metadata": {},
   "source": [
    "UC1 views to be created in 'water_consumption' schema, hence changing the create statement to point to the new schema in notebooks under \"/Databricks/notebooks/curated/\""
   ]
  },
  {
   "attachments": {},
   "cell_type": "markdown",
   "metadata": {},
   "source": [
    "Once the latest codebase is available in Develop branch update the view notebooks under curated/01 Dimensions folder to add the following commands.\n",
    "1. # COMMAND ----------\n",
    "\n",
    "# MAGIC %run ../common/common-curated-includeMain\n",
    "\n",
    "# COMMAND ----------\n",
    "2. spark.sql(\"\"\" -> spark.sql(f\"\"\"\n",
    "3. manually replace 'curated' with '{ADS_DATABASE_CURATED}'\n",
    "4. run the notebook to create the view"
   ]
  },
  {
   "cell_type": "code",
   "execution_count": null,
   "metadata": {},
   "outputs": [],
   "source": [
    "directory = \"../Databricks/notebooks/curated/\"\n",
    "\n",
    "findstr = 'CREATE OR REPLACE VIEW {ADS_DATABASE_CURATED}.view'\n",
    "replacestr = 'CREATE OR REPLACE VIEW {ADS_DATABASE_CURATED}.water_consumption.view'\n",
    "find_replace(directory, '', findstr, replacestr)\n",
    "\n",
    "print('Iteration 2')\n",
    "findstr = '{ADS_DATABASE_CURATED}.dim'\n",
    "replacestr = '{ADS_DATABASE_CURATED}.dim.'\n",
    "find_replace(directory, '', findstr, replacestr)"
   ]
  },
  {
   "attachments": {},
   "cell_type": "markdown",
   "metadata": {},
   "source": [
    "**Control DB Updates**"
   ]
  },
  {
   "attachments": {},
   "cell_type": "markdown",
   "metadata": {},
   "source": [
    "Target/Source Names in Control DB to be updated to send the right table name with the format schema.tablename to ADF pipeline. (Run the following query to get the records to be updated that could be used to validate after running the update subsequently)"
   ]
  },
  {
   "attachments": {},
   "cell_type": "markdown",
   "metadata": {},
   "source": [
    "select\n",
    "  cc.*,\n",
    "  ct.TargetName,\n",
    "  substring(TargetName, 1, charindex('_', TargetName, 1) -1) + '.' + substring(TargetName, charindex('_', TargetName, 1) + 1, LEN(TargetName)) updTargetName\n",
    "from\n",
    "  ctl.ControlTarget ct\n",
    "  inner join ctl.vw_ControlConfiguration cc on cc.TargetId = ct.TargetId\n",
    "where\n",
    "  TriggerName in ('BATCH_DAILY_HYDRA', 'BATCH_DAILY_SAPCRM', 'BATCH_DAILY_SAPISU')\n",
    "  and ProjectName like 'CLEANSED%'"
   ]
  },
  {
   "attachments": {},
   "cell_type": "markdown",
   "metadata": {},
   "source": [
    "with controlconfig as (\n",
    "  select\n",
    "    cc.*,\n",
    "    ct.TargetName,\n",
    "    substring(TargetName, 1, charindex('_', TargetName, 1) -1) + '.' + substring(TargetName, charindex('_', TargetName, 1) + 1, LEN(TargetName)) updTargetName\n",
    "  from\n",
    "    ctl.ControlTarget ct\n",
    "    inner join ctl.vw_ControlConfiguration cc on cc.TargetId = ct.TargetId\n",
    "  where\n",
    "    TriggerName in ('BATCH_DAILY_HYDRA', 'BATCH_DAILY_SAPCRM', 'BATCH_DAILY_SAPISU')\n",
    "    and ProjectName like 'CLEANSED%'\n",
    ")\n",
    "update\n",
    "  controlconfig\n",
    "set\n",
    "  TargetName = updTargetName;"
   ]
  },
  {
   "attachments": {},
   "cell_type": "markdown",
   "metadata": {},
   "source": [
    "select\n",
    "  cc.*,\n",
    "  cs.SourceName,\n",
    "  substring(SourceName, 1, charindex('_', SourceName, 1) -1) + '.' + substring(SourceName, charindex('_', SourceName, 1) + 1, LEN(SourceName)) updSourceName\n",
    "from\n",
    "  ctl.ControlSource cs\n",
    "  inner join ctl.vw_ControlConfiguration cc on cc.SourceId = cs.SourceId\n",
    "where\n",
    "  TriggerName in ('BATCH_DAILY_HYDRA', 'BATCH_DAILY_SAPCRM', 'BATCH_DAILY_SAPISU')\n",
    "  and ProjectName like 'CLEANSED%'"
   ]
  },
  {
   "attachments": {},
   "cell_type": "markdown",
   "metadata": {},
   "source": [
    "with controlconfig as (\n",
    "  select\n",
    "    cc.*,\n",
    "    cs.SourceName,\n",
    "    substring(SourceName, 1, charindex('_', SourceName, 1) -1) + '.' + substring(SourceName, charindex('_', SourceName, 1) + 1, LEN(SourceName)) updSourceName\n",
    "  from\n",
    "    ctl.ControlSource cs\n",
    "    inner join ctl.vw_ControlConfiguration cc on cc.SourceId = cs.SourceId\n",
    "  where\n",
    "    TriggerName in ('BATCH_DAILY_HYDRA', 'BATCH_DAILY_SAPCRM', 'BATCH_DAILY_SAPISU')\n",
    "    and ProjectName like 'CLEANSED%'\n",
    ")\n",
    "update\n",
    "  controlconfig\n",
    "set\n",
    "  SourceName = updSourceName;"
   ]
  }
 ],
 "metadata": {
  "kernelspec": {
   "display_name": "Python 3",
   "language": "python",
   "name": "python3"
  },
  "language_info": {
   "codemirror_mode": {
    "name": "ipython",
    "version": 3
   },
   "file_extension": ".py",
   "mimetype": "text/x-python",
   "name": "python",
   "nbconvert_exporter": "python",
   "pygments_lexer": "ipython3",
   "version": "3.11.1"
  },
  "orig_nbformat": 4
 },
 "nbformat": 4,
 "nbformat_minor": 2
}
