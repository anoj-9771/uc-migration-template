{
 "cells": [
  {
   "attachments": {},
   "cell_type": "markdown",
   "metadata": {},
   "source": [
    "Implementation Plan:\n"
   ]
  },
  {
   "attachments": {},
   "cell_type": "markdown",
   "metadata": {},
   "source": [
    "You can run git commands like this to get the latest version of code to work with:\n",
    "\n",
    "git checkout preprod && git pull && git checkout -B uc-code-refactor-20230225 && git checkout uc-code-refactor-20230224 ./uc1Codefix.ipynb"
   ]
  },
  {
   "cell_type": "code",
   "execution_count": 1,
   "metadata": {},
   "outputs": [],
   "source": [
    "import os, re, fnmatch"
   ]
  },
  {
   "attachments": {},
   "cell_type": "markdown",
   "metadata": {},
   "source": [
    "Function to find a given string and replace all occurances in all the notebooks (.py) in the current direcotry and its sub directories"
   ]
  },
  {
   "cell_type": "code",
   "execution_count": 2,
   "metadata": {},
   "outputs": [],
   "source": [
    "def find_replace(directory, filename_filter, find, replace, filePattern=\"*.py\") -> None:\n",
    "    \"\"\"traverses through the given directory and using given conditions and pattern, does a find + replace\"\"\"\n",
    "    for path, dirs, files in os.walk(os.path.abspath(directory)):\n",
    "        print(path)\n",
    "        for filename in fnmatch.filter(files, filePattern):\n",
    "            if filename_filter.lower() in filename.lower():\n",
    "                filepath = os.path.join(path, filename)\n",
    "                with open(filepath) as f:\n",
    "                    s = f.read()\n",
    "                if find.lower() in s.lower():\n",
    "                    s = s.replace(find, replace)\n",
    "                    print (f\"{filename} updated - [{find}] --> [{replace}]\")\n",
    "                with open(filepath, \"w\") as f:\n",
    "                    f.write(s)\n"
   ]
  },
  {
   "attachments": {},
   "cell_type": "markdown",
   "metadata": {},
   "source": [
    "**MDP Dimension & Facts Notebooks Refactoring**"
   ]
  },
  {
   "attachments": {},
   "cell_type": "markdown",
   "metadata": {},
   "source": [
    "Some view notebooks have references that deviate from the standard naming convention, hence handling manually in the following command"
   ]
  },
  {
   "cell_type": "code",
   "execution_count": 3,
   "metadata": {},
   "outputs": [],
   "source": [
    "directory   = \"../Transform/Dimension/\""
   ]
  },
  {
   "cell_type": "code",
   "execution_count": null,
   "metadata": {},
   "outputs": [],
   "source": [
    "find_replace(directory, '', '# MAGIC %run ../../Common/common-transform', \"# MAGIC %run ../../Common/common-transform \\n\\n# COMMAND ---------- \\n\\n# MAGIC %run ../../Common/common-helpers \\n# COMMAND ---------- \\n\")"
   ]
  },
  {
   "attachments": {},
   "cell_type": "markdown",
   "metadata": {},
   "source": [
    "adding f string where get_table_name function was called in place of hardcoded table names"
   ]
  },
  {
   "cell_type": "code",
   "execution_count": null,
   "metadata": {},
   "outputs": [],
   "source": [
    "find_replace(directory, '', 'spark.sql(\"\"\"', 'spark.sql(f\"\"\"')"
   ]
  },
  {
   "cell_type": "code",
   "execution_count": null,
   "metadata": {},
   "outputs": [],
   "source": [
    "\n",
    "findstr     = 'GetTable(f\"{TARGET}.dimAsset\")'\n",
    "replacestr  = 'GetTable(f\"{get_table_namespace(f\\'{TARGET}\\', \\'dimAsset\\')}\")'\n",
    "find_replace(directory, '', findstr, replacestr)"
   ]
  },
  {
   "cell_type": "code",
   "execution_count": null,
   "metadata": {},
   "outputs": [],
   "source": [
    "\n",
    "findstr     = 'GetTable(f\"{DEFAULT_TARGET}.factworkorder\")'\n",
    "replacestr  = 'GetTable(f\"{get_table_namespace(f\\'{DEFAULT_TARGET}\\', \\'factworkorder\\')}\")'\n",
    "find_replace(directory, '', findstr, replacestr)"
   ]
  },
  {
   "cell_type": "code",
   "execution_count": null,
   "metadata": {},
   "outputs": [],
   "source": [
    "\n",
    "findstr     = 'GetTable(f\"{SOURCE}.crm_0bpartner_attr\")'\n",
    "replacestr  = 'GetTable(f\"{get_table_namespace(f\\'{SOURCE}\\', \\'crm_0bpartner_attr\\')}\")'\n",
    "find_replace(directory, '', findstr, replacestr)"
   ]
  },
  {
   "cell_type": "code",
   "execution_count": null,
   "metadata": {},
   "outputs": [],
   "source": [
    "findstr     = 'GetTable(f\"{SOURCE}.crm_0crm_category_text\")'\n",
    "replacestr  = 'GetTable(f\"{get_table_namespace(f\\'{SOURCE}\\', \\'crm_0crm_category_text\\')}\")'\n",
    "find_replace(directory, '', findstr, replacestr)"
   ]
  },
  {
   "cell_type": "code",
   "execution_count": null,
   "metadata": {},
   "outputs": [],
   "source": [
    "findstr     = 'GetTable(f\"{SOURCE}.crm_0crm_sales_act_1\")'\n",
    "replacestr  = 'GetTable(f\"{get_table_namespace(f\\'{SOURCE}\\', \\'crm_0crm_sales_act_1\\')}\")'\n",
    "find_replace(directory, '', findstr, replacestr)"
   ]
  },
  {
   "cell_type": "code",
   "execution_count": null,
   "metadata": {},
   "outputs": [],
   "source": [
    "findstr     = 'GetTable(f\"{SOURCE}.crm_tj30t\")'\n",
    "replacestr  = 'GetTable(f\"{get_table_namespace(f\\'{SOURCE}\\', \\'crm_tj30t\\')}\")'\n",
    "find_replace(directory, '', findstr, replacestr)"
   ]
  },
  {
   "cell_type": "code",
   "execution_count": null,
   "metadata": {},
   "outputs": [],
   "source": [
    "findstr     = 'GetTable(f\"{SOURCE}.crm_crmd_erms_header\")'\n",
    "replacestr  = 'GetTable(f\"{get_table_namespace(f\\'{SOURCE}\\', \\'crm_crmd_erms_header\\')}\")'\n",
    "find_replace(directory, '', findstr, replacestr)"
   ]
  },
  {
   "cell_type": "code",
   "execution_count": null,
   "metadata": {},
   "outputs": [],
   "source": [
    "\n",
    "findstr     = 'GetTable(f\"{SOURCE}.crm_0crm_proc_type_text\")'\n",
    "replacestr  = 'GetTable(f\"{get_table_namespace(f\\'{SOURCE}\\', \\'crm_0crm_proc_type_text\\')}\")'\n",
    "find_replace(directory, '', findstr, replacestr)"
   ]
  },
  {
   "cell_type": "code",
   "execution_count": null,
   "metadata": {},
   "outputs": [],
   "source": [
    "\n",
    "findstr     = 'GetTable(f\"{TARGET}.dimAssetLocation\")'\n",
    "replacestr  = 'GetTable(f\"{get_table_namespace(f\\'{TARGET}\\', \\'dimAssetLocation\\')}\")'\n",
    "find_replace(directory, '', findstr, replacestr)"
   ]
  },
  {
   "cell_type": "code",
   "execution_count": null,
   "metadata": {},
   "outputs": [],
   "source": [
    "\n",
    "findstr     = 'GetTable(f\"{SOURCE}.crm_0crm_srv_req_inci_h\")'\n",
    "replacestr  = 'GetTable(f\"{get_table_namespace(f\\'{SOURCE}\\', \\'crm_0crm_srv_req_inci_h\\')}\")'\n",
    "find_replace(directory, '', findstr, replacestr)"
   ]
  },
  {
   "cell_type": "code",
   "execution_count": null,
   "metadata": {},
   "outputs": [],
   "source": [
    "findstr     = '{SOURCE}.crm_crm_svy_re_quest'\n",
    "replacestr  = '{get_table_namespace(f\\'{SOURCE}\\', \\'crm_crm_svy_re_quest\\')}'\n",
    "find_replace(directory, '', findstr, replacestr)"
   ]
  },
  {
   "cell_type": "code",
   "execution_count": null,
   "metadata": {},
   "outputs": [],
   "source": [
    "findstr     = '{SOURCE}.crm_crm_svy_db_s'\n",
    "replacestr  = '{get_table_namespace(f\\'{SOURCE}\\', \\'crm_crm_svy_db_s\\')}'\n",
    "find_replace(directory, '', findstr, replacestr)"
   ]
  },
  {
   "cell_type": "code",
   "execution_count": null,
   "metadata": {},
   "outputs": [],
   "source": [
    "findstr     = '{SOURCE}.crm_0svy_qstnnr_text'\n",
    "replacestr  = '{get_table_namespace(f\\'{SOURCE}\\', \\'crm_0svy_qstnnr_text\\')}'\n",
    "find_replace(directory, '', findstr, replacestr)"
   ]
  },
  {
   "cell_type": "code",
   "execution_count": null,
   "metadata": {},
   "outputs": [],
   "source": [
    "findstr     = '{SOURCE}.crm_crmc_prt_otype'\n",
    "replacestr  = '{get_table_namespace(f\\'{SOURCE}\\', \\'crm_crmc_prt_otype\\')}'\n",
    "find_replace(directory, '', findstr, replacestr)"
   ]
  },
  {
   "cell_type": "code",
   "execution_count": null,
   "metadata": {},
   "outputs": [],
   "source": [
    "findstr     = '{SOURCE}.qualtrics_billpaidsuccessfullyquestions'\n",
    "replacestr  = '{get_table_namespace(f\\'{SOURCE}\\', \\'qualtrics_billpaidsuccessfullyquestions\\')}'\n",
    "find_replace(directory, '', findstr, replacestr)"
   ]
  },
  {
   "cell_type": "code",
   "execution_count": null,
   "metadata": {},
   "outputs": [],
   "source": [
    "findstr     = '{SOURCE}.qualtrics_businessConnectServiceRequestCloseQuestions'\n",
    "replacestr  = '{get_table_namespace(f\\'{SOURCE}\\', \\'qualtrics_businessConnectServiceRequestCloseQuestions\\')}'\n",
    "find_replace(directory, '', findstr, replacestr)"
   ]
  },
  {
   "cell_type": "code",
   "execution_count": null,
   "metadata": {},
   "outputs": [],
   "source": [
    "findstr     = '{SOURCE}.qualtrics_complaintsComplaintClosedQuestions'\n",
    "replacestr  = '{get_table_namespace(f\\'{SOURCE}\\', \\'qualtrics_complaintsComplaintClosedQuestions\\')}'\n",
    "find_replace(directory, '', findstr, replacestr)"
   ]
  },
  {
   "cell_type": "code",
   "execution_count": null,
   "metadata": {},
   "outputs": [],
   "source": [
    "findstr     = '{SOURCE}.qualtrics_contactcentreinteractionmeasurementsurveyquestions'\n",
    "replacestr  = '{get_table_namespace(f\\'{SOURCE}\\', \\'qualtrics_contactcentreinteractionmeasurementsurveyquestions\\')}'\n",
    "find_replace(directory, '', findstr, replacestr)"
   ]
  },
  {
   "cell_type": "code",
   "execution_count": null,
   "metadata": {},
   "outputs": [],
   "source": [
    "findstr     = '{SOURCE}.qualtrics_customercarequestions'\n",
    "replacestr  = '{get_table_namespace(f\\'{SOURCE}\\', \\'qualtrics_customercarequestions\\')}'\n",
    "find_replace(directory, '', findstr, replacestr)"
   ]
  },
  {
   "cell_type": "code",
   "execution_count": null,
   "metadata": {},
   "outputs": [],
   "source": [
    "findstr     = '{SOURCE}.qualtrics_p4sonlinefeedbackquestions'\n",
    "replacestr  = '{get_table_namespace(f\\'{SOURCE}\\', \\'qualtrics_p4sonlinefeedbackquestions\\')}'\n",
    "find_replace(directory, '', findstr, replacestr)"
   ]
  },
  {
   "cell_type": "code",
   "execution_count": null,
   "metadata": {},
   "outputs": [],
   "source": [
    "findstr     = '{SOURCE}.qualtrics_s73surveyquestions'\n",
    "replacestr  = '{get_table_namespace(f\\'{SOURCE}\\', \\'qualtrics_s73surveyquestions\\')}'\n",
    "find_replace(directory, '', findstr, replacestr)"
   ]
  },
  {
   "cell_type": "code",
   "execution_count": null,
   "metadata": {},
   "outputs": [],
   "source": [
    "findstr     = '{SOURCE}.qualtrics_s73surveyquestions'\n",
    "replacestr  = '{get_table_namespace(f\\'{SOURCE}\\', \\'qualtrics_s73surveyquestions\\')}'\n",
    "find_replace(directory, '', findstr, replacestr)"
   ]
  },
  {
   "cell_type": "code",
   "execution_count": null,
   "metadata": {},
   "outputs": [],
   "source": [
    "findstr     = '{SOURCE}.qualtrics_waterfixpostinteractionfeedbackquestions'\n",
    "replacestr  = '{get_table_namespace(f\\'{SOURCE}\\', \\'qualtrics_waterfixpostinteractionfeedbackquestions\\')}'\n",
    "find_replace(directory, '', findstr, replacestr)"
   ]
  },
  {
   "cell_type": "code",
   "execution_count": null,
   "metadata": {},
   "outputs": [],
   "source": [
    "findstr     = '{SOURCE}.qualtrics_websitegolivequestions'\n",
    "replacestr  = '{get_table_namespace(f\\'{SOURCE}\\', \\'qualtrics_websitegolivequestions\\')}'\n",
    "find_replace(directory, '', findstr, replacestr)"
   ]
  },
  {
   "cell_type": "code",
   "execution_count": null,
   "metadata": {},
   "outputs": [],
   "source": [
    "findstr     = '{SOURCE}.qualtrics_wscs73experiencesurveyquestions'\n",
    "replacestr  = '{get_table_namespace(f\\'{SOURCE}\\', \\'qualtrics_wscs73experiencesurveyquestions\\')}'\n",
    "find_replace(directory, '', findstr, replacestr)"
   ]
  },
  {
   "cell_type": "code",
   "execution_count": null,
   "metadata": {},
   "outputs": [],
   "source": [
    "findstr     = '{SOURCE}.qualtrics_feedbacktabgolivequestions'\n",
    "replacestr  = '{get_table_namespace(f\\'{SOURCE}\\', \\'qualtrics_feedbacktabgolivequestions\\')}'\n",
    "find_replace(directory, '', findstr, replacestr)"
   ]
  },
  {
   "cell_type": "code",
   "execution_count": null,
   "metadata": {},
   "outputs": [],
   "source": [
    "findstr     = '{SOURCE}.crm_scapptseg'\n",
    "replacestr  = '{get_table_namespace(f\\'{SOURCE}\\', \\'crm_scapptseg\\')}'\n",
    "find_replace(directory, '', findstr, replacestr)"
   ]
  },
  {
   "cell_type": "code",
   "execution_count": null,
   "metadata": {},
   "outputs": [],
   "source": [
    "findstr     = '{DEFAULT_TARGET}.{TableName}'\n",
    "replacestr  = '{get_table_namespace(f\\'{DEFAULT_TARGET}\\', f\\'{TableName}\\')}'\n",
    "find_replace(directory, '', findstr, replacestr)"
   ]
  },
  {
   "cell_type": "code",
   "execution_count": null,
   "metadata": {},
   "outputs": [],
   "source": [
    "findstr     = '{TARGET}.refReportConfiguration'\n",
    "replacestr  = '{get_table_namespace(f\\'{TARGET}\\', \\'refReportConfiguration\\')}'\n",
    "find_replace(directory, '', findstr, replacestr)"
   ]
  },
  {
   "cell_type": "code",
   "execution_count": null,
   "metadata": {},
   "outputs": [],
   "source": [
    "findstr     = 'hive_metastore.'\n",
    "replacestr  = ''\n",
    "find_replace(directory, '', findstr, replacestr)"
   ]
  },
  {
   "attachments": {},
   "cell_type": "markdown",
   "metadata": {},
   "source": [
    "Function to get the list of hardcoded cleansed tablenames in the view definitions, uses regex to pattern match 'cleansed.'"
   ]
  },
  {
   "cell_type": "code",
   "execution_count": 4,
   "metadata": {},
   "outputs": [],
   "source": [
    "def get_strings_to_replace(full_path, pattern):\n",
    "    strings_to_replace = []\n",
    "    for filename in os.listdir(full_path):\n",
    "        if filename.endswith(\".py\"):\n",
    "            with open(os.path.join(full_path, filename), \"r\") as f:\n",
    "                for line in f:\n",
    "                    for word in line.split():\n",
    "                        if pattern.search(word): \n",
    "                            if (len(word.split(\".\"))) == 2:\n",
    "                                strings_to_replace.append( re.sub( r'[)\"](.*)', '', (re.sub('[^A-Za-z0-9.]+_', '', word)) ) )\n",
    "                            else:\n",
    "                                print (f\"This was formatted poorly and is hence not included in the list:\\n \\'{filename} \\'- {word}\\n\")\n",
    "    return strings_to_replace"
   ]
  },
  {
   "attachments": {},
   "cell_type": "markdown",
   "metadata": {},
   "source": [
    "Finding and replacing the hardcoded cleansed table names in view definitions using the above function"
   ]
  },
  {
   "cell_type": "code",
   "execution_count": null,
   "metadata": {},
   "outputs": [],
   "source": [
    "directory = \"../Transform/Dimension/\"\n",
    "patternstr = re.compile(r\"\\bcleansed.\\b\")\n",
    "\n",
    "strings_to_replace =  get_strings_to_replace(full_path = directory, pattern = patternstr)"
   ]
  },
  {
   "cell_type": "code",
   "execution_count": null,
   "metadata": {},
   "outputs": [],
   "source": [
    "strings_to_replace"
   ]
  },
  {
   "cell_type": "code",
   "execution_count": null,
   "metadata": {},
   "outputs": [],
   "source": [
    "\n",
    "for findstr in sorted(strings_to_replace, key = len, reverse = True):\n",
    "    # print(findstr)\n",
    "    layer   = findstr.split(\".\")[0]\n",
    "    schema  = findstr.split(\".\")[1].split(\"_\")[0]\n",
    "    table   = findstr.split(\".\")[1]\n",
    "    replacestr  = f'{{get_table_namespace(\\'{layer}\\', \\'{table}\\')}}'\n",
    "    # print(replacestr)\n",
    "    find_replace(directory, '', findstr, replacestr)"
   ]
  },
  {
   "cell_type": "code",
   "execution_count": null,
   "metadata": {},
   "outputs": [],
   "source": [
    "directory = \"../Transform/Dimension/\"\n",
    "patternstr = re.compile(r\"\\braw.\\b\")\n",
    "\n",
    "strings_to_replace =  get_strings_to_replace(full_path = directory, pattern = patternstr)\n"
   ]
  },
  {
   "cell_type": "code",
   "execution_count": null,
   "metadata": {},
   "outputs": [],
   "source": [
    "strings_to_replace"
   ]
  },
  {
   "cell_type": "code",
   "execution_count": null,
   "metadata": {},
   "outputs": [],
   "source": [
    "\n",
    "for findstr in sorted(strings_to_replace, key = len, reverse = True):\n",
    "    # print(findstr)\n",
    "    layer   = findstr.split(\".\")[0]\n",
    "    schema  = findstr.split(\".\")[1].split(\"_\")[0]\n",
    "    table   = findstr.split(\".\")[1]\n",
    "    replacestr  = f'{{get_table_namespace(\\'{layer}\\', \\'{table}\\')}}'\n",
    "    # print(replacestr)\n",
    "    find_replace(directory, '', findstr, replacestr)"
   ]
  },
  {
   "attachments": {},
   "cell_type": "markdown",
   "metadata": {},
   "source": [
    "Replacing \"curated.view\\<name\\>\" with \"\\<env_\\>curated.\\<productdatabase\\>.\\<viewname\\>\" \n",
    "in notebooks under \"/Databricks/MDP-Framework/Transform/Views/\". These views are meant to be created in product specific database, resolved based on the csv lookup."
   ]
  },
  {
   "cell_type": "code",
   "execution_count": 5,
   "metadata": {},
   "outputs": [],
   "source": [
    "directory = \"../Transform/Dimension/\"\n",
    "patternstr = re.compile(r\"\\bcurated_v3.\\b\")\n",
    "\n",
    "strings_to_replace =  get_strings_to_replace(full_path = directory, pattern = patternstr)\n"
   ]
  },
  {
   "cell_type": "code",
   "execution_count": 6,
   "metadata": {},
   "outputs": [
    {
     "data": {
      "text/plain": [
       "['curated_v3.dimasset',\n",
       " 'curated_v3.dimAssetContract',\n",
       " 'curated_v3.dimAssetContract',\n",
       " 'curated_v3.dimassetlocation',\n",
       " 'curated_v3.dimassetlocation',\n",
       " 'curated_v3.dimAssetLocationAncestor',\n",
       " 'curated_v3.dimassetmeter',\n",
       " 'curated_v3.dimassetspec',\n",
       " 'curated_v3.dimlocationSpec',\n",
       " 'curated_v3.dimWorkOrderJobPlan',\n",
       " 'curated_v3.dimWorkOrderProblemType']"
      ]
     },
     "execution_count": 6,
     "metadata": {},
     "output_type": "execute_result"
    }
   ],
   "source": [
    "strings_to_replace"
   ]
  },
  {
   "cell_type": "code",
   "execution_count": 7,
   "metadata": {},
   "outputs": [
    {
     "name": "stdout",
     "output_type": "stream",
     "text": [
      "{get_table_namespace('curated', 'dimAssetLocationAncestor')}\n",
      "c:\\Users\\o9ji\\Documents\\daf_poc_repo1\\Databricks\\MDP-Framework\\Transform\\Dimension\n",
      "AssetLocationAncestor.py updated - [curated_v3.dimAssetLocationAncestor] --> [{get_table_namespace('curated', 'dimAssetLocationAncestor')}]\n",
      "{get_table_namespace('curated', 'dimWorkOrderProblemType')}\n",
      "c:\\Users\\o9ji\\Documents\\daf_poc_repo1\\Databricks\\MDP-Framework\\Transform\\Dimension\n",
      "WorkOrderProblemType.py updated - [curated_v3.dimWorkOrderProblemType] --> [{get_table_namespace('curated', 'dimWorkOrderProblemType')}]\n",
      "{get_table_namespace('curated', 'dimWorkOrderJobPlan')}\n",
      "c:\\Users\\o9ji\\Documents\\daf_poc_repo1\\Databricks\\MDP-Framework\\Transform\\Dimension\n",
      "WorkOrderJobPlan.py updated - [curated_v3.dimWorkOrderJobPlan] --> [{get_table_namespace('curated', 'dimWorkOrderJobPlan')}]\n",
      "{get_table_namespace('curated', 'dimAssetContract')}\n",
      "c:\\Users\\o9ji\\Documents\\daf_poc_repo1\\Databricks\\MDP-Framework\\Transform\\Dimension\n",
      "AssetContract.py updated - [curated_v3.dimAssetContract] --> [{get_table_namespace('curated', 'dimAssetContract')}]\n",
      "{get_table_namespace('curated', 'dimAssetContract')}\n",
      "c:\\Users\\o9ji\\Documents\\daf_poc_repo1\\Databricks\\MDP-Framework\\Transform\\Dimension\n",
      "{get_table_namespace('curated', 'dimassetlocation')}\n",
      "c:\\Users\\o9ji\\Documents\\daf_poc_repo1\\Databricks\\MDP-Framework\\Transform\\Dimension\n",
      "AssetLocation.py updated - [curated_v3.dimassetlocation] --> [{get_table_namespace('curated', 'dimassetlocation')}]\n",
      "{get_table_namespace('curated', 'dimassetlocation')}\n",
      "c:\\Users\\o9ji\\Documents\\daf_poc_repo1\\Databricks\\MDP-Framework\\Transform\\Dimension\n",
      "{get_table_namespace('curated', 'dimlocationSpec')}\n",
      "c:\\Users\\o9ji\\Documents\\daf_poc_repo1\\Databricks\\MDP-Framework\\Transform\\Dimension\n",
      "LocationSpec.py updated - [curated_v3.dimlocationSpec] --> [{get_table_namespace('curated', 'dimlocationSpec')}]\n",
      "{get_table_namespace('curated', 'dimassetmeter')}\n",
      "c:\\Users\\o9ji\\Documents\\daf_poc_repo1\\Databricks\\MDP-Framework\\Transform\\Dimension\n",
      "AssetMeter.py updated - [curated_v3.dimassetmeter] --> [{get_table_namespace('curated', 'dimassetmeter')}]\n",
      "{get_table_namespace('curated', 'dimassetspec')}\n",
      "c:\\Users\\o9ji\\Documents\\daf_poc_repo1\\Databricks\\MDP-Framework\\Transform\\Dimension\n",
      "AssetSpec.py updated - [curated_v3.dimassetspec] --> [{get_table_namespace('curated', 'dimassetspec')}]\n",
      "{get_table_namespace('curated', 'dimasset')}\n",
      "c:\\Users\\o9ji\\Documents\\daf_poc_repo1\\Databricks\\MDP-Framework\\Transform\\Dimension\n",
      "Asset.py updated - [curated_v3.dimasset] --> [{get_table_namespace('curated', 'dimasset')}]\n"
     ]
    }
   ],
   "source": [
    "\n",
    "for findstr in sorted(strings_to_replace, key = len, reverse = True):\n",
    "    # print(findstr)\n",
    "    layer   = findstr.split(\".\")[0]\n",
    "    # schema  = findstr.split(\".\")[1].split(\"_\")[0]\n",
    "    table   = findstr.split(\".\")[1]\n",
    "    replacestr  = f'{{get_table_namespace(\\'curated\\', \\'{table}\\')}}'\n",
    "    print(replacestr)\n",
    "    find_replace(directory, '', findstr, replacestr)"
   ]
  },
  {
   "attachments": {},
   "cell_type": "markdown",
   "metadata": {},
   "source": [
    "**MDP Facts Notebooks Refactoring**"
   ]
  },
  {
   "cell_type": "code",
   "execution_count": 6,
   "metadata": {},
   "outputs": [],
   "source": [
    "directory   = \"../Transform/Fact/\""
   ]
  },
  {
   "cell_type": "code",
   "execution_count": 11,
   "metadata": {},
   "outputs": [
    {
     "name": "stdout",
     "output_type": "stream",
     "text": [
      "c:\\Users\\o9ji\\Documents\\daf_poc_repo1\\Databricks\\MDP-Framework\\Transform\\Fact\n",
      "AssetPerformance.py updated - [# MAGIC %run ../../Common/common-transform] --> [# MAGIC %run ../../Common/common-transform \n",
      "\n",
      "# COMMAND ---------- \n",
      "\n",
      "# MAGIC %run ../../Common/common-helpers \n",
      "# COMMAND ---------- \n",
      "]\n",
      "AssetPerformanceIndex.py updated - [# MAGIC %run ../../Common/common-transform] --> [# MAGIC %run ../../Common/common-transform \n",
      "\n",
      "# COMMAND ---------- \n",
      "\n",
      "# MAGIC %run ../../Common/common-helpers \n",
      "# COMMAND ---------- \n",
      "]\n",
      "ConsumptionAggregate.py updated - [# MAGIC %run ../../Common/common-transform] --> [# MAGIC %run ../../Common/common-transform \n",
      "\n",
      "# COMMAND ---------- \n",
      "\n",
      "# MAGIC %run ../../Common/common-helpers \n",
      "# COMMAND ---------- \n",
      "]\n",
      "CustomerInteraction.py updated - [# MAGIC %run ../../Common/common-transform] --> [# MAGIC %run ../../Common/common-transform \n",
      "\n",
      "# COMMAND ---------- \n",
      "\n",
      "# MAGIC %run ../../Common/common-helpers \n",
      "# COMMAND ---------- \n",
      "]\n",
      "CustomerServiceEmailEvent.py updated - [# MAGIC %run ../../Common/common-transform] --> [# MAGIC %run ../../Common/common-transform \n",
      "\n",
      "# COMMAND ---------- \n",
      "\n",
      "# MAGIC %run ../../Common/common-helpers \n",
      "# COMMAND ---------- \n",
      "]\n",
      "CustomerServiceRequest.py updated - [# MAGIC %run ../../Common/common-transform] --> [# MAGIC %run ../../Common/common-transform \n",
      "\n",
      "# COMMAND ---------- \n",
      "\n",
      "# MAGIC %run ../../Common/common-helpers \n",
      "# COMMAND ---------- \n",
      "]\n",
      "CustomerServiceWorkNote.py updated - [# MAGIC %run ../../Common/common-transform] --> [# MAGIC %run ../../Common/common-transform \n",
      "\n",
      "# COMMAND ---------- \n",
      "\n",
      "# MAGIC %run ../../Common/common-helpers \n",
      "# COMMAND ---------- \n",
      "]\n",
      "PreventiveMaintenance.py updated - [# MAGIC %run ../../Common/common-transform] --> [# MAGIC %run ../../Common/common-transform \n",
      "\n",
      "# COMMAND ---------- \n",
      "\n",
      "# MAGIC %run ../../Common/common-helpers \n",
      "# COMMAND ---------- \n",
      "]\n",
      "ServiceTicket.py updated - [# MAGIC %run ../../Common/common-transform] --> [# MAGIC %run ../../Common/common-transform \n",
      "\n",
      "# COMMAND ---------- \n",
      "\n",
      "# MAGIC %run ../../Common/common-helpers \n",
      "# COMMAND ---------- \n",
      "]\n",
      "SurveyMiscellaneousInformation.py updated - [# MAGIC %run ../../Common/common-transform] --> [# MAGIC %run ../../Common/common-transform \n",
      "\n",
      "# COMMAND ---------- \n",
      "\n",
      "# MAGIC %run ../../Common/common-helpers \n",
      "# COMMAND ---------- \n",
      "]\n",
      "SurveyResponse.py updated - [# MAGIC %run ../../Common/common-transform] --> [# MAGIC %run ../../Common/common-transform \n",
      "\n",
      "# COMMAND ---------- \n",
      "\n",
      "# MAGIC %run ../../Common/common-helpers \n",
      "# COMMAND ---------- \n",
      "]\n",
      "UnmeteredConsumption.py updated - [# MAGIC %run ../../Common/common-transform] --> [# MAGIC %run ../../Common/common-transform \n",
      "\n",
      "# COMMAND ---------- \n",
      "\n",
      "# MAGIC %run ../../Common/common-helpers \n",
      "# COMMAND ---------- \n",
      "]\n",
      "WorkOrder.py updated - [# MAGIC %run ../../Common/common-transform] --> [# MAGIC %run ../../Common/common-transform \n",
      "\n",
      "# COMMAND ---------- \n",
      "\n",
      "# MAGIC %run ../../Common/common-helpers \n",
      "# COMMAND ---------- \n",
      "]\n",
      "WorkOrderFailureReport.py updated - [# MAGIC %run ../../Common/common-transform] --> [# MAGIC %run ../../Common/common-transform \n",
      "\n",
      "# COMMAND ---------- \n",
      "\n",
      "# MAGIC %run ../../Common/common-helpers \n",
      "# COMMAND ---------- \n",
      "]\n"
     ]
    }
   ],
   "source": [
    "find_replace(directory, '', '# MAGIC %run ../../Common/common-transform', \"# MAGIC %run ../../Common/common-transform \\n\\n# COMMAND ---------- \\n\\n# MAGIC %run ../../Common/common-helpers \\n# COMMAND ---------- \\n\")"
   ]
  },
  {
   "cell_type": "code",
   "execution_count": 12,
   "metadata": {},
   "outputs": [
    {
     "name": "stdout",
     "output_type": "stream",
     "text": [
      "c:\\Users\\o9ji\\Documents\\daf_poc_repo1\\Databricks\\MDP-Framework\\Transform\\Fact\n",
      "CustomerServiceWorkNote.py updated - [spark.sql(\"\"\"] --> [spark.sql(f\"\"\"]\n",
      "WorkOrder.py updated - [spark.sql(\"\"\"] --> [spark.sql(f\"\"\"]\n"
     ]
    }
   ],
   "source": [
    "find_replace(directory, '', 'spark.sql(\"\"\"', 'spark.sql(f\"\"\"')"
   ]
  },
  {
   "cell_type": "code",
   "execution_count": 17,
   "metadata": {},
   "outputs": [
    {
     "name": "stdout",
     "output_type": "stream",
     "text": [
      "c:\\Users\\o9ji\\Documents\\daf_poc_repo1\\Databricks\\MDP-Framework\\Transform\\Fact\n",
      "AssetPerformanceIndex.py updated - [hive_metastore.] --> []\n"
     ]
    }
   ],
   "source": [
    "findstr     = 'hive_metastore.'\n",
    "replacestr  = ''\n",
    "find_replace(directory, '', findstr, replacestr)"
   ]
  },
  {
   "cell_type": "code",
   "execution_count": 13,
   "metadata": {},
   "outputs": [
    {
     "name": "stdout",
     "output_type": "stream",
     "text": [
      "c:\\Users\\o9ji\\Documents\\daf_poc_repo1\\Databricks\\MDP-Framework\\Transform\\Fact\n",
      "WorkOrderFailureReport.py updated - [GetTable(f\"{TARGET}.factworkorder\")] --> [GetTable(f\"{get_table_namespace(f'{TARGET}', 'factworkorder')}\")]\n"
     ]
    }
   ],
   "source": [
    "\n",
    "findstr     = 'GetTable(f\"{TARGET}.factworkorder\")'\n",
    "replacestr  = 'GetTable(f\"{get_table_namespace(f\\'{TARGET}\\', \\'factworkorder\\')}\")'\n",
    "find_replace(directory, '', findstr, replacestr)"
   ]
  },
  {
   "cell_type": "code",
   "execution_count": 15,
   "metadata": {},
   "outputs": [
    {
     "name": "stdout",
     "output_type": "stream",
     "text": [
      "c:\\Users\\o9ji\\Documents\\daf_poc_repo1\\Databricks\\MDP-Framework\\Transform\\Fact\n",
      "AssetPerformance.py updated - [GetTable(f\"{TARGET}.dimAssetLocation\")] --> [GetTable(f\"{get_table_namespace(f'{TARGET}', 'dimAssetLocation')}\")]\n",
      "WorkOrder.py updated - [GetTable(f\"{TARGET}.dimAssetLocation\")] --> [GetTable(f\"{get_table_namespace(f'{TARGET}', 'dimAssetLocation')}\")]\n"
     ]
    }
   ],
   "source": [
    "\n",
    "findstr     = 'GetTable(f\"{TARGET}.dimAssetLocation\")'\n",
    "replacestr  = 'GetTable(f\"{get_table_namespace(f\\'{TARGET}\\', \\'dimAssetLocation\\')}\")'\n",
    "find_replace(directory, '', findstr, replacestr)"
   ]
  },
  {
   "cell_type": "code",
   "execution_count": 16,
   "metadata": {},
   "outputs": [
    {
     "name": "stdout",
     "output_type": "stream",
     "text": [
      "c:\\Users\\o9ji\\Documents\\daf_poc_repo1\\Databricks\\MDP-Framework\\Transform\\Fact\n",
      "AssetPerformance.py updated - [GetTable(f\"{TARGET}.dimAsset\")] --> [GetTable(f\"{get_table_namespace(f'{TARGET}', 'dimAsset')}\")]\n",
      "PreventiveMaintenance.py updated - [GetTable(f\"{TARGET}.dimAsset\")] --> [GetTable(f\"{get_table_namespace(f'{TARGET}', 'dimAsset')}\")]\n",
      "WorkOrder.py updated - [GetTable(f\"{TARGET}.dimAsset\")] --> [GetTable(f\"{get_table_namespace(f'{TARGET}', 'dimAsset')}\")]\n",
      "WorkOrderFailureReport.py updated - [GetTable(f\"{TARGET}.dimAsset\")] --> [GetTable(f\"{get_table_namespace(f'{TARGET}', 'dimAsset')}\")]\n"
     ]
    }
   ],
   "source": [
    "\n",
    "findstr     = 'GetTable(f\"{TARGET}.dimAsset\")'\n",
    "replacestr  = 'GetTable(f\"{get_table_namespace(f\\'{TARGET}\\', \\'dimAsset\\')}\")'\n",
    "find_replace(directory, '', findstr, replacestr)"
   ]
  },
  {
   "cell_type": "code",
   "execution_count": 14,
   "metadata": {},
   "outputs": [
    {
     "name": "stdout",
     "output_type": "stream",
     "text": [
      "c:\\Users\\o9ji\\Documents\\daf_poc_repo1\\Databricks\\MDP-Framework\\Transform\\Fact\n",
      "AssetPerformance.py updated - [{TARGET}.factworkorder] --> [{get_table_namespace(f'{TARGET}', 'factworkorder')}]\n",
      "WorkOrderFailureReport.py updated - [{TARGET}.factworkorder] --> [{get_table_namespace(f'{TARGET}', 'factworkorder')}]\n"
     ]
    }
   ],
   "source": [
    "findstr     = '{TARGET}.factworkorder'\n",
    "replacestr  = '{get_table_namespace(f\\'{TARGET}\\', \\'factworkorder\\')}'\n",
    "find_replace(directory, '', findstr, replacestr)"
   ]
  },
  {
   "cell_type": "code",
   "execution_count": null,
   "metadata": {},
   "outputs": [],
   "source": [
    "findstr     = '{TARGET}.factworkorder'\n",
    "replacestr  = '{get_table_namespace(f\\'{TARGET}\\', \\'factworkorder\\')}'\n",
    "find_replace(directory, '', findstr, replacestr)"
   ]
  },
  {
   "cell_type": "code",
   "execution_count": 23,
   "metadata": {},
   "outputs": [
    {
     "name": "stdout",
     "output_type": "stream",
     "text": [
      "c:\\Users\\o9ji\\Documents\\daf_poc_repo1\\Databricks\\MDP-Framework\\Transform\\Fact\n",
      "AssetPerformanceIndex.py updated - [curated_v3] --> [curated]\n",
      "ConsumptionAggregate.py updated - [curated_v3] --> [curated]\n",
      "PreventiveMaintenance.py updated - [curated_v3] --> [curated]\n",
      "UnmeteredConsumption.py updated - [curated_v3] --> [curated]\n",
      "WorkOrder.py updated - [curated_v3] --> [curated]\n",
      "WorkOrderFailureReport.py updated - [curated_v3] --> [curated]\n"
     ]
    }
   ],
   "source": [
    "find_replace(directory, '', 'curated_v3', 'curated')"
   ]
  },
  {
   "cell_type": "code",
   "execution_count": 133,
   "metadata": {},
   "outputs": [
    {
     "name": "stdout",
     "output_type": "stream",
     "text": [
      "curated_v2.dimPropertyTypeHistory\n",
      "{get_table_namespace('curated', 'dimPropertyTypeHistory')}\n",
      "c:\\Users\\o9ji\\Documents\\daf_poc_repo1\\Databricks\\MDP-Framework\\Transform\\Views\n",
      "PropertyKey.py updated - [curated_v2.dimPropertyTypeHistory] --> [{get_table_namespace('curated', 'dimPropertyTypeHistory')}]\n",
      "curated_v2.dimPropertyTypeHistory\n",
      "{get_table_namespace('curated', 'dimPropertyTypeHistory')}\n",
      "c:\\Users\\o9ji\\Documents\\daf_poc_repo1\\Databricks\\MDP-Framework\\Transform\\Views\n",
      "curated_v2.dimstormwaternetwork\n",
      "{get_table_namespace('curated', 'dimstormwaternetwork')}\n",
      "c:\\Users\\o9ji\\Documents\\daf_poc_repo1\\Databricks\\MDP-Framework\\Transform\\Views\n",
      "PropertyKey.py updated - [curated_v2.dimstormwaternetwork] --> [{get_table_namespace('curated', 'dimstormwaternetwork')}]\n",
      "curated_v2.dimwaternetwork\n",
      "{get_table_namespace('curated', 'dimwaternetwork')}\n",
      "c:\\Users\\o9ji\\Documents\\daf_poc_repo1\\Databricks\\MDP-Framework\\Transform\\Views\n",
      "PropertyKey.py updated - [curated_v2.dimwaternetwork] --> [{get_table_namespace('curated', 'dimwaternetwork')}]\n",
      "curated_v2.dimwaternetwork\n",
      "{get_table_namespace('curated', 'dimwaternetwork')}\n",
      "c:\\Users\\o9ji\\Documents\\daf_poc_repo1\\Databricks\\MDP-Framework\\Transform\\Views\n",
      "curated_v2.dimPropertyLot\n",
      "{get_table_namespace('curated', 'dimPropertyLot')}\n",
      "c:\\Users\\o9ji\\Documents\\daf_poc_repo1\\Databricks\\MDP-Framework\\Transform\\Views\n",
      "PropertyKey.py updated - [curated_v2.dimPropertyLot] --> [{get_table_namespace('curated', 'dimPropertyLot')}]\n",
      "curated_v2.dimPropertyLot\n",
      "{get_table_namespace('curated', 'dimPropertyLot')}\n",
      "c:\\Users\\o9ji\\Documents\\daf_poc_repo1\\Databricks\\MDP-Framework\\Transform\\Views\n",
      "curated_v2.dimProperty\n",
      "{get_table_namespace('curated', 'dimProperty')}\n",
      "c:\\Users\\o9ji\\Documents\\daf_poc_repo1\\Databricks\\MDP-Framework\\Transform\\Views\n",
      "PropertyKey.py updated - [curated_v2.dimProperty] --> [{get_table_namespace('curated', 'dimProperty')}]\n",
      "curated_v2.dimLocation\n",
      "{get_table_namespace('curated', 'dimLocation')}\n",
      "c:\\Users\\o9ji\\Documents\\daf_poc_repo1\\Databricks\\MDP-Framework\\Transform\\Views\n",
      "PropertyKey.py updated - [curated_v2.dimLocation] --> [{get_table_namespace('curated', 'dimLocation')}]\n",
      "curated_v2.dimProperty\n",
      "{get_table_namespace('curated', 'dimProperty')}\n",
      "c:\\Users\\o9ji\\Documents\\daf_poc_repo1\\Databricks\\MDP-Framework\\Transform\\Views\n",
      "curated_v2.dimLocation\n",
      "{get_table_namespace('curated', 'dimLocation')}\n",
      "c:\\Users\\o9ji\\Documents\\daf_poc_repo1\\Databricks\\MDP-Framework\\Transform\\Views\n",
      "curated_v2.dimdate\n",
      "{get_table_namespace('curated', 'dimdate')}\n",
      "c:\\Users\\o9ji\\Documents\\daf_poc_repo1\\Databricks\\MDP-Framework\\Transform\\Views\n",
      "viewSemanticViews_UC4.py updated - [curated_v2.dimdate] --> [{get_table_namespace('curated', 'dimdate')}]\n",
      "\n"
     ]
    },
    {
     "ename": "IndexError",
     "evalue": "list index out of range",
     "output_type": "error",
     "traceback": [
      "\u001b[1;31m---------------------------------------------------------------------------\u001b[0m",
      "\u001b[1;31mIndexError\u001b[0m                                Traceback (most recent call last)",
      "Cell \u001b[1;32mIn[133], line 9\u001b[0m\n\u001b[0;32m      7\u001b[0m \u001b[39mprint\u001b[39m(findstr)\n\u001b[0;32m      8\u001b[0m layer   \u001b[39m=\u001b[39m findstr\u001b[39m.\u001b[39msplit(\u001b[39m\"\u001b[39m\u001b[39m.\u001b[39m\u001b[39m\"\u001b[39m)[\u001b[39m0\u001b[39m]\n\u001b[1;32m----> 9\u001b[0m table   \u001b[39m=\u001b[39m findstr\u001b[39m.\u001b[39;49msplit(\u001b[39m\"\u001b[39;49m\u001b[39m.\u001b[39;49m\u001b[39m\"\u001b[39;49m)[\u001b[39m1\u001b[39;49m]\n\u001b[0;32m     10\u001b[0m replacestr  \u001b[39m=\u001b[39m \u001b[39mf\u001b[39m\u001b[39m'\u001b[39m\u001b[39m{{\u001b[39;00m\u001b[39mget_table_namespace(\u001b[39m\u001b[39m\\'\u001b[39;00m\u001b[39mcurated\u001b[39m\u001b[39m\\'\u001b[39;00m\u001b[39m, \u001b[39m\u001b[39m\\'\u001b[39;00m\u001b[39m{\u001b[39;00mtable\u001b[39m}\u001b[39;00m\u001b[39m\\'\u001b[39;00m\u001b[39m)\u001b[39m\u001b[39m}}\u001b[39;00m\u001b[39m'\u001b[39m\n\u001b[0;32m     11\u001b[0m \u001b[39mprint\u001b[39m(replacestr)\n",
      "\u001b[1;31mIndexError\u001b[0m: list index out of range"
     ]
    }
   ],
   "source": [
    "directory = \"../Transform/Views\"\n",
    "patternstr = re.compile(r\"curated_v2\")\n",
    "\n",
    "strings_to_replace =  get_strings_to_replace(full_path = directory, pattern = patternstr)\n",
    "\n",
    "for findstr in sorted(strings_to_replace, key = len, reverse = True):\n",
    "    print(findstr)\n",
    "    layer   = findstr.split(\".\")[0]\n",
    "    table   = findstr.split(\".\")[1]\n",
    "    replacestr  = f'{{get_table_namespace(\\'curated\\', \\'{table}\\')}}'\n",
    "    print(replacestr)\n",
    "    find_replace(directory, '', findstr, replacestr)"
   ]
  },
  {
   "cell_type": "code",
   "execution_count": 26,
   "metadata": {},
   "outputs": [
    {
     "name": "stdout",
     "output_type": "stream",
     "text": [
      "This was formatted poorly and is hence not included in the list:\n",
      " 'CustomerServiceWorkNote.py '- GetTable(f\"cleansed.crm_zpstxhwithcguid\").select(\"noteID\",\"noteGUID\",\"noteTypeCode\",\"CreatedDateTime\",\"CreatedBy\",\"changeBy\",\"changedDatetime\",\"noteLineNum\")\n",
      "\n",
      "c:\\Users\\o9ji\\Documents\\daf_poc_repo1\\Databricks\\MDP-Framework\\Transform\\Fact\n",
      "CustomerServiceWorkNote.py updated - [cleansed.aurion_terminated_employees] --> [{get_table_namespace('cleansed', 'aurion_terminated_employees')}]\n",
      "c:\\Users\\o9ji\\Documents\\daf_poc_repo1\\Databricks\\MDP-Framework\\Transform\\Fact\n",
      "CustomerServiceWorkNote.py updated - [cleansed.aurion_active_employees] --> [{get_table_namespace('cleansed', 'aurion_active_employees')}]\n",
      "c:\\Users\\o9ji\\Documents\\daf_poc_repo1\\Databricks\\MDP-Framework\\Transform\\Fact\n",
      "CustomerServiceRequest.py updated - [cleansed.maximo_swcproblemtype] --> [{get_table_namespace('cleansed', 'maximo_swcproblemtype')}]\n",
      "c:\\Users\\o9ji\\Documents\\daf_poc_repo1\\Databricks\\MDP-Framework\\Transform\\Fact\n",
      "AssetPerformanceIndex.py updated - [cleansed.MAXIMO_FAILUREREPORT] --> [{get_table_namespace('cleansed', 'MAXIMO_FAILUREREPORT')}]\n",
      "CustomerServiceRequest.py updated - [cleansed.MAXIMO_FAILUREREPORT] --> [{get_table_namespace('cleansed', 'MAXIMO_FAILUREREPORT')}]\n",
      "c:\\Users\\o9ji\\Documents\\daf_poc_repo1\\Databricks\\MDP-Framework\\Transform\\Fact\n",
      "CustomerServiceRequest.py updated - [cleansed.MAXIMO_FAILUREREPORT] --> [{get_table_namespace('cleansed', 'MAXIMO_FAILUREREPORT')}]\n",
      "c:\\Users\\o9ji\\Documents\\daf_poc_repo1\\Databricks\\MDP-Framework\\Transform\\Fact\n",
      "CustomerServiceRequest.py updated - [cleansed.maximo_relatedrecord] --> [{get_table_namespace('cleansed', 'maximo_relatedrecord')}]\n",
      "ServiceTicket.py updated - [cleansed.maximo_relatedrecord] --> [{get_table_namespace('cleansed', 'maximo_relatedrecord')}]\n",
      "c:\\Users\\o9ji\\Documents\\daf_poc_repo1\\Databricks\\MDP-Framework\\Transform\\Fact\n",
      "CustomerServiceRequest.py updated - [cleansed.maximo_failurereport] --> [{get_table_namespace('cleansed', 'maximo_failurereport')}]\n",
      "c:\\Users\\o9ji\\Documents\\daf_poc_repo1\\Databricks\\MDP-Framework\\Transform\\Fact\n",
      "c:\\Users\\o9ji\\Documents\\daf_poc_repo1\\Databricks\\MDP-Framework\\Transform\\Fact\n",
      "AssetPerformanceIndex.py updated - [cleansed.maximo_workorder] --> [{get_table_namespace('cleansed', 'maximo_workorder')}]\n",
      "CustomerServiceRequest.py updated - [cleansed.maximo_workorder] --> [{get_table_namespace('cleansed', 'maximo_workorder')}]\n",
      "c:\\Users\\o9ji\\Documents\\daf_poc_repo1\\Databricks\\MDP-Framework\\Transform\\Fact\n",
      "c:\\Users\\o9ji\\Documents\\daf_poc_repo1\\Databricks\\MDP-Framework\\Transform\\Fact\n",
      "c:\\Users\\o9ji\\Documents\\daf_poc_repo1\\Databricks\\MDP-Framework\\Transform\\Fact\n",
      "c:\\Users\\o9ji\\Documents\\daf_poc_repo1\\Databricks\\MDP-Framework\\Transform\\Fact\n",
      "c:\\Users\\o9ji\\Documents\\daf_poc_repo1\\Databricks\\MDP-Framework\\Transform\\Fact\n",
      "c:\\Users\\o9ji\\Documents\\daf_poc_repo1\\Databricks\\MDP-Framework\\Transform\\Fact\n",
      "c:\\Users\\o9ji\\Documents\\daf_poc_repo1\\Databricks\\MDP-Framework\\Transform\\Fact\n",
      "c:\\Users\\o9ji\\Documents\\daf_poc_repo1\\Databricks\\MDP-Framework\\Transform\\Fact\n",
      "CustomerServiceRequest.py updated - [cleansed.maximo_jobplan] --> [{get_table_namespace('cleansed', 'maximo_jobplan')}]\n",
      "c:\\Users\\o9ji\\Documents\\daf_poc_repo1\\Databricks\\MDP-Framework\\Transform\\Fact\n",
      "CustomerServiceRequest.py updated - [cleansed.maximo_locoper] --> [{get_table_namespace('cleansed', 'maximo_locoper')}]\n",
      "c:\\Users\\o9ji\\Documents\\daf_poc_repo1\\Databricks\\MDP-Framework\\Transform\\Fact\n",
      "CustomerServiceRequest.py updated - [cleansed.maximo_ticket] --> [{get_table_namespace('cleansed', 'maximo_ticket')}]\n"
     ]
    }
   ],
   "source": [
    "patternstr = re.compile(r\"\\bcleansed.\\b\")\n",
    "\n",
    "strings_to_replace =  get_strings_to_replace(full_path = directory, pattern = patternstr)\n",
    "\n",
    "for findstr in sorted(strings_to_replace, key = len, reverse = True):\n",
    "    # print(findstr)\n",
    "    layer   = findstr.split(\".\")[0]\n",
    "    table   = findstr.split(\".\")[1]\n",
    "    replacestr  = f'{{get_table_namespace(\\'{layer}\\', \\'{table}\\')}}'\n",
    "    # print(replacestr)\n",
    "    find_replace(directory, '', findstr, replacestr)"
   ]
  },
  {
   "cell_type": "code",
   "execution_count": 27,
   "metadata": {},
   "outputs": [
    {
     "name": "stdout",
     "output_type": "stream",
     "text": [
      "c:\\Users\\o9ji\\Documents\\daf_poc_repo1\\Databricks\\MDP-Framework\\Transform\\Fact\n",
      "CustomerInteraction.py updated - [GetTable(f\"{SOURCE}.crm_0crm_sales_act_1\")] --> [GetTable(f\"{get_table_namespace(f'{SOURCE}', 'crm_0crm_sales_act_1')}\")]\n"
     ]
    }
   ],
   "source": [
    "\n",
    "findstr     = 'GetTable(f\"{SOURCE}.crm_0crm_sales_act_1\")'\n",
    "replacestr  = 'GetTable(f\"{get_table_namespace(f\\'{SOURCE}\\', \\'crm_0crm_sales_act_1\\')}\")'\n",
    "find_replace(directory, '', findstr, replacestr)"
   ]
  },
  {
   "cell_type": "code",
   "execution_count": 28,
   "metadata": {},
   "outputs": [
    {
     "name": "stdout",
     "output_type": "stream",
     "text": [
      "c:\\Users\\o9ji\\Documents\\daf_poc_repo1\\Databricks\\MDP-Framework\\Transform\\Fact\n",
      "CustomerInteraction.py updated - [GetTable(f\"{DEFAULT_TARGET}.dimCustomerServiceProcessType\")] --> [GetTable(f\"{get_table_namespace(f'{DEFAULT_TARGET}', 'dimCustomerServiceProcessType')}\")]\n",
      "CustomerServiceRequest.py updated - [GetTable(f\"{DEFAULT_TARGET}.dimCustomerServiceProcessType\")] --> [GetTable(f\"{get_table_namespace(f'{DEFAULT_TARGET}', 'dimCustomerServiceProcessType')}\")]\n"
     ]
    }
   ],
   "source": [
    "\n",
    "findstr     = 'GetTable(f\"{DEFAULT_TARGET}.dimCustomerServiceProcessType\")'\n",
    "replacestr  = 'GetTable(f\"{get_table_namespace(f\\'{DEFAULT_TARGET}\\', \\'dimCustomerServiceProcessType\\')}\")'\n",
    "find_replace(directory, '', findstr, replacestr)"
   ]
  },
  {
   "cell_type": "code",
   "execution_count": 29,
   "metadata": {},
   "outputs": [
    {
     "name": "stdout",
     "output_type": "stream",
     "text": [
      "c:\\Users\\o9ji\\Documents\\daf_poc_repo1\\Databricks\\MDP-Framework\\Transform\\Fact\n",
      "CustomerInteraction.py updated - [GetTable(f\"{DEFAULT_TARGET}.dimCustomerInteractionStatus\")] --> [GetTable(f\"{get_table_namespace(f'{DEFAULT_TARGET}', 'dimCustomerServiceProcessType')}\")]\n"
     ]
    }
   ],
   "source": [
    "\n",
    "findstr     = 'GetTable(f\"{DEFAULT_TARGET}.dimCustomerInteractionStatus\")'\n",
    "replacestr  = 'GetTable(f\"{get_table_namespace(f\\'{DEFAULT_TARGET}\\', \\'dimCustomerInteractionStatus\\')}\")'\n",
    "find_replace(directory, '', findstr, replacestr)"
   ]
  },
  {
   "cell_type": "code",
   "execution_count": 30,
   "metadata": {},
   "outputs": [
    {
     "name": "stdout",
     "output_type": "stream",
     "text": [
      "c:\\Users\\o9ji\\Documents\\daf_poc_repo1\\Databricks\\MDP-Framework\\Transform\\Fact\n",
      "CustomerInteraction.py updated - [GetTable(f\"{DEFAULT_TARGET}.dimBusinessPartner\")] --> [GetTable(f\"{get_table_namespace(f'{DEFAULT_TARGET}', 'dimCustomerServiceProcessType')}\")]\n",
      "CustomerServiceRequest.py updated - [GetTable(f\"{DEFAULT_TARGET}.dimBusinessPartner\")] --> [GetTable(f\"{get_table_namespace(f'{DEFAULT_TARGET}', 'dimCustomerServiceProcessType')}\")]\n"
     ]
    }
   ],
   "source": [
    "\n",
    "findstr     = 'GetTable(f\"{DEFAULT_TARGET}.dimBusinessPartner\")'\n",
    "replacestr  = 'GetTable(f\"{get_table_namespace(f\\'{DEFAULT_TARGET}\\', \\'dimBusinessPartner\\')}\")'\n",
    "find_replace(directory, '', findstr, replacestr)"
   ]
  },
  {
   "cell_type": "code",
   "execution_count": 31,
   "metadata": {},
   "outputs": [
    {
     "name": "stdout",
     "output_type": "stream",
     "text": [
      "c:\\Users\\o9ji\\Documents\\daf_poc_repo1\\Databricks\\MDP-Framework\\Transform\\Fact\n",
      "CustomerInteraction.py updated - [GetTable(f\"{DEFAULT_TARGET}.dimProperty\")] --> [GetTable(f\"{get_table_namespace(f'{DEFAULT_TARGET}', 'dimCustomerServiceProcessType')}\")]\n",
      "CustomerServiceRequest.py updated - [GetTable(f\"{DEFAULT_TARGET}.dimProperty\")] --> [GetTable(f\"{get_table_namespace(f'{DEFAULT_TARGET}', 'dimCustomerServiceProcessType')}\")]\n"
     ]
    }
   ],
   "source": [
    "\n",
    "findstr     = 'GetTable(f\"{DEFAULT_TARGET}.dimProperty\")'\n",
    "replacestr  = 'GetTable(f\"{get_table_namespace(f\\'{DEFAULT_TARGET}\\', \\'dimProperty\\')}\")'\n",
    "find_replace(directory, '', findstr, replacestr)"
   ]
  },
  {
   "cell_type": "code",
   "execution_count": 32,
   "metadata": {},
   "outputs": [
    {
     "name": "stdout",
     "output_type": "stream",
     "text": [
      "c:\\Users\\o9ji\\Documents\\daf_poc_repo1\\Databricks\\MDP-Framework\\Transform\\Fact\n",
      "CustomerInteraction.py updated - [GetTable(f\"{DEFAULT_TARGET}.dimcommunicationchannel\")] --> [GetTable(f\"{get_table_namespace(f'{DEFAULT_TARGET}', 'dimCustomerServiceProcessType')}\")]\n",
      "CustomerServiceRequest.py updated - [GetTable(f\"{DEFAULT_TARGET}.dimcommunicationchannel\")] --> [GetTable(f\"{get_table_namespace(f'{DEFAULT_TARGET}', 'dimCustomerServiceProcessType')}\")]\n"
     ]
    }
   ],
   "source": [
    "\n",
    "findstr     = 'GetTable(f\"{DEFAULT_TARGET}.dimcommunicationchannel\")'\n",
    "replacestr  = 'GetTable(f\"{get_table_namespace(f\\'{DEFAULT_TARGET}\\', \\'dimcommunicationchannel\\')}\")'\n",
    "find_replace(directory, '', findstr, replacestr)"
   ]
  },
  {
   "cell_type": "code",
   "execution_count": 33,
   "metadata": {},
   "outputs": [
    {
     "name": "stdout",
     "output_type": "stream",
     "text": [
      "c:\\Users\\o9ji\\Documents\\daf_poc_repo1\\Databricks\\MDP-Framework\\Transform\\Fact\n",
      "CustomerInteraction.py updated - [GetTable(f\"{DEFAULT_TARGET}.dimdate\")] --> [GetTable(f\"{get_table_namespace(f'{DEFAULT_TARGET}', 'dimCustomerServiceProcessType')}\")]\n",
      "CustomerServiceRequest.py updated - [GetTable(f\"{DEFAULT_TARGET}.dimdate\")] --> [GetTable(f\"{get_table_namespace(f'{DEFAULT_TARGET}', 'dimCustomerServiceProcessType')}\")]\n",
      "UnmeteredConsumption.py updated - [GetTable(f\"{DEFAULT_TARGET}.dimdate\")] --> [GetTable(f\"{get_table_namespace(f'{DEFAULT_TARGET}', 'dimCustomerServiceProcessType')}\")]\n"
     ]
    }
   ],
   "source": [
    "\n",
    "findstr     = 'GetTable(f\"{DEFAULT_TARGET}.dimdate\")'\n",
    "replacestr  = 'GetTable(f\"{get_table_namespace(f\\'{DEFAULT_TARGET}\\', \\'dimdate\\')}\")'\n",
    "find_replace(directory, '', findstr, replacestr)"
   ]
  },
  {
   "cell_type": "code",
   "execution_count": 34,
   "metadata": {},
   "outputs": [
    {
     "name": "stdout",
     "output_type": "stream",
     "text": [
      "c:\\Users\\o9ji\\Documents\\daf_poc_repo1\\Databricks\\MDP-Framework\\Transform\\Fact\n",
      "CustomerServiceEmailEvent.py updated - [GetTable(f\"{SOURCE}.crm_crmd_erms_step\")] --> [GetTable(f\"{get_table_namespace(f'{SOURCE}', 'crm_crmd_erms_step')}\")]\n"
     ]
    }
   ],
   "source": [
    "\n",
    "findstr     = 'GetTable(f\"{SOURCE}.crm_crmd_erms_step\")'\n",
    "replacestr  = 'GetTable(f\"{get_table_namespace(f\\'{SOURCE}\\', \\'crm_crmd_erms_step\\')}\")'\n",
    "find_replace(directory, '', findstr, replacestr)"
   ]
  },
  {
   "cell_type": "code",
   "execution_count": 35,
   "metadata": {},
   "outputs": [
    {
     "name": "stdout",
     "output_type": "stream",
     "text": [
      "c:\\Users\\o9ji\\Documents\\daf_poc_repo1\\Databricks\\MDP-Framework\\Transform\\Fact\n",
      "CustomerServiceEmailEvent.py updated - [GetTable(f\"{SOURCE}.crm_crmd_erms_eventt\")] --> [GetTable(f\"{get_table_namespace(f'{SOURCE}', 'crm_crmd_erms_eventt')}\")]\n"
     ]
    }
   ],
   "source": [
    "\n",
    "findstr     = 'GetTable(f\"{SOURCE}.crm_crmd_erms_eventt\")'\n",
    "replacestr  = 'GetTable(f\"{get_table_namespace(f\\'{SOURCE}\\', \\'crm_crmd_erms_eventt\\')}\")'\n",
    "find_replace(directory, '', findstr, replacestr)"
   ]
  },
  {
   "cell_type": "code",
   "execution_count": 36,
   "metadata": {},
   "outputs": [
    {
     "name": "stdout",
     "output_type": "stream",
     "text": [
      "c:\\Users\\o9ji\\Documents\\daf_poc_repo1\\Databricks\\MDP-Framework\\Transform\\Fact\n",
      "CustomerServiceEmailEvent.py updated - [GetTable(f\"{TARGET}.dimbusinessPartner\")] --> [GetTable(f\"{get_table_namespace(f'{TARGET}', 'dimbusinessPartner')}\")]\n",
      "SurveyResponse.py updated - [GetTable(f\"{TARGET}.dimbusinessPartner\")] --> [GetTable(f\"{get_table_namespace(f'{TARGET}', 'dimbusinessPartner')}\")]\n"
     ]
    }
   ],
   "source": [
    "\n",
    "findstr     = 'GetTable(f\"{TARGET}.dimbusinessPartner\")'\n",
    "replacestr  = 'GetTable(f\"{get_table_namespace(f\\'{TARGET}\\', \\'dimbusinessPartner\\')}\")'\n",
    "find_replace(directory, '', findstr, replacestr)"
   ]
  },
  {
   "cell_type": "code",
   "execution_count": 37,
   "metadata": {},
   "outputs": [
    {
     "name": "stdout",
     "output_type": "stream",
     "text": [
      "c:\\Users\\o9ji\\Documents\\daf_poc_repo1\\Databricks\\MDP-Framework\\Transform\\Fact\n",
      "CustomerServiceEmailEvent.py updated - [GetTable(f\"{TARGET}.dimcustomerserviceemailheader\")] --> [GetTable(f\"{get_table_namespace(f'{TARGET}', 'dimcustomerserviceemailheader')}\")]\n"
     ]
    }
   ],
   "source": [
    "\n",
    "findstr     = 'GetTable(f\"{TARGET}.dimcustomerserviceemailheader\")'\n",
    "replacestr  = 'GetTable(f\"{get_table_namespace(f\\'{TARGET}\\', \\'dimcustomerserviceemailheader\\')}\")'\n",
    "find_replace(directory, '', findstr, replacestr)"
   ]
  },
  {
   "cell_type": "code",
   "execution_count": 7,
   "metadata": {},
   "outputs": [
    {
     "name": "stdout",
     "output_type": "stream",
     "text": [
      "c:\\Users\\o9ji\\Documents\\daf_poc_repo1\\Databricks\\MDP-Framework\\Transform\\Fact\n",
      "CustomerServiceRequest.py updated - [GetTable(f\"{SOURCE}.crm_0crm_srv_req_inci_h\")] --> [GetTable(f\"{get_table_namespace(f'{SOURCE}', 'crm_0crm_srv_req_inci_h')}\")]\n",
      "SurveyResponse.py updated - [GetTable(f\"{SOURCE}.crm_0crm_srv_req_inci_h\")] --> [GetTable(f\"{get_table_namespace(f'{SOURCE}', 'crm_0crm_srv_req_inci_h')}\")]\n"
     ]
    }
   ],
   "source": [
    "\n",
    "findstr     = 'GetTable(f\"{SOURCE}.crm_0crm_srv_req_inci_h\")'\n",
    "replacestr  = 'GetTable(f\"{get_table_namespace(f\\'{SOURCE}\\', \\'crm_0crm_srv_req_inci_h\\')}\")'\n",
    "find_replace(directory, '', findstr, replacestr)"
   ]
  },
  {
   "cell_type": "code",
   "execution_count": 8,
   "metadata": {},
   "outputs": [
    {
     "name": "stdout",
     "output_type": "stream",
     "text": [
      "c:\\Users\\o9ji\\Documents\\daf_poc_repo1\\Databricks\\MDP-Framework\\Transform\\Fact\n",
      "CustomerServiceRequest.py updated - [GetTable(f\"{SOURCE}.datagov_australiapublicholidays\")] --> [GetTable(f\"{get_table_namespace(f'{SOURCE}', 'datagov_australiapublicholidays')}\")]\n"
     ]
    }
   ],
   "source": [
    "\n",
    "findstr     = 'GetTable(f\"{SOURCE}.datagov_australiapublicholidays\")'\n",
    "replacestr  = 'GetTable(f\"{get_table_namespace(f\\'{SOURCE}\\', \\'datagov_australiapublicholidays\\')}\")'\n",
    "find_replace(directory, '', findstr, replacestr)"
   ]
  },
  {
   "cell_type": "code",
   "execution_count": 9,
   "metadata": {},
   "outputs": [
    {
     "name": "stdout",
     "output_type": "stream",
     "text": [
      "c:\\Users\\o9ji\\Documents\\daf_poc_repo1\\Databricks\\MDP-Framework\\Transform\\Fact\n",
      "CustomerServiceRequest.py updated - [GetTable(f\"{DEFAULT_TARGET}.dimcustomerservicecategory\")] --> [GetTable(f\"{get_table_namespace(f'{DEFAULT_TARGET}', 'dimcustomerservicecategory')}\")]\n"
     ]
    }
   ],
   "source": [
    "\n",
    "findstr     = 'GetTable(f\"{DEFAULT_TARGET}.dimcustomerservicecategory\")'\n",
    "replacestr  = 'GetTable(f\"{get_table_namespace(f\\'{DEFAULT_TARGET}\\', \\'dimcustomerservicecategory\\')}\")'\n",
    "find_replace(directory, '', findstr, replacestr)"
   ]
  },
  {
   "cell_type": "code",
   "execution_count": 10,
   "metadata": {},
   "outputs": [
    {
     "name": "stdout",
     "output_type": "stream",
     "text": [
      "c:\\Users\\o9ji\\Documents\\daf_poc_repo1\\Databricks\\MDP-Framework\\Transform\\Fact\n",
      "CustomerServiceRequest.py updated - [GetTable(f\"{DEFAULT_TARGET}.dimCustomerServiceProcessType\")] --> [GetTable(f\"{get_table_namespace(f'{DEFAULT_TARGET}', 'dimCustomerServiceProcessType')}\")]\n"
     ]
    }
   ],
   "source": [
    "\n",
    "findstr     = 'GetTable(f\"{DEFAULT_TARGET}.dimCustomerServiceProcessType\")'\n",
    "replacestr  = 'GetTable(f\"{get_table_namespace(f\\'{DEFAULT_TARGET}\\', \\'dimCustomerServiceProcessType\\')}\")'\n",
    "find_replace(directory, '', findstr, replacestr)"
   ]
  },
  {
   "cell_type": "code",
   "execution_count": 11,
   "metadata": {},
   "outputs": [
    {
     "name": "stdout",
     "output_type": "stream",
     "text": [
      "c:\\Users\\o9ji\\Documents\\daf_poc_repo1\\Databricks\\MDP-Framework\\Transform\\Fact\n",
      "CustomerServiceRequest.py updated - [GetTable(f\"{DEFAULT_TARGET}.dimContract\")] --> [GetTable(f\"{get_table_namespace(f'{DEFAULT_TARGET}', 'dimContract')}\")]\n"
     ]
    }
   ],
   "source": [
    "\n",
    "findstr     = 'GetTable(f\"{DEFAULT_TARGET}.dimContract\")'\n",
    "replacestr  = 'GetTable(f\"{get_table_namespace(f\\'{DEFAULT_TARGET}\\', \\'dimContract\\')}\")'\n",
    "find_replace(directory, '', findstr, replacestr)"
   ]
  },
  {
   "cell_type": "code",
   "execution_count": 12,
   "metadata": {},
   "outputs": [
    {
     "name": "stdout",
     "output_type": "stream",
     "text": [
      "c:\\Users\\o9ji\\Documents\\daf_poc_repo1\\Databricks\\MDP-Framework\\Transform\\Fact\n",
      "CustomerServiceRequest.py updated - [GetTable(f\"{DEFAULT_TARGET}.dimcustomerserviceprocesstype\")] --> [GetTable(f\"{get_table_namespace(f'{DEFAULT_TARGET}', 'dimcustomerserviceprocesstype')}\")]\n"
     ]
    }
   ],
   "source": [
    "\n",
    "findstr     = 'GetTable(f\"{DEFAULT_TARGET}.dimcustomerserviceprocesstype\")'\n",
    "replacestr  = 'GetTable(f\"{get_table_namespace(f\\'{DEFAULT_TARGET}\\', \\'dimcustomerserviceprocesstype\\')}\")'\n",
    "find_replace(directory, '', findstr, replacestr)"
   ]
  },
  {
   "cell_type": "code",
   "execution_count": 14,
   "metadata": {},
   "outputs": [
    {
     "name": "stdout",
     "output_type": "stream",
     "text": [
      "c:\\Users\\o9ji\\Documents\\daf_poc_repo1\\Databricks\\MDP-Framework\\Transform\\Fact\n",
      "CustomerServiceRequest.py updated - [GetTable(f\"{DEFAULT_TARGET}.dimcustomerservicerequestStatus\")] --> [GetTable(f\"{get_table_namespace(f'{DEFAULT_TARGET}', 'dimcustomerservicerequestStatus')}\")]\n"
     ]
    }
   ],
   "source": [
    "\n",
    "findstr     = 'GetTable(f\"{DEFAULT_TARGET}.dimcustomerservicerequestStatus\")'\n",
    "replacestr  = 'GetTable(f\"{get_table_namespace(f\\'{DEFAULT_TARGET}\\', \\'dimcustomerservicerequestStatus\\')}\")'\n",
    "find_replace(directory, '', findstr, replacestr)"
   ]
  },
  {
   "cell_type": "code",
   "execution_count": 15,
   "metadata": {},
   "outputs": [
    {
     "name": "stdout",
     "output_type": "stream",
     "text": [
      "c:\\Users\\o9ji\\Documents\\daf_poc_repo1\\Databricks\\MDP-Framework\\Transform\\Fact\n",
      "CustomerServiceRequest.py updated - [GetTable(f\"{DEFAULT_TARGET}.dimCommunicationChannel\")] --> [GetTable(f\"{get_table_namespace(f'{DEFAULT_TARGET}', 'dimCommunicationChannel')}\")]\n"
     ]
    }
   ],
   "source": [
    "\n",
    "findstr     = 'GetTable(f\"{DEFAULT_TARGET}.dimCommunicationChannel\")'\n",
    "replacestr  = 'GetTable(f\"{get_table_namespace(f\\'{DEFAULT_TARGET}\\', \\'dimCommunicationChannel\\')}\")'\n",
    "find_replace(directory, '', findstr, replacestr)"
   ]
  },
  {
   "cell_type": "code",
   "execution_count": 13,
   "metadata": {},
   "outputs": [
    {
     "name": "stdout",
     "output_type": "stream",
     "text": [
      "c:\\Users\\o9ji\\Documents\\daf_poc_repo1\\Databricks\\MDP-Framework\\Transform\\Fact\n"
     ]
    }
   ],
   "source": [
    "\n",
    "findstr     = 'GetTable(f\"{DEFAULT_TARGET}.dimCustomerServiceProcessType\")'\n",
    "replacestr  = 'GetTable(f\"{get_table_namespace(f\\'{DEFAULT_TARGET}\\', \\'dimCustomerServiceProcessType\\')}\")'\n",
    "find_replace(directory, '', findstr, replacestr)"
   ]
  },
  {
   "cell_type": "code",
   "execution_count": 16,
   "metadata": {},
   "outputs": [
    {
     "name": "stdout",
     "output_type": "stream",
     "text": [
      "c:\\Users\\o9ji\\Documents\\daf_poc_repo1\\Databricks\\MDP-Framework\\Transform\\Fact\n",
      "CustomerServiceRequest.py updated - [GetTable(f\"{SOURCE}.crm_crmd_link\")] --> [GetTable(f\"{get_table_namespace(f'{SOURCE}', 'crm_crmd_link')}\")]\n",
      "SurveyResponse.py updated - [GetTable(f\"{SOURCE}.crm_crmd_link\")] --> [GetTable(f\"{get_table_namespace(f'{SOURCE}', 'crm_crmd_link')}\")]\n"
     ]
    }
   ],
   "source": [
    "\n",
    "findstr     = 'GetTable(f\"{SOURCE}.crm_crmd_link\")'\n",
    "replacestr  = 'GetTable(f\"{get_table_namespace(f\\'{SOURCE}\\', \\'crm_crmd_link\\')}\")'\n",
    "find_replace(directory, '', findstr, replacestr)"
   ]
  },
  {
   "cell_type": "code",
   "execution_count": 17,
   "metadata": {},
   "outputs": [
    {
     "name": "stdout",
     "output_type": "stream",
     "text": [
      "c:\\Users\\o9ji\\Documents\\daf_poc_repo1\\Databricks\\MDP-Framework\\Transform\\Fact\n",
      "CustomerServiceRequest.py updated - [GetTable(f\"{SOURCE}.crm_scapptseg\")] --> [GetTable(f\"{get_table_namespace(f'{SOURCE}', 'crm_scapptseg')}\")]\n"
     ]
    }
   ],
   "source": [
    "\n",
    "findstr     = 'GetTable(f\"{SOURCE}.crm_scapptseg\")'\n",
    "replacestr  = 'GetTable(f\"{get_table_namespace(f\\'{SOURCE}\\', \\'crm_scapptseg\\')}\")'\n",
    "find_replace(directory, '', findstr, replacestr)"
   ]
  },
  {
   "cell_type": "code",
   "execution_count": 18,
   "metadata": {},
   "outputs": [
    {
     "name": "stdout",
     "output_type": "stream",
     "text": [
      "c:\\Users\\o9ji\\Documents\\daf_poc_repo1\\Databricks\\MDP-Framework\\Transform\\Fact\n",
      "CustomerServiceRequest.py updated - [GetTable(f\"{SOURCE}.vw_aurion_employee_details\")] --> [GetTable(f\"{get_table_namespace(f'{SOURCE}', 'vw_aurion_employee_details')}\")]\n"
     ]
    }
   ],
   "source": [
    "\n",
    "findstr     = 'GetTable(f\"{SOURCE}.vw_aurion_employee_details\")'\n",
    "replacestr  = 'GetTable(f\"{get_table_namespace(f\\'{SOURCE}\\', \\'vw_aurion_employee_details\\')}\")'\n",
    "find_replace(directory, '', findstr, replacestr)"
   ]
  },
  {
   "cell_type": "code",
   "execution_count": 19,
   "metadata": {},
   "outputs": [
    {
     "name": "stdout",
     "output_type": "stream",
     "text": [
      "c:\\Users\\o9ji\\Documents\\daf_poc_repo1\\Databricks\\MDP-Framework\\Transform\\Fact\n",
      "CustomerServiceRequest.py updated - [GetTable(f\"{DEFAULT_TARGET}.dimlocation\")] --> [GetTable(f\"{get_table_namespace(f'{DEFAULT_TARGET}', 'dimlocation')}\")]\n"
     ]
    }
   ],
   "source": [
    "\n",
    "findstr     = 'GetTable(f\"{DEFAULT_TARGET}.dimlocation\")'\n",
    "replacestr  = 'GetTable(f\"{get_table_namespace(f\\'{DEFAULT_TARGET}\\', \\'dimlocation\\')}\")'\n",
    "find_replace(directory, '', findstr, replacestr)"
   ]
  },
  {
   "cell_type": "code",
   "execution_count": 20,
   "metadata": {},
   "outputs": [
    {
     "name": "stdout",
     "output_type": "stream",
     "text": [
      "c:\\Users\\o9ji\\Documents\\daf_poc_repo1\\Databricks\\MDP-Framework\\Transform\\Fact\n",
      "CustomerServiceRequest.py updated - [GetTable(f\"{DEFAULT_TARGET}.dimDate\")] --> [GetTable(f\"{get_table_namespace(f'{DEFAULT_TARGET}', 'dimDate')}\")]\n"
     ]
    }
   ],
   "source": [
    "\n",
    "findstr     = 'GetTable(f\"{DEFAULT_TARGET}.dimDate\")'\n",
    "replacestr  = 'GetTable(f\"{get_table_namespace(f\\'{DEFAULT_TARGET}\\', \\'dimDate\\')}\")'\n",
    "find_replace(directory, '', findstr, replacestr)"
   ]
  },
  {
   "cell_type": "code",
   "execution_count": 21,
   "metadata": {},
   "outputs": [
    {
     "name": "stdout",
     "output_type": "stream",
     "text": [
      "c:\\Users\\o9ji\\Documents\\daf_poc_repo1\\Databricks\\MDP-Framework\\Transform\\Fact\n",
      "CustomerServiceWorkNote.py updated - [GetTable(f\"cleansed.crm_zpstxhwithcguid\")] --> [GetTable(f\"{get_table_namespace('cleansed', 'dimDate')}\")]\n"
     ]
    }
   ],
   "source": [
    "\n",
    "findstr     = 'GetTable(f\"cleansed.crm_zpstxhwithcguid\")'\n",
    "replacestr  = 'GetTable(f\"{get_table_namespace(\\'cleansed\\', \\'crm_zpstxhwithcguid\\')}\")'\n",
    "find_replace(directory, '', findstr, replacestr)"
   ]
  },
  {
   "cell_type": "code",
   "execution_count": 128,
   "metadata": {},
   "outputs": [
    {
     "name": "stdout",
     "output_type": "stream",
     "text": [
      "c:\\Users\\o9ji\\Documents\\daf_poc_repo1\\Databricks\\MDP-Framework\\Transform\\Fact\n",
      "WorkOrder.py updated - [GetTable(f\"curated_v2.dimdate\")] --> [GetTable(f\"{get_table_namespace('curated', 'dimdate')}\")]\n"
     ]
    }
   ],
   "source": [
    "\n",
    "findstr     = 'GetTable(f\"curated_v2.dimdate\")'\n",
    "replacestr  = 'GetTable(f\"{get_table_namespace(\\'curated\\', \\'dimdate\\')}\")'\n",
    "find_replace(directory, '', findstr, replacestr)"
   ]
  },
  {
   "cell_type": "code",
   "execution_count": 22,
   "metadata": {},
   "outputs": [
    {
     "name": "stdout",
     "output_type": "stream",
     "text": [
      "c:\\Users\\o9ji\\Documents\\daf_poc_repo1\\Databricks\\MDP-Framework\\Transform\\Fact\n",
      "PreventiveMaintenance.py updated - [GetTable(f\"{TARGET}.dimWorkOrderJobPlan\")] --> [GetTable(f\"{get_table_namespace(f'{TARGET}', 'dimWorkOrderJobPlan')}\")]\n",
      "WorkOrder.py updated - [GetTable(f\"{TARGET}.dimWorkOrderJobPlan\")] --> [GetTable(f\"{get_table_namespace(f'{TARGET}', 'dimWorkOrderJobPlan')}\")]\n"
     ]
    }
   ],
   "source": [
    "\n",
    "findstr     = 'GetTable(f\"{TARGET}.dimWorkOrderJobPlan\")'\n",
    "replacestr  = 'GetTable(f\"{get_table_namespace(f\\'{TARGET}\\', \\'dimWorkOrderJobPlan\\')}\")'\n",
    "find_replace(directory, '', findstr, replacestr)"
   ]
  },
  {
   "cell_type": "code",
   "execution_count": 23,
   "metadata": {},
   "outputs": [
    {
     "name": "stdout",
     "output_type": "stream",
     "text": [
      "c:\\Users\\o9ji\\Documents\\daf_poc_repo1\\Databricks\\MDP-Framework\\Transform\\Fact\n",
      "PreventiveMaintenance.py updated - [GetTable(f\"{TARGET}.dimAssetContract\")] --> [GetTable(f\"{get_table_namespace(f'{TARGET}', 'dimAssetContract')}\")]\n",
      "WorkOrder.py updated - [GetTable(f\"{TARGET}.dimAssetContract\")] --> [GetTable(f\"{get_table_namespace(f'{TARGET}', 'dimAssetContract')}\")]\n"
     ]
    }
   ],
   "source": [
    "\n",
    "findstr     = 'GetTable(f\"{TARGET}.dimAssetContract\")'\n",
    "replacestr  = 'GetTable(f\"{get_table_namespace(f\\'{TARGET}\\', \\'dimAssetContract\\')}\")'\n",
    "find_replace(directory, '', findstr, replacestr)"
   ]
  },
  {
   "cell_type": "code",
   "execution_count": 24,
   "metadata": {},
   "outputs": [
    {
     "name": "stdout",
     "output_type": "stream",
     "text": [
      "c:\\Users\\o9ji\\Documents\\daf_poc_repo1\\Databricks\\MDP-Framework\\Transform\\Fact\n",
      "ServiceTicket.py updated - [GetTable(f\"{SOURCE}.maximo_sr\")] --> [GetTable(f\"{get_table_namespace(f'{SOURCE}', 'maximo_sr')}\")]\n"
     ]
    }
   ],
   "source": [
    "\n",
    "findstr     = 'GetTable(f\"{SOURCE}.maximo_sr\")'\n",
    "replacestr  = 'GetTable(f\"{get_table_namespace(f\\'{SOURCE}\\', \\'maximo_sr\\')}\")'\n",
    "find_replace(directory, '', findstr, replacestr)"
   ]
  },
  {
   "cell_type": "code",
   "execution_count": 25,
   "metadata": {},
   "outputs": [
    {
     "name": "stdout",
     "output_type": "stream",
     "text": [
      "c:\\Users\\o9ji\\Documents\\daf_poc_repo1\\Databricks\\MDP-Framework\\Transform\\Fact\n",
      "SurveyMiscellaneousInformation.py updated - [GetTable(f\"{SOURCE}.qualtrics_billpaidsuccessfullyresponses\")] --> [GetTable(f\"{get_table_namespace(f'{SOURCE}', 'qualtrics_billpaidsuccessfullyresponses')}\")]\n",
      "SurveyResponse.py updated - [GetTable(f\"{SOURCE}.qualtrics_billpaidsuccessfullyresponses\")] --> [GetTable(f\"{get_table_namespace(f'{SOURCE}', 'qualtrics_billpaidsuccessfullyresponses')}\")]\n"
     ]
    }
   ],
   "source": [
    "\n",
    "findstr     = 'GetTable(f\"{SOURCE}.qualtrics_billpaidsuccessfullyresponses\")'\n",
    "replacestr  = 'GetTable(f\"{get_table_namespace(f\\'{SOURCE}\\', \\'qualtrics_billpaidsuccessfullyresponses\\')}\")'\n",
    "find_replace(directory, '', findstr, replacestr)"
   ]
  },
  {
   "cell_type": "code",
   "execution_count": 26,
   "metadata": {},
   "outputs": [
    {
     "name": "stdout",
     "output_type": "stream",
     "text": [
      "c:\\Users\\o9ji\\Documents\\daf_poc_repo1\\Databricks\\MDP-Framework\\Transform\\Fact\n",
      "SurveyMiscellaneousInformation.py updated - [GetTable(f\"{SOURCE}.qualtrics_businessconnectservicerequestcloseresponses\")] --> [GetTable(f\"{get_table_namespace(f'{SOURCE}', 'qualtrics_businessconnectservicerequestcloseresponses')}\")]\n",
      "SurveyResponse.py updated - [GetTable(f\"{SOURCE}.qualtrics_businessconnectservicerequestcloseresponses\")] --> [GetTable(f\"{get_table_namespace(f'{SOURCE}', 'qualtrics_businessconnectservicerequestcloseresponses')}\")]\n"
     ]
    }
   ],
   "source": [
    "\n",
    "findstr     = 'GetTable(f\"{SOURCE}.qualtrics_businessconnectservicerequestcloseresponses\")'\n",
    "replacestr  = 'GetTable(f\"{get_table_namespace(f\\'{SOURCE}\\', \\'qualtrics_businessconnectservicerequestcloseresponses\\')}\")'\n",
    "find_replace(directory, '', findstr, replacestr)"
   ]
  },
  {
   "cell_type": "code",
   "execution_count": 27,
   "metadata": {},
   "outputs": [
    {
     "name": "stdout",
     "output_type": "stream",
     "text": [
      "c:\\Users\\o9ji\\Documents\\daf_poc_repo1\\Databricks\\MDP-Framework\\Transform\\Fact\n",
      "SurveyMiscellaneousInformation.py updated - [GetTable(f\"{SOURCE}.qualtrics_complaintscomplaintclosedresponses\")] --> [GetTable(f\"{get_table_namespace(f'{SOURCE}', 'qualtrics_complaintscomplaintclosedresponses')}\")]\n",
      "SurveyResponse.py updated - [GetTable(f\"{SOURCE}.qualtrics_complaintscomplaintclosedresponses\")] --> [GetTable(f\"{get_table_namespace(f'{SOURCE}', 'qualtrics_complaintscomplaintclosedresponses')}\")]\n"
     ]
    }
   ],
   "source": [
    "\n",
    "findstr     = 'GetTable(f\"{SOURCE}.qualtrics_complaintscomplaintclosedresponses\")'\n",
    "replacestr  = 'GetTable(f\"{get_table_namespace(f\\'{SOURCE}\\', \\'qualtrics_complaintscomplaintclosedresponses\\')}\")'\n",
    "find_replace(directory, '', findstr, replacestr)"
   ]
  },
  {
   "cell_type": "code",
   "execution_count": 28,
   "metadata": {},
   "outputs": [
    {
     "name": "stdout",
     "output_type": "stream",
     "text": [
      "c:\\Users\\o9ji\\Documents\\daf_poc_repo1\\Databricks\\MDP-Framework\\Transform\\Fact\n",
      "SurveyMiscellaneousInformation.py updated - [GetTable(f\"{SOURCE}.qualtrics_contactcentreinteractionmeasurementsurveyresponses\")] --> [GetTable(f\"{get_table_namespace(f'{SOURCE}', 'qualtrics_contactcentreinteractionmeasurementsurveyresponses')}\")]\n",
      "SurveyResponse.py updated - [GetTable(f\"{SOURCE}.qualtrics_contactcentreinteractionmeasurementsurveyresponses\")] --> [GetTable(f\"{get_table_namespace(f'{SOURCE}', 'qualtrics_contactcentreinteractionmeasurementsurveyresponses')}\")]\n"
     ]
    }
   ],
   "source": [
    "\n",
    "findstr     = 'GetTable(f\"{SOURCE}.qualtrics_contactcentreinteractionmeasurementsurveyresponses\")'\n",
    "replacestr  = 'GetTable(f\"{get_table_namespace(f\\'{SOURCE}\\', \\'qualtrics_contactcentreinteractionmeasurementsurveyresponses\\')}\")'\n",
    "find_replace(directory, '', findstr, replacestr)"
   ]
  },
  {
   "cell_type": "code",
   "execution_count": 29,
   "metadata": {},
   "outputs": [
    {
     "name": "stdout",
     "output_type": "stream",
     "text": [
      "c:\\Users\\o9ji\\Documents\\daf_poc_repo1\\Databricks\\MDP-Framework\\Transform\\Fact\n",
      "SurveyMiscellaneousInformation.py updated - [GetTable(f\"{SOURCE}.qualtrics_customercareresponses\")] --> [GetTable(f\"{get_table_namespace(f'{SOURCE}', 'qualtrics_customercareresponses')}\")]\n",
      "SurveyResponse.py updated - [GetTable(f\"{SOURCE}.qualtrics_customercareresponses\")] --> [GetTable(f\"{get_table_namespace(f'{SOURCE}', 'qualtrics_customercareresponses')}\")]\n"
     ]
    }
   ],
   "source": [
    "\n",
    "findstr     = 'GetTable(f\"{SOURCE}.qualtrics_customercareresponses\")'\n",
    "replacestr  = 'GetTable(f\"{get_table_namespace(f\\'{SOURCE}\\', \\'qualtrics_customercareresponses\\')}\")'\n",
    "find_replace(directory, '', findstr, replacestr)"
   ]
  },
  {
   "cell_type": "code",
   "execution_count": 30,
   "metadata": {},
   "outputs": [
    {
     "name": "stdout",
     "output_type": "stream",
     "text": [
      "c:\\Users\\o9ji\\Documents\\daf_poc_repo1\\Databricks\\MDP-Framework\\Transform\\Fact\n",
      "SurveyMiscellaneousInformation.py updated - [GetTable(f\"{SOURCE}.qualtrics_developerapplicationreceivedresponses\")] --> [GetTable(f\"{get_table_namespace(f'{SOURCE}', 'qualtrics_developerapplicationreceivedresponses')}\")]\n",
      "SurveyResponse.py updated - [GetTable(f\"{SOURCE}.qualtrics_developerapplicationreceivedresponses\")] --> [GetTable(f\"{get_table_namespace(f'{SOURCE}', 'qualtrics_developerapplicationreceivedresponses')}\")]\n"
     ]
    }
   ],
   "source": [
    "\n",
    "findstr     = 'GetTable(f\"{SOURCE}.qualtrics_developerapplicationreceivedresponses\")'\n",
    "replacestr  = 'GetTable(f\"{get_table_namespace(f\\'{SOURCE}\\', \\'qualtrics_developerapplicationreceivedresponses\\')}\")'\n",
    "find_replace(directory, '', findstr, replacestr)"
   ]
  },
  {
   "cell_type": "code",
   "execution_count": 31,
   "metadata": {},
   "outputs": [
    {
     "name": "stdout",
     "output_type": "stream",
     "text": [
      "c:\\Users\\o9ji\\Documents\\daf_poc_repo1\\Databricks\\MDP-Framework\\Transform\\Fact\n",
      "SurveyMiscellaneousInformation.py updated - [GetTable(f\"{SOURCE}.qualtrics_feedbacktabgoliveresponses\")] --> [GetTable(f\"{get_table_namespace(f'{SOURCE}', 'qualtrics_feedbacktabgoliveresponses')}\")]\n",
      "SurveyResponse.py updated - [GetTable(f\"{SOURCE}.qualtrics_feedbacktabgoliveresponses\")] --> [GetTable(f\"{get_table_namespace(f'{SOURCE}', 'qualtrics_feedbacktabgoliveresponses')}\")]\n"
     ]
    }
   ],
   "source": [
    "\n",
    "findstr     = 'GetTable(f\"{SOURCE}.qualtrics_feedbacktabgoliveresponses\")'\n",
    "replacestr  = 'GetTable(f\"{get_table_namespace(f\\'{SOURCE}\\', \\'qualtrics_feedbacktabgoliveresponses\\')}\")'\n",
    "find_replace(directory, '', findstr, replacestr)"
   ]
  },
  {
   "cell_type": "code",
   "execution_count": 32,
   "metadata": {},
   "outputs": [
    {
     "name": "stdout",
     "output_type": "stream",
     "text": [
      "c:\\Users\\o9ji\\Documents\\daf_poc_repo1\\Databricks\\MDP-Framework\\Transform\\Fact\n",
      "SurveyMiscellaneousInformation.py updated - [GetTable(f\"{SOURCE}.qualtrics_p4sonlinefeedbackresponses\")] --> [GetTable(f\"{get_table_namespace(f'{SOURCE}', 'qualtrics_p4sonlinefeedbackresponses')}\")]\n",
      "SurveyResponse.py updated - [GetTable(f\"{SOURCE}.qualtrics_p4sonlinefeedbackresponses\")] --> [GetTable(f\"{get_table_namespace(f'{SOURCE}', 'qualtrics_p4sonlinefeedbackresponses')}\")]\n"
     ]
    }
   ],
   "source": [
    "\n",
    "findstr     = 'GetTable(f\"{SOURCE}.qualtrics_p4sonlinefeedbackresponses\")'\n",
    "replacestr  = 'GetTable(f\"{get_table_namespace(f\\'{SOURCE}\\', \\'qualtrics_p4sonlinefeedbackresponses\\')}\")'\n",
    "find_replace(directory, '', findstr, replacestr)"
   ]
  },
  {
   "cell_type": "code",
   "execution_count": 33,
   "metadata": {},
   "outputs": [
    {
     "name": "stdout",
     "output_type": "stream",
     "text": [
      "c:\\Users\\o9ji\\Documents\\daf_poc_repo1\\Databricks\\MDP-Framework\\Transform\\Fact\n",
      "SurveyMiscellaneousInformation.py updated - [GetTable(f\"{SOURCE}.qualtrics_s73surveyresponses\")] --> [GetTable(f\"{get_table_namespace(f'{SOURCE}', 'qualtrics_s73surveyresponses')}\")]\n",
      "SurveyResponse.py updated - [GetTable(f\"{SOURCE}.qualtrics_s73surveyresponses\")] --> [GetTable(f\"{get_table_namespace(f'{SOURCE}', 'qualtrics_s73surveyresponses')}\")]\n"
     ]
    }
   ],
   "source": [
    "\n",
    "findstr     = 'GetTable(f\"{SOURCE}.qualtrics_s73surveyresponses\")'\n",
    "replacestr  = 'GetTable(f\"{get_table_namespace(f\\'{SOURCE}\\', \\'qualtrics_s73surveyresponses\\')}\")'\n",
    "find_replace(directory, '', findstr, replacestr)"
   ]
  },
  {
   "cell_type": "code",
   "execution_count": 34,
   "metadata": {},
   "outputs": [
    {
     "name": "stdout",
     "output_type": "stream",
     "text": [
      "c:\\Users\\o9ji\\Documents\\daf_poc_repo1\\Databricks\\MDP-Framework\\Transform\\Fact\n",
      "SurveyMiscellaneousInformation.py updated - [GetTable(f\"{SOURCE}.qualtrics_waterfixpostinteractionfeedbackresponses\")] --> [GetTable(f\"{get_table_namespace(f'{SOURCE}', 'qualtrics_waterfixpostinteractionfeedbackresponses')}\")]\n",
      "SurveyResponse.py updated - [GetTable(f\"{SOURCE}.qualtrics_waterfixpostinteractionfeedbackresponses\")] --> [GetTable(f\"{get_table_namespace(f'{SOURCE}', 'qualtrics_waterfixpostinteractionfeedbackresponses')}\")]\n"
     ]
    }
   ],
   "source": [
    "\n",
    "findstr     = 'GetTable(f\"{SOURCE}.qualtrics_waterfixpostinteractionfeedbackresponses\")'\n",
    "replacestr  = 'GetTable(f\"{get_table_namespace(f\\'{SOURCE}\\', \\'qualtrics_waterfixpostinteractionfeedbackresponses\\')}\")'\n",
    "find_replace(directory, '', findstr, replacestr)"
   ]
  },
  {
   "cell_type": "code",
   "execution_count": 35,
   "metadata": {},
   "outputs": [
    {
     "name": "stdout",
     "output_type": "stream",
     "text": [
      "c:\\Users\\o9ji\\Documents\\daf_poc_repo1\\Databricks\\MDP-Framework\\Transform\\Fact\n",
      "SurveyMiscellaneousInformation.py updated - [GetTable(f\"{SOURCE}.qualtrics_websitegoliveresponses\")] --> [GetTable(f\"{get_table_namespace(f'{SOURCE}', 'qualtrics_websitegoliveresponses')}\")]\n",
      "SurveyResponse.py updated - [GetTable(f\"{SOURCE}.qualtrics_websitegoliveresponses\")] --> [GetTable(f\"{get_table_namespace(f'{SOURCE}', 'qualtrics_websitegoliveresponses')}\")]\n"
     ]
    }
   ],
   "source": [
    "\n",
    "findstr     = 'GetTable(f\"{SOURCE}.qualtrics_websitegoliveresponses\")'\n",
    "replacestr  = 'GetTable(f\"{get_table_namespace(f\\'{SOURCE}\\', \\'qualtrics_websitegoliveresponses\\')}\")'\n",
    "find_replace(directory, '', findstr, replacestr)"
   ]
  },
  {
   "cell_type": "code",
   "execution_count": 36,
   "metadata": {},
   "outputs": [
    {
     "name": "stdout",
     "output_type": "stream",
     "text": [
      "c:\\Users\\o9ji\\Documents\\daf_poc_repo1\\Databricks\\MDP-Framework\\Transform\\Fact\n",
      "SurveyMiscellaneousInformation.py updated - [GetTable(f\"{SOURCE}.qualtrics_wscs73experiencesurveyresponses\")] --> [GetTable(f\"{get_table_namespace(f'{SOURCE}', 'qualtrics_wscs73experiencesurveyresponses')}\")]\n",
      "SurveyResponse.py updated - [GetTable(f\"{SOURCE}.qualtrics_wscs73experiencesurveyresponses\")] --> [GetTable(f\"{get_table_namespace(f'{SOURCE}', 'qualtrics_wscs73experiencesurveyresponses')}\")]\n"
     ]
    }
   ],
   "source": [
    "\n",
    "findstr     = 'GetTable(f\"{SOURCE}.qualtrics_wscs73experiencesurveyresponses\")'\n",
    "replacestr  = 'GetTable(f\"{get_table_namespace(f\\'{SOURCE}\\', \\'qualtrics_wscs73experiencesurveyresponses\\')}\")'\n",
    "find_replace(directory, '', findstr, replacestr)"
   ]
  },
  {
   "cell_type": "code",
   "execution_count": 37,
   "metadata": {},
   "outputs": [
    {
     "name": "stdout",
     "output_type": "stream",
     "text": [
      "c:\\Users\\o9ji\\Documents\\daf_poc_repo1\\Databricks\\MDP-Framework\\Transform\\Fact\n",
      "SurveyResponse.py updated - [GetTable(f\"{TARGET}.dimsurveyparticipant\")] --> [GetTable(f\"{get_table_namespace(f'{TARGET}', 'dimsurveyparticipant')}\")]\n"
     ]
    }
   ],
   "source": [
    "\n",
    "findstr     = 'GetTable(f\"{TARGET}.dimsurveyparticipant\")'\n",
    "replacestr  = 'GetTable(f\"{get_table_namespace(f\\'{TARGET}\\', \\'dimsurveyparticipant\\')}\")'\n",
    "find_replace(directory, '', findstr, replacestr)"
   ]
  },
  {
   "cell_type": "code",
   "execution_count": 38,
   "metadata": {},
   "outputs": [
    {
     "name": "stdout",
     "output_type": "stream",
     "text": [
      "c:\\Users\\o9ji\\Documents\\daf_poc_repo1\\Databricks\\MDP-Framework\\Transform\\Fact\n",
      "SurveyMiscellaneousInformation.py updated - [GetTable(f\"{TARGET}.dimsurveyresponseinformation\")] --> [GetTable(f\"{get_table_namespace(f'{TARGET}', 'dimsurveyresponseinformation')}\")]\n",
      "SurveyResponse.py updated - [GetTable(f\"{TARGET}.dimsurveyresponseinformation\")] --> [GetTable(f\"{get_table_namespace(f'{TARGET}', 'dimsurveyresponseinformation')}\")]\n"
     ]
    }
   ],
   "source": [
    "\n",
    "findstr     = 'GetTable(f\"{TARGET}.dimsurveyresponseinformation\")'\n",
    "replacestr  = 'GetTable(f\"{get_table_namespace(f\\'{TARGET}\\', \\'dimsurveyresponseinformation\\')}\")'\n",
    "find_replace(directory, '', findstr, replacestr)"
   ]
  },
  {
   "cell_type": "code",
   "execution_count": 39,
   "metadata": {},
   "outputs": [
    {
     "name": "stdout",
     "output_type": "stream",
     "text": [
      "c:\\Users\\o9ji\\Documents\\daf_poc_repo1\\Databricks\\MDP-Framework\\Transform\\Fact\n",
      "SurveyResponse.py updated - [GetTable(f\"{TARGET}.dimProperty\")] --> [GetTable(f\"{get_table_namespace(f'{TARGET}', 'dimProperty')}\")]\n"
     ]
    }
   ],
   "source": [
    "\n",
    "findstr     = 'GetTable(f\"{TARGET}.dimProperty\")'\n",
    "replacestr  = 'GetTable(f\"{get_table_namespace(f\\'{TARGET}\\', \\'dimProperty\\')}\")'\n",
    "find_replace(directory, '', findstr, replacestr)"
   ]
  },
  {
   "cell_type": "code",
   "execution_count": 40,
   "metadata": {},
   "outputs": [
    {
     "name": "stdout",
     "output_type": "stream",
     "text": [
      "c:\\Users\\o9ji\\Documents\\daf_poc_repo1\\Databricks\\MDP-Framework\\Transform\\Fact\n",
      "SurveyResponse.py updated - [GetTable(f\"{TARGET}.dimbusinesspartner\")] --> [GetTable(f\"{get_table_namespace(f'{TARGET}', 'dimbusinesspartner')}\")]\n"
     ]
    }
   ],
   "source": [
    "\n",
    "findstr     = 'GetTable(f\"{TARGET}.dimbusinesspartner\")'\n",
    "replacestr  = 'GetTable(f\"{get_table_namespace(f\\'{TARGET}\\', \\'dimbusinesspartner\\')}\")'\n",
    "find_replace(directory, '', findstr, replacestr)"
   ]
  },
  {
   "cell_type": "code",
   "execution_count": 41,
   "metadata": {},
   "outputs": [
    {
     "name": "stdout",
     "output_type": "stream",
     "text": [
      "c:\\Users\\o9ji\\Documents\\daf_poc_repo1\\Databricks\\MDP-Framework\\Transform\\Fact\n",
      "SurveyResponse.py updated - [GetTable(f\"{DEFAULT_TARGET}.dimSurvey\")] --> [GetTable(f\"{get_table_namespace(f'{DEFAULT_TARGET}', 'dimSurvey')}\")]\n"
     ]
    }
   ],
   "source": [
    "\n",
    "findstr     = 'GetTable(f\"{DEFAULT_TARGET}.dimSurvey\")'\n",
    "replacestr  = 'GetTable(f\"{get_table_namespace(f\\'{DEFAULT_TARGET}\\', \\'dimSurvey\\')}\")'\n",
    "find_replace(directory, '', findstr, replacestr)"
   ]
  },
  {
   "cell_type": "code",
   "execution_count": 42,
   "metadata": {},
   "outputs": [
    {
     "name": "stdout",
     "output_type": "stream",
     "text": [
      "c:\\Users\\o9ji\\Documents\\daf_poc_repo1\\Databricks\\MDP-Framework\\Transform\\Fact\n",
      "SurveyResponse.py updated - [GetTable(f\"{SOURCE}.crm_crmd_survey\")] --> [GetTable(f\"{get_table_namespace(f'{SOURCE}', 'crm_crmd_survey')}\")]\n"
     ]
    }
   ],
   "source": [
    "\n",
    "findstr     = 'GetTable(f\"{SOURCE}.crm_crmd_survey\")'\n",
    "replacestr  = 'GetTable(f\"{get_table_namespace(f\\'{SOURCE}\\', \\'crm_crmd_survey\\')}\")'\n",
    "find_replace(directory, '', findstr, replacestr)"
   ]
  },
  {
   "cell_type": "code",
   "execution_count": 43,
   "metadata": {},
   "outputs": [
    {
     "name": "stdout",
     "output_type": "stream",
     "text": [
      "c:\\Users\\o9ji\\Documents\\daf_poc_repo1\\Databricks\\MDP-Framework\\Transform\\Fact\n",
      "SurveyResponse.py updated - [GetTable(f\"{SOURCE}.crm_crm_svy_db_sv\")] --> [GetTable(f\"{get_table_namespace(f'{SOURCE}', 'crm_crm_svy_db_sv')}\")]\n"
     ]
    }
   ],
   "source": [
    "\n",
    "findstr     = 'GetTable(f\"{SOURCE}.crm_crm_svy_db_sv\")'\n",
    "replacestr  = 'GetTable(f\"{get_table_namespace(f\\'{SOURCE}\\', \\'crm_crm_svy_db_sv\\')}\")'\n",
    "find_replace(directory, '', findstr, replacestr)"
   ]
  },
  {
   "cell_type": "code",
   "execution_count": 44,
   "metadata": {},
   "outputs": [
    {
     "name": "stdout",
     "output_type": "stream",
     "text": [
      "c:\\Users\\o9ji\\Documents\\daf_poc_repo1\\Databricks\\MDP-Framework\\Transform\\Fact\n",
      "SurveyResponse.py updated - [GetTable(f\"{SOURCE}.crm_crm_svy_re_quest\")] --> [GetTable(f\"{get_table_namespace(f'{SOURCE}', 'crm_crm_svy_re_quest')}\")]\n"
     ]
    }
   ],
   "source": [
    "\n",
    "findstr     = 'GetTable(f\"{SOURCE}.crm_crm_svy_re_quest\")'\n",
    "replacestr  = 'GetTable(f\"{get_table_namespace(f\\'{SOURCE}\\', \\'crm_crm_svy_re_quest\\')}\")'\n",
    "find_replace(directory, '', findstr, replacestr)"
   ]
  },
  {
   "cell_type": "code",
   "execution_count": 45,
   "metadata": {},
   "outputs": [
    {
     "name": "stdout",
     "output_type": "stream",
     "text": [
      "c:\\Users\\o9ji\\Documents\\daf_poc_repo1\\Databricks\\MDP-Framework\\Transform\\Fact\n",
      "SurveyResponse.py updated - [GetTable(f\"{SOURCE}.crm_crm_svy_db_s\")] --> [GetTable(f\"{get_table_namespace(f'{SOURCE}', 'crm_crm_svy_db_s')}\")]\n"
     ]
    }
   ],
   "source": [
    "\n",
    "findstr     = 'GetTable(f\"{SOURCE}.crm_crm_svy_db_s\")'\n",
    "replacestr  = 'GetTable(f\"{get_table_namespace(f\\'{SOURCE}\\', \\'crm_crm_svy_db_s\\')}\")'\n",
    "find_replace(directory, '', findstr, replacestr)"
   ]
  },
  {
   "cell_type": "code",
   "execution_count": 46,
   "metadata": {},
   "outputs": [
    {
     "name": "stdout",
     "output_type": "stream",
     "text": [
      "c:\\Users\\o9ji\\Documents\\daf_poc_repo1\\Databricks\\MDP-Framework\\Transform\\Fact\n",
      "SurveyResponse.py updated - [GetTable(f\"{SOURCE}.crm_0svy_qstnnr_text\")] --> [GetTable(f\"{get_table_namespace(f'{SOURCE}', 'crm_0svy_qstnnr_text')}\")]\n"
     ]
    }
   ],
   "source": [
    "\n",
    "findstr     = 'GetTable(f\"{SOURCE}.crm_0svy_qstnnr_text\")'\n",
    "replacestr  = 'GetTable(f\"{get_table_namespace(f\\'{SOURCE}\\', \\'crm_0svy_qstnnr_text\\')}\")'\n",
    "find_replace(directory, '', findstr, replacestr)"
   ]
  },
  {
   "cell_type": "code",
   "execution_count": 47,
   "metadata": {},
   "outputs": [
    {
     "name": "stdout",
     "output_type": "stream",
     "text": [
      "c:\\Users\\o9ji\\Documents\\daf_poc_repo1\\Databricks\\MDP-Framework\\Transform\\Fact\n",
      "SurveyResponse.py updated - [GetTable(f\"{SOURCE}.crm_0svy_quest_text\")] --> [GetTable(f\"{get_table_namespace(f'{SOURCE}', 'crm_0svy_quest_text')}\")]\n"
     ]
    }
   ],
   "source": [
    "\n",
    "findstr     = 'GetTable(f\"{SOURCE}.crm_0svy_quest_text\")'\n",
    "replacestr  = 'GetTable(f\"{get_table_namespace(f\\'{SOURCE}\\', \\'crm_0svy_quest_text\\')}\")'\n",
    "find_replace(directory, '', findstr, replacestr)"
   ]
  },
  {
   "cell_type": "code",
   "execution_count": 48,
   "metadata": {},
   "outputs": [
    {
     "name": "stdout",
     "output_type": "stream",
     "text": [
      "c:\\Users\\o9ji\\Documents\\daf_poc_repo1\\Databricks\\MDP-Framework\\Transform\\Fact\n",
      "SurveyResponse.py updated - [GetTable(f\"{DEFAULT_TARGET}.dimSurveyQuestion\")] --> [GetTable(f\"{get_table_namespace(f'{DEFAULT_TARGET}', 'dimSurveyQuestion')}\")]\n"
     ]
    }
   ],
   "source": [
    "\n",
    "findstr     = 'GetTable(f\"{DEFAULT_TARGET}.dimSurveyQuestion\")'\n",
    "replacestr  = 'GetTable(f\"{get_table_namespace(f\\'{DEFAULT_TARGET}\\', \\'dimSurveyQuestion\\')}\")'\n",
    "find_replace(directory, '', findstr, replacestr)"
   ]
  },
  {
   "cell_type": "code",
   "execution_count": 68,
   "metadata": {},
   "outputs": [
    {
     "name": "stdout",
     "output_type": "stream",
     "text": [
      "c:\\Users\\o9ji\\Documents\\daf_poc_repo1\\Databricks\\MDP-Framework\\Transform\\Fact\n",
      "SurveyResponse.py updated - [{TARGET}.dimSurveyQuestion] --> [{get_table_namespace(f'{TARGET}', 'dimSurveyQuestion')}]\n"
     ]
    }
   ],
   "source": [
    "findstr     = '{TARGET}.dimSurveyQuestion'\n",
    "replacestr  = '{get_table_namespace(f\\'{TARGET}\\', \\'dimSurveyQuestion\\')}'\n",
    "find_replace(directory, '', findstr, replacestr)"
   ]
  },
  {
   "cell_type": "code",
   "execution_count": 69,
   "metadata": {},
   "outputs": [
    {
     "name": "stdout",
     "output_type": "stream",
     "text": [
      "c:\\Users\\o9ji\\Documents\\daf_poc_repo1\\Databricks\\MDP-Framework\\Transform\\Fact\n",
      "UnmeteredConsumption.py updated - [GetTable(f\"{DEFAULT_TARGET}.viewpropertyKey\")] --> [GetTable(f\"{get_table_namespace(f'{DEFAULT_TARGET}', 'viewpropertyKey')}\")]\n"
     ]
    }
   ],
   "source": [
    "\n",
    "findstr     = 'GetTable(f\"{DEFAULT_TARGET}.viewpropertyKey\")'\n",
    "replacestr  = 'GetTable(f\"{get_table_namespace(f\\'{DEFAULT_TARGET}\\', \\'viewpropertyKey\\')}\")'\n",
    "find_replace(directory, '', findstr, replacestr)"
   ]
  },
  {
   "cell_type": "code",
   "execution_count": 70,
   "metadata": {},
   "outputs": [
    {
     "name": "stdout",
     "output_type": "stream",
     "text": [
      "c:\\Users\\o9ji\\Documents\\daf_poc_repo1\\Databricks\\MDP-Framework\\Transform\\Fact\n",
      "UnmeteredConsumption.py updated - [GetTable(f\"{DEFAULT_TARGET}.viewpropertyservice\")] --> [GetTable(f\"{get_table_namespace(f'{DEFAULT_TARGET}', 'viewpropertyservice')}\")]\n"
     ]
    }
   ],
   "source": [
    "\n",
    "findstr     = 'GetTable(f\"{DEFAULT_TARGET}.viewpropertyservice\")'\n",
    "replacestr  = 'GetTable(f\"{get_table_namespace(f\\'{DEFAULT_TARGET}\\', \\'viewpropertyservice\\')}\")'\n",
    "find_replace(directory, '', findstr, replacestr)"
   ]
  },
  {
   "cell_type": "code",
   "execution_count": 71,
   "metadata": {},
   "outputs": [
    {
     "name": "stdout",
     "output_type": "stream",
     "text": [
      "c:\\Users\\o9ji\\Documents\\daf_poc_repo1\\Databricks\\MDP-Framework\\Transform\\Fact\n",
      "UnmeteredConsumption.py updated - [GetTable(f\"{DEFAULT_TARGET}.viewPropertyRelation\")] --> [GetTable(f\"{get_table_namespace(f'{DEFAULT_TARGET}', 'viewPropertyRelation')}\")]\n"
     ]
    }
   ],
   "source": [
    "\n",
    "findstr     = 'GetTable(f\"{DEFAULT_TARGET}.viewPropertyRelation\")'\n",
    "replacestr  = 'GetTable(f\"{get_table_namespace(f\\'{DEFAULT_TARGET}\\', \\'viewPropertyRelation\\')}\")'\n",
    "find_replace(directory, '', findstr, replacestr)"
   ]
  },
  {
   "cell_type": "code",
   "execution_count": 72,
   "metadata": {},
   "outputs": [
    {
     "name": "stdout",
     "output_type": "stream",
     "text": [
      "c:\\Users\\o9ji\\Documents\\daf_poc_repo1\\Databricks\\MDP-Framework\\Transform\\Fact\n",
      "UnmeteredConsumption.py updated - [GetTable(f\"{DEFAULT_TARGET}.viewinstallation\")] --> [GetTable(f\"{get_table_namespace(f'{DEFAULT_TARGET}', 'viewinstallation')}\")]\n"
     ]
    }
   ],
   "source": [
    "\n",
    "findstr     = 'GetTable(f\"{DEFAULT_TARGET}.viewinstallation\")'\n",
    "replacestr  = 'GetTable(f\"{get_table_namespace(f\\'{DEFAULT_TARGET}\\', \\'viewinstallation\\')}\")'\n",
    "find_replace(directory, '', findstr, replacestr)"
   ]
  },
  {
   "cell_type": "code",
   "execution_count": 73,
   "metadata": {},
   "outputs": [
    {
     "name": "stdout",
     "output_type": "stream",
     "text": [
      "c:\\Users\\o9ji\\Documents\\daf_poc_repo1\\Databricks\\MDP-Framework\\Transform\\Fact\n",
      "UnmeteredConsumption.py updated - [GetTable(f\"{DEFAULT_TARGET}.dimInstallationFacts\")] --> [GetTable(f\"{get_table_namespace(f'{DEFAULT_TARGET}', 'dimInstallationFacts')}\")]\n"
     ]
    }
   ],
   "source": [
    "\n",
    "findstr     = 'GetTable(f\"{DEFAULT_TARGET}.dimInstallationFacts\")'\n",
    "replacestr  = 'GetTable(f\"{get_table_namespace(f\\'{DEFAULT_TARGET}\\', \\'dimInstallationFacts\\')}\")'\n",
    "find_replace(directory, '', findstr, replacestr)"
   ]
  },
  {
   "cell_type": "code",
   "execution_count": 74,
   "metadata": {},
   "outputs": [
    {
     "name": "stdout",
     "output_type": "stream",
     "text": [
      "c:\\Users\\o9ji\\Documents\\daf_poc_repo1\\Databricks\\MDP-Framework\\Transform\\Fact\n"
     ]
    }
   ],
   "source": [
    "\n",
    "findstr     = 'GetTable(f\"{DEFAULT_TARGET}.dimCustomerServiceProcessType\")'\n",
    "replacestr  = 'GetTable(f\"{get_table_namespace(f\\'{DEFAULT_TARGET}\\', \\'dimCustomerServiceProcessType\\')}\")'\n",
    "find_replace(directory, '', findstr, replacestr)"
   ]
  },
  {
   "cell_type": "code",
   "execution_count": 75,
   "metadata": {},
   "outputs": [
    {
     "name": "stdout",
     "output_type": "stream",
     "text": [
      "c:\\Users\\o9ji\\Documents\\daf_poc_repo1\\Databricks\\MDP-Framework\\Transform\\Fact\n",
      "UnmeteredConsumption.py updated - [GetTable(f\"{DEFAULT_TARGET}.dimmeterconsumptionbillingdocument\")] --> [GetTable(f\"{get_table_namespace(f'{DEFAULT_TARGET}', 'dimmeterconsumptionbillingdocument')}\")]\n"
     ]
    }
   ],
   "source": [
    "\n",
    "findstr     = 'GetTable(f\"{DEFAULT_TARGET}.dimmeterconsumptionbillingdocument\")'\n",
    "replacestr  = 'GetTable(f\"{get_table_namespace(f\\'{DEFAULT_TARGET}\\', \\'dimmeterconsumptionbillingdocument\\')}\")'\n",
    "find_replace(directory, '', findstr, replacestr)"
   ]
  },
  {
   "cell_type": "code",
   "execution_count": 76,
   "metadata": {},
   "outputs": [
    {
     "name": "stdout",
     "output_type": "stream",
     "text": [
      "c:\\Users\\o9ji\\Documents\\daf_poc_repo1\\Databricks\\MDP-Framework\\Transform\\Fact\n",
      "UnmeteredConsumption.py updated - [GetTable(f\"{DEFAULT_TARGET}.factbilledwaterconsumption\")] --> [GetTable(f\"{get_table_namespace(f'{DEFAULT_TARGET}', 'factbilledwaterconsumption')}\")]\n"
     ]
    }
   ],
   "source": [
    "\n",
    "findstr     = 'GetTable(f\"{DEFAULT_TARGET}.factbilledwaterconsumption\")'\n",
    "replacestr  = 'GetTable(f\"{get_table_namespace(f\\'{DEFAULT_TARGET}\\', \\'factbilledwaterconsumption\\')}\")'\n",
    "find_replace(directory, '', findstr, replacestr)"
   ]
  },
  {
   "cell_type": "code",
   "execution_count": 124,
   "metadata": {},
   "outputs": [
    {
     "name": "stdout",
     "output_type": "stream",
     "text": [
      "c:\\Users\\o9ji\\Documents\\daf_poc_repo1\\Databricks\\MDP-Framework\\Transform\\Fact\n",
      "AssetPerformance.py updated - [GetTable(f\"{DEFAULT_TARGET}.factworkorder\")] --> [GetTable(f\"{get_table_namespace(f'{DEFAULT_TARGET}', 'factworkorder')}\")]\n"
     ]
    }
   ],
   "source": [
    "\n",
    "findstr     = 'GetTable(f\"{DEFAULT_TARGET}.factworkorder\")'\n",
    "replacestr  = 'GetTable(f\"{get_table_namespace(f\\'{DEFAULT_TARGET}\\', \\'factworkorder\\')}\")'\n",
    "find_replace(directory, '', findstr, replacestr)"
   ]
  },
  {
   "cell_type": "code",
   "execution_count": 77,
   "metadata": {},
   "outputs": [
    {
     "name": "stdout",
     "output_type": "stream",
     "text": [
      "c:\\Users\\o9ji\\Documents\\daf_poc_repo1\\Databricks\\MDP-Framework\\Transform\\Fact\n",
      "WorkOrder.py updated - [GetTable(f\"{TARGET}.dimWorkOrderProblemType\")] --> [GetTable(f\"{get_table_namespace(f'{TARGET}', 'dimWorkOrderProblemType')}\")]\n"
     ]
    }
   ],
   "source": [
    "\n",
    "findstr     = 'GetTable(f\"{TARGET}.dimWorkOrderProblemType\")'\n",
    "replacestr  = 'GetTable(f\"{get_table_namespace(f\\'{TARGET}\\', \\'dimWorkOrderProblemType\\')}\")'\n",
    "find_replace(directory, '', findstr, replacestr)"
   ]
  },
  {
   "cell_type": "code",
   "execution_count": 78,
   "metadata": {},
   "outputs": [
    {
     "name": "stdout",
     "output_type": "stream",
     "text": [
      "c:\\Users\\o9ji\\Documents\\daf_poc_repo1\\Databricks\\MDP-Framework\\Transform\\Fact\n",
      "WorkOrderFailureReport.py updated - [GetTable(f\"{TARGET}.factWorkOrder\")] --> [GetTable(f\"{get_table_namespace(f'{TARGET}', 'factWorkOrder')}\")]\n"
     ]
    }
   ],
   "source": [
    "\n",
    "findstr     = 'GetTable(f\"{TARGET}.factWorkOrder\")'\n",
    "replacestr  = 'GetTable(f\"{get_table_namespace(f\\'{TARGET}\\', \\'factWorkOrder\\')}\")'\n",
    "find_replace(directory, '', findstr, replacestr)"
   ]
  },
  {
   "cell_type": "code",
   "execution_count": 91,
   "metadata": {},
   "outputs": [
    {
     "name": "stdout",
     "output_type": "stream",
     "text": [
      "c:\\Users\\o9ji\\Documents\\daf_poc_repo1\\Databricks\\MDP-Framework\\Transform\\Fact\n",
      "SurveyMiscellaneousInformation.py updated - [GetTable(f\"{TARGET}.dimSurveyResponseInformation\")] --> [GetTable(f\"{get_table_namespace(f'{TARGET}', 'dimSurveyResponseInformation')}\")]\n"
     ]
    }
   ],
   "source": [
    "\n",
    "findstr     = 'GetTable(f\"{TARGET}.dimSurveyResponseInformation\")'\n",
    "replacestr  = 'GetTable(f\"{get_table_namespace(f\\'{TARGET}\\', \\'dimSurveyResponseInformation\\')}\")'\n",
    "find_replace(directory, '', findstr, replacestr)"
   ]
  },
  {
   "cell_type": "code",
   "execution_count": 94,
   "metadata": {},
   "outputs": [
    {
     "name": "stdout",
     "output_type": "stream",
     "text": [
      "c:\\Users\\o9ji\\Documents\\daf_poc_repo1\\Databricks\\MDP-Framework\\Transform\\Fact\n",
      "CustomerServiceWorkNote.py updated - [GetTable(f\"{SOURCE}.crm_zcs_long_text_f\")] --> [GetTable(f\"{get_table_namespace(f'{SOURCE}', 'crm_zcs_long_text_f')}\")]\n"
     ]
    }
   ],
   "source": [
    "\n",
    "findstr     = 'GetTable(f\"{SOURCE}.crm_zcs_long_text_f\")'\n",
    "replacestr  = 'GetTable(f\"{get_table_namespace(f\\'{SOURCE}\\', \\'crm_zcs_long_text_f\\')}\")'\n",
    "find_replace(directory, '', findstr, replacestr)\n",
    "\n",
    "# crm_zcs_long_text_act"
   ]
  },
  {
   "cell_type": "code",
   "execution_count": 95,
   "metadata": {},
   "outputs": [
    {
     "name": "stdout",
     "output_type": "stream",
     "text": [
      "c:\\Users\\o9ji\\Documents\\daf_poc_repo1\\Databricks\\MDP-Framework\\Transform\\Fact\n",
      "CustomerServiceWorkNote.py updated - [GetTable(f\"{SOURCE}.crm_zcs_long_text_act\")] --> [GetTable(f\"{get_table_namespace(f'{SOURCE}', 'crm_zcs_long_text_act')}\")]\n"
     ]
    }
   ],
   "source": [
    "\n",
    "findstr     = 'GetTable(f\"{SOURCE}.crm_zcs_long_text_act\")'\n",
    "replacestr  = 'GetTable(f\"{get_table_namespace(f\\'{SOURCE}\\', \\'crm_zcs_long_text_act\\')}\")'\n",
    "find_replace(directory, '', findstr, replacestr)"
   ]
  },
  {
   "cell_type": "code",
   "execution_count": 79,
   "metadata": {},
   "outputs": [
    {
     "name": "stdout",
     "output_type": "stream",
     "text": [
      "c:\\Users\\o9ji\\Documents\\daf_poc_repo1\\Databricks\\MDP-Framework\\Transform\\Fact\n",
      "WorkOrderFailureReport.py updated - [GetTable(f\"{SOURCE}.maximo_failurereport\")] --> [GetTable(f\"{get_table_namespace(f'{SOURCE}', 'maximo_failurereport')}\")]\n"
     ]
    }
   ],
   "source": [
    "\n",
    "findstr     = 'GetTable(f\"{SOURCE}.maximo_failurereport\")'\n",
    "replacestr  = 'GetTable(f\"{get_table_namespace(f\\'{SOURCE}\\', \\'maximo_failurereport\\')}\")'\n",
    "find_replace(directory, '', findstr, replacestr)"
   ]
  },
  {
   "cell_type": "code",
   "execution_count": 112,
   "metadata": {},
   "outputs": [],
   "source": [
    "def check_strings(full_path, pattern):\n",
    "    for filename in os.listdir(full_path):\n",
    "        if filename.endswith(\".py\"):\n",
    "            with open(os.path.join(full_path, filename), \"r\") as f:\n",
    "                for line in f:\n",
    "                    for word in line.split():\n",
    "                        if pattern.search(word): \n",
    "                            print (f\"{word}\\n found in {filename}\")\n",
    "                            # strings_to_replace.append(word)\n",
    "\n",
    "    # return strings_to_replace"
   ]
  },
  {
   "cell_type": "markdown",
   "metadata": {},
   "source": []
  },
  {
   "cell_type": "code",
   "execution_count": 127,
   "metadata": {},
   "outputs": [
    {
     "name": "stdout",
     "output_type": "stream",
     "text": [
      "GetTable(f\"{get_table_namespace(f'{DEFAULT_TARGET}',\n",
      " found in AssetPerformance.py\n",
      "GetTable(f\"{get_table_namespace(f'{DEFAULT_TARGET}',\n",
      " found in CustomerInteraction.py\n",
      "GetTable(f\"{get_table_namespace(f'{DEFAULT_TARGET}',\n",
      " found in CustomerInteraction.py\n",
      "GetTable(f\"{get_table_namespace(f'{DEFAULT_TARGET}',\n",
      " found in CustomerInteraction.py\n",
      "GetTable(f\"{get_table_namespace(f'{DEFAULT_TARGET}',\n",
      " found in CustomerInteraction.py\n",
      "GetTable(f\"{get_table_namespace(f'{DEFAULT_TARGET}',\n",
      " found in CustomerInteraction.py\n",
      "GetTable(f\"{get_table_namespace(f'{DEFAULT_TARGET}',\n",
      " found in CustomerInteraction.py\n",
      "GetTable(f\"{get_table_namespace(f'{DEFAULT_TARGET}',\n",
      " found in CustomerInteraction.py\n",
      "GetTable(f\"{get_table_namespace(f'{DEFAULT_TARGET}',\n",
      " found in CustomerServiceRequest.py\n",
      "GetTable(f\"{get_table_namespace(f'{DEFAULT_TARGET}',\n",
      " found in CustomerServiceRequest.py\n",
      "GetTable(f\"{get_table_namespace(f'{DEFAULT_TARGET}',\n",
      " found in CustomerServiceRequest.py\n",
      "GetTable(f\"{get_table_namespace(f'{DEFAULT_TARGET}',\n",
      " found in CustomerServiceRequest.py\n",
      "GetTable(f\"{get_table_namespace(f'{DEFAULT_TARGET}',\n",
      " found in CustomerServiceRequest.py\n",
      "GetTable(f\"{get_table_namespace(f'{DEFAULT_TARGET}',\n",
      " found in CustomerServiceRequest.py\n",
      "GetTable(f\"{get_table_namespace(f'{DEFAULT_TARGET}',\n",
      " found in CustomerServiceRequest.py\n",
      "GetTable(f\"{get_table_namespace(f'{DEFAULT_TARGET}',\n",
      " found in CustomerServiceRequest.py\n",
      "(GetTable(f\"{get_table_namespace(f'{DEFAULT_TARGET}',\n",
      " found in CustomerServiceRequest.py\n",
      "(GetTable(f\"{get_table_namespace(f'{DEFAULT_TARGET}',\n",
      " found in CustomerServiceRequest.py\n",
      "GetTable(f\"{get_table_namespace(f'{DEFAULT_TARGET}',\n",
      " found in SurveyResponse.py\n",
      "GetTable(f\"{get_table_namespace(f'{DEFAULT_TARGET}',\n",
      " found in SurveyResponse.py\n",
      "GetTable(f\"{get_table_namespace(f'{DEFAULT_TARGET}',\n",
      " found in UnmeteredConsumption.py\n",
      "GetTable(f\"{get_table_namespace(f'{DEFAULT_TARGET}',\n",
      " found in UnmeteredConsumption.py\n",
      "GetTable(f\"{get_table_namespace(f'{DEFAULT_TARGET}',\n",
      " found in UnmeteredConsumption.py\n",
      "GetTable(f\"{get_table_namespace(f'{DEFAULT_TARGET}',\n",
      " found in UnmeteredConsumption.py\n",
      "GetTable(f\"{get_table_namespace(f'{DEFAULT_TARGET}',\n",
      " found in UnmeteredConsumption.py\n",
      "GetTable(f\"{get_table_namespace(f'{DEFAULT_TARGET}',\n",
      " found in UnmeteredConsumption.py\n",
      "GetTable(f\"{get_table_namespace(f'{DEFAULT_TARGET}',\n",
      " found in UnmeteredConsumption.py\n",
      "GetTable(f\"{get_table_namespace(f'{DEFAULT_TARGET}',\n",
      " found in UnmeteredConsumption.py\n",
      "GetTable(f\"{get_table_namespace(f'{DEFAULT_TARGET}',\n",
      " found in UnmeteredConsumption.py\n"
     ]
    }
   ],
   "source": [
    "check_path = \"../Transform/\"\n",
    "patternstr = re.compile(r'{DEFAULT_TARGET}')\n",
    "\n",
    "strings_to_replace =  check_strings(full_path = directory, pattern = patternstr)\n",
    "strings_to_replace"
   ]
  },
  {
   "cell_type": "code",
   "execution_count": null,
   "metadata": {},
   "outputs": [],
   "source": []
  },
  {
   "cell_type": "code",
   "execution_count": null,
   "metadata": {},
   "outputs": [],
   "source": []
  }
 ],
 "metadata": {
  "kernelspec": {
   "display_name": "Python 3",
   "language": "python",
   "name": "python3"
  },
  "language_info": {
   "codemirror_mode": {
    "name": "ipython",
    "version": 3
   },
   "file_extension": ".py",
   "mimetype": "text/x-python",
   "name": "python",
   "nbconvert_exporter": "python",
   "pygments_lexer": "ipython3",
   "version": "3.11.1"
  },
  "orig_nbformat": 4
 },
 "nbformat": 4,
 "nbformat_minor": 2
}
